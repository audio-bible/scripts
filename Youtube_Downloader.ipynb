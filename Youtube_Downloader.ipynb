{
  "nbformat": 4,
  "nbformat_minor": 0,
  "metadata": {
    "colab": {
      "provenance": [],
      "authorship_tag": "ABX9TyM4IxH3Q4AUriKnD29nnqUn",
      "include_colab_link": true
    },
    "kernelspec": {
      "name": "python3",
      "display_name": "Python 3"
    },
    "language_info": {
      "name": "python"
    }
  },
  "cells": [
    {
      "cell_type": "markdown",
      "metadata": {
        "id": "view-in-github",
        "colab_type": "text"
      },
      "source": [
        "<a href=\"https://colab.research.google.com/github/audio-bible/scripts/blob/master/Youtube_Downloader.ipynb\" target=\"_parent\"><img src=\"https://colab.research.google.com/assets/colab-badge.svg\" alt=\"Open In Colab\"/></a>"
      ]
    },
    {
      "cell_type": "markdown",
      "source": [
        "\n",
        "# Youtube Downloader\n",
        "\n",
        "Download audio from [the KJV Audio Bible Channel on youtube](https://www.youtube.com/@skiesaboveus/playlists) of all bible chapters and save to google drive (My Drive/kjv_audio) sorted by chapters. Futher processing may be needed to make use of the audio.\n",
        "\n",
        "You will likely exceed  google drive quota. So we suggest that once the download is done, you download the directory and do futher processing elsewhere\n",
        "\n"
      ],
      "metadata": {
        "id": "qdjj19jjL2pD"
      }
    },
    {
      "cell_type": "code",
      "source": [
        "from google.colab import drive\n",
        "drive.mount('/content/drive')"
      ],
      "metadata": {
        "colab": {
          "base_uri": "https://localhost:8080/"
        },
        "id": "UPOrCxTA5A7B",
        "outputId": "9aae9c8e-5f4a-49e0-ccb8-03ebbdc3f4b6"
      },
      "execution_count": 1,
      "outputs": [
        {
          "output_type": "stream",
          "name": "stdout",
          "text": [
            "Mounted at /content/drive\n"
          ]
        }
      ]
    },
    {
      "cell_type": "code",
      "source": [
        "!pip install --upgrade audio-bible-tools\n"
      ],
      "metadata": {
        "colab": {
          "base_uri": "https://localhost:8080/"
        },
        "id": "Gf7KJFv0xE9T",
        "outputId": "bdda3927-b8d6-4d42-b3d0-08150bee41bd"
      },
      "execution_count": 1,
      "outputs": [
        {
          "output_type": "stream",
          "name": "stdout",
          "text": [
            "Requirement already satisfied: audio-bible-tools in /usr/local/lib/python3.10/dist-packages (0.1.5)\n",
            "Requirement already satisfied: yt-dlp in /usr/local/lib/python3.10/dist-packages (from audio-bible-tools) (2024.8.6)\n",
            "Requirement already satisfied: requests in /usr/local/lib/python3.10/dist-packages (from audio-bible-tools) (2.32.3)\n",
            "Requirement already satisfied: charset-normalizer<4,>=2 in /usr/local/lib/python3.10/dist-packages (from requests->audio-bible-tools) (3.3.2)\n",
            "Requirement already satisfied: idna<4,>=2.5 in /usr/local/lib/python3.10/dist-packages (from requests->audio-bible-tools) (3.7)\n",
            "Requirement already satisfied: urllib3<3,>=1.21.1 in /usr/local/lib/python3.10/dist-packages (from requests->audio-bible-tools) (2.0.7)\n",
            "Requirement already satisfied: certifi>=2017.4.17 in /usr/local/lib/python3.10/dist-packages (from requests->audio-bible-tools) (2024.7.4)\n",
            "Requirement already satisfied: brotli in /usr/local/lib/python3.10/dist-packages (from yt-dlp->audio-bible-tools) (1.1.0)\n",
            "Requirement already satisfied: mutagen in /usr/local/lib/python3.10/dist-packages (from yt-dlp->audio-bible-tools) (1.47.0)\n",
            "Requirement already satisfied: pycryptodomex in /usr/local/lib/python3.10/dist-packages (from yt-dlp->audio-bible-tools) (3.20.0)\n",
            "Requirement already satisfied: websockets>=12.0 in /usr/local/lib/python3.10/dist-packages (from yt-dlp->audio-bible-tools) (12.0)\n"
          ]
        }
      ]
    },
    {
      "cell_type": "code",
      "source": [
        "from audio_bible_tools import YouTubeDownloader\n",
        "root_dir = '/content/drive/My Drive/'\n",
        "project_dir = 'kjv_audio'\n",
        "channel_handle = 'skiesaboveus'\n",
        "genesis_playlist = \"01 Genesis Chapters 01-50 (KJV)\"\n",
        "revelation_playlist = \"66 Revelation Chapters 01-22 (KJV)\"\n",
        "\n",
        "# Initialize the downloader\n",
        "downloader = YouTubeDownloader(\n",
        "    root_dir=root_dir,\n",
        "    channel_handle=channel_handle,\n",
        "    project_dir=project_dir,\n",
        "    genesis_playlist=genesis_playlist,\n",
        "    revelation_playlist=revelation_playlist\n",
        ")\n",
        "\n",
        "# Remove any temporary files\n",
        "downloader.remove_tmp_files()\n",
        "\n",
        "# Print the total number of files in the project directory\n",
        "# print(downloader.count_files_in_directory())\n",
        "\n",
        "# downloader.list_and_process_playlists()\n",
        "\n",
        "# Remove temporary files again after download\n",
        "downloader.remove_tmp_files()\n",
        "\n",
        "# Process the downloaded files\n",
        "downloader.version(\"kjv\") \\\n",
        "    .voice(\"kjv-audio-bible\") \\\n",
        "    .result_dir(\"bible_audio_processed\") \\\n",
        "    .chapterPattern(\"Chapter (\\d+)\") \\\n",
        "    .process()"
      ],
      "metadata": {
        "collapsed": true,
        "id": "e4xrbNsj7Xms"
      },
      "execution_count": null,
      "outputs": []
    },
    {
      "cell_type": "code",
      "source": [
        "from audio_bible_tools import YouTubeDownloader\n",
        "\n",
        "root_dir = '/content/drive/My Drive/'\n",
        "project_dir = 'kjv_audio_1'\n",
        "channel_handle = 'ScourbyYouBible'\n",
        "genesis_playlist = \"1 ~ Book of Genesis by the Chapter\"\n",
        "revelation_playlist = \"66 ~ Book of Revelation by the Chapter\"\n",
        "\n",
        "# Initialize the downloader\n",
        "downloader = YouTubeDownloader(\n",
        "    root_dir=root_dir,\n",
        "    channel_handle=channel_handle,\n",
        "    project_dir=project_dir,\n",
        "    genesis_playlist=genesis_playlist,\n",
        "    revelation_playlist=revelation_playlist\n",
        ")\n",
        "\n",
        "# Remove any temporary files\n",
        "downloader.remove_tmp_files()\n",
        "\n",
        "# Print the total number of files in the project directory\n",
        "# print(downloader.count_files_in_directory())\n",
        "\n",
        "# downloader.list_and_process_playlists()\n",
        "\n",
        "# # Remove temporary files again after download\n",
        "# downloader.remove_tmp_files()\n",
        "# # downloader.download_youtube_audio(\"https://www.youtube.com/watch?v=EsUIUb0DjPM\", \"/content/drive/My Drive/kjv_audio_1/30_~_Book_of_Amos_by_the_Chapter\")\n",
        "\n",
        "# # Process the downloaded files\n",
        "downloader.version(\"kjv\") \\\n",
        "    .voice(\"scourby\") \\\n",
        "    .result_dir(\"bible_audio_processed\") \\\n",
        "    .chapterPattern(\"(\\d+)\\s+of\\s+\\d+\\s+Chapters\") \\\n",
        "    .process()"
      ],
      "metadata": {
        "collapsed": true,
        "id": "rmwo3Ut9Fw53"
      },
      "execution_count": null,
      "outputs": []
    },
    {
      "cell_type": "markdown",
      "source": [
        "## Manual Sync To Github"
      ],
      "metadata": {
        "id": "EirPzAVj8DCU"
      }
    },
    {
      "cell_type": "code",
      "source": [
        "from google.colab import userdata\n",
        "\n",
        "# Retrieve the secret\n",
        "GITHUB_TOKEN = userdata.get('REPO_SECRET_AUDIO_BIBLE')\n",
        "\n",
        "# Ensure the secret is available as an environment variable\n",
        "import os\n",
        "os.environ['GITHUB_TOKEN'] = GITHUB_TOKEN"
      ],
      "metadata": {
        "id": "Tad7uQ8JokmT"
      },
      "execution_count": 2,
      "outputs": []
    },
    {
      "cell_type": "code",
      "source": [
        "%%bash\n",
        "# Base directory containing the repositories\n",
        "BASE_DIR=\"/content/drive/My Drive/bible_audio_processed\"\n",
        "\n",
        "rm -rf /tmp/cloned*\n",
        "\n",
        "# Check if GITHUB_TOKEN is set\n",
        "if [ -z \"$GITHUB_TOKEN\" ]; then\n",
        "    echo \"Error: GITHUB_TOKEN environment variable is not set.\"\n",
        "    exit 1\n",
        "fi\n",
        "count=0\n",
        "# Loop through all subdirectories in the base directory\n",
        "for repo_dir in \"$BASE_DIR\"/*/; do\n",
        "    if [ -d \"$repo_dir\" ]; then\n",
        "        repo=$(basename \"$repo_dir\")\n",
        "        echo \"Processing repository: $repo\"\n",
        "\n",
        "        if [ ! -d \"$repo_dir/.git\" ]; then\n",
        "            echo \"No .git directory found. Cloning repository...\"\n",
        "\n",
        "            # Clone the repository\n",
        "            stdbuf -oL git clone \"https://$GITHUB_TOKEN@github.com/audio-bible/$repo.git\" -b master \"/tmp/cloned_$repo\"\n",
        "\n",
        "            if [ $? -ne 0 ]; then\n",
        "                echo \"Failed to clone $repo. Skipping...\"\n",
        "                continue\n",
        "            fi\n",
        "\n",
        "            # # Sync files from the source directory to the cloned repository\n",
        "            # cd \"/tmp/cloned_$repo\"\n",
        "            # stdbuf -oL rsync -av \"$BASE_DIR/$repo/\" ./\n",
        "\n",
        "            # # Add all changes\n",
        "            # stdbuf -oL git add .\n",
        "\n",
        "            # # Set commit author\n",
        "            # git config --local user.name \"GitHub Bot\"\n",
        "            # git config --local user.email \"bot@example.com\"\n",
        "\n",
        "            # # Commit and push changes\n",
        "            # stdbuf -oL git commit -m \"Update audio files for $repo\"\n",
        "            # stdbuf -oL git push origin master\n",
        "\n",
        "            # # Sync back the .git directory to the original location\n",
        "            rsync -av \"/tmp/cloned_$repo/\" \"$BASE_DIR/$repo/\"\n",
        "            rm -rf \"/tmp/cloned_$repo\"\n",
        "\n",
        "        fi\n",
        "        # else\n",
        "            echo \".git directory exists. Pulling latest changes and updating repository...\"\n",
        "\n",
        "            cd \"$BASE_DIR/$repo/\"\n",
        "            # check if .github/workflows.deploy does not exist\n",
        "            FILE_URL=\"https://raw.githubusercontent.com/audio-bible/scripts/master/deploy.yaml\"\n",
        "            if [ ! -f \".github/workflows/deploy.yaml\" ]; then\n",
        "              echo \"MISSING YAML.............\"\n",
        "              mkdir -p \".github/workflows\"\n",
        "              curl -sSL \"$FILE_URL\" -o \".github/workflows/deploy.yaml\"\n",
        "            fi\n",
        "\n",
        "            # Add all changes\n",
        "            stdbuf -oL git add .\n",
        "\n",
        "            # Set commit author\n",
        "            git config --local user.name \"GitHub Bot\"\n",
        "            git config --local user.email \"bot@example.com\"\n",
        "\n",
        "            # Commit and push changes\n",
        "            stdbuf -oL git commit -m \"Update audio files for $repo\"\n",
        "            stdbuf -oL git pull \"https://$GITHUB_TOKEN@github.com/audio-bible/$repo.git\" master --rebase\n",
        "            stdbuf -oL git push \"https://$GITHUB_TOKEN@github.com/audio-bible/$repo.git\" master\n",
        "        # fi\n",
        "        # # increment count\n",
        "        # count=$((count+1))\n",
        "        # echo \"count: $count\"\n",
        "        # if [ $count -gt 2 ]; then\n",
        "        #     break\n",
        "        # fi\n",
        "        echo \"Completed processing $repo\"\n",
        "        echo \"------------------------\"\n",
        "\n",
        "    fi\n",
        "done\n"
      ],
      "metadata": {
        "id": "UIib0F9IpsmC"
      },
      "execution_count": null,
      "outputs": []
    },
    {
      "cell_type": "code",
      "source": [
        "%%bash\n",
        "ls -lha \"/content/drive/My Drive/bible_audio_processed/1_Corinthians/.git\""
      ],
      "metadata": {
        "id": "mKLYl8BPyAd3"
      },
      "execution_count": 31,
      "outputs": []
    }
  ]
}