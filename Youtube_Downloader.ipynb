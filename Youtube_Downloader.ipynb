{
  "nbformat": 4,
  "nbformat_minor": 0,
  "metadata": {
    "colab": {
      "provenance": [],
      "authorship_tag": "ABX9TyO4hvCdy6GJBBSxnqKOYM8n",
      "include_colab_link": true
    },
    "kernelspec": {
      "name": "python3",
      "display_name": "Python 3"
    },
    "language_info": {
      "name": "python"
    }
  },
  "cells": [
    {
      "cell_type": "markdown",
      "metadata": {
        "id": "view-in-github",
        "colab_type": "text"
      },
      "source": [
        "<a href=\"https://colab.research.google.com/github/audio-bible/scripts/blob/master/Youtube_Downloader.ipynb\" target=\"_parent\"><img src=\"https://colab.research.google.com/assets/colab-badge.svg\" alt=\"Open In Colab\"/></a>"
      ]
    },
    {
      "cell_type": "markdown",
      "source": [
        "\n",
        "# Youtube Downloader\n",
        "\n",
        "Download audio from [the KJV Audio Bible Channel on youtube](https://www.youtube.com/@skiesaboveus/playlists) of all bible chapters and save to google drive (My Drive/kjv_audio) sorted by chapters. Futher processing may be needed to make use of the audio.\n",
        "\n",
        "You will likely exceed  google drive quota. So we suggest that once the download is done, you download the directory and do futher processing elsewhere\n",
        "\n"
      ],
      "metadata": {
        "id": "qdjj19jjL2pD"
      }
    },
    {
      "cell_type": "code",
      "source": [
        "from google.colab import drive\n",
        "drive.mount('/content/drive')"
      ],
      "metadata": {
        "colab": {
          "base_uri": "https://localhost:8080/"
        },
        "id": "UPOrCxTA5A7B",
        "outputId": "f860006c-290e-461b-af83-ce3f2dab06ea"
      },
      "execution_count": 1,
      "outputs": [
        {
          "output_type": "stream",
          "name": "stdout",
          "text": [
            "Mounted at /content/drive\n"
          ]
        }
      ]
    },
    {
      "cell_type": "code",
      "source": [
        "!pip install --upgrade audio-bible-tools\n"
      ],
      "metadata": {
        "colab": {
          "base_uri": "https://localhost:8080/"
        },
        "id": "Gf7KJFv0xE9T",
        "outputId": "bdda3927-b8d6-4d42-b3d0-08150bee41bd"
      },
      "execution_count": 1,
      "outputs": [
        {
          "output_type": "stream",
          "name": "stdout",
          "text": [
            "Requirement already satisfied: audio-bible-tools in /usr/local/lib/python3.10/dist-packages (0.1.5)\n",
            "Requirement already satisfied: yt-dlp in /usr/local/lib/python3.10/dist-packages (from audio-bible-tools) (2024.8.6)\n",
            "Requirement already satisfied: requests in /usr/local/lib/python3.10/dist-packages (from audio-bible-tools) (2.32.3)\n",
            "Requirement already satisfied: charset-normalizer<4,>=2 in /usr/local/lib/python3.10/dist-packages (from requests->audio-bible-tools) (3.3.2)\n",
            "Requirement already satisfied: idna<4,>=2.5 in /usr/local/lib/python3.10/dist-packages (from requests->audio-bible-tools) (3.7)\n",
            "Requirement already satisfied: urllib3<3,>=1.21.1 in /usr/local/lib/python3.10/dist-packages (from requests->audio-bible-tools) (2.0.7)\n",
            "Requirement already satisfied: certifi>=2017.4.17 in /usr/local/lib/python3.10/dist-packages (from requests->audio-bible-tools) (2024.7.4)\n",
            "Requirement already satisfied: brotli in /usr/local/lib/python3.10/dist-packages (from yt-dlp->audio-bible-tools) (1.1.0)\n",
            "Requirement already satisfied: mutagen in /usr/local/lib/python3.10/dist-packages (from yt-dlp->audio-bible-tools) (1.47.0)\n",
            "Requirement already satisfied: pycryptodomex in /usr/local/lib/python3.10/dist-packages (from yt-dlp->audio-bible-tools) (3.20.0)\n",
            "Requirement already satisfied: websockets>=12.0 in /usr/local/lib/python3.10/dist-packages (from yt-dlp->audio-bible-tools) (12.0)\n"
          ]
        }
      ]
    },
    {
      "cell_type": "code",
      "source": [
        "from audio_bible_tools import YouTubeDownloader\n",
        "root_dir = '/content/drive/My Drive/'\n",
        "project_dir = 'kjv_audio'\n",
        "channel_handle = 'skiesaboveus'\n",
        "genesis_playlist = \"01 Genesis Chapters 01-50 (KJV)\"\n",
        "revelation_playlist = \"66 Revelation Chapters 01-22 (KJV)\"\n",
        "\n",
        "# Initialize the downloader\n",
        "downloader = YouTubeDownloader(\n",
        "    root_dir=root_dir,\n",
        "    channel_handle=channel_handle,\n",
        "    project_dir=project_dir,\n",
        "    genesis_playlist=genesis_playlist,\n",
        "    revelation_playlist=revelation_playlist\n",
        ")\n",
        "\n",
        "# Remove any temporary files\n",
        "downloader.remove_tmp_files()\n",
        "\n",
        "# Print the total number of files in the project directory\n",
        "# print(downloader.count_files_in_directory())\n",
        "\n",
        "# downloader.list_and_process_playlists()\n",
        "\n",
        "# Remove temporary files again after download\n",
        "downloader.remove_tmp_files()\n",
        "\n",
        "# Process the downloaded files\n",
        "downloader.version(\"kjv\") \\\n",
        "    .voice(\"kjv-audio-bible\") \\\n",
        "    .result_dir(\"bible_audio_processed\") \\\n",
        "    .chapterPattern(\"Chapter (\\d+)\") \\\n",
        "    .process()"
      ],
      "metadata": {
        "collapsed": true,
        "id": "e4xrbNsj7Xms"
      },
      "execution_count": null,
      "outputs": []
    },
    {
      "cell_type": "code",
      "source": [
        "from audio_bible_tools import YouTubeDownloader\n",
        "\n",
        "root_dir = '/content/drive/My Drive/'\n",
        "project_dir = 'kjv_audio_1'\n",
        "channel_handle = 'ScourbyYouBible'\n",
        "genesis_playlist = \"1 ~ Book of Genesis by the Chapter\"\n",
        "revelation_playlist = \"66 ~ Book of Revelation by the Chapter\"\n",
        "\n",
        "# Initialize the downloader\n",
        "downloader = YouTubeDownloader(\n",
        "    root_dir=root_dir,\n",
        "    channel_handle=channel_handle,\n",
        "    project_dir=project_dir,\n",
        "    genesis_playlist=genesis_playlist,\n",
        "    revelation_playlist=revelation_playlist\n",
        ")\n",
        "\n",
        "# Remove any temporary files\n",
        "downloader.remove_tmp_files()\n",
        "\n",
        "# Print the total number of files in the project directory\n",
        "# print(downloader.count_files_in_directory())\n",
        "\n",
        "# downloader.list_and_process_playlists()\n",
        "\n",
        "# # Remove temporary files again after download\n",
        "# downloader.remove_tmp_files()\n",
        "# # downloader.download_youtube_audio(\"https://www.youtube.com/watch?v=EsUIUb0DjPM\", \"/content/drive/My Drive/kjv_audio_1/30_~_Book_of_Amos_by_the_Chapter\")\n",
        "\n",
        "# # Process the downloaded files\n",
        "downloader.version(\"kjv\") \\\n",
        "    .voice(\"scourby\") \\\n",
        "    .result_dir(\"bible_audio_processed\") \\\n",
        "    .chapterPattern(\"(\\d+)\\s+of\\s+\\d+\\s+Chapters\") \\\n",
        "    .process()"
      ],
      "metadata": {
        "collapsed": true,
        "id": "rmwo3Ut9Fw53"
      },
      "execution_count": null,
      "outputs": []
    },
    {
      "cell_type": "code",
      "source": [],
      "metadata": {
        "id": "fHHBOmy3eAHQ"
      },
      "execution_count": null,
      "outputs": []
    }
  ]
}