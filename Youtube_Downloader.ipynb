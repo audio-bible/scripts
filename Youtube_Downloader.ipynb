{
  "nbformat": 4,
  "nbformat_minor": 0,
  "metadata": {
    "colab": {
      "provenance": [],
      "collapsed_sections": [
        "qdjj19jjL2pD"
      ],
      "authorship_tag": "ABX9TyMc1Jeh0lYMw9xUuTM5KjyD",
      "include_colab_link": true
    },
    "kernelspec": {
      "name": "python3",
      "display_name": "Python 3"
    },
    "language_info": {
      "name": "python"
    }
  },
  "cells": [
    {
      "cell_type": "markdown",
      "metadata": {
        "id": "view-in-github",
        "colab_type": "text"
      },
      "source": [
        "<a href=\"https://colab.research.google.com/github/audio-bible/scripts/blob/master/Youtube_Downloader.ipynb\" target=\"_parent\"><img src=\"https://colab.research.google.com/assets/colab-badge.svg\" alt=\"Open In Colab\"/></a>"
      ]
    },
    {
      "cell_type": "markdown",
      "source": [
        "\n",
        "# Youtube Downloader\n",
        "\n",
        "Download audio from [the KJV Audio Bible Channel on youtube](https://www.youtube.com/@skiesaboveus/playlists) of all bible chapters and save to google drive (My Drive/kjv_audio) sorted by chapters. Futher processing may be needed to make use of the audio.\n",
        "\n",
        "You will likely exceed  google drive quota. So we suggest that once the download is done, you download the directory and do futher processing elsewhere\n",
        "\n"
      ],
      "metadata": {
        "id": "qdjj19jjL2pD"
      }
    },
    {
      "cell_type": "code",
      "source": [
        "from google.colab import drive\n",
        "drive.mount('/content/drive')"
      ],
      "metadata": {
        "colab": {
          "base_uri": "https://localhost:8080/"
        },
        "id": "UPOrCxTA5A7B",
        "outputId": "e7b65b90-f85b-462a-9319-f89701aab913"
      },
      "execution_count": 2,
      "outputs": [
        {
          "output_type": "stream",
          "name": "stdout",
          "text": [
            "Mounted at /content/drive\n"
          ]
        }
      ]
    },
    {
      "cell_type": "code",
      "source": [
        "!pip install --upgrade audio-bible-tools\n"
      ],
      "metadata": {
        "colab": {
          "base_uri": "https://localhost:8080/"
        },
        "id": "Gf7KJFv0xE9T",
        "outputId": "307c4622-b919-4bcf-f135-eeee72cd218c"
      },
      "execution_count": 44,
      "outputs": [
        {
          "output_type": "stream",
          "name": "stdout",
          "text": [
            "Requirement already satisfied: audio-bible-tools in /usr/local/lib/python3.10/dist-packages (0.1.0)\n",
            "Requirement already satisfied: yt-dlp in /usr/local/lib/python3.10/dist-packages (from audio-bible-tools) (2024.8.6)\n",
            "Requirement already satisfied: requests in /usr/local/lib/python3.10/dist-packages (from audio-bible-tools) (2.32.3)\n",
            "Requirement already satisfied: charset-normalizer<4,>=2 in /usr/local/lib/python3.10/dist-packages (from requests->audio-bible-tools) (3.3.2)\n",
            "Requirement already satisfied: idna<4,>=2.5 in /usr/local/lib/python3.10/dist-packages (from requests->audio-bible-tools) (3.7)\n",
            "Requirement already satisfied: urllib3<3,>=1.21.1 in /usr/local/lib/python3.10/dist-packages (from requests->audio-bible-tools) (2.0.7)\n",
            "Requirement already satisfied: certifi>=2017.4.17 in /usr/local/lib/python3.10/dist-packages (from requests->audio-bible-tools) (2024.7.4)\n",
            "Requirement already satisfied: brotli in /usr/local/lib/python3.10/dist-packages (from yt-dlp->audio-bible-tools) (1.1.0)\n",
            "Requirement already satisfied: mutagen in /usr/local/lib/python3.10/dist-packages (from yt-dlp->audio-bible-tools) (1.47.0)\n",
            "Requirement already satisfied: pycryptodomex in /usr/local/lib/python3.10/dist-packages (from yt-dlp->audio-bible-tools) (3.20.0)\n",
            "Requirement already satisfied: websockets>=12.0 in /usr/local/lib/python3.10/dist-packages (from yt-dlp->audio-bible-tools) (12.0)\n"
          ]
        }
      ]
    },
    {
      "cell_type": "code",
      "source": [
        "from audio_bible_tools import YouTubeDownloader\n",
        "root_dir = '/content/drive/My Drive/'\n",
        "project_dir = 'kjv_audio'\n",
        "channel_handle = 'skiesaboveus'\n",
        "genesis_playlist = \"01 Genesis Chapters 01-50 (KJV)\"\n",
        "revelation_playlist = \"66 Revelation Chapters 01-22 (KJV)\"\n",
        "\n",
        "# Initialize the downloader\n",
        "downloader = YouTubeDownloader(\n",
        "    root_dir=root_dir,\n",
        "    channel_handle=channel_handle,\n",
        "    project_dir=project_dir,\n",
        "    genesis_playlist=genesis_playlist,\n",
        "    revelation_playlist=revelation_playlist\n",
        ")\n",
        "\n",
        "# Remove any temporary files\n",
        "downloader.remove_tmp_files()\n",
        "\n",
        "# Print the total number of files in the project directory\n",
        "# print(downloader.count_files_in_directory())\n",
        "\n",
        "downloader.list_and_process_playlists()\n",
        "\n",
        "# Remove temporary files again after download\n",
        "downloader.remove_tmp_files()\n",
        "\n",
        "# Process the downloaded files\n",
        "downloader.version(\"kjv\") \\\n",
        "    .voice(\"kjv-audio-bible\") \\\n",
        "    .result_dir(\"bible_audio_processed\") \\\n",
        "    .chapterPattern(\"Chapter (\\d+)\") \\\n",
        "    .process()"
      ],
      "metadata": {
        "colab": {
          "base_uri": "https://localhost:8080/"
        },
        "id": "e4xrbNsj7Xms",
        "outputId": "a2a17d34-b35d-4c05-c27c-bef85dcaf028"
      },
      "execution_count": 46,
      "outputs": [
        {
          "output_type": "stream",
          "name": "stdout",
          "text": [
            "Processing Playlist Title: 40 Matthew Chapters 01-28 (KJV)\n"
          ]
        },
        {
          "output_type": "stream",
          "name": "stderr",
          "text": [
            "WARNING: [youtube:tab] Incomplete data received. Retrying (1/3)...\n",
            "WARNING: [youtube:tab] Incomplete data received. Retrying (2/3)...\n",
            "WARNING: [youtube:tab] Incomplete data received. Retrying (3/3)...\n",
            "WARNING: [youtube:tab] Incomplete data received. Giving up after 3 retries\n"
          ]
        },
        {
          "output_type": "stream",
          "name": "stdout",
          "text": [
            " 28 of 28 expected chapters\n",
            "Skipping Playlist Title: 40 Matthew Chapters 01-28 (KJV) (Already has 28 chapters)\n",
            "----------------------------------------\n",
            "Processing Playlist Title: 41 Mark Chapters 01-16 (KJV)\n"
          ]
        },
        {
          "output_type": "stream",
          "name": "stderr",
          "text": [
            "WARNING: [youtube:tab] Incomplete data received. Retrying (1/3)...\n",
            "WARNING: [youtube:tab] Incomplete data received. Retrying (2/3)...\n",
            "WARNING: [youtube:tab] Incomplete data received. Retrying (3/3)...\n",
            "WARNING: [youtube:tab] Incomplete data received. Giving up after 3 retries\n"
          ]
        },
        {
          "output_type": "stream",
          "name": "stdout",
          "text": [
            " 16 of 16 expected chapters\n",
            "Skipping Playlist Title: 41 Mark Chapters 01-16 (KJV) (Already has 16 chapters)\n",
            "----------------------------------------\n",
            "Processing Playlist Title: 42 Luke Chapters 01-24 (KJV)\n"
          ]
        },
        {
          "output_type": "stream",
          "name": "stderr",
          "text": [
            "WARNING: [youtube:tab] Incomplete data received. Retrying (1/3)...\n",
            "WARNING: [youtube:tab] Incomplete data received. Retrying (2/3)...\n",
            "WARNING: [youtube:tab] Incomplete data received. Retrying (3/3)...\n",
            "WARNING: [youtube:tab] Incomplete data received. Giving up after 3 retries\n"
          ]
        },
        {
          "output_type": "stream",
          "name": "stdout",
          "text": [
            " 24 of 24 expected chapters\n",
            "Skipping Playlist Title: 42 Luke Chapters 01-24 (KJV) (Already has 24 chapters)\n",
            "----------------------------------------\n",
            "Processing Playlist Title: 43 John Chapters 01-21 (KJV)\n"
          ]
        },
        {
          "output_type": "stream",
          "name": "stderr",
          "text": [
            "WARNING: [youtube:tab] Incomplete data received. Retrying (1/3)...\n",
            "WARNING: [youtube:tab] Incomplete data received. Retrying (2/3)...\n",
            "WARNING: [youtube:tab] Incomplete data received. Retrying (3/3)...\n",
            "WARNING: [youtube:tab] Incomplete data received. Giving up after 3 retries\n"
          ]
        },
        {
          "output_type": "stream",
          "name": "stdout",
          "text": [
            " 21 of 21 expected chapters\n",
            "Skipping Playlist Title: 43 John Chapters 01-21 (KJV) (Already has 21 chapters)\n",
            "----------------------------------------\n",
            "Processing Playlist Title: 44 Acts Chapters 01-28 (KJV)\n"
          ]
        },
        {
          "output_type": "stream",
          "name": "stderr",
          "text": [
            "WARNING: [youtube:tab] Incomplete data received. Retrying (1/3)...\n",
            "WARNING: [youtube:tab] Incomplete data received. Retrying (2/3)...\n",
            "WARNING: [youtube:tab] Incomplete data received. Retrying (3/3)...\n",
            "WARNING: [youtube:tab] Incomplete data received. Giving up after 3 retries\n"
          ]
        },
        {
          "output_type": "stream",
          "name": "stdout",
          "text": [
            " 28 of 28 expected chapters\n",
            "Skipping Playlist Title: 44 Acts Chapters 01-28 (KJV) (Already has 28 chapters)\n",
            "----------------------------------------\n",
            "Processing Playlist Title: 45 Romans Chapters 01-16 (KJV)\n"
          ]
        },
        {
          "output_type": "stream",
          "name": "stderr",
          "text": [
            "WARNING: [youtube:tab] Incomplete data received. Retrying (1/3)...\n",
            "WARNING: [youtube:tab] Incomplete data received. Retrying (2/3)...\n",
            "WARNING: [youtube:tab] Incomplete data received. Retrying (3/3)...\n",
            "WARNING: [youtube:tab] Incomplete data received. Giving up after 3 retries\n"
          ]
        },
        {
          "output_type": "stream",
          "name": "stdout",
          "text": [
            " 16 of 16 expected chapters\n",
            "Skipping Playlist Title: 45 Romans Chapters 01-16 (KJV) (Already has 16 chapters)\n",
            "----------------------------------------\n",
            "Processing Playlist Title: 46 1 Corinthians Chapters 01-16 (KJV)\n"
          ]
        },
        {
          "output_type": "stream",
          "name": "stderr",
          "text": [
            "WARNING: [youtube:tab] Incomplete data received. Retrying (1/3)...\n",
            "WARNING: [youtube:tab] Incomplete data received. Retrying (2/3)...\n",
            "WARNING: [youtube:tab] Incomplete data received. Retrying (3/3)...\n",
            "WARNING: [youtube:tab] Incomplete data received. Giving up after 3 retries\n"
          ]
        },
        {
          "output_type": "stream",
          "name": "stdout",
          "text": [
            " 16 of 16 expected chapters\n",
            "Skipping Playlist Title: 46 1 Corinthians Chapters 01-16 (KJV) (Already has 16 chapters)\n",
            "----------------------------------------\n",
            "Processing Playlist Title: 47 2 Corinthians Chapters 01-13 (KJV)\n"
          ]
        },
        {
          "output_type": "stream",
          "name": "stderr",
          "text": [
            "WARNING: [youtube:tab] Incomplete data received. Retrying (1/3)...\n",
            "WARNING: [youtube:tab] Incomplete data received. Retrying (2/3)...\n",
            "WARNING: [youtube:tab] Incomplete data received. Retrying (3/3)...\n",
            "WARNING: [youtube:tab] Incomplete data received. Giving up after 3 retries\n"
          ]
        },
        {
          "output_type": "stream",
          "name": "stdout",
          "text": [
            " 13 of 13 expected chapters\n",
            "Skipping Playlist Title: 47 2 Corinthians Chapters 01-13 (KJV) (Already has 13 chapters)\n",
            "----------------------------------------\n",
            "Processing Playlist Title: 48 Galatians Chapters 01-06 (KJV)\n"
          ]
        },
        {
          "output_type": "stream",
          "name": "stderr",
          "text": [
            "WARNING: [youtube:tab] Incomplete data received. Retrying (1/3)...\n",
            "WARNING: [youtube:tab] Incomplete data received. Retrying (2/3)...\n",
            "WARNING: [youtube:tab] Incomplete data received. Retrying (3/3)...\n",
            "WARNING: [youtube:tab] Incomplete data received. Giving up after 3 retries\n"
          ]
        },
        {
          "output_type": "stream",
          "name": "stdout",
          "text": [
            " 6 of 6 expected chapters\n",
            "Skipping Playlist Title: 48 Galatians Chapters 01-06 (KJV) (Already has 6 chapters)\n",
            "----------------------------------------\n",
            "Processing Playlist Title: 49 Ephesians Chapters 01-06 (KJV)\n"
          ]
        },
        {
          "output_type": "stream",
          "name": "stderr",
          "text": [
            "WARNING: [youtube:tab] Incomplete data received. Retrying (1/3)...\n",
            "WARNING: [youtube:tab] Incomplete data received. Retrying (2/3)...\n",
            "WARNING: [youtube:tab] Incomplete data received. Retrying (3/3)...\n",
            "WARNING: [youtube:tab] Incomplete data received. Giving up after 3 retries\n"
          ]
        },
        {
          "output_type": "stream",
          "name": "stdout",
          "text": [
            " 6 of 6 expected chapters\n",
            "Skipping Playlist Title: 49 Ephesians Chapters 01-06 (KJV) (Already has 6 chapters)\n",
            "----------------------------------------\n",
            "Processing Playlist Title: 50 Philippians Chapters 01-04 (KJV)\n"
          ]
        },
        {
          "output_type": "stream",
          "name": "stderr",
          "text": [
            "WARNING: [youtube:tab] Incomplete data received. Retrying (1/3)...\n",
            "WARNING: [youtube:tab] Incomplete data received. Retrying (2/3)...\n",
            "WARNING: [youtube:tab] Incomplete data received. Retrying (3/3)...\n",
            "WARNING: [youtube:tab] Incomplete data received. Giving up after 3 retries\n"
          ]
        },
        {
          "output_type": "stream",
          "name": "stdout",
          "text": [
            " 4 of 4 expected chapters\n",
            "Skipping Playlist Title: 50 Philippians Chapters 01-04 (KJV) (Already has 4 chapters)\n",
            "----------------------------------------\n",
            "Processing Playlist Title: 51 Colossians Chapters 01-04 (KJV)\n"
          ]
        },
        {
          "output_type": "stream",
          "name": "stderr",
          "text": [
            "WARNING: [youtube:tab] Incomplete data received. Retrying (1/3)...\n",
            "WARNING: [youtube:tab] Incomplete data received. Retrying (2/3)...\n",
            "WARNING: [youtube:tab] Incomplete data received. Retrying (3/3)...\n",
            "WARNING: [youtube:tab] Incomplete data received. Giving up after 3 retries\n"
          ]
        },
        {
          "output_type": "stream",
          "name": "stdout",
          "text": [
            " 4 of 4 expected chapters\n",
            "Skipping Playlist Title: 51 Colossians Chapters 01-04 (KJV) (Already has 4 chapters)\n",
            "----------------------------------------\n",
            "Processing Playlist Title: 52 1 Thessalonians Chapters 01-05 (KJV)\n"
          ]
        },
        {
          "output_type": "stream",
          "name": "stderr",
          "text": [
            "WARNING: [youtube:tab] Incomplete data received. Retrying (1/3)...\n",
            "WARNING: [youtube:tab] Incomplete data received. Retrying (2/3)...\n",
            "WARNING: [youtube:tab] Incomplete data received. Retrying (3/3)...\n",
            "WARNING: [youtube:tab] Incomplete data received. Giving up after 3 retries\n"
          ]
        },
        {
          "output_type": "stream",
          "name": "stdout",
          "text": [
            " 5 of 5 expected chapters\n",
            "Skipping Playlist Title: 52 1 Thessalonians Chapters 01-05 (KJV) (Already has 5 chapters)\n",
            "----------------------------------------\n",
            "Processing Playlist Title: 53 2 Thessalonians Chapters 01-03 (KJV)\n"
          ]
        },
        {
          "output_type": "stream",
          "name": "stderr",
          "text": [
            "WARNING: [youtube:tab] Incomplete data received. Retrying (1/3)...\n",
            "WARNING: [youtube:tab] Incomplete data received. Retrying (2/3)...\n",
            "WARNING: [youtube:tab] Incomplete data received. Retrying (3/3)...\n",
            "WARNING: [youtube:tab] Incomplete data received. Giving up after 3 retries\n"
          ]
        },
        {
          "output_type": "stream",
          "name": "stdout",
          "text": [
            " 3 of 3 expected chapters\n",
            "Skipping Playlist Title: 53 2 Thessalonians Chapters 01-03 (KJV) (Already has 3 chapters)\n",
            "----------------------------------------\n",
            "Processing Playlist Title: 54 1 Timothy Chapters 01-06 (KJV)\n"
          ]
        },
        {
          "output_type": "stream",
          "name": "stderr",
          "text": [
            "WARNING: [youtube:tab] Incomplete data received. Retrying (1/3)...\n",
            "WARNING: [youtube:tab] Incomplete data received. Retrying (2/3)...\n",
            "WARNING: [youtube:tab] Incomplete data received. Retrying (3/3)...\n",
            "WARNING: [youtube:tab] Incomplete data received. Giving up after 3 retries\n"
          ]
        },
        {
          "output_type": "stream",
          "name": "stdout",
          "text": [
            " 6 of 6 expected chapters\n",
            "Skipping Playlist Title: 54 1 Timothy Chapters 01-06 (KJV) (Already has 6 chapters)\n",
            "----------------------------------------\n",
            "Processing Playlist Title: 55 2 Timothy Chapters 01-04 (KJV)\n"
          ]
        },
        {
          "output_type": "stream",
          "name": "stderr",
          "text": [
            "WARNING: [youtube:tab] Incomplete data received. Retrying (1/3)...\n",
            "WARNING: [youtube:tab] Incomplete data received. Retrying (2/3)...\n",
            "WARNING: [youtube:tab] Incomplete data received. Retrying (3/3)...\n",
            "WARNING: [youtube:tab] Incomplete data received. Giving up after 3 retries\n"
          ]
        },
        {
          "output_type": "stream",
          "name": "stdout",
          "text": [
            " 4 of 4 expected chapters\n",
            "Skipping Playlist Title: 55 2 Timothy Chapters 01-04 (KJV) (Already has 4 chapters)\n",
            "----------------------------------------\n",
            "Processing Playlist Title: 56 Titus Chapters 01-03 (KJV)\n"
          ]
        },
        {
          "output_type": "stream",
          "name": "stderr",
          "text": [
            "WARNING: [youtube:tab] Incomplete data received. Retrying (1/3)...\n",
            "WARNING: [youtube:tab] Incomplete data received. Retrying (2/3)...\n",
            "WARNING: [youtube:tab] Incomplete data received. Retrying (3/3)...\n",
            "WARNING: [youtube:tab] Incomplete data received. Giving up after 3 retries\n"
          ]
        },
        {
          "output_type": "stream",
          "name": "stdout",
          "text": [
            " 3 of 3 expected chapters\n",
            "Skipping Playlist Title: 56 Titus Chapters 01-03 (KJV) (Already has 3 chapters)\n",
            "----------------------------------------\n",
            "Ignored Playlist Title: 57 Philemon Chapter 01 (KJV)\n",
            "Playlist URL: https://www.youtube.com/playlist?list=PL6798F193FD4391E0\n",
            "----------------------------------------\n",
            "Processing Playlist Title: 58 Hebrews Chapters 01-13 (KJV)\n"
          ]
        },
        {
          "output_type": "stream",
          "name": "stderr",
          "text": [
            "WARNING: [youtube:tab] Incomplete data received. Retrying (1/3)...\n",
            "WARNING: [youtube:tab] Incomplete data received. Retrying (2/3)...\n",
            "WARNING: [youtube:tab] Incomplete data received. Retrying (3/3)...\n",
            "WARNING: [youtube:tab] Incomplete data received. Giving up after 3 retries\n"
          ]
        },
        {
          "output_type": "stream",
          "name": "stdout",
          "text": [
            " 13 of 13 expected chapters\n",
            "Skipping Playlist Title: 58 Hebrews Chapters 01-13 (KJV) (Already has 13 chapters)\n",
            "----------------------------------------\n",
            "Processing Playlist Title: 59 James Chapters 01-05 (KJV)\n"
          ]
        },
        {
          "output_type": "stream",
          "name": "stderr",
          "text": [
            "WARNING: [youtube:tab] Incomplete data received. Retrying (1/3)...\n",
            "WARNING: [youtube:tab] Incomplete data received. Retrying (2/3)...\n",
            "WARNING: [youtube:tab] Incomplete data received. Retrying (3/3)...\n",
            "WARNING: [youtube:tab] Incomplete data received. Giving up after 3 retries\n"
          ]
        },
        {
          "output_type": "stream",
          "name": "stdout",
          "text": [
            " 5 of 5 expected chapters\n",
            "Skipping Playlist Title: 59 James Chapters 01-05 (KJV) (Already has 5 chapters)\n",
            "----------------------------------------\n",
            "Processing Playlist Title: 60 1 Peter Chapters 01-05 (KJV)\n"
          ]
        },
        {
          "output_type": "stream",
          "name": "stderr",
          "text": [
            "WARNING: [youtube:tab] Incomplete data received. Retrying (1/3)...\n",
            "WARNING: [youtube:tab] Incomplete data received. Retrying (2/3)...\n",
            "WARNING: [youtube:tab] Incomplete data received. Retrying (3/3)...\n",
            "WARNING: [youtube:tab] Incomplete data received. Giving up after 3 retries\n"
          ]
        },
        {
          "output_type": "stream",
          "name": "stdout",
          "text": [
            " 5 of 5 expected chapters\n",
            "Skipping Playlist Title: 60 1 Peter Chapters 01-05 (KJV) (Already has 5 chapters)\n",
            "----------------------------------------\n",
            "Processing Playlist Title: 61 2 Peter Chapters 01-03 (KJV)\n"
          ]
        },
        {
          "output_type": "stream",
          "name": "stderr",
          "text": [
            "WARNING: [youtube:tab] Incomplete data received. Retrying (1/3)...\n",
            "WARNING: [youtube:tab] Incomplete data received. Retrying (2/3)...\n",
            "WARNING: [youtube:tab] Incomplete data received. Retrying (3/3)...\n",
            "WARNING: [youtube:tab] Incomplete data received. Giving up after 3 retries\n"
          ]
        },
        {
          "output_type": "stream",
          "name": "stdout",
          "text": [
            " 3 of 3 expected chapters\n",
            "Skipping Playlist Title: 61 2 Peter Chapters 01-03 (KJV) (Already has 3 chapters)\n",
            "----------------------------------------\n",
            "Processing Playlist Title: 62 1 John Chapters 01-05 (KJV)\n"
          ]
        },
        {
          "output_type": "stream",
          "name": "stderr",
          "text": [
            "WARNING: [youtube:tab] Incomplete data received. Retrying (1/3)...\n",
            "WARNING: [youtube:tab] Incomplete data received. Retrying (2/3)...\n",
            "WARNING: [youtube:tab] Incomplete data received. Retrying (3/3)...\n",
            "WARNING: [youtube:tab] Incomplete data received. Giving up after 3 retries\n"
          ]
        },
        {
          "output_type": "stream",
          "name": "stdout",
          "text": [
            " 5 of 5 expected chapters\n",
            "Skipping Playlist Title: 62 1 John Chapters 01-05 (KJV) (Already has 5 chapters)\n",
            "----------------------------------------\n",
            "Ignored Playlist Title: 63 2 John Chapter 1 (KJV)\n",
            "Playlist URL: https://www.youtube.com/playlist?list=PL7147447C6E3D56BF\n",
            "----------------------------------------\n",
            "Ignored Playlist Title: 64 3 John Chapter 1 (KJV)\n",
            "Playlist URL: https://www.youtube.com/playlist?list=PL32E7D8CA75AA4CF0\n",
            "----------------------------------------\n",
            "Ignored Playlist Title: 65 Jude Chapter 1 (KJV)\n",
            "Playlist URL: https://www.youtube.com/playlist?list=PLBB99B6539F5C88C3\n",
            "----------------------------------------\n",
            "Processing Playlist Title: 66 Revelation Chapters 01-22 (KJV)\n"
          ]
        },
        {
          "output_type": "stream",
          "name": "stderr",
          "text": [
            "WARNING: [youtube:tab] Incomplete data received. Retrying (1/3)...\n",
            "WARNING: [youtube:tab] Incomplete data received. Retrying (2/3)...\n",
            "WARNING: [youtube:tab] Incomplete data received. Retrying (3/3)...\n",
            "WARNING: [youtube:tab] Incomplete data received. Giving up after 3 retries\n"
          ]
        },
        {
          "output_type": "stream",
          "name": "stdout",
          "text": [
            " 22 of 22 expected chapters\n",
            "Skipping Playlist Title: 66 Revelation Chapters 01-22 (KJV) (Already has 22 chapters)\n",
            "----------------------------------------\n",
            "Processing Playlist Title: 32 Jonah Chapters 01-04 (KJV)\n"
          ]
        },
        {
          "output_type": "stream",
          "name": "stderr",
          "text": [
            "WARNING: [youtube:tab] Incomplete data received. Retrying (1/3)...\n",
            "WARNING: [youtube:tab] Incomplete data received. Retrying (2/3)...\n",
            "WARNING: [youtube:tab] Incomplete data received. Retrying (3/3)...\n",
            "WARNING: [youtube:tab] Incomplete data received. Giving up after 3 retries\n"
          ]
        },
        {
          "output_type": "stream",
          "name": "stdout",
          "text": [
            " 4 of 4 expected chapters\n",
            "Skipping Playlist Title: 32 Jonah Chapters 01-04 (KJV) (Already has 4 chapters)\n",
            "----------------------------------------\n",
            "Processing Playlist Title: 26 Ezekiel Chapters 01-48 (KJV)\n"
          ]
        },
        {
          "output_type": "stream",
          "name": "stderr",
          "text": [
            "WARNING: [youtube:tab] Incomplete data received. Retrying (1/3)...\n",
            "WARNING: [youtube:tab] Incomplete data received. Retrying (2/3)...\n",
            "WARNING: [youtube:tab] Incomplete data received. Retrying (3/3)...\n",
            "WARNING: [youtube:tab] Incomplete data received. Giving up after 3 retries\n"
          ]
        },
        {
          "output_type": "stream",
          "name": "stdout",
          "text": [
            " 48 of 48 expected chapters\n",
            "Skipping Playlist Title: 26 Ezekiel Chapters 01-48 (KJV) (Already has 48 chapters)\n",
            "----------------------------------------\n",
            "Processing Playlist Title: 24 Jeremiah Chapters 01-52 (KJV)\n"
          ]
        },
        {
          "output_type": "stream",
          "name": "stderr",
          "text": [
            "WARNING: [youtube:tab] Incomplete data received. Retrying (1/3)...\n",
            "WARNING: [youtube:tab] Incomplete data received. Retrying (2/3)...\n",
            "WARNING: [youtube:tab] Incomplete data received. Retrying (3/3)...\n",
            "WARNING: [youtube:tab] Incomplete data received. Giving up after 3 retries\n"
          ]
        },
        {
          "output_type": "stream",
          "name": "stdout",
          "text": [
            " 52 of 52 expected chapters\n",
            "Skipping Playlist Title: 24 Jeremiah Chapters 01-52 (KJV) (Already has 52 chapters)\n",
            "----------------------------------------\n",
            "Processing Playlist Title: 23 Isaiah Chapters 01-66 (KJV)\n"
          ]
        },
        {
          "output_type": "stream",
          "name": "stderr",
          "text": [
            "WARNING: [youtube:tab] Incomplete data received. Retrying (1/3)...\n",
            "WARNING: [youtube:tab] Incomplete data received. Retrying (2/3)...\n",
            "WARNING: [youtube:tab] Incomplete data received. Retrying (3/3)...\n",
            "WARNING: [youtube:tab] Incomplete data received. Giving up after 3 retries\n"
          ]
        },
        {
          "output_type": "stream",
          "name": "stdout",
          "text": [
            " 66 of 66 expected chapters\n",
            "Skipping Playlist Title: 23 Isaiah Chapters 01-66 (KJV) (Already has 66 chapters)\n",
            "----------------------------------------\n",
            "Processing Playlist Title: 25 Lamentations Chapters 01-05 (KJV)\n"
          ]
        },
        {
          "output_type": "stream",
          "name": "stderr",
          "text": [
            "WARNING: [youtube:tab] Incomplete data received. Retrying (1/3)...\n",
            "WARNING: [youtube:tab] Incomplete data received. Retrying (2/3)...\n",
            "WARNING: [youtube:tab] Incomplete data received. Retrying (3/3)...\n",
            "WARNING: [youtube:tab] Incomplete data received. Giving up after 3 retries\n"
          ]
        },
        {
          "output_type": "stream",
          "name": "stdout",
          "text": [
            " 5 of 5 expected chapters\n",
            "Skipping Playlist Title: 25 Lamentations Chapters 01-05 (KJV) (Already has 5 chapters)\n",
            "----------------------------------------\n",
            "Processing Playlist Title: 28 Hosea Chapters 01-14 (KJV)\n"
          ]
        },
        {
          "output_type": "stream",
          "name": "stderr",
          "text": [
            "WARNING: [youtube:tab] Incomplete data received. Retrying (1/3)...\n",
            "WARNING: [youtube:tab] Incomplete data received. Retrying (2/3)...\n",
            "WARNING: [youtube:tab] Incomplete data received. Retrying (3/3)...\n",
            "WARNING: [youtube:tab] Incomplete data received. Giving up after 3 retries\n"
          ]
        },
        {
          "output_type": "stream",
          "name": "stdout",
          "text": [
            " 14 of 14 expected chapters\n",
            "Skipping Playlist Title: 28 Hosea Chapters 01-14 (KJV) (Already has 14 chapters)\n",
            "----------------------------------------\n",
            "Processing Playlist Title: 30 Amos Chapters 01-09 (KJV)\n"
          ]
        },
        {
          "output_type": "stream",
          "name": "stderr",
          "text": [
            "WARNING: [youtube:tab] Incomplete data received. Retrying (1/3)...\n",
            "WARNING: [youtube:tab] Incomplete data received. Retrying (2/3)...\n",
            "WARNING: [youtube:tab] Incomplete data received. Retrying (3/3)...\n",
            "WARNING: [youtube:tab] Incomplete data received. Giving up after 3 retries\n"
          ]
        },
        {
          "output_type": "stream",
          "name": "stdout",
          "text": [
            " 9 of 9 expected chapters\n",
            "Skipping Playlist Title: 30 Amos Chapters 01-09 (KJV) (Already has 9 chapters)\n",
            "----------------------------------------\n",
            "Ignored Playlist Title: 31 Obadiah Chapter 01 (KJV)\n",
            "Playlist URL: https://www.youtube.com/playlist?list=PL415844A26965F5D8\n",
            "----------------------------------------\n",
            "Processing Playlist Title: 33 Micah Chapters 01-07 (KJV)\n"
          ]
        },
        {
          "output_type": "stream",
          "name": "stderr",
          "text": [
            "WARNING: [youtube:tab] Incomplete data received. Retrying (1/3)...\n",
            "WARNING: [youtube:tab] Incomplete data received. Retrying (2/3)...\n",
            "WARNING: [youtube:tab] Incomplete data received. Retrying (3/3)...\n",
            "WARNING: [youtube:tab] Incomplete data received. Giving up after 3 retries\n"
          ]
        },
        {
          "output_type": "stream",
          "name": "stdout",
          "text": [
            " 7 of 7 expected chapters\n",
            "Skipping Playlist Title: 33 Micah Chapters 01-07 (KJV) (Already has 7 chapters)\n",
            "----------------------------------------\n",
            "Processing Playlist Title: 34 Nahum Chapters 01-03 (KJV)\n"
          ]
        },
        {
          "output_type": "stream",
          "name": "stderr",
          "text": [
            "WARNING: [youtube:tab] Incomplete data received. Retrying (1/3)...\n",
            "WARNING: [youtube:tab] Incomplete data received. Retrying (2/3)...\n",
            "WARNING: [youtube:tab] Incomplete data received. Retrying (3/3)...\n",
            "WARNING: [youtube:tab] Incomplete data received. Giving up after 3 retries\n"
          ]
        },
        {
          "output_type": "stream",
          "name": "stdout",
          "text": [
            " 3 of 3 expected chapters\n",
            "Skipping Playlist Title: 34 Nahum Chapters 01-03 (KJV) (Already has 3 chapters)\n",
            "----------------------------------------\n",
            "Processing Playlist Title: 35 Habakkuk Chapters 01-03 (KJV)\n"
          ]
        },
        {
          "output_type": "stream",
          "name": "stderr",
          "text": [
            "WARNING: [youtube:tab] Incomplete data received. Retrying (1/3)...\n",
            "WARNING: [youtube:tab] Incomplete data received. Retrying (2/3)...\n",
            "WARNING: [youtube:tab] Incomplete data received. Retrying (3/3)...\n",
            "WARNING: [youtube:tab] Incomplete data received. Giving up after 3 retries\n"
          ]
        },
        {
          "output_type": "stream",
          "name": "stdout",
          "text": [
            " 3 of 3 expected chapters\n",
            "Skipping Playlist Title: 35 Habakkuk Chapters 01-03 (KJV) (Already has 3 chapters)\n",
            "----------------------------------------\n",
            "Processing Playlist Title: 36 Zephaniah Chapters 01-03 (KJV)\n"
          ]
        },
        {
          "output_type": "stream",
          "name": "stderr",
          "text": [
            "WARNING: [youtube:tab] Incomplete data received. Retrying (1/3)...\n",
            "WARNING: [youtube:tab] Incomplete data received. Retrying (2/3)...\n",
            "WARNING: [youtube:tab] Incomplete data received. Retrying (3/3)...\n",
            "WARNING: [youtube:tab] Incomplete data received. Giving up after 3 retries\n"
          ]
        },
        {
          "output_type": "stream",
          "name": "stdout",
          "text": [
            " 3 of 3 expected chapters\n",
            "Skipping Playlist Title: 36 Zephaniah Chapters 01-03 (KJV) (Already has 3 chapters)\n",
            "----------------------------------------\n",
            "Processing Playlist Title: 37 Haggai Chapters 01-02 (KJV)\n"
          ]
        },
        {
          "output_type": "stream",
          "name": "stderr",
          "text": [
            "WARNING: [youtube:tab] Incomplete data received. Retrying (1/3)...\n",
            "WARNING: [youtube:tab] Incomplete data received. Retrying (2/3)...\n",
            "WARNING: [youtube:tab] Incomplete data received. Retrying (3/3)...\n",
            "WARNING: [youtube:tab] Incomplete data received. Giving up after 3 retries\n"
          ]
        },
        {
          "output_type": "stream",
          "name": "stdout",
          "text": [
            " 2 of 2 expected chapters\n",
            "Skipping Playlist Title: 37 Haggai Chapters 01-02 (KJV) (Already has 2 chapters)\n",
            "----------------------------------------\n",
            "Processing Playlist Title: 39 Malachi Chapters 01-04 (KJV)\n"
          ]
        },
        {
          "output_type": "stream",
          "name": "stderr",
          "text": [
            "WARNING: [youtube:tab] Incomplete data received. Retrying (1/3)...\n",
            "WARNING: [youtube:tab] Incomplete data received. Retrying (2/3)...\n",
            "WARNING: [youtube:tab] Incomplete data received. Retrying (3/3)...\n",
            "WARNING: [youtube:tab] Incomplete data received. Giving up after 3 retries\n"
          ]
        },
        {
          "output_type": "stream",
          "name": "stdout",
          "text": [
            " 4 of 4 expected chapters\n",
            "Skipping Playlist Title: 39 Malachi Chapters 01-04 (KJV) (Already has 4 chapters)\n",
            "----------------------------------------\n",
            "Processing Playlist Title: 38 Zechariah Chapters 01-14 (KJV)\n"
          ]
        },
        {
          "output_type": "stream",
          "name": "stderr",
          "text": [
            "WARNING: [youtube:tab] Incomplete data received. Retrying (1/3)...\n",
            "WARNING: [youtube:tab] Incomplete data received. Retrying (2/3)...\n",
            "WARNING: [youtube:tab] Incomplete data received. Retrying (3/3)...\n",
            "WARNING: [youtube:tab] Incomplete data received. Giving up after 3 retries\n"
          ]
        },
        {
          "output_type": "stream",
          "name": "stdout",
          "text": [
            " 14 of 14 expected chapters\n",
            "Skipping Playlist Title: 38 Zechariah Chapters 01-14 (KJV) (Already has 14 chapters)\n",
            "----------------------------------------\n",
            "Processing Playlist Title: 21 Ecclesiastes Chapters 01-12 (KJV)\n"
          ]
        },
        {
          "output_type": "stream",
          "name": "stderr",
          "text": [
            "WARNING: [youtube:tab] Incomplete data received. Retrying (1/3)...\n",
            "WARNING: [youtube:tab] Incomplete data received. Retrying (2/3)...\n",
            "WARNING: [youtube:tab] Incomplete data received. Retrying (3/3)...\n",
            "WARNING: [youtube:tab] Incomplete data received. Giving up after 3 retries\n"
          ]
        },
        {
          "output_type": "stream",
          "name": "stdout",
          "text": [
            " 12 of 12 expected chapters\n",
            "Skipping Playlist Title: 21 Ecclesiastes Chapters 01-12 (KJV) (Already has 12 chapters)\n",
            "----------------------------------------\n",
            "Processing Playlist Title: 22 Song of Solomon Chapters 01-08 (KJV)\n"
          ]
        },
        {
          "output_type": "stream",
          "name": "stderr",
          "text": [
            "WARNING: [youtube:tab] Incomplete data received. Retrying (1/3)...\n",
            "WARNING: [youtube:tab] Incomplete data received. Retrying (2/3)...\n",
            "WARNING: [youtube:tab] Incomplete data received. Retrying (3/3)...\n",
            "WARNING: [youtube:tab] Incomplete data received. Giving up after 3 retries\n"
          ]
        },
        {
          "output_type": "stream",
          "name": "stdout",
          "text": [
            " 8 of 8 expected chapters\n",
            "Skipping Playlist Title: 22 Song of Solomon Chapters 01-08 (KJV) (Already has 8 chapters)\n",
            "----------------------------------------\n",
            "Processing Playlist Title: 20 Proverbs Chapters 01-31 (KJV)\n"
          ]
        },
        {
          "output_type": "stream",
          "name": "stderr",
          "text": [
            "WARNING: [youtube:tab] Incomplete data received. Retrying (1/3)...\n",
            "WARNING: [youtube:tab] Incomplete data received. Retrying (2/3)...\n",
            "WARNING: [youtube:tab] Incomplete data received. Retrying (3/3)...\n",
            "WARNING: [youtube:tab] Incomplete data received. Giving up after 3 retries\n"
          ]
        },
        {
          "output_type": "stream",
          "name": "stdout",
          "text": [
            " 31 of 31 expected chapters\n",
            "Skipping Playlist Title: 20 Proverbs Chapters 01-31 (KJV) (Already has 31 chapters)\n",
            "----------------------------------------\n",
            "Processing Playlist Title: 19 Psalm Chapters 01-150 (KJV)\n",
            " 150 of 150 expected chapters\n",
            "Skipping Playlist Title: 19 Psalm Chapters 01-150 (KJV) (Already has 150 chapters)\n",
            "----------------------------------------\n",
            "Processing Playlist Title: 18 Job Chapters 01-42 (KJV)\n"
          ]
        },
        {
          "output_type": "stream",
          "name": "stderr",
          "text": [
            "WARNING: [youtube:tab] Incomplete data received. Retrying (1/3)...\n",
            "WARNING: [youtube:tab] Incomplete data received. Retrying (2/3)...\n",
            "WARNING: [youtube:tab] Incomplete data received. Retrying (3/3)...\n",
            "WARNING: [youtube:tab] Incomplete data received. Giving up after 3 retries\n"
          ]
        },
        {
          "output_type": "stream",
          "name": "stdout",
          "text": [
            " 42 of 42 expected chapters\n",
            "Skipping Playlist Title: 18 Job Chapters 01-42 (KJV) (Already has 42 chapters)\n",
            "----------------------------------------\n",
            "Processing Playlist Title: 17 Esther Chapters 01-10 (KJV)\n"
          ]
        },
        {
          "output_type": "stream",
          "name": "stderr",
          "text": [
            "WARNING: [youtube:tab] Incomplete data received. Retrying (1/3)...\n",
            "WARNING: [youtube:tab] Incomplete data received. Retrying (2/3)...\n",
            "WARNING: [youtube:tab] Incomplete data received. Retrying (3/3)...\n",
            "WARNING: [youtube:tab] Incomplete data received. Giving up after 3 retries\n"
          ]
        },
        {
          "output_type": "stream",
          "name": "stdout",
          "text": [
            " 10 of 10 expected chapters\n",
            "Skipping Playlist Title: 17 Esther Chapters 01-10 (KJV) (Already has 10 chapters)\n",
            "----------------------------------------\n",
            "Processing Playlist Title: 16 Nehemiah Chapters 01-13 (KJV)\n"
          ]
        },
        {
          "output_type": "stream",
          "name": "stderr",
          "text": [
            "WARNING: [youtube:tab] Incomplete data received. Retrying (1/3)...\n",
            "WARNING: [youtube:tab] Incomplete data received. Retrying (2/3)...\n",
            "WARNING: [youtube:tab] Incomplete data received. Retrying (3/3)...\n",
            "WARNING: [youtube:tab] Incomplete data received. Giving up after 3 retries\n"
          ]
        },
        {
          "output_type": "stream",
          "name": "stdout",
          "text": [
            " 13 of 13 expected chapters\n",
            "Skipping Playlist Title: 16 Nehemiah Chapters 01-13 (KJV) (Already has 13 chapters)\n",
            "----------------------------------------\n",
            "Processing Playlist Title: 15 Ezra Chapters 01-10 (KJV)\n"
          ]
        },
        {
          "output_type": "stream",
          "name": "stderr",
          "text": [
            "WARNING: [youtube:tab] Incomplete data received. Retrying (1/3)...\n",
            "WARNING: [youtube:tab] Incomplete data received. Retrying (2/3)...\n",
            "WARNING: [youtube:tab] Incomplete data received. Retrying (3/3)...\n",
            "WARNING: [youtube:tab] Incomplete data received. Giving up after 3 retries\n"
          ]
        },
        {
          "output_type": "stream",
          "name": "stdout",
          "text": [
            " 10 of 10 expected chapters\n",
            "Skipping Playlist Title: 15 Ezra Chapters 01-10 (KJV) (Already has 10 chapters)\n",
            "----------------------------------------\n",
            "Processing Playlist Title: 14 2 Chronicles Chapters 01-36 (KJV)\n"
          ]
        },
        {
          "output_type": "stream",
          "name": "stderr",
          "text": [
            "WARNING: [youtube:tab] Incomplete data received. Retrying (1/3)...\n",
            "WARNING: [youtube:tab] Incomplete data received. Retrying (2/3)...\n",
            "WARNING: [youtube:tab] Incomplete data received. Retrying (3/3)...\n",
            "WARNING: [youtube:tab] Incomplete data received. Giving up after 3 retries\n"
          ]
        },
        {
          "output_type": "stream",
          "name": "stdout",
          "text": [
            " 36 of 36 expected chapters\n",
            "Skipping Playlist Title: 14 2 Chronicles Chapters 01-36 (KJV) (Already has 36 chapters)\n",
            "----------------------------------------\n",
            "Processing Playlist Title: 13 1 Chronicles Chapters 01-29 (KJV)\n"
          ]
        },
        {
          "output_type": "stream",
          "name": "stderr",
          "text": [
            "WARNING: [youtube:tab] Incomplete data received. Retrying (1/3)...\n",
            "WARNING: [youtube:tab] Incomplete data received. Retrying (2/3)...\n",
            "WARNING: [youtube:tab] Incomplete data received. Retrying (3/3)...\n",
            "WARNING: [youtube:tab] Incomplete data received. Giving up after 3 retries\n"
          ]
        },
        {
          "output_type": "stream",
          "name": "stdout",
          "text": [
            " 29 of 29 expected chapters\n",
            "Skipping Playlist Title: 13 1 Chronicles Chapters 01-29 (KJV) (Already has 29 chapters)\n",
            "----------------------------------------\n",
            "Processing Playlist Title: 12 2 Kings Chapters 01-25 (KJV)\n"
          ]
        },
        {
          "output_type": "stream",
          "name": "stderr",
          "text": [
            "WARNING: [youtube:tab] Incomplete data received. Retrying (1/3)...\n",
            "WARNING: [youtube:tab] Incomplete data received. Retrying (2/3)...\n",
            "WARNING: [youtube:tab] Incomplete data received. Retrying (3/3)...\n",
            "WARNING: [youtube:tab] Incomplete data received. Giving up after 3 retries\n"
          ]
        },
        {
          "output_type": "stream",
          "name": "stdout",
          "text": [
            " 25 of 25 expected chapters\n",
            "Skipping Playlist Title: 12 2 Kings Chapters 01-25 (KJV) (Already has 25 chapters)\n",
            "----------------------------------------\n",
            "Processing Playlist Title: 11 1 Kings Chapters 01-22 (KJV)\n"
          ]
        },
        {
          "output_type": "stream",
          "name": "stderr",
          "text": [
            "WARNING: [youtube:tab] Incomplete data received. Retrying (1/3)...\n",
            "WARNING: [youtube:tab] Incomplete data received. Retrying (2/3)...\n",
            "WARNING: [youtube:tab] Incomplete data received. Retrying (3/3)...\n",
            "WARNING: [youtube:tab] Incomplete data received. Giving up after 3 retries\n"
          ]
        },
        {
          "output_type": "stream",
          "name": "stdout",
          "text": [
            " 22 of 22 expected chapters\n",
            "Skipping Playlist Title: 11 1 Kings Chapters 01-22 (KJV) (Already has 22 chapters)\n",
            "----------------------------------------\n",
            "Processing Playlist Title: 10 2 Samuel Chapters 01-24 (KJV)\n"
          ]
        },
        {
          "output_type": "stream",
          "name": "stderr",
          "text": [
            "WARNING: [youtube:tab] Incomplete data received. Retrying (1/3)...\n",
            "WARNING: [youtube:tab] Incomplete data received. Retrying (2/3)...\n",
            "WARNING: [youtube:tab] Incomplete data received. Retrying (3/3)...\n",
            "WARNING: [youtube:tab] Incomplete data received. Giving up after 3 retries\n"
          ]
        },
        {
          "output_type": "stream",
          "name": "stdout",
          "text": [
            " 24 of 24 expected chapters\n",
            "Skipping Playlist Title: 10 2 Samuel Chapters 01-24 (KJV) (Already has 24 chapters)\n",
            "----------------------------------------\n",
            "Processing Playlist Title: 09 1 Samuel Chapters 01-31 (KJV)\n"
          ]
        },
        {
          "output_type": "stream",
          "name": "stderr",
          "text": [
            "WARNING: [youtube:tab] Incomplete data received. Retrying (1/3)...\n",
            "WARNING: [youtube:tab] Incomplete data received. Retrying (2/3)...\n",
            "WARNING: [youtube:tab] Incomplete data received. Retrying (3/3)...\n",
            "WARNING: [youtube:tab] Incomplete data received. Giving up after 3 retries\n"
          ]
        },
        {
          "output_type": "stream",
          "name": "stdout",
          "text": [
            " 31 of 31 expected chapters\n",
            "Skipping Playlist Title: 09 1 Samuel Chapters 01-31 (KJV) (Already has 31 chapters)\n",
            "----------------------------------------\n",
            "Processing Playlist Title: 08 Ruth Chapters 01-04 (KJV)\n"
          ]
        },
        {
          "output_type": "stream",
          "name": "stderr",
          "text": [
            "WARNING: [youtube:tab] Incomplete data received. Retrying (1/3)...\n",
            "WARNING: [youtube:tab] Incomplete data received. Retrying (2/3)...\n",
            "WARNING: [youtube:tab] Incomplete data received. Retrying (3/3)...\n",
            "WARNING: [youtube:tab] Incomplete data received. Giving up after 3 retries\n"
          ]
        },
        {
          "output_type": "stream",
          "name": "stdout",
          "text": [
            " 4 of 4 expected chapters\n",
            "Skipping Playlist Title: 08 Ruth Chapters 01-04 (KJV) (Already has 4 chapters)\n",
            "----------------------------------------\n",
            "Processing Playlist Title: 07 Judges Chapters 01-21 (KJV)\n"
          ]
        },
        {
          "output_type": "stream",
          "name": "stderr",
          "text": [
            "WARNING: [youtube:tab] Incomplete data received. Retrying (1/3)...\n",
            "WARNING: [youtube:tab] Incomplete data received. Retrying (2/3)...\n",
            "WARNING: [youtube:tab] Incomplete data received. Retrying (3/3)...\n",
            "WARNING: [youtube:tab] Incomplete data received. Giving up after 3 retries\n"
          ]
        },
        {
          "output_type": "stream",
          "name": "stdout",
          "text": [
            " 21 of 21 expected chapters\n",
            "Skipping Playlist Title: 07 Judges Chapters 01-21 (KJV) (Already has 21 chapters)\n",
            "----------------------------------------\n",
            "Processing Playlist Title: 06 Joshua Chapters 01-24 (KJV)\n"
          ]
        },
        {
          "output_type": "stream",
          "name": "stderr",
          "text": [
            "WARNING: [youtube:tab] Incomplete data received. Retrying (1/3)...\n",
            "WARNING: [youtube:tab] Incomplete data received. Retrying (2/3)...\n",
            "WARNING: [youtube:tab] Incomplete data received. Retrying (3/3)...\n",
            "WARNING: [youtube:tab] Incomplete data received. Giving up after 3 retries\n"
          ]
        },
        {
          "output_type": "stream",
          "name": "stdout",
          "text": [
            " 24 of 24 expected chapters\n",
            "Skipping Playlist Title: 06 Joshua Chapters 01-24 (KJV) (Already has 24 chapters)\n",
            "----------------------------------------\n",
            "Processing Playlist Title: 05 Deuteronomy Chapters 01-34 (KJV)\n"
          ]
        },
        {
          "output_type": "stream",
          "name": "stderr",
          "text": [
            "WARNING: [youtube:tab] Incomplete data received. Retrying (1/3)...\n",
            "WARNING: [youtube:tab] Incomplete data received. Retrying (2/3)...\n",
            "WARNING: [youtube:tab] Incomplete data received. Retrying (3/3)...\n",
            "WARNING: [youtube:tab] Incomplete data received. Giving up after 3 retries\n"
          ]
        },
        {
          "output_type": "stream",
          "name": "stdout",
          "text": [
            " 34 of 34 expected chapters\n",
            "Skipping Playlist Title: 05 Deuteronomy Chapters 01-34 (KJV) (Already has 34 chapters)\n",
            "----------------------------------------\n",
            "Processing Playlist Title: 04 Numbers Chapters 01-36 (KJV)\n"
          ]
        },
        {
          "output_type": "stream",
          "name": "stderr",
          "text": [
            "WARNING: [youtube:tab] YouTube said: INFO - 1 unavailable video is hidden\n",
            "WARNING: [youtube:tab] Incomplete data received. Retrying (1/3)...\n",
            "WARNING: [youtube:tab] Incomplete data received. Retrying (2/3)...\n",
            "WARNING: [youtube:tab] Incomplete data received. Retrying (3/3)...\n",
            "WARNING: [youtube:tab] Incomplete data received. Giving up after 3 retries\n"
          ]
        },
        {
          "output_type": "stream",
          "name": "stdout",
          "text": [
            " 35 of 36 expected chapters\n",
            "Skipping already existing video: The Holy Bible - Numbers Chapter 1 (KJV)\n",
            "Skipping already existing video: The Holy Bible - Numbers Chapter 2 (KJV)\n",
            "Skipping already existing video: The Holy Bible - Numbers Chapter 3 (KJV)\n",
            "Skipping already existing video: The Holy Bible - Numbers Chapter 4 (KJV)\n",
            "Skipping already existing video: The Holy Bible - Numbers Chapter 5 (KJV)\n",
            "Skipping already existing video: The Holy Bible - Numbers Chapter 6 (KJV)\n",
            "Skipping already existing video: The Holy Bible - Numbers Chapter 7 (KJV)\n",
            "Skipping already existing video: The Holy Bible - Numbers Chapter 8 (KJV)\n",
            "Skipping already existing video: The Holy Bible - Numbers Chapter 9 (KJV)\n",
            "Skipping already existing video: The Holy Bible - Numbers Chapter 10 (KJV)\n",
            "Skipping already existing video: The Holy Bible - Numbers Chapter 11 (KJV)\n",
            "Skipping already existing video: The Holy Bible - Numbers Chapter 12 (KJV)\n",
            "Skipping already existing video: The Holy Bible - Numbers Chapter 13 (KJV)\n",
            "Skipping already existing video: The Holy Bible - Numbers Chapter 14 (KJV)\n",
            "Skipping already existing video: The Holy Bible - Numbers Chapter 15 (KJV)\n",
            "Skipping already existing video: The Holy Bible - Numbers Chapter 16 (KJV)\n",
            "Skipping already existing video: The Holy Bible - Numbers Chapter 17 (KJV)\n",
            "Skipping already existing video: The Holy Bible - Numbers Chapter 18 (KJV)\n",
            "Skipping already existing video: The Holy Bible - Numbers Chapter 19 (KJV)\n",
            "Skipping already existing video: The Holy Bible - Numbers Chapter 20 (KJV)\n",
            "Skipping already existing video: The Holy Bible - Numbers Chapter 21 (KJV)\n",
            "Skipping already existing video: The Holy Bible - Numbers Chapter 22 (KJV)\n",
            "Skipping already existing video: The Holy Bible - Numbers Chapter 23 (KJV)\n",
            "Skipping already existing video: The Holy Bible - Numbers Chapter 24 (KJV)\n",
            "Skipping already existing video: The Holy Bible - Numbers Chapter 25 (KJV)\n",
            "Skipping already existing video: The Holy Bible - Numbers Chapter 26 (KJV)\n",
            "Skipping already existing video: The Holy Bible - Numbers Chapter 27 (KJV)\n",
            "Skipping already existing video: The Holy Bible - Numbers Chapter 28 (KJV)\n",
            "[youtube] Extracting URL: https://www.youtube.com/watch?v=BWFgDZAKUBk\n",
            "[youtube] BWFgDZAKUBk: Downloading webpage\n",
            "[youtube] BWFgDZAKUBk: Downloading ios player API JSON\n",
            "[youtube] BWFgDZAKUBk: Downloading web creator player API JSON\n"
          ]
        },
        {
          "output_type": "stream",
          "name": "stderr",
          "text": [
            "ERROR: [youtube] BWFgDZAKUBk: This video has been removed for violating YouTube's policy on repetitive or misleading metadata\n"
          ]
        },
        {
          "output_type": "stream",
          "name": "stdout",
          "text": [
            "Failed to download https://www.youtube.com/watch?v=BWFgDZAKUBk: ERROR: [youtube] BWFgDZAKUBk: This video has been removed for violating YouTube's policy on repetitive or misleading metadata\n",
            "Skipping already existing video: The Holy Bible - Numbers Chapter 30 (KJV)\n",
            "Skipping already existing video: The Holy Bible - Numbers Chapter 31 (KJV)\n",
            "Skipping already existing video: The Holy Bible - Numbers Chapter 32 (KJV)\n",
            "Skipping already existing video: The Holy Bible - Numbers Chapter 33 (KJV)\n",
            "Skipping already existing video: The Holy Bible - Numbers Chapter 34 (KJV)\n",
            "Skipping already existing video: The Holy Bible - Numbers Chapter 35 (KJV)\n",
            "Skipping already existing video: The Holy Bible - Numbers Chapter 36 (KJV)\n",
            "----------------------------------------\n",
            "Processing Playlist Title: 03 Leviticus Chapters 01-27 (KJV)\n"
          ]
        },
        {
          "output_type": "stream",
          "name": "stderr",
          "text": [
            "WARNING: [youtube:tab] Incomplete data received. Retrying (1/3)...\n",
            "WARNING: [youtube:tab] Incomplete data received. Retrying (2/3)...\n",
            "WARNING: [youtube:tab] Incomplete data received. Retrying (3/3)...\n",
            "WARNING: [youtube:tab] Incomplete data received. Giving up after 3 retries\n"
          ]
        },
        {
          "output_type": "stream",
          "name": "stdout",
          "text": [
            " 27 of 27 expected chapters\n",
            "Skipping Playlist Title: 03 Leviticus Chapters 01-27 (KJV) (Already has 27 chapters)\n",
            "----------------------------------------\n",
            "Processing Playlist Title: 02 Exodus Chapters 01-40 (KJV)\n"
          ]
        },
        {
          "output_type": "stream",
          "name": "stderr",
          "text": [
            "WARNING: [youtube:tab] Incomplete data received. Retrying (1/3)...\n",
            "WARNING: [youtube:tab] Incomplete data received. Retrying (2/3)...\n",
            "WARNING: [youtube:tab] Incomplete data received. Retrying (3/3)...\n",
            "WARNING: [youtube:tab] Incomplete data received. Giving up after 3 retries\n"
          ]
        },
        {
          "output_type": "stream",
          "name": "stdout",
          "text": [
            " 40 of 40 expected chapters\n",
            "Skipping Playlist Title: 02 Exodus Chapters 01-40 (KJV) (Already has 40 chapters)\n",
            "----------------------------------------\n",
            "Processing Playlist Title: 01 Genesis Chapters 01-50 (KJV)\n"
          ]
        },
        {
          "output_type": "stream",
          "name": "stderr",
          "text": [
            "WARNING: [youtube:tab] Incomplete data received. Retrying (1/3)...\n",
            "WARNING: [youtube:tab] Incomplete data received. Retrying (2/3)...\n",
            "WARNING: [youtube:tab] Incomplete data received. Retrying (3/3)...\n",
            "WARNING: [youtube:tab] Incomplete data received. Giving up after 3 retries\n"
          ]
        },
        {
          "output_type": "stream",
          "name": "stdout",
          "text": [
            " 50 of 50 expected chapters\n",
            "Skipping Playlist Title: 01 Genesis Chapters 01-50 (KJV) (Already has 50 chapters)\n",
            "----------------------------------------\n",
            "Processing Playlist Title: 27 Daniel Chapters 01-12 (KJV)\n"
          ]
        },
        {
          "output_type": "stream",
          "name": "stderr",
          "text": [
            "WARNING: [youtube:tab] Incomplete data received. Retrying (1/3)...\n",
            "WARNING: [youtube:tab] Incomplete data received. Retrying (2/3)...\n",
            "WARNING: [youtube:tab] Incomplete data received. Retrying (3/3)...\n",
            "WARNING: [youtube:tab] Incomplete data received. Giving up after 3 retries\n"
          ]
        },
        {
          "output_type": "stream",
          "name": "stdout",
          "text": [
            " 12 of 12 expected chapters\n",
            "Skipping Playlist Title: 27 Daniel Chapters 01-12 (KJV) (Already has 12 chapters)\n",
            "----------------------------------------\n",
            "Processing Playlist Title: 29 Joel Chapters 01-03 (KJV)\n"
          ]
        },
        {
          "output_type": "stream",
          "name": "stderr",
          "text": [
            "WARNING: [youtube:tab] Incomplete data received. Retrying (1/3)...\n",
            "WARNING: [youtube:tab] Incomplete data received. Retrying (2/3)...\n",
            "WARNING: [youtube:tab] Incomplete data received. Retrying (3/3)...\n",
            "WARNING: [youtube:tab] Incomplete data received. Giving up after 3 retries\n"
          ]
        },
        {
          "output_type": "stream",
          "name": "stdout",
          "text": [
            " 3 of 3 expected chapters\n",
            "Skipping Playlist Title: 29 Joel Chapters 01-03 (KJV) (Already has 3 chapters)\n",
            "----------------------------------------\n",
            "Ignored Playlist Title: Old Testament\n",
            "Playlist URL: https://www.youtube.com/playlist?list=PLZNQlwBptV_HWNvJTh2DzV4nIXnFWrzwB\n",
            "----------------------------------------\n",
            "Ignored Playlist Title: New Testament\n",
            "Playlist URL: https://www.youtube.com/playlist?list=PLZNQlwBptV_Filw-P8QtXWTe9BCblD0IO\n",
            "----------------------------------------\n",
            "Ignored Playlist Title: Videos\n",
            "Playlist URL: https://www.youtube.com/playlist?list=PLZNQlwBptV_EqjLKRn_cMMrN-RLzCx49u\n",
            "----------------------------------------\n",
            "Skipping existing file: /content/drive/My Drive/bible_audio_processed/Joel/001/kjv/kjv-audio-bible.m4a from /content/drive/My Drive/kjv_audio/29_Joel_Chapters_01-03/The Holy Bible - Joel Chapter 1 (KJV).m4a\n",
            "Skipping existing file: /content/drive/My Drive/bible_audio_processed/Joel/002/kjv/kjv-audio-bible.m4a from /content/drive/My Drive/kjv_audio/29_Joel_Chapters_01-03/The Holy Bible - Joel Chapter 2 (KJV).m4a\n",
            "Skipping existing file: /content/drive/My Drive/bible_audio_processed/Joel/003/kjv/kjv-audio-bible.m4a from /content/drive/My Drive/kjv_audio/29_Joel_Chapters_01-03/The Holy Bible - Joel Chapter 3 (KJV).m4a\n",
            "Skipping existing file: /content/drive/My Drive/bible_audio_processed/Daniel/001/kjv/kjv-audio-bible.m4a from /content/drive/My Drive/kjv_audio/27_Daniel_Chapters_01-12/The Holy Bible - Daniel Chapter 1 (KJV).m4a\n",
            "Skipping existing file: /content/drive/My Drive/bible_audio_processed/Daniel/002/kjv/kjv-audio-bible.m4a from /content/drive/My Drive/kjv_audio/27_Daniel_Chapters_01-12/The Holy Bible - Daniel Chapter 2 (KJV).m4a\n",
            "Skipping existing file: /content/drive/My Drive/bible_audio_processed/Daniel/003/kjv/kjv-audio-bible.m4a from /content/drive/My Drive/kjv_audio/27_Daniel_Chapters_01-12/The Holy Bible - Daniel Chapter 3 (KJV).m4a\n",
            "Skipping existing file: /content/drive/My Drive/bible_audio_processed/Daniel/004/kjv/kjv-audio-bible.m4a from /content/drive/My Drive/kjv_audio/27_Daniel_Chapters_01-12/The Holy Bible - Daniel Chapter 4 (KJV).m4a\n",
            "Skipping existing file: /content/drive/My Drive/bible_audio_processed/Daniel/005/kjv/kjv-audio-bible.m4a from /content/drive/My Drive/kjv_audio/27_Daniel_Chapters_01-12/The Holy Bible - Daniel Chapter 5 (KJV).m4a\n",
            "Skipping existing file: /content/drive/My Drive/bible_audio_processed/Daniel/006/kjv/kjv-audio-bible.m4a from /content/drive/My Drive/kjv_audio/27_Daniel_Chapters_01-12/The Holy Bible - Daniel Chapter 6 (KJV).m4a\n",
            "Skipping existing file: /content/drive/My Drive/bible_audio_processed/Daniel/007/kjv/kjv-audio-bible.m4a from /content/drive/My Drive/kjv_audio/27_Daniel_Chapters_01-12/The Holy Bible - Daniel Chapter 7 (KJV).m4a\n",
            "Skipping existing file: /content/drive/My Drive/bible_audio_processed/Daniel/008/kjv/kjv-audio-bible.m4a from /content/drive/My Drive/kjv_audio/27_Daniel_Chapters_01-12/The Holy Bible - Daniel Chapter 8 (KJV).m4a\n",
            "Skipping existing file: /content/drive/My Drive/bible_audio_processed/Daniel/009/kjv/kjv-audio-bible.m4a from /content/drive/My Drive/kjv_audio/27_Daniel_Chapters_01-12/The Holy Bible - Daniel Chapter 9 (KJV).m4a\n",
            "Skipping existing file: /content/drive/My Drive/bible_audio_processed/Daniel/010/kjv/kjv-audio-bible.m4a from /content/drive/My Drive/kjv_audio/27_Daniel_Chapters_01-12/The Holy Bible - Daniel Chapter 10 (KJV).m4a\n",
            "Skipping existing file: /content/drive/My Drive/bible_audio_processed/Daniel/011/kjv/kjv-audio-bible.m4a from /content/drive/My Drive/kjv_audio/27_Daniel_Chapters_01-12/The Holy Bible - Daniel Chapter 11 (KJV).m4a\n",
            "Skipping existing file: /content/drive/My Drive/bible_audio_processed/Daniel/012/kjv/kjv-audio-bible.m4a from /content/drive/My Drive/kjv_audio/27_Daniel_Chapters_01-12/The Holy Bible - Daniel Chapter 12 (KJV).m4a\n",
            "Skipping existing file: /content/drive/My Drive/bible_audio_processed/Genesis/001/kjv/kjv-audio-bible.webm from /content/drive/My Drive/kjv_audio/01_Genesis_Chapters_01-50/The Holy Bible - Genesis Chapter 1 (KJV).webm\n",
            "Skipping existing file: /content/drive/My Drive/bible_audio_processed/Genesis/003/kjv/kjv-audio-bible.webm from /content/drive/My Drive/kjv_audio/01_Genesis_Chapters_01-50/The Holy Bible - Genesis Chapter 3 (KJV).webm\n",
            "Skipping existing file: /content/drive/My Drive/bible_audio_processed/Genesis/002/kjv/kjv-audio-bible.webm from /content/drive/My Drive/kjv_audio/01_Genesis_Chapters_01-50/The Holy Bible - Genesis Chapter 2 (KJV).webm\n",
            "Skipping existing file: /content/drive/My Drive/bible_audio_processed/Genesis/004/kjv/kjv-audio-bible.m4a from /content/drive/My Drive/kjv_audio/01_Genesis_Chapters_01-50/The Holy Bible - Genesis Chapter 4 (KJV).m4a\n",
            "Skipping existing file: /content/drive/My Drive/bible_audio_processed/Genesis/005/kjv/kjv-audio-bible.m4a from /content/drive/My Drive/kjv_audio/01_Genesis_Chapters_01-50/The Holy Bible - Genesis Chapter 5 (KJV).m4a\n",
            "Skipping existing file: /content/drive/My Drive/bible_audio_processed/Genesis/006/kjv/kjv-audio-bible.m4a from /content/drive/My Drive/kjv_audio/01_Genesis_Chapters_01-50/The Holy Bible - Genesis Chapter 6 (KJV).m4a\n",
            "Skipping existing file: /content/drive/My Drive/bible_audio_processed/Genesis/007/kjv/kjv-audio-bible.m4a from /content/drive/My Drive/kjv_audio/01_Genesis_Chapters_01-50/The Holy Bible - Genesis Chapter 7 (KJV).m4a\n",
            "Skipping existing file: /content/drive/My Drive/bible_audio_processed/Genesis/008/kjv/kjv-audio-bible.m4a from /content/drive/My Drive/kjv_audio/01_Genesis_Chapters_01-50/The Holy Bible - Genesis Chapter 8 (KJV).m4a\n",
            "Skipping existing file: /content/drive/My Drive/bible_audio_processed/Genesis/009/kjv/kjv-audio-bible.m4a from /content/drive/My Drive/kjv_audio/01_Genesis_Chapters_01-50/The Holy Bible - Genesis Chapter 9 (KJV).m4a\n",
            "Skipping existing file: /content/drive/My Drive/bible_audio_processed/Genesis/010/kjv/kjv-audio-bible.m4a from /content/drive/My Drive/kjv_audio/01_Genesis_Chapters_01-50/The Holy Bible - Genesis Chapter 10 (KJV).m4a\n",
            "Skipping existing file: /content/drive/My Drive/bible_audio_processed/Genesis/011/kjv/kjv-audio-bible.m4a from /content/drive/My Drive/kjv_audio/01_Genesis_Chapters_01-50/The Holy Bible - Genesis Chapter 11 (KJV).m4a\n",
            "Skipping existing file: /content/drive/My Drive/bible_audio_processed/Genesis/012/kjv/kjv-audio-bible.m4a from /content/drive/My Drive/kjv_audio/01_Genesis_Chapters_01-50/The Holy Bible - Genesis Chapter 12 (KJV).m4a\n",
            "Skipping existing file: /content/drive/My Drive/bible_audio_processed/Genesis/013/kjv/kjv-audio-bible.m4a from /content/drive/My Drive/kjv_audio/01_Genesis_Chapters_01-50/The Holy Bible - Genesis Chapter 13 (KJV).m4a\n",
            "Skipping existing file: /content/drive/My Drive/bible_audio_processed/Genesis/014/kjv/kjv-audio-bible.m4a from /content/drive/My Drive/kjv_audio/01_Genesis_Chapters_01-50/The Holy Bible - Genesis Chapter 14 (KJV).m4a\n",
            "Skipping existing file: /content/drive/My Drive/bible_audio_processed/Genesis/015/kjv/kjv-audio-bible.m4a from /content/drive/My Drive/kjv_audio/01_Genesis_Chapters_01-50/The Holy Bible - Genesis Chapter 15 (KJV).m4a\n",
            "Skipping existing file: /content/drive/My Drive/bible_audio_processed/Genesis/016/kjv/kjv-audio-bible.m4a from /content/drive/My Drive/kjv_audio/01_Genesis_Chapters_01-50/The Holy Bible - Genesis Chapter 16 (KJV).m4a\n",
            "Skipping existing file: /content/drive/My Drive/bible_audio_processed/Genesis/017/kjv/kjv-audio-bible.m4a from /content/drive/My Drive/kjv_audio/01_Genesis_Chapters_01-50/The Holy Bible - Genesis Chapter 17 (KJV).m4a\n",
            "Skipping existing file: /content/drive/My Drive/bible_audio_processed/Genesis/018/kjv/kjv-audio-bible.m4a from /content/drive/My Drive/kjv_audio/01_Genesis_Chapters_01-50/The Holy Bible - Genesis Chapter 18 (KJV).m4a\n",
            "Skipping existing file: /content/drive/My Drive/bible_audio_processed/Genesis/019/kjv/kjv-audio-bible.m4a from /content/drive/My Drive/kjv_audio/01_Genesis_Chapters_01-50/The Holy Bible - Genesis Chapter 19 (KJV).m4a\n",
            "Skipping existing file: /content/drive/My Drive/bible_audio_processed/Genesis/020/kjv/kjv-audio-bible.m4a from /content/drive/My Drive/kjv_audio/01_Genesis_Chapters_01-50/The Holy Bible - Genesis Chapter 20 (KJV).m4a\n",
            "Skipping existing file: /content/drive/My Drive/bible_audio_processed/Genesis/021/kjv/kjv-audio-bible.m4a from /content/drive/My Drive/kjv_audio/01_Genesis_Chapters_01-50/The Holy Bible - Genesis Chapter 21 (KJV).m4a\n",
            "Skipping existing file: /content/drive/My Drive/bible_audio_processed/Genesis/022/kjv/kjv-audio-bible.m4a from /content/drive/My Drive/kjv_audio/01_Genesis_Chapters_01-50/The Holy Bible - Genesis Chapter 22 (KJV).m4a\n",
            "Skipping existing file: /content/drive/My Drive/bible_audio_processed/Genesis/023/kjv/kjv-audio-bible.m4a from /content/drive/My Drive/kjv_audio/01_Genesis_Chapters_01-50/The Holy Bible - Genesis Chapter 23 (KJV).m4a\n",
            "Skipping existing file: /content/drive/My Drive/bible_audio_processed/Genesis/024/kjv/kjv-audio-bible.m4a from /content/drive/My Drive/kjv_audio/01_Genesis_Chapters_01-50/The Holy Bible - Genesis Chapter 24 (KJV).m4a\n",
            "Skipping existing file: /content/drive/My Drive/bible_audio_processed/Genesis/025/kjv/kjv-audio-bible.m4a from /content/drive/My Drive/kjv_audio/01_Genesis_Chapters_01-50/The Holy Bible - Genesis Chapter 25 (KJV).m4a\n",
            "Skipping existing file: /content/drive/My Drive/bible_audio_processed/Genesis/026/kjv/kjv-audio-bible.m4a from /content/drive/My Drive/kjv_audio/01_Genesis_Chapters_01-50/The Holy Bible - Genesis Chapter 26 (KJV).m4a\n",
            "Skipping existing file: /content/drive/My Drive/bible_audio_processed/Genesis/027/kjv/kjv-audio-bible.m4a from /content/drive/My Drive/kjv_audio/01_Genesis_Chapters_01-50/The Holy Bible - Genesis Chapter 27 (KJV).m4a\n",
            "Skipping existing file: /content/drive/My Drive/bible_audio_processed/Genesis/028/kjv/kjv-audio-bible.m4a from /content/drive/My Drive/kjv_audio/01_Genesis_Chapters_01-50/The Holy Bible - Genesis Chapter 28 (KJV).m4a\n",
            "Skipping existing file: /content/drive/My Drive/bible_audio_processed/Genesis/029/kjv/kjv-audio-bible.m4a from /content/drive/My Drive/kjv_audio/01_Genesis_Chapters_01-50/The Holy Bible - Genesis Chapter 29 (KJV).m4a\n",
            "Skipping existing file: /content/drive/My Drive/bible_audio_processed/Genesis/030/kjv/kjv-audio-bible.m4a from /content/drive/My Drive/kjv_audio/01_Genesis_Chapters_01-50/The Holy Bible - Genesis Chapter 30 (KJV).m4a\n",
            "Skipping existing file: /content/drive/My Drive/bible_audio_processed/Genesis/031/kjv/kjv-audio-bible.m4a from /content/drive/My Drive/kjv_audio/01_Genesis_Chapters_01-50/The Holy Bible - Genesis Chapter 31 (KJV).m4a\n",
            "Skipping existing file: /content/drive/My Drive/bible_audio_processed/Genesis/032/kjv/kjv-audio-bible.m4a from /content/drive/My Drive/kjv_audio/01_Genesis_Chapters_01-50/The Holy Bible - Genesis Chapter 32 (KJV).m4a\n",
            "Skipping existing file: /content/drive/My Drive/bible_audio_processed/Genesis/033/kjv/kjv-audio-bible.m4a from /content/drive/My Drive/kjv_audio/01_Genesis_Chapters_01-50/The Holy Bible - Genesis Chapter 33 (KJV).m4a\n",
            "Skipping existing file: /content/drive/My Drive/bible_audio_processed/Genesis/034/kjv/kjv-audio-bible.m4a from /content/drive/My Drive/kjv_audio/01_Genesis_Chapters_01-50/The Holy Bible - Genesis Chapter 34 (KJV).m4a\n",
            "Skipping existing file: /content/drive/My Drive/bible_audio_processed/Genesis/035/kjv/kjv-audio-bible.m4a from /content/drive/My Drive/kjv_audio/01_Genesis_Chapters_01-50/The Holy Bible - Genesis Chapter 35 (KJV).m4a\n",
            "Skipping existing file: /content/drive/My Drive/bible_audio_processed/Genesis/036/kjv/kjv-audio-bible.m4a from /content/drive/My Drive/kjv_audio/01_Genesis_Chapters_01-50/The Holy Bible - Genesis Chapter 36 (KJV).m4a\n",
            "Skipping existing file: /content/drive/My Drive/bible_audio_processed/Genesis/037/kjv/kjv-audio-bible.m4a from /content/drive/My Drive/kjv_audio/01_Genesis_Chapters_01-50/The Holy Bible - Genesis Chapter 37 (KJV).m4a\n",
            "Skipping existing file: /content/drive/My Drive/bible_audio_processed/Genesis/038/kjv/kjv-audio-bible.m4a from /content/drive/My Drive/kjv_audio/01_Genesis_Chapters_01-50/The Holy Bible - Genesis Chapter 38 (KJV).m4a\n",
            "Skipping existing file: /content/drive/My Drive/bible_audio_processed/Genesis/039/kjv/kjv-audio-bible.m4a from /content/drive/My Drive/kjv_audio/01_Genesis_Chapters_01-50/The Holy Bible - Genesis Chapter 39 (KJV).m4a\n",
            "Skipping existing file: /content/drive/My Drive/bible_audio_processed/Genesis/040/kjv/kjv-audio-bible.m4a from /content/drive/My Drive/kjv_audio/01_Genesis_Chapters_01-50/The Holy Bible - Genesis Chapter 40 (KJV).m4a\n",
            "Skipping existing file: /content/drive/My Drive/bible_audio_processed/Genesis/041/kjv/kjv-audio-bible.m4a from /content/drive/My Drive/kjv_audio/01_Genesis_Chapters_01-50/The Holy Bible - Genesis Chapter 41 (KJV).m4a\n",
            "Skipping existing file: /content/drive/My Drive/bible_audio_processed/Genesis/042/kjv/kjv-audio-bible.m4a from /content/drive/My Drive/kjv_audio/01_Genesis_Chapters_01-50/The Holy Bible - Genesis Chapter 42 (KJV).m4a\n",
            "Skipping existing file: /content/drive/My Drive/bible_audio_processed/Genesis/043/kjv/kjv-audio-bible.m4a from /content/drive/My Drive/kjv_audio/01_Genesis_Chapters_01-50/The Holy Bible - Genesis Chapter 43 (KJV).m4a\n",
            "Skipping existing file: /content/drive/My Drive/bible_audio_processed/Genesis/044/kjv/kjv-audio-bible.m4a from /content/drive/My Drive/kjv_audio/01_Genesis_Chapters_01-50/The Holy Bible - Genesis Chapter 44 (KJV).m4a\n",
            "Skipping existing file: /content/drive/My Drive/bible_audio_processed/Genesis/045/kjv/kjv-audio-bible.m4a from /content/drive/My Drive/kjv_audio/01_Genesis_Chapters_01-50/The Holy Bible - Genesis Chapter 45 (KJV).m4a\n",
            "Skipping existing file: /content/drive/My Drive/bible_audio_processed/Genesis/046/kjv/kjv-audio-bible.m4a from /content/drive/My Drive/kjv_audio/01_Genesis_Chapters_01-50/The Holy Bible - Genesis Chapter 46 (KJV).m4a\n",
            "Skipping existing file: /content/drive/My Drive/bible_audio_processed/Genesis/047/kjv/kjv-audio-bible.m4a from /content/drive/My Drive/kjv_audio/01_Genesis_Chapters_01-50/The Holy Bible - Genesis Chapter 47 (KJV).m4a\n",
            "Skipping existing file: /content/drive/My Drive/bible_audio_processed/Genesis/048/kjv/kjv-audio-bible.m4a from /content/drive/My Drive/kjv_audio/01_Genesis_Chapters_01-50/The Holy Bible - Genesis Chapter 48 (KJV).m4a\n",
            "Skipping existing file: /content/drive/My Drive/bible_audio_processed/Genesis/049/kjv/kjv-audio-bible.m4a from /content/drive/My Drive/kjv_audio/01_Genesis_Chapters_01-50/The Holy Bible - Genesis Chapter 49 (KJV).m4a\n",
            "Skipping existing file: /content/drive/My Drive/bible_audio_processed/Genesis/050/kjv/kjv-audio-bible.m4a from /content/drive/My Drive/kjv_audio/01_Genesis_Chapters_01-50/The Holy Bible - Genesis Chapter 50 (KJV).m4a\n",
            "Skipping existing file: /content/drive/My Drive/bible_audio_processed/Exodus/001/kjv/kjv-audio-bible.m4a from /content/drive/My Drive/kjv_audio/02_Exodus_Chapters_01-40/The Holy Bible - Exodus Chapter 1 (KJV).m4a\n",
            "Skipping existing file: /content/drive/My Drive/bible_audio_processed/Exodus/002/kjv/kjv-audio-bible.m4a from /content/drive/My Drive/kjv_audio/02_Exodus_Chapters_01-40/The Holy Bible - Exodus Chapter 2 (KJV).m4a\n",
            "Skipping existing file: /content/drive/My Drive/bible_audio_processed/Exodus/003/kjv/kjv-audio-bible.m4a from /content/drive/My Drive/kjv_audio/02_Exodus_Chapters_01-40/The Holy Bible - Exodus Chapter 3 (KJV).m4a\n",
            "Skipping existing file: /content/drive/My Drive/bible_audio_processed/Exodus/004/kjv/kjv-audio-bible.m4a from /content/drive/My Drive/kjv_audio/02_Exodus_Chapters_01-40/The Holy Bible - Exodus Chapter 4 (KJV).m4a\n",
            "Skipping existing file: /content/drive/My Drive/bible_audio_processed/Exodus/005/kjv/kjv-audio-bible.m4a from /content/drive/My Drive/kjv_audio/02_Exodus_Chapters_01-40/The Holy Bible - Exodus Chapter 5 (KJV).m4a\n",
            "Skipping existing file: /content/drive/My Drive/bible_audio_processed/Exodus/006/kjv/kjv-audio-bible.m4a from /content/drive/My Drive/kjv_audio/02_Exodus_Chapters_01-40/The Holy Bible - Exodus Chapter 6 (KJV).m4a\n",
            "Skipping existing file: /content/drive/My Drive/bible_audio_processed/Exodus/007/kjv/kjv-audio-bible.m4a from /content/drive/My Drive/kjv_audio/02_Exodus_Chapters_01-40/The Holy Bible - Exodus Chapter 7 (KJV).m4a\n",
            "Skipping existing file: /content/drive/My Drive/bible_audio_processed/Exodus/008/kjv/kjv-audio-bible.m4a from /content/drive/My Drive/kjv_audio/02_Exodus_Chapters_01-40/The Holy Bible - Exodus Chapter 8 (KJV).m4a\n",
            "Skipping existing file: /content/drive/My Drive/bible_audio_processed/Exodus/009/kjv/kjv-audio-bible.m4a from /content/drive/My Drive/kjv_audio/02_Exodus_Chapters_01-40/The Holy Bible - Exodus Chapter 9 (KJV).m4a\n",
            "Skipping existing file: /content/drive/My Drive/bible_audio_processed/Exodus/010/kjv/kjv-audio-bible.m4a from /content/drive/My Drive/kjv_audio/02_Exodus_Chapters_01-40/The Holy Bible - Exodus Chapter 10 (KJV).m4a\n",
            "Skipping existing file: /content/drive/My Drive/bible_audio_processed/Exodus/011/kjv/kjv-audio-bible.m4a from /content/drive/My Drive/kjv_audio/02_Exodus_Chapters_01-40/The Holy Bible - Exodus Chapter 11 (KJV).m4a\n",
            "Skipping existing file: /content/drive/My Drive/bible_audio_processed/Exodus/012/kjv/kjv-audio-bible.m4a from /content/drive/My Drive/kjv_audio/02_Exodus_Chapters_01-40/The Holy Bible - Exodus Chapter 12 (KJV).m4a\n",
            "Skipping existing file: /content/drive/My Drive/bible_audio_processed/Exodus/013/kjv/kjv-audio-bible.m4a from /content/drive/My Drive/kjv_audio/02_Exodus_Chapters_01-40/The Holy Bible - Exodus Chapter 13 (KJV).m4a\n",
            "Skipping existing file: /content/drive/My Drive/bible_audio_processed/Exodus/014/kjv/kjv-audio-bible.m4a from /content/drive/My Drive/kjv_audio/02_Exodus_Chapters_01-40/The Holy Bible - Exodus Chapter 14 (KJV).m4a\n",
            "Skipping existing file: /content/drive/My Drive/bible_audio_processed/Exodus/015/kjv/kjv-audio-bible.m4a from /content/drive/My Drive/kjv_audio/02_Exodus_Chapters_01-40/The Holy Bible - Exodus Chapter 15 (KJV).m4a\n",
            "Skipping existing file: /content/drive/My Drive/bible_audio_processed/Exodus/016/kjv/kjv-audio-bible.m4a from /content/drive/My Drive/kjv_audio/02_Exodus_Chapters_01-40/The Holy Bible - Exodus Chapter 16 (KJV).m4a\n",
            "Skipping existing file: /content/drive/My Drive/bible_audio_processed/Exodus/017/kjv/kjv-audio-bible.m4a from /content/drive/My Drive/kjv_audio/02_Exodus_Chapters_01-40/The Holy Bible - Exodus Chapter 17 (KJV).m4a\n",
            "Skipping existing file: /content/drive/My Drive/bible_audio_processed/Exodus/018/kjv/kjv-audio-bible.m4a from /content/drive/My Drive/kjv_audio/02_Exodus_Chapters_01-40/The Holy Bible - Exodus Chapter 18 (KJV).m4a\n",
            "Skipping existing file: /content/drive/My Drive/bible_audio_processed/Exodus/019/kjv/kjv-audio-bible.m4a from /content/drive/My Drive/kjv_audio/02_Exodus_Chapters_01-40/The Holy Bible - Exodus Chapter 19 (KJV).m4a\n",
            "Skipping existing file: /content/drive/My Drive/bible_audio_processed/Exodus/020/kjv/kjv-audio-bible.m4a from /content/drive/My Drive/kjv_audio/02_Exodus_Chapters_01-40/The Holy Bible - Exodus Chapter 20 (KJV).m4a\n",
            "Skipping existing file: /content/drive/My Drive/bible_audio_processed/Exodus/021/kjv/kjv-audio-bible.m4a from /content/drive/My Drive/kjv_audio/02_Exodus_Chapters_01-40/The Holy Bible - Exodus Chapter 21 (KJV).m4a\n",
            "Skipping existing file: /content/drive/My Drive/bible_audio_processed/Exodus/022/kjv/kjv-audio-bible.m4a from /content/drive/My Drive/kjv_audio/02_Exodus_Chapters_01-40/The Holy Bible - Exodus Chapter 22 (KJV).m4a\n",
            "Skipping existing file: /content/drive/My Drive/bible_audio_processed/Exodus/023/kjv/kjv-audio-bible.m4a from /content/drive/My Drive/kjv_audio/02_Exodus_Chapters_01-40/The Holy Bible - Exodus Chapter 23 (KJV).m4a\n",
            "Skipping existing file: /content/drive/My Drive/bible_audio_processed/Exodus/024/kjv/kjv-audio-bible.m4a from /content/drive/My Drive/kjv_audio/02_Exodus_Chapters_01-40/The Holy Bible - Exodus Chapter 24 (KJV).m4a\n",
            "Skipping existing file: /content/drive/My Drive/bible_audio_processed/Exodus/025/kjv/kjv-audio-bible.m4a from /content/drive/My Drive/kjv_audio/02_Exodus_Chapters_01-40/The Holy Bible - Exodus Chapter 25 (KJV).m4a\n",
            "Skipping existing file: /content/drive/My Drive/bible_audio_processed/Exodus/026/kjv/kjv-audio-bible.m4a from /content/drive/My Drive/kjv_audio/02_Exodus_Chapters_01-40/The Holy Bible - Exodus Chapter 26 (KJV).m4a\n",
            "Skipping existing file: /content/drive/My Drive/bible_audio_processed/Exodus/027/kjv/kjv-audio-bible.m4a from /content/drive/My Drive/kjv_audio/02_Exodus_Chapters_01-40/The Holy Bible - Exodus Chapter 27 (KJV).m4a\n",
            "Skipping existing file: /content/drive/My Drive/bible_audio_processed/Exodus/028/kjv/kjv-audio-bible.m4a from /content/drive/My Drive/kjv_audio/02_Exodus_Chapters_01-40/The Holy Bible - Exodus Chapter 28 (KJV).m4a\n",
            "Skipping existing file: /content/drive/My Drive/bible_audio_processed/Exodus/029/kjv/kjv-audio-bible.m4a from /content/drive/My Drive/kjv_audio/02_Exodus_Chapters_01-40/The Holy Bible - Exodus Chapter 29 (KJV).m4a\n",
            "Skipping existing file: /content/drive/My Drive/bible_audio_processed/Exodus/030/kjv/kjv-audio-bible.m4a from /content/drive/My Drive/kjv_audio/02_Exodus_Chapters_01-40/The Holy Bible - Exodus Chapter 30 (KJV).m4a\n",
            "Skipping existing file: /content/drive/My Drive/bible_audio_processed/Exodus/031/kjv/kjv-audio-bible.m4a from /content/drive/My Drive/kjv_audio/02_Exodus_Chapters_01-40/The Holy Bible - Exodus Chapter 31 (KJV).m4a\n",
            "Skipping existing file: /content/drive/My Drive/bible_audio_processed/Exodus/032/kjv/kjv-audio-bible.m4a from /content/drive/My Drive/kjv_audio/02_Exodus_Chapters_01-40/The Holy Bible - Exodus Chapter 32 (KJV).m4a\n",
            "Skipping existing file: /content/drive/My Drive/bible_audio_processed/Exodus/033/kjv/kjv-audio-bible.m4a from /content/drive/My Drive/kjv_audio/02_Exodus_Chapters_01-40/The Holy Bible - Exodus Chapter 33 (KJV).m4a\n",
            "Skipping existing file: /content/drive/My Drive/bible_audio_processed/Exodus/034/kjv/kjv-audio-bible.m4a from /content/drive/My Drive/kjv_audio/02_Exodus_Chapters_01-40/The Holy Bible - Exodus Chapter 34 (KJV).m4a\n",
            "Skipping existing file: /content/drive/My Drive/bible_audio_processed/Exodus/035/kjv/kjv-audio-bible.m4a from /content/drive/My Drive/kjv_audio/02_Exodus_Chapters_01-40/The Holy Bible - Exodus Chapter 35 (KJV).m4a\n",
            "Skipping existing file: /content/drive/My Drive/bible_audio_processed/Exodus/036/kjv/kjv-audio-bible.m4a from /content/drive/My Drive/kjv_audio/02_Exodus_Chapters_01-40/The Holy Bible - Exodus Chapter 36 (KJV).m4a\n",
            "Skipping existing file: /content/drive/My Drive/bible_audio_processed/Exodus/037/kjv/kjv-audio-bible.m4a from /content/drive/My Drive/kjv_audio/02_Exodus_Chapters_01-40/The Holy Bible - Exodus Chapter 37 (KJV).m4a\n",
            "Skipping existing file: /content/drive/My Drive/bible_audio_processed/Exodus/038/kjv/kjv-audio-bible.m4a from /content/drive/My Drive/kjv_audio/02_Exodus_Chapters_01-40/The Holy Bible - Exodus Chapter 38 (KJV).m4a\n",
            "Skipping existing file: /content/drive/My Drive/bible_audio_processed/Exodus/039/kjv/kjv-audio-bible.m4a from /content/drive/My Drive/kjv_audio/02_Exodus_Chapters_01-40/The Holy Bible - Exodus Chapter 39 (KJV).m4a\n",
            "Skipping existing file: /content/drive/My Drive/bible_audio_processed/Exodus/040/kjv/kjv-audio-bible.m4a from /content/drive/My Drive/kjv_audio/02_Exodus_Chapters_01-40/The Holy Bible - Exodus Chapter 40 (KJV).m4a\n",
            "Skipping existing file: /content/drive/My Drive/bible_audio_processed/Leviticus/001/kjv/kjv-audio-bible.m4a from /content/drive/My Drive/kjv_audio/03_Leviticus_Chapters_01-27/The Holy Bible - Leviticus Chapter 1 (KJV).m4a\n",
            "Skipping existing file: /content/drive/My Drive/bible_audio_processed/Leviticus/002/kjv/kjv-audio-bible.m4a from /content/drive/My Drive/kjv_audio/03_Leviticus_Chapters_01-27/The Holy Bible - Leviticus Chapter 2 (KJV).m4a\n",
            "Skipping existing file: /content/drive/My Drive/bible_audio_processed/Leviticus/003/kjv/kjv-audio-bible.m4a from /content/drive/My Drive/kjv_audio/03_Leviticus_Chapters_01-27/The Holy Bible - Leviticus Chapter 3 (KJV).m4a\n",
            "Skipping existing file: /content/drive/My Drive/bible_audio_processed/Leviticus/004/kjv/kjv-audio-bible.m4a from /content/drive/My Drive/kjv_audio/03_Leviticus_Chapters_01-27/The Holy Bible - Leviticus Chapter 4 (KJV).m4a\n",
            "Skipping existing file: /content/drive/My Drive/bible_audio_processed/Leviticus/005/kjv/kjv-audio-bible.m4a from /content/drive/My Drive/kjv_audio/03_Leviticus_Chapters_01-27/The Holy Bible - Leviticus Chapter 5 (KJV).m4a\n",
            "Skipping existing file: /content/drive/My Drive/bible_audio_processed/Leviticus/006/kjv/kjv-audio-bible.m4a from /content/drive/My Drive/kjv_audio/03_Leviticus_Chapters_01-27/The Holy Bible - Leviticus Chapter 6 (KJV).m4a\n",
            "Skipping existing file: /content/drive/My Drive/bible_audio_processed/Leviticus/007/kjv/kjv-audio-bible.m4a from /content/drive/My Drive/kjv_audio/03_Leviticus_Chapters_01-27/The Holy Bible - Leviticus Chapter 7 (KJV).m4a\n",
            "Skipping existing file: /content/drive/My Drive/bible_audio_processed/Leviticus/008/kjv/kjv-audio-bible.m4a from /content/drive/My Drive/kjv_audio/03_Leviticus_Chapters_01-27/The Holy Bible - Leviticus Chapter 8 (KJV).m4a\n",
            "Skipping existing file: /content/drive/My Drive/bible_audio_processed/Leviticus/009/kjv/kjv-audio-bible.m4a from /content/drive/My Drive/kjv_audio/03_Leviticus_Chapters_01-27/The Holy Bible - Leviticus Chapter 9 (KJV).m4a\n",
            "Skipping existing file: /content/drive/My Drive/bible_audio_processed/Leviticus/010/kjv/kjv-audio-bible.m4a from /content/drive/My Drive/kjv_audio/03_Leviticus_Chapters_01-27/The Holy Bible - Leviticus Chapter 10 (KJV).m4a\n",
            "Skipping existing file: /content/drive/My Drive/bible_audio_processed/Leviticus/011/kjv/kjv-audio-bible.m4a from /content/drive/My Drive/kjv_audio/03_Leviticus_Chapters_01-27/The Holy Bible - Leviticus Chapter 11 (KJV).m4a\n",
            "Skipping existing file: /content/drive/My Drive/bible_audio_processed/Leviticus/012/kjv/kjv-audio-bible.m4a from /content/drive/My Drive/kjv_audio/03_Leviticus_Chapters_01-27/The Holy Bible - Leviticus Chapter 12 (KJV).m4a\n",
            "Skipping existing file: /content/drive/My Drive/bible_audio_processed/Leviticus/013/kjv/kjv-audio-bible.m4a from /content/drive/My Drive/kjv_audio/03_Leviticus_Chapters_01-27/The Holy Bible - Leviticus Chapter 13 (KJV).m4a\n",
            "Skipping existing file: /content/drive/My Drive/bible_audio_processed/Leviticus/014/kjv/kjv-audio-bible.m4a from /content/drive/My Drive/kjv_audio/03_Leviticus_Chapters_01-27/The Holy Bible - Leviticus Chapter 14 (KJV).m4a\n",
            "Skipping existing file: /content/drive/My Drive/bible_audio_processed/Leviticus/015/kjv/kjv-audio-bible.m4a from /content/drive/My Drive/kjv_audio/03_Leviticus_Chapters_01-27/The Holy Bible - Leviticus Chapter 15 (KJV).m4a\n",
            "Skipping existing file: /content/drive/My Drive/bible_audio_processed/Leviticus/016/kjv/kjv-audio-bible.m4a from /content/drive/My Drive/kjv_audio/03_Leviticus_Chapters_01-27/The Holy Bible - Leviticus Chapter 16 (KJV).m4a\n",
            "Skipping existing file: /content/drive/My Drive/bible_audio_processed/Leviticus/017/kjv/kjv-audio-bible.m4a from /content/drive/My Drive/kjv_audio/03_Leviticus_Chapters_01-27/The Holy Bible - Leviticus Chapter 17 (KJV).m4a\n",
            "Skipping existing file: /content/drive/My Drive/bible_audio_processed/Leviticus/018/kjv/kjv-audio-bible.m4a from /content/drive/My Drive/kjv_audio/03_Leviticus_Chapters_01-27/The Holy Bible - Leviticus Chapter 18 (KJV).m4a\n",
            "Skipping existing file: /content/drive/My Drive/bible_audio_processed/Leviticus/019/kjv/kjv-audio-bible.m4a from /content/drive/My Drive/kjv_audio/03_Leviticus_Chapters_01-27/The Holy Bible - Leviticus Chapter 19 (KJV).m4a\n",
            "Skipping existing file: /content/drive/My Drive/bible_audio_processed/Leviticus/020/kjv/kjv-audio-bible.m4a from /content/drive/My Drive/kjv_audio/03_Leviticus_Chapters_01-27/The Holy Bible - Leviticus Chapter 20 (KJV).m4a\n",
            "Skipping existing file: /content/drive/My Drive/bible_audio_processed/Leviticus/021/kjv/kjv-audio-bible.m4a from /content/drive/My Drive/kjv_audio/03_Leviticus_Chapters_01-27/The Holy Bible - Leviticus Chapter 21 (KJV).m4a\n",
            "Skipping existing file: /content/drive/My Drive/bible_audio_processed/Leviticus/022/kjv/kjv-audio-bible.m4a from /content/drive/My Drive/kjv_audio/03_Leviticus_Chapters_01-27/The Holy Bible - Leviticus Chapter 22 (KJV).m4a\n",
            "Skipping existing file: /content/drive/My Drive/bible_audio_processed/Leviticus/023/kjv/kjv-audio-bible.m4a from /content/drive/My Drive/kjv_audio/03_Leviticus_Chapters_01-27/The Holy Bible - Leviticus Chapter 23 (KJV).m4a\n",
            "Skipping existing file: /content/drive/My Drive/bible_audio_processed/Leviticus/024/kjv/kjv-audio-bible.m4a from /content/drive/My Drive/kjv_audio/03_Leviticus_Chapters_01-27/The Holy Bible - Leviticus Chapter 24 (KJV).m4a\n",
            "Skipping existing file: /content/drive/My Drive/bible_audio_processed/Leviticus/025/kjv/kjv-audio-bible.m4a from /content/drive/My Drive/kjv_audio/03_Leviticus_Chapters_01-27/The Holy Bible - Leviticus Chapter 25 (KJV).m4a\n",
            "Skipping existing file: /content/drive/My Drive/bible_audio_processed/Leviticus/026/kjv/kjv-audio-bible.m4a from /content/drive/My Drive/kjv_audio/03_Leviticus_Chapters_01-27/The Holy Bible - Leviticus Chapter 26 (KJV).m4a\n",
            "Skipping existing file: /content/drive/My Drive/bible_audio_processed/Leviticus/027/kjv/kjv-audio-bible.m4a from /content/drive/My Drive/kjv_audio/03_Leviticus_Chapters_01-27/The Holy Bible - Leviticus Chapter 27 (KJV).m4a\n",
            "Skipping existing file: /content/drive/My Drive/bible_audio_processed/Numbers/001/kjv/kjv-audio-bible.m4a from /content/drive/My Drive/kjv_audio/04_Numbers_Chapters_01-36/The Holy Bible - Numbers Chapter 1 (KJV).m4a\n",
            "Skipping existing file: /content/drive/My Drive/bible_audio_processed/Numbers/002/kjv/kjv-audio-bible.m4a from /content/drive/My Drive/kjv_audio/04_Numbers_Chapters_01-36/The Holy Bible - Numbers Chapter 2 (KJV).m4a\n",
            "Skipping existing file: /content/drive/My Drive/bible_audio_processed/Numbers/003/kjv/kjv-audio-bible.m4a from /content/drive/My Drive/kjv_audio/04_Numbers_Chapters_01-36/The Holy Bible - Numbers Chapter 3 (KJV).m4a\n",
            "Skipping existing file: /content/drive/My Drive/bible_audio_processed/Numbers/004/kjv/kjv-audio-bible.m4a from /content/drive/My Drive/kjv_audio/04_Numbers_Chapters_01-36/The Holy Bible - Numbers Chapter 4 (KJV).m4a\n",
            "Skipping existing file: /content/drive/My Drive/bible_audio_processed/Numbers/005/kjv/kjv-audio-bible.m4a from /content/drive/My Drive/kjv_audio/04_Numbers_Chapters_01-36/The Holy Bible - Numbers Chapter 5 (KJV).m4a\n",
            "Skipping existing file: /content/drive/My Drive/bible_audio_processed/Numbers/006/kjv/kjv-audio-bible.m4a from /content/drive/My Drive/kjv_audio/04_Numbers_Chapters_01-36/The Holy Bible - Numbers Chapter 6 (KJV).m4a\n",
            "Skipping existing file: /content/drive/My Drive/bible_audio_processed/Numbers/007/kjv/kjv-audio-bible.m4a from /content/drive/My Drive/kjv_audio/04_Numbers_Chapters_01-36/The Holy Bible - Numbers Chapter 7 (KJV).m4a\n",
            "Skipping existing file: /content/drive/My Drive/bible_audio_processed/Numbers/008/kjv/kjv-audio-bible.m4a from /content/drive/My Drive/kjv_audio/04_Numbers_Chapters_01-36/The Holy Bible - Numbers Chapter 8 (KJV).m4a\n",
            "Skipping existing file: /content/drive/My Drive/bible_audio_processed/Numbers/009/kjv/kjv-audio-bible.m4a from /content/drive/My Drive/kjv_audio/04_Numbers_Chapters_01-36/The Holy Bible - Numbers Chapter 9 (KJV).m4a\n",
            "Skipping existing file: /content/drive/My Drive/bible_audio_processed/Numbers/010/kjv/kjv-audio-bible.m4a from /content/drive/My Drive/kjv_audio/04_Numbers_Chapters_01-36/The Holy Bible - Numbers Chapter 10 (KJV).m4a\n",
            "Skipping existing file: /content/drive/My Drive/bible_audio_processed/Numbers/011/kjv/kjv-audio-bible.m4a from /content/drive/My Drive/kjv_audio/04_Numbers_Chapters_01-36/The Holy Bible - Numbers Chapter 11 (KJV).m4a\n",
            "Skipping existing file: /content/drive/My Drive/bible_audio_processed/Numbers/012/kjv/kjv-audio-bible.m4a from /content/drive/My Drive/kjv_audio/04_Numbers_Chapters_01-36/The Holy Bible - Numbers Chapter 12 (KJV).m4a\n",
            "Skipping existing file: /content/drive/My Drive/bible_audio_processed/Numbers/013/kjv/kjv-audio-bible.m4a from /content/drive/My Drive/kjv_audio/04_Numbers_Chapters_01-36/The Holy Bible - Numbers Chapter 13 (KJV).m4a\n",
            "Skipping existing file: /content/drive/My Drive/bible_audio_processed/Numbers/014/kjv/kjv-audio-bible.m4a from /content/drive/My Drive/kjv_audio/04_Numbers_Chapters_01-36/The Holy Bible - Numbers Chapter 14 (KJV).m4a\n",
            "Skipping existing file: /content/drive/My Drive/bible_audio_processed/Numbers/015/kjv/kjv-audio-bible.m4a from /content/drive/My Drive/kjv_audio/04_Numbers_Chapters_01-36/The Holy Bible - Numbers Chapter 15 (KJV).m4a\n",
            "Skipping existing file: /content/drive/My Drive/bible_audio_processed/Numbers/016/kjv/kjv-audio-bible.m4a from /content/drive/My Drive/kjv_audio/04_Numbers_Chapters_01-36/The Holy Bible - Numbers Chapter 16 (KJV).m4a\n",
            "Skipping existing file: /content/drive/My Drive/bible_audio_processed/Numbers/017/kjv/kjv-audio-bible.m4a from /content/drive/My Drive/kjv_audio/04_Numbers_Chapters_01-36/The Holy Bible - Numbers Chapter 17 (KJV).m4a\n",
            "Skipping existing file: /content/drive/My Drive/bible_audio_processed/Numbers/018/kjv/kjv-audio-bible.m4a from /content/drive/My Drive/kjv_audio/04_Numbers_Chapters_01-36/The Holy Bible - Numbers Chapter 18 (KJV).m4a\n",
            "Skipping existing file: /content/drive/My Drive/bible_audio_processed/Numbers/019/kjv/kjv-audio-bible.m4a from /content/drive/My Drive/kjv_audio/04_Numbers_Chapters_01-36/The Holy Bible - Numbers Chapter 19 (KJV).m4a\n",
            "Skipping existing file: /content/drive/My Drive/bible_audio_processed/Numbers/020/kjv/kjv-audio-bible.m4a from /content/drive/My Drive/kjv_audio/04_Numbers_Chapters_01-36/The Holy Bible - Numbers Chapter 20 (KJV).m4a\n",
            "Skipping existing file: /content/drive/My Drive/bible_audio_processed/Numbers/021/kjv/kjv-audio-bible.m4a from /content/drive/My Drive/kjv_audio/04_Numbers_Chapters_01-36/The Holy Bible - Numbers Chapter 21 (KJV).m4a\n",
            "Skipping existing file: /content/drive/My Drive/bible_audio_processed/Numbers/022/kjv/kjv-audio-bible.m4a from /content/drive/My Drive/kjv_audio/04_Numbers_Chapters_01-36/The Holy Bible - Numbers Chapter 22 (KJV).m4a\n",
            "Skipping existing file: /content/drive/My Drive/bible_audio_processed/Numbers/023/kjv/kjv-audio-bible.m4a from /content/drive/My Drive/kjv_audio/04_Numbers_Chapters_01-36/The Holy Bible - Numbers Chapter 23 (KJV).m4a\n",
            "Skipping existing file: /content/drive/My Drive/bible_audio_processed/Numbers/024/kjv/kjv-audio-bible.m4a from /content/drive/My Drive/kjv_audio/04_Numbers_Chapters_01-36/The Holy Bible - Numbers Chapter 24 (KJV).m4a\n",
            "Skipping existing file: /content/drive/My Drive/bible_audio_processed/Numbers/025/kjv/kjv-audio-bible.m4a from /content/drive/My Drive/kjv_audio/04_Numbers_Chapters_01-36/The Holy Bible - Numbers Chapter 25 (KJV).m4a\n",
            "Skipping existing file: /content/drive/My Drive/bible_audio_processed/Numbers/026/kjv/kjv-audio-bible.m4a from /content/drive/My Drive/kjv_audio/04_Numbers_Chapters_01-36/The Holy Bible - Numbers Chapter 26 (KJV).m4a\n",
            "Skipping existing file: /content/drive/My Drive/bible_audio_processed/Numbers/027/kjv/kjv-audio-bible.m4a from /content/drive/My Drive/kjv_audio/04_Numbers_Chapters_01-36/The Holy Bible - Numbers Chapter 27 (KJV).m4a\n",
            "Skipping existing file: /content/drive/My Drive/bible_audio_processed/Numbers/028/kjv/kjv-audio-bible.m4a from /content/drive/My Drive/kjv_audio/04_Numbers_Chapters_01-36/The Holy Bible - Numbers Chapter 28 (KJV).m4a\n",
            "Skipping existing file: /content/drive/My Drive/bible_audio_processed/Numbers/030/kjv/kjv-audio-bible.m4a from /content/drive/My Drive/kjv_audio/04_Numbers_Chapters_01-36/The Holy Bible - Numbers Chapter 30 (KJV).m4a\n",
            "Skipping existing file: /content/drive/My Drive/bible_audio_processed/Numbers/031/kjv/kjv-audio-bible.m4a from /content/drive/My Drive/kjv_audio/04_Numbers_Chapters_01-36/The Holy Bible - Numbers Chapter 31 (KJV).m4a\n",
            "Skipping existing file: /content/drive/My Drive/bible_audio_processed/Numbers/032/kjv/kjv-audio-bible.m4a from /content/drive/My Drive/kjv_audio/04_Numbers_Chapters_01-36/The Holy Bible - Numbers Chapter 32 (KJV).m4a\n",
            "Skipping existing file: /content/drive/My Drive/bible_audio_processed/Numbers/033/kjv/kjv-audio-bible.m4a from /content/drive/My Drive/kjv_audio/04_Numbers_Chapters_01-36/The Holy Bible - Numbers Chapter 33 (KJV).m4a\n",
            "Skipping existing file: /content/drive/My Drive/bible_audio_processed/Numbers/034/kjv/kjv-audio-bible.m4a from /content/drive/My Drive/kjv_audio/04_Numbers_Chapters_01-36/The Holy Bible - Numbers Chapter 34 (KJV).m4a\n",
            "Skipping existing file: /content/drive/My Drive/bible_audio_processed/Numbers/035/kjv/kjv-audio-bible.m4a from /content/drive/My Drive/kjv_audio/04_Numbers_Chapters_01-36/The Holy Bible - Numbers Chapter 35 (KJV).m4a\n",
            "Skipping existing file: /content/drive/My Drive/bible_audio_processed/Numbers/036/kjv/kjv-audio-bible.m4a from /content/drive/My Drive/kjv_audio/04_Numbers_Chapters_01-36/The Holy Bible - Numbers Chapter 36 (KJV).m4a\n",
            "Skipping existing file: /content/drive/My Drive/bible_audio_processed/Deuteronomy/028/kjv/kjv-audio-bible.webm from /content/drive/My Drive/kjv_audio/05_Deuteronomy_Chapters_01-34/The Holy Bible - Deuteronomy Chapter 28 (KJV).webm\n",
            "Skipping existing file: /content/drive/My Drive/bible_audio_processed/Deuteronomy/001/kjv/kjv-audio-bible.m4a from /content/drive/My Drive/kjv_audio/05_Deuteronomy_Chapters_01-34/The Holy Bible - Deuteronomy Chapter 1 (KJV).m4a\n",
            "Skipping existing file: /content/drive/My Drive/bible_audio_processed/Deuteronomy/002/kjv/kjv-audio-bible.m4a from /content/drive/My Drive/kjv_audio/05_Deuteronomy_Chapters_01-34/The Holy Bible - Deuteronomy Chapter 2 (KJV).m4a\n",
            "Skipping existing file: /content/drive/My Drive/bible_audio_processed/Deuteronomy/003/kjv/kjv-audio-bible.m4a from /content/drive/My Drive/kjv_audio/05_Deuteronomy_Chapters_01-34/The Holy Bible - Deuteronomy Chapter 3 (KJV).m4a\n",
            "Skipping existing file: /content/drive/My Drive/bible_audio_processed/Deuteronomy/004/kjv/kjv-audio-bible.m4a from /content/drive/My Drive/kjv_audio/05_Deuteronomy_Chapters_01-34/The Holy Bible - Deuteronomy Chapter 4 (KJV).m4a\n",
            "Skipping existing file: /content/drive/My Drive/bible_audio_processed/Deuteronomy/005/kjv/kjv-audio-bible.m4a from /content/drive/My Drive/kjv_audio/05_Deuteronomy_Chapters_01-34/The Holy Bible - Deuteronomy Chapter 5 (KJV).m4a\n",
            "Skipping existing file: /content/drive/My Drive/bible_audio_processed/Deuteronomy/006/kjv/kjv-audio-bible.m4a from /content/drive/My Drive/kjv_audio/05_Deuteronomy_Chapters_01-34/The Holy Bible - Deuteronomy Chapter 6 (KJV).m4a\n",
            "Skipping existing file: /content/drive/My Drive/bible_audio_processed/Deuteronomy/007/kjv/kjv-audio-bible.m4a from /content/drive/My Drive/kjv_audio/05_Deuteronomy_Chapters_01-34/The Holy Bible - Deuteronomy Chapter 7 (KJV).m4a\n",
            "Skipping existing file: /content/drive/My Drive/bible_audio_processed/Deuteronomy/008/kjv/kjv-audio-bible.m4a from /content/drive/My Drive/kjv_audio/05_Deuteronomy_Chapters_01-34/The Holy Bible - Deuteronomy Chapter 8 (KJV).m4a\n",
            "Skipping existing file: /content/drive/My Drive/bible_audio_processed/Deuteronomy/009/kjv/kjv-audio-bible.m4a from /content/drive/My Drive/kjv_audio/05_Deuteronomy_Chapters_01-34/The Holy Bible - Deuteronomy Chapter 9 (KJV).m4a\n",
            "Skipping existing file: /content/drive/My Drive/bible_audio_processed/Deuteronomy/010/kjv/kjv-audio-bible.m4a from /content/drive/My Drive/kjv_audio/05_Deuteronomy_Chapters_01-34/The Holy Bible - Deuteronomy Chapter 10 (KJV).m4a\n",
            "Skipping existing file: /content/drive/My Drive/bible_audio_processed/Deuteronomy/011/kjv/kjv-audio-bible.m4a from /content/drive/My Drive/kjv_audio/05_Deuteronomy_Chapters_01-34/The Holy Bible - Deuteronomy Chapter 11 (KJV).m4a\n",
            "Skipping existing file: /content/drive/My Drive/bible_audio_processed/Deuteronomy/012/kjv/kjv-audio-bible.m4a from /content/drive/My Drive/kjv_audio/05_Deuteronomy_Chapters_01-34/The Holy Bible - Deuteronomy Chapter 12 (KJV).m4a\n",
            "Skipping existing file: /content/drive/My Drive/bible_audio_processed/Deuteronomy/013/kjv/kjv-audio-bible.m4a from /content/drive/My Drive/kjv_audio/05_Deuteronomy_Chapters_01-34/The Holy Bible - Deuteronomy Chapter 13 (KJV).m4a\n",
            "Skipping existing file: /content/drive/My Drive/bible_audio_processed/Deuteronomy/014/kjv/kjv-audio-bible.m4a from /content/drive/My Drive/kjv_audio/05_Deuteronomy_Chapters_01-34/The Holy Bible - Deuteronomy Chapter 14 (KJV).m4a\n",
            "Skipping existing file: /content/drive/My Drive/bible_audio_processed/Deuteronomy/015/kjv/kjv-audio-bible.m4a from /content/drive/My Drive/kjv_audio/05_Deuteronomy_Chapters_01-34/The Holy Bible - Deuteronomy Chapter 15 (KJV).m4a\n",
            "Skipping existing file: /content/drive/My Drive/bible_audio_processed/Deuteronomy/016/kjv/kjv-audio-bible.m4a from /content/drive/My Drive/kjv_audio/05_Deuteronomy_Chapters_01-34/The Holy Bible - Deuteronomy Chapter 16 (KJV).m4a\n",
            "Skipping existing file: /content/drive/My Drive/bible_audio_processed/Deuteronomy/017/kjv/kjv-audio-bible.m4a from /content/drive/My Drive/kjv_audio/05_Deuteronomy_Chapters_01-34/The Holy Bible - Deuteronomy Chapter 17 (KJV).m4a\n",
            "Skipping existing file: /content/drive/My Drive/bible_audio_processed/Deuteronomy/018/kjv/kjv-audio-bible.m4a from /content/drive/My Drive/kjv_audio/05_Deuteronomy_Chapters_01-34/The Holy Bible - Deuteronomy Chapter 18 (KJV).m4a\n",
            "Skipping existing file: /content/drive/My Drive/bible_audio_processed/Deuteronomy/019/kjv/kjv-audio-bible.m4a from /content/drive/My Drive/kjv_audio/05_Deuteronomy_Chapters_01-34/The Holy Bible - Deuteronomy Chapter 19 (KJV).m4a\n",
            "Skipping existing file: /content/drive/My Drive/bible_audio_processed/Deuteronomy/020/kjv/kjv-audio-bible.m4a from /content/drive/My Drive/kjv_audio/05_Deuteronomy_Chapters_01-34/The Holy Bible - Deuteronomy Chapter 20 (KJV).m4a\n",
            "Skipping existing file: /content/drive/My Drive/bible_audio_processed/Deuteronomy/021/kjv/kjv-audio-bible.m4a from /content/drive/My Drive/kjv_audio/05_Deuteronomy_Chapters_01-34/The Holy Bible - Deuteronomy Chapter 21 (KJV).m4a\n",
            "Skipping existing file: /content/drive/My Drive/bible_audio_processed/Deuteronomy/022/kjv/kjv-audio-bible.m4a from /content/drive/My Drive/kjv_audio/05_Deuteronomy_Chapters_01-34/The Holy Bible - Deuteronomy Chapter 22 (KJV).m4a\n",
            "Skipping existing file: /content/drive/My Drive/bible_audio_processed/Deuteronomy/023/kjv/kjv-audio-bible.m4a from /content/drive/My Drive/kjv_audio/05_Deuteronomy_Chapters_01-34/The Holy Bible - Deuteronomy Chapter 23 (KJV).m4a\n",
            "Skipping existing file: /content/drive/My Drive/bible_audio_processed/Deuteronomy/024/kjv/kjv-audio-bible.m4a from /content/drive/My Drive/kjv_audio/05_Deuteronomy_Chapters_01-34/The Holy Bible - Deuteronomy Chapter 24 (KJV).m4a\n",
            "Skipping existing file: /content/drive/My Drive/bible_audio_processed/Deuteronomy/025/kjv/kjv-audio-bible.m4a from /content/drive/My Drive/kjv_audio/05_Deuteronomy_Chapters_01-34/The Holy Bible - Deuteronomy Chapter 25 (KJV).m4a\n",
            "Skipping existing file: /content/drive/My Drive/bible_audio_processed/Deuteronomy/026/kjv/kjv-audio-bible.m4a from /content/drive/My Drive/kjv_audio/05_Deuteronomy_Chapters_01-34/The Holy Bible - Deuteronomy Chapter 26 (KJV).m4a\n",
            "Skipping existing file: /content/drive/My Drive/bible_audio_processed/Deuteronomy/027/kjv/kjv-audio-bible.m4a from /content/drive/My Drive/kjv_audio/05_Deuteronomy_Chapters_01-34/The Holy Bible - Deuteronomy Chapter 27 (KJV).m4a\n",
            "Skipping existing file: /content/drive/My Drive/bible_audio_processed/Deuteronomy/029/kjv/kjv-audio-bible.m4a from /content/drive/My Drive/kjv_audio/05_Deuteronomy_Chapters_01-34/The Holy Bible - Deuteronomy Chapter 29 (KJV).m4a\n",
            "Skipping existing file: /content/drive/My Drive/bible_audio_processed/Deuteronomy/030/kjv/kjv-audio-bible.m4a from /content/drive/My Drive/kjv_audio/05_Deuteronomy_Chapters_01-34/The Holy Bible - Deuteronomy Chapter 30 (KJV).m4a\n",
            "Skipping existing file: /content/drive/My Drive/bible_audio_processed/Deuteronomy/031/kjv/kjv-audio-bible.m4a from /content/drive/My Drive/kjv_audio/05_Deuteronomy_Chapters_01-34/The Holy Bible - Deuteronomy Chapter 31 (KJV).m4a\n",
            "Skipping existing file: /content/drive/My Drive/bible_audio_processed/Deuteronomy/032/kjv/kjv-audio-bible.m4a from /content/drive/My Drive/kjv_audio/05_Deuteronomy_Chapters_01-34/The Holy Bible - Deuteronomy Chapter 32 (KJV).m4a\n",
            "Skipping existing file: /content/drive/My Drive/bible_audio_processed/Deuteronomy/033/kjv/kjv-audio-bible.m4a from /content/drive/My Drive/kjv_audio/05_Deuteronomy_Chapters_01-34/The Holy Bible - Deuteronomy Chapter 33 (KJV).m4a\n",
            "Skipping existing file: /content/drive/My Drive/bible_audio_processed/Deuteronomy/034/kjv/kjv-audio-bible.m4a from /content/drive/My Drive/kjv_audio/05_Deuteronomy_Chapters_01-34/The Holy Bible - Deuteronomy Chapter 34 (KJV).m4a\n",
            "Skipping existing file: /content/drive/My Drive/bible_audio_processed/Joshua/001/kjv/kjv-audio-bible.m4a from /content/drive/My Drive/kjv_audio/06_Joshua_Chapters_01-24/The Holy Bible - Joshua Chapter 1 (KJV).m4a\n",
            "Skipping existing file: /content/drive/My Drive/bible_audio_processed/Joshua/002/kjv/kjv-audio-bible.m4a from /content/drive/My Drive/kjv_audio/06_Joshua_Chapters_01-24/The Holy Bible - Joshua Chapter 2 (KJV).m4a\n",
            "Skipping existing file: /content/drive/My Drive/bible_audio_processed/Joshua/003/kjv/kjv-audio-bible.m4a from /content/drive/My Drive/kjv_audio/06_Joshua_Chapters_01-24/The Holy Bible - Joshua Chapter 3 (KJV).m4a\n",
            "Skipping existing file: /content/drive/My Drive/bible_audio_processed/Joshua/004/kjv/kjv-audio-bible.m4a from /content/drive/My Drive/kjv_audio/06_Joshua_Chapters_01-24/The Holy Bible - Joshua Chapter 4 (KJV).m4a\n",
            "Skipping existing file: /content/drive/My Drive/bible_audio_processed/Joshua/005/kjv/kjv-audio-bible.m4a from /content/drive/My Drive/kjv_audio/06_Joshua_Chapters_01-24/The Holy Bible - Joshua Chapter 5 (KJV).m4a\n",
            "Skipping existing file: /content/drive/My Drive/bible_audio_processed/Joshua/006/kjv/kjv-audio-bible.m4a from /content/drive/My Drive/kjv_audio/06_Joshua_Chapters_01-24/The Holy Bible - Joshua Chapter 6 (KJV).m4a\n",
            "Skipping existing file: /content/drive/My Drive/bible_audio_processed/Joshua/007/kjv/kjv-audio-bible.m4a from /content/drive/My Drive/kjv_audio/06_Joshua_Chapters_01-24/The Holy Bible - Joshua Chapter 7 (KJV).m4a\n",
            "Skipping existing file: /content/drive/My Drive/bible_audio_processed/Joshua/008/kjv/kjv-audio-bible.m4a from /content/drive/My Drive/kjv_audio/06_Joshua_Chapters_01-24/The Holy Bible - Joshua Chapter 8 (KJV).m4a\n",
            "Skipping existing file: /content/drive/My Drive/bible_audio_processed/Joshua/009/kjv/kjv-audio-bible.m4a from /content/drive/My Drive/kjv_audio/06_Joshua_Chapters_01-24/The Holy Bible - Joshua Chapter 9 (KJV).m4a\n",
            "Skipping existing file: /content/drive/My Drive/bible_audio_processed/Joshua/010/kjv/kjv-audio-bible.m4a from /content/drive/My Drive/kjv_audio/06_Joshua_Chapters_01-24/The Holy Bible - Joshua Chapter 10 (KJV).m4a\n",
            "Skipping existing file: /content/drive/My Drive/bible_audio_processed/Joshua/011/kjv/kjv-audio-bible.m4a from /content/drive/My Drive/kjv_audio/06_Joshua_Chapters_01-24/The Holy Bible - Joshua Chapter 11 (KJV).m4a\n",
            "Skipping existing file: /content/drive/My Drive/bible_audio_processed/Joshua/012/kjv/kjv-audio-bible.m4a from /content/drive/My Drive/kjv_audio/06_Joshua_Chapters_01-24/The Holy Bible - Joshua Chapter 12 (KJV).m4a\n",
            "Skipping existing file: /content/drive/My Drive/bible_audio_processed/Joshua/013/kjv/kjv-audio-bible.m4a from /content/drive/My Drive/kjv_audio/06_Joshua_Chapters_01-24/The Holy Bible - Joshua Chapter 13 (KJV).m4a\n",
            "Skipping existing file: /content/drive/My Drive/bible_audio_processed/Joshua/014/kjv/kjv-audio-bible.m4a from /content/drive/My Drive/kjv_audio/06_Joshua_Chapters_01-24/The Holy Bible - Joshua Chapter 14 (KJV).m4a\n",
            "Skipping existing file: /content/drive/My Drive/bible_audio_processed/Joshua/015/kjv/kjv-audio-bible.m4a from /content/drive/My Drive/kjv_audio/06_Joshua_Chapters_01-24/The Holy Bible - Joshua Chapter 15 (KJV).m4a\n",
            "Skipping existing file: /content/drive/My Drive/bible_audio_processed/Joshua/016/kjv/kjv-audio-bible.m4a from /content/drive/My Drive/kjv_audio/06_Joshua_Chapters_01-24/The Holy Bible - Joshua Chapter 16 (KJV).m4a\n",
            "Skipping existing file: /content/drive/My Drive/bible_audio_processed/Joshua/017/kjv/kjv-audio-bible.m4a from /content/drive/My Drive/kjv_audio/06_Joshua_Chapters_01-24/The Holy Bible - Joshua Chapter 17 (KJV).m4a\n",
            "Skipping existing file: /content/drive/My Drive/bible_audio_processed/Joshua/018/kjv/kjv-audio-bible.m4a from /content/drive/My Drive/kjv_audio/06_Joshua_Chapters_01-24/The Holy Bible - Joshua Chapter 18 (KJV).m4a\n",
            "Skipping existing file: /content/drive/My Drive/bible_audio_processed/Joshua/019/kjv/kjv-audio-bible.m4a from /content/drive/My Drive/kjv_audio/06_Joshua_Chapters_01-24/The Holy Bible - Joshua Chapter 19 (KJV).m4a\n",
            "Skipping existing file: /content/drive/My Drive/bible_audio_processed/Joshua/020/kjv/kjv-audio-bible.m4a from /content/drive/My Drive/kjv_audio/06_Joshua_Chapters_01-24/The Holy Bible - Joshua Chapter 20 (KJV).m4a\n",
            "Skipping existing file: /content/drive/My Drive/bible_audio_processed/Joshua/021/kjv/kjv-audio-bible.m4a from /content/drive/My Drive/kjv_audio/06_Joshua_Chapters_01-24/The Holy Bible - Joshua Chapter 21 (KJV).m4a\n",
            "Skipping existing file: /content/drive/My Drive/bible_audio_processed/Joshua/022/kjv/kjv-audio-bible.m4a from /content/drive/My Drive/kjv_audio/06_Joshua_Chapters_01-24/The Holy Bible - Joshua Chapter 22 (KJV).m4a\n",
            "Skipping existing file: /content/drive/My Drive/bible_audio_processed/Joshua/023/kjv/kjv-audio-bible.m4a from /content/drive/My Drive/kjv_audio/06_Joshua_Chapters_01-24/The Holy Bible - Joshua Chapter 23 (KJV).m4a\n",
            "Skipping existing file: /content/drive/My Drive/bible_audio_processed/Joshua/024/kjv/kjv-audio-bible.m4a from /content/drive/My Drive/kjv_audio/06_Joshua_Chapters_01-24/The Holy Bible - Joshua Chapter 24 (KJV).m4a\n",
            "Skipping existing file: /content/drive/My Drive/bible_audio_processed/Judges/001/kjv/kjv-audio-bible.m4a from /content/drive/My Drive/kjv_audio/07_Judges_Chapters_01-21/The Holy Bible - Judges Chapter 1 (KJV).m4a\n",
            "Skipping existing file: /content/drive/My Drive/bible_audio_processed/Judges/002/kjv/kjv-audio-bible.m4a from /content/drive/My Drive/kjv_audio/07_Judges_Chapters_01-21/The Holy Bible - Judges Chapter 2 (KJV).m4a\n",
            "Skipping existing file: /content/drive/My Drive/bible_audio_processed/Judges/003/kjv/kjv-audio-bible.m4a from /content/drive/My Drive/kjv_audio/07_Judges_Chapters_01-21/The Holy Bible - Judges Chapter 3 (KJV).m4a\n",
            "Skipping existing file: /content/drive/My Drive/bible_audio_processed/Judges/004/kjv/kjv-audio-bible.m4a from /content/drive/My Drive/kjv_audio/07_Judges_Chapters_01-21/The Holy Bible - Judges Chapter 4 (KJV).m4a\n",
            "Skipping existing file: /content/drive/My Drive/bible_audio_processed/Judges/005/kjv/kjv-audio-bible.m4a from /content/drive/My Drive/kjv_audio/07_Judges_Chapters_01-21/The Holy Bible - Judges Chapter 5 (KJV).m4a\n",
            "Skipping existing file: /content/drive/My Drive/bible_audio_processed/Judges/006/kjv/kjv-audio-bible.m4a from /content/drive/My Drive/kjv_audio/07_Judges_Chapters_01-21/The Holy Bible - Judges Chapter 6 (KJV).m4a\n",
            "Skipping existing file: /content/drive/My Drive/bible_audio_processed/Judges/007/kjv/kjv-audio-bible.m4a from /content/drive/My Drive/kjv_audio/07_Judges_Chapters_01-21/The Holy Bible - Judges Chapter 7 (KJV).m4a\n",
            "Skipping existing file: /content/drive/My Drive/bible_audio_processed/Judges/008/kjv/kjv-audio-bible.m4a from /content/drive/My Drive/kjv_audio/07_Judges_Chapters_01-21/The Holy Bible - Judges Chapter 8 (KJV).m4a\n",
            "Skipping existing file: /content/drive/My Drive/bible_audio_processed/Judges/009/kjv/kjv-audio-bible.m4a from /content/drive/My Drive/kjv_audio/07_Judges_Chapters_01-21/The Holy Bible - Judges Chapter 9 (KJV).m4a\n",
            "Skipping existing file: /content/drive/My Drive/bible_audio_processed/Judges/010/kjv/kjv-audio-bible.m4a from /content/drive/My Drive/kjv_audio/07_Judges_Chapters_01-21/The Holy Bible - Judges Chapter 10 (KJV).m4a\n",
            "Skipping existing file: /content/drive/My Drive/bible_audio_processed/Judges/011/kjv/kjv-audio-bible.m4a from /content/drive/My Drive/kjv_audio/07_Judges_Chapters_01-21/The Holy Bible - Judges Chapter 11 (KJV).m4a\n",
            "Skipping existing file: /content/drive/My Drive/bible_audio_processed/Judges/012/kjv/kjv-audio-bible.m4a from /content/drive/My Drive/kjv_audio/07_Judges_Chapters_01-21/The Holy Bible - Judges Chapter 12 (KJV).m4a\n",
            "Skipping existing file: /content/drive/My Drive/bible_audio_processed/Judges/013/kjv/kjv-audio-bible.m4a from /content/drive/My Drive/kjv_audio/07_Judges_Chapters_01-21/The Holy Bible - Judges Chapter 13 (KJV).m4a\n",
            "Skipping existing file: /content/drive/My Drive/bible_audio_processed/Judges/014/kjv/kjv-audio-bible.m4a from /content/drive/My Drive/kjv_audio/07_Judges_Chapters_01-21/The Holy Bible - Judges Chapter 14 (KJV).m4a\n",
            "Skipping existing file: /content/drive/My Drive/bible_audio_processed/Judges/015/kjv/kjv-audio-bible.m4a from /content/drive/My Drive/kjv_audio/07_Judges_Chapters_01-21/The Holy Bible - Judges Chapter 15 (KJV).m4a\n",
            "Skipping existing file: /content/drive/My Drive/bible_audio_processed/Judges/016/kjv/kjv-audio-bible.m4a from /content/drive/My Drive/kjv_audio/07_Judges_Chapters_01-21/The Holy Bible - Judges Chapter 16 (KJV).m4a\n",
            "Skipping existing file: /content/drive/My Drive/bible_audio_processed/Judges/017/kjv/kjv-audio-bible.m4a from /content/drive/My Drive/kjv_audio/07_Judges_Chapters_01-21/The Holy Bible - Judges Chapter 17 (KJV).m4a\n",
            "Skipping existing file: /content/drive/My Drive/bible_audio_processed/Judges/018/kjv/kjv-audio-bible.m4a from /content/drive/My Drive/kjv_audio/07_Judges_Chapters_01-21/The Holy Bible - Judges Chapter 18 (KJV).m4a\n",
            "Skipping existing file: /content/drive/My Drive/bible_audio_processed/Judges/019/kjv/kjv-audio-bible.m4a from /content/drive/My Drive/kjv_audio/07_Judges_Chapters_01-21/The Holy Bible - Judges Chapter 19 (KJV).m4a\n",
            "Skipping existing file: /content/drive/My Drive/bible_audio_processed/Judges/020/kjv/kjv-audio-bible.m4a from /content/drive/My Drive/kjv_audio/07_Judges_Chapters_01-21/The Holy Bible - Judges Chapter 20 (KJV).m4a\n",
            "Skipping existing file: /content/drive/My Drive/bible_audio_processed/Judges/021/kjv/kjv-audio-bible.m4a from /content/drive/My Drive/kjv_audio/07_Judges_Chapters_01-21/The Holy Bible - Judges Chapter 21 (KJV).m4a\n",
            "Skipping existing file: /content/drive/My Drive/bible_audio_processed/Ruth/001/kjv/kjv-audio-bible.m4a from /content/drive/My Drive/kjv_audio/08_Ruth_Chapters_01-04/The Holy Bible - Ruth Chapter 1 (KJV).m4a\n",
            "Skipping existing file: /content/drive/My Drive/bible_audio_processed/Ruth/002/kjv/kjv-audio-bible.m4a from /content/drive/My Drive/kjv_audio/08_Ruth_Chapters_01-04/The Holy Bible - Ruth Chapter 2 (KJV).m4a\n",
            "Skipping existing file: /content/drive/My Drive/bible_audio_processed/Ruth/003/kjv/kjv-audio-bible.m4a from /content/drive/My Drive/kjv_audio/08_Ruth_Chapters_01-04/The Holy Bible - Ruth Chapter 3 (KJV).m4a\n",
            "Skipping existing file: /content/drive/My Drive/bible_audio_processed/Ruth/004/kjv/kjv-audio-bible.m4a from /content/drive/My Drive/kjv_audio/08_Ruth_Chapters_01-04/The Holy Bible - Ruth Chapter 4 (KJV).m4a\n",
            "Skipping existing file: /content/drive/My Drive/bible_audio_processed/1_Samuel/016/kjv/kjv-audio-bible.webm from /content/drive/My Drive/kjv_audio/09_1_Samuel_Chapters_01-31/The Holy Bible - 1 Samuel Chapter 16 (KJV).webm\n",
            "Skipping existing file: /content/drive/My Drive/bible_audio_processed/1_Samuel/001/kjv/kjv-audio-bible.m4a from /content/drive/My Drive/kjv_audio/09_1_Samuel_Chapters_01-31/The Holy Bible - 1 Samuel Chapter 1 (KJV).m4a\n",
            "Skipping existing file: /content/drive/My Drive/bible_audio_processed/1_Samuel/002/kjv/kjv-audio-bible.m4a from /content/drive/My Drive/kjv_audio/09_1_Samuel_Chapters_01-31/The Holy Bible - 1 Samuel Chapter 2 (KJV).m4a\n",
            "Skipping existing file: /content/drive/My Drive/bible_audio_processed/1_Samuel/003/kjv/kjv-audio-bible.m4a from /content/drive/My Drive/kjv_audio/09_1_Samuel_Chapters_01-31/The Holy Bible - 1 Samuel Chapter 3 (KJV).m4a\n",
            "Skipping existing file: /content/drive/My Drive/bible_audio_processed/1_Samuel/004/kjv/kjv-audio-bible.m4a from /content/drive/My Drive/kjv_audio/09_1_Samuel_Chapters_01-31/The Holy Bible - 1 Samuel Chapter 4 (KJV).m4a\n",
            "Skipping existing file: /content/drive/My Drive/bible_audio_processed/1_Samuel/005/kjv/kjv-audio-bible.m4a from /content/drive/My Drive/kjv_audio/09_1_Samuel_Chapters_01-31/The Holy Bible - 1 Samuel Chapter 5 (KJV).m4a\n",
            "Skipping existing file: /content/drive/My Drive/bible_audio_processed/1_Samuel/006/kjv/kjv-audio-bible.m4a from /content/drive/My Drive/kjv_audio/09_1_Samuel_Chapters_01-31/The Holy Bible - 1 Samuel Chapter 6 (KJV).m4a\n",
            "Skipping existing file: /content/drive/My Drive/bible_audio_processed/1_Samuel/007/kjv/kjv-audio-bible.m4a from /content/drive/My Drive/kjv_audio/09_1_Samuel_Chapters_01-31/The Holy Bible - 1 Samuel Chapter 7 (KJV).m4a\n",
            "Skipping existing file: /content/drive/My Drive/bible_audio_processed/1_Samuel/008/kjv/kjv-audio-bible.m4a from /content/drive/My Drive/kjv_audio/09_1_Samuel_Chapters_01-31/The Holy Bible - 1 Samuel Chapter 8 (KJV).m4a\n",
            "Skipping existing file: /content/drive/My Drive/bible_audio_processed/1_Samuel/009/kjv/kjv-audio-bible.m4a from /content/drive/My Drive/kjv_audio/09_1_Samuel_Chapters_01-31/The Holy Bible - 1 Samuel Chapter 9 (KJV).m4a\n",
            "Skipping existing file: /content/drive/My Drive/bible_audio_processed/1_Samuel/010/kjv/kjv-audio-bible.m4a from /content/drive/My Drive/kjv_audio/09_1_Samuel_Chapters_01-31/The Holy Bible - 1 Samuel Chapter 10 (KJV).m4a\n",
            "Skipping existing file: /content/drive/My Drive/bible_audio_processed/1_Samuel/011/kjv/kjv-audio-bible.m4a from /content/drive/My Drive/kjv_audio/09_1_Samuel_Chapters_01-31/The Holy Bible - 1 Samuel Chapter 11 (KJV).m4a\n",
            "Skipping existing file: /content/drive/My Drive/bible_audio_processed/1_Samuel/012/kjv/kjv-audio-bible.m4a from /content/drive/My Drive/kjv_audio/09_1_Samuel_Chapters_01-31/The Holy Bible - 1 Samuel Chapter 12 (KJV).m4a\n",
            "Skipping existing file: /content/drive/My Drive/bible_audio_processed/1_Samuel/013/kjv/kjv-audio-bible.m4a from /content/drive/My Drive/kjv_audio/09_1_Samuel_Chapters_01-31/The Holy Bible - 1 Samuel Chapter 13 (KJV).m4a\n",
            "Skipping existing file: /content/drive/My Drive/bible_audio_processed/1_Samuel/014/kjv/kjv-audio-bible.m4a from /content/drive/My Drive/kjv_audio/09_1_Samuel_Chapters_01-31/The Holy Bible - 1 Samuel Chapter 14 (KJV).m4a\n",
            "Skipping existing file: /content/drive/My Drive/bible_audio_processed/1_Samuel/015/kjv/kjv-audio-bible.m4a from /content/drive/My Drive/kjv_audio/09_1_Samuel_Chapters_01-31/The Holy Bible - 1 Samuel Chapter 15 (KJV).m4a\n",
            "Skipping existing file: /content/drive/My Drive/bible_audio_processed/1_Samuel/017/kjv/kjv-audio-bible.m4a from /content/drive/My Drive/kjv_audio/09_1_Samuel_Chapters_01-31/The Holy Bible - 1 Samuel Chapter 17 (KJV).m4a\n",
            "Skipping existing file: /content/drive/My Drive/bible_audio_processed/1_Samuel/018/kjv/kjv-audio-bible.m4a from /content/drive/My Drive/kjv_audio/09_1_Samuel_Chapters_01-31/The Holy Bible - 1 Samuel Chapter 18 (KJV).m4a\n",
            "Skipping existing file: /content/drive/My Drive/bible_audio_processed/1_Samuel/019/kjv/kjv-audio-bible.m4a from /content/drive/My Drive/kjv_audio/09_1_Samuel_Chapters_01-31/The Holy Bible - 1 Samuel Chapter 19 (KJV).m4a\n",
            "Skipping existing file: /content/drive/My Drive/bible_audio_processed/1_Samuel/020/kjv/kjv-audio-bible.m4a from /content/drive/My Drive/kjv_audio/09_1_Samuel_Chapters_01-31/The Holy Bible - 1 Samuel Chapter 20 (KJV).m4a\n",
            "Skipping existing file: /content/drive/My Drive/bible_audio_processed/1_Samuel/021/kjv/kjv-audio-bible.m4a from /content/drive/My Drive/kjv_audio/09_1_Samuel_Chapters_01-31/The Holy Bible - 1 Samuel Chapter 21 (KJV).m4a\n",
            "Skipping existing file: /content/drive/My Drive/bible_audio_processed/1_Samuel/022/kjv/kjv-audio-bible.m4a from /content/drive/My Drive/kjv_audio/09_1_Samuel_Chapters_01-31/The Holy Bible - 1 Samuel Chapter 22 (KJV).m4a\n",
            "Skipping existing file: /content/drive/My Drive/bible_audio_processed/1_Samuel/023/kjv/kjv-audio-bible.m4a from /content/drive/My Drive/kjv_audio/09_1_Samuel_Chapters_01-31/The Holy Bible - 1 Samuel Chapter 23 (KJV).m4a\n",
            "Skipping existing file: /content/drive/My Drive/bible_audio_processed/1_Samuel/024/kjv/kjv-audio-bible.m4a from /content/drive/My Drive/kjv_audio/09_1_Samuel_Chapters_01-31/The Holy Bible - 1 Samuel Chapter 24 (KJV).m4a\n",
            "Skipping existing file: /content/drive/My Drive/bible_audio_processed/1_Samuel/025/kjv/kjv-audio-bible.m4a from /content/drive/My Drive/kjv_audio/09_1_Samuel_Chapters_01-31/The Holy Bible - 1 Samuel Chapter 25 (KJV).m4a\n",
            "Skipping existing file: /content/drive/My Drive/bible_audio_processed/1_Samuel/026/kjv/kjv-audio-bible.m4a from /content/drive/My Drive/kjv_audio/09_1_Samuel_Chapters_01-31/The Holy Bible - 1 Samuel Chapter 26 (KJV).m4a\n",
            "Skipping existing file: /content/drive/My Drive/bible_audio_processed/1_Samuel/027/kjv/kjv-audio-bible.m4a from /content/drive/My Drive/kjv_audio/09_1_Samuel_Chapters_01-31/The Holy Bible - 1 Samuel Chapter 27 (KJV).m4a\n",
            "Skipping existing file: /content/drive/My Drive/bible_audio_processed/1_Samuel/028/kjv/kjv-audio-bible.m4a from /content/drive/My Drive/kjv_audio/09_1_Samuel_Chapters_01-31/The Holy Bible - 1 Samuel Chapter 28 (KJV).m4a\n",
            "Skipping existing file: /content/drive/My Drive/bible_audio_processed/1_Samuel/029/kjv/kjv-audio-bible.m4a from /content/drive/My Drive/kjv_audio/09_1_Samuel_Chapters_01-31/The Holy Bible - 1 Samuel Chapter 29 (KJV).m4a\n",
            "Skipping existing file: /content/drive/My Drive/bible_audio_processed/1_Samuel/030/kjv/kjv-audio-bible.m4a from /content/drive/My Drive/kjv_audio/09_1_Samuel_Chapters_01-31/The Holy Bible - 1 Samuel Chapter 30 (KJV).m4a\n",
            "Skipping existing file: /content/drive/My Drive/bible_audio_processed/1_Samuel/031/kjv/kjv-audio-bible.m4a from /content/drive/My Drive/kjv_audio/09_1_Samuel_Chapters_01-31/The Holy Bible - 1 Samuel Chapter 31 (KJV).m4a\n",
            "Skipping existing file: /content/drive/My Drive/bible_audio_processed/2_Samuel/001/kjv/kjv-audio-bible.m4a from /content/drive/My Drive/kjv_audio/10_2_Samuel_Chapters_01-24/The Holy Bible - 2 Samuel Chapter 1 (KJV).m4a\n",
            "Skipping existing file: /content/drive/My Drive/bible_audio_processed/2_Samuel/002/kjv/kjv-audio-bible.m4a from /content/drive/My Drive/kjv_audio/10_2_Samuel_Chapters_01-24/The Holy Bible - 2 Samuel Chapter 2 (KJV).m4a\n",
            "Skipping existing file: /content/drive/My Drive/bible_audio_processed/2_Samuel/003/kjv/kjv-audio-bible.m4a from /content/drive/My Drive/kjv_audio/10_2_Samuel_Chapters_01-24/The Holy Bible - 2 Samuel Chapter 3 (KJV).m4a\n",
            "Skipping existing file: /content/drive/My Drive/bible_audio_processed/2_Samuel/004/kjv/kjv-audio-bible.m4a from /content/drive/My Drive/kjv_audio/10_2_Samuel_Chapters_01-24/The Holy Bible - 2 Samuel Chapter 4 (KJV).m4a\n",
            "Skipping existing file: /content/drive/My Drive/bible_audio_processed/2_Samuel/005/kjv/kjv-audio-bible.m4a from /content/drive/My Drive/kjv_audio/10_2_Samuel_Chapters_01-24/The Holy Bible - 2 Samuel Chapter 5 (KJV).m4a\n",
            "Skipping existing file: /content/drive/My Drive/bible_audio_processed/2_Samuel/006/kjv/kjv-audio-bible.m4a from /content/drive/My Drive/kjv_audio/10_2_Samuel_Chapters_01-24/The Holy Bible - 2 Samuel Chapter 6 (KJV).m4a\n",
            "Skipping existing file: /content/drive/My Drive/bible_audio_processed/2_Samuel/007/kjv/kjv-audio-bible.m4a from /content/drive/My Drive/kjv_audio/10_2_Samuel_Chapters_01-24/The Holy Bible - 2 Samuel Chapter 7 (KJV).m4a\n",
            "Skipping existing file: /content/drive/My Drive/bible_audio_processed/2_Samuel/008/kjv/kjv-audio-bible.m4a from /content/drive/My Drive/kjv_audio/10_2_Samuel_Chapters_01-24/The Holy Bible - 2 Samuel Chapter 8 (KJV).m4a\n",
            "Skipping existing file: /content/drive/My Drive/bible_audio_processed/2_Samuel/009/kjv/kjv-audio-bible.m4a from /content/drive/My Drive/kjv_audio/10_2_Samuel_Chapters_01-24/The Holy Bible - 2 Samuel Chapter 9 (KJV).m4a\n",
            "Skipping existing file: /content/drive/My Drive/bible_audio_processed/2_Samuel/010/kjv/kjv-audio-bible.m4a from /content/drive/My Drive/kjv_audio/10_2_Samuel_Chapters_01-24/The Holy Bible - 2 Samuel Chapter 10 (KJV).m4a\n",
            "Skipping existing file: /content/drive/My Drive/bible_audio_processed/2_Samuel/011/kjv/kjv-audio-bible.m4a from /content/drive/My Drive/kjv_audio/10_2_Samuel_Chapters_01-24/The Holy Bible - 2 Samuel Chapter 11 (KJV).m4a\n",
            "Skipping existing file: /content/drive/My Drive/bible_audio_processed/2_Samuel/012/kjv/kjv-audio-bible.m4a from /content/drive/My Drive/kjv_audio/10_2_Samuel_Chapters_01-24/The Holy Bible - 2 Samuel Chapter 12 (KJV).m4a\n",
            "Skipping existing file: /content/drive/My Drive/bible_audio_processed/2_Samuel/013/kjv/kjv-audio-bible.m4a from /content/drive/My Drive/kjv_audio/10_2_Samuel_Chapters_01-24/The Holy Bible - 2 Samuel Chapter 13 (KJV).m4a\n",
            "Skipping existing file: /content/drive/My Drive/bible_audio_processed/2_Samuel/014/kjv/kjv-audio-bible.m4a from /content/drive/My Drive/kjv_audio/10_2_Samuel_Chapters_01-24/The Holy Bible - 2 Samuel Chapter 14 (KJV).m4a\n",
            "Skipping existing file: /content/drive/My Drive/bible_audio_processed/2_Samuel/015/kjv/kjv-audio-bible.m4a from /content/drive/My Drive/kjv_audio/10_2_Samuel_Chapters_01-24/The Holy Bible - 2 Samuel Chapter 15 (KJV).m4a\n",
            "Skipping existing file: /content/drive/My Drive/bible_audio_processed/2_Samuel/016/kjv/kjv-audio-bible.m4a from /content/drive/My Drive/kjv_audio/10_2_Samuel_Chapters_01-24/The Holy Bible - 2 Samuel Chapter 16 (KJV).m4a\n",
            "Skipping existing file: /content/drive/My Drive/bible_audio_processed/2_Samuel/017/kjv/kjv-audio-bible.m4a from /content/drive/My Drive/kjv_audio/10_2_Samuel_Chapters_01-24/The Holy Bible - 2 Samuel Chapter 17 (KJV).m4a\n",
            "Skipping existing file: /content/drive/My Drive/bible_audio_processed/2_Samuel/018/kjv/kjv-audio-bible.m4a from /content/drive/My Drive/kjv_audio/10_2_Samuel_Chapters_01-24/The Holy Bible - 2 Samuel Chapter 18 (KJV).m4a\n",
            "Skipping existing file: /content/drive/My Drive/bible_audio_processed/2_Samuel/019/kjv/kjv-audio-bible.m4a from /content/drive/My Drive/kjv_audio/10_2_Samuel_Chapters_01-24/The Holy Bible - 2 Samuel Chapter 19 (KJV).m4a\n",
            "Skipping existing file: /content/drive/My Drive/bible_audio_processed/2_Samuel/020/kjv/kjv-audio-bible.m4a from /content/drive/My Drive/kjv_audio/10_2_Samuel_Chapters_01-24/The Holy Bible - 2 Samuel Chapter 20 (KJV).m4a\n",
            "Skipping existing file: /content/drive/My Drive/bible_audio_processed/2_Samuel/021/kjv/kjv-audio-bible.m4a from /content/drive/My Drive/kjv_audio/10_2_Samuel_Chapters_01-24/The Holy Bible - 2 Samuel Chapter 21 (KJV).m4a\n",
            "Skipping existing file: /content/drive/My Drive/bible_audio_processed/2_Samuel/022/kjv/kjv-audio-bible.m4a from /content/drive/My Drive/kjv_audio/10_2_Samuel_Chapters_01-24/The Holy Bible - 2 Samuel Chapter 22 (KJV).m4a\n",
            "Skipping existing file: /content/drive/My Drive/bible_audio_processed/2_Samuel/023/kjv/kjv-audio-bible.m4a from /content/drive/My Drive/kjv_audio/10_2_Samuel_Chapters_01-24/The Holy Bible - 2 Samuel Chapter 23 (KJV).m4a\n",
            "Skipping existing file: /content/drive/My Drive/bible_audio_processed/2_Samuel/024/kjv/kjv-audio-bible.m4a from /content/drive/My Drive/kjv_audio/10_2_Samuel_Chapters_01-24/The Holy Bible - 2 Samuel Chapter 24 (KJV).m4a\n",
            "Skipping existing file: /content/drive/My Drive/bible_audio_processed/1_Kings/001/kjv/kjv-audio-bible.m4a from /content/drive/My Drive/kjv_audio/11_1_Kings_Chapters_01-22/The Holy Bible - 1 Kings Chapter 1 (KJV).m4a\n",
            "Skipping existing file: /content/drive/My Drive/bible_audio_processed/1_Kings/002/kjv/kjv-audio-bible.m4a from /content/drive/My Drive/kjv_audio/11_1_Kings_Chapters_01-22/The Holy Bible - 1 Kings Chapter 2 (KJV).m4a\n",
            "Skipping existing file: /content/drive/My Drive/bible_audio_processed/1_Kings/003/kjv/kjv-audio-bible.m4a from /content/drive/My Drive/kjv_audio/11_1_Kings_Chapters_01-22/The Holy Bible - 1 Kings Chapter 3 (KJV).m4a\n",
            "Skipping existing file: /content/drive/My Drive/bible_audio_processed/1_Kings/004/kjv/kjv-audio-bible.m4a from /content/drive/My Drive/kjv_audio/11_1_Kings_Chapters_01-22/The Holy Bible - 1 Kings Chapter 4 (KJV).m4a\n",
            "Skipping existing file: /content/drive/My Drive/bible_audio_processed/1_Kings/005/kjv/kjv-audio-bible.m4a from /content/drive/My Drive/kjv_audio/11_1_Kings_Chapters_01-22/The Holy Bible - 1 Kings Chapter 5 (KJV).m4a\n",
            "Skipping existing file: /content/drive/My Drive/bible_audio_processed/1_Kings/006/kjv/kjv-audio-bible.m4a from /content/drive/My Drive/kjv_audio/11_1_Kings_Chapters_01-22/The Holy Bible - 1 Kings Chapter 6 (KJV).m4a\n",
            "Skipping existing file: /content/drive/My Drive/bible_audio_processed/1_Kings/007/kjv/kjv-audio-bible.m4a from /content/drive/My Drive/kjv_audio/11_1_Kings_Chapters_01-22/The Holy Bible - 1 Kings Chapter 7 (KJV).m4a\n",
            "Skipping existing file: /content/drive/My Drive/bible_audio_processed/1_Kings/008/kjv/kjv-audio-bible.m4a from /content/drive/My Drive/kjv_audio/11_1_Kings_Chapters_01-22/The Holy Bible - 1 Kings Chapter 8 (KJV).m4a\n",
            "Skipping existing file: /content/drive/My Drive/bible_audio_processed/1_Kings/009/kjv/kjv-audio-bible.m4a from /content/drive/My Drive/kjv_audio/11_1_Kings_Chapters_01-22/The Holy Bible - 1 Kings Chapter 9 (KJV).m4a\n",
            "Skipping existing file: /content/drive/My Drive/bible_audio_processed/1_Kings/010/kjv/kjv-audio-bible.m4a from /content/drive/My Drive/kjv_audio/11_1_Kings_Chapters_01-22/The Holy Bible - 1 Kings Chapter 10 (KJV).m4a\n",
            "Skipping existing file: /content/drive/My Drive/bible_audio_processed/1_Kings/011/kjv/kjv-audio-bible.m4a from /content/drive/My Drive/kjv_audio/11_1_Kings_Chapters_01-22/The Holy Bible - 1 Kings Chapter 11 (KJV).m4a\n",
            "Skipping existing file: /content/drive/My Drive/bible_audio_processed/1_Kings/012/kjv/kjv-audio-bible.m4a from /content/drive/My Drive/kjv_audio/11_1_Kings_Chapters_01-22/The Holy Bible - 1 Kings Chapter 12 (KJV).m4a\n",
            "Skipping existing file: /content/drive/My Drive/bible_audio_processed/1_Kings/013/kjv/kjv-audio-bible.m4a from /content/drive/My Drive/kjv_audio/11_1_Kings_Chapters_01-22/The Holy Bible - 1 Kings Chapter 13 (KJV).m4a\n",
            "Skipping existing file: /content/drive/My Drive/bible_audio_processed/1_Kings/014/kjv/kjv-audio-bible.m4a from /content/drive/My Drive/kjv_audio/11_1_Kings_Chapters_01-22/The Holy Bible - 1 Kings Chapter 14 (KJV).m4a\n",
            "Skipping existing file: /content/drive/My Drive/bible_audio_processed/1_Kings/015/kjv/kjv-audio-bible.m4a from /content/drive/My Drive/kjv_audio/11_1_Kings_Chapters_01-22/The Holy Bible - 1 Kings Chapter 15 (KJV).m4a\n",
            "Skipping existing file: /content/drive/My Drive/bible_audio_processed/1_Kings/016/kjv/kjv-audio-bible.m4a from /content/drive/My Drive/kjv_audio/11_1_Kings_Chapters_01-22/The Holy Bible - 1 Kings Chapter 16 (KJV).m4a\n",
            "Skipping existing file: /content/drive/My Drive/bible_audio_processed/1_Kings/017/kjv/kjv-audio-bible.m4a from /content/drive/My Drive/kjv_audio/11_1_Kings_Chapters_01-22/The Holy Bible - 1 Kings Chapter 17 (KJV).m4a\n",
            "Skipping existing file: /content/drive/My Drive/bible_audio_processed/1_Kings/018/kjv/kjv-audio-bible.m4a from /content/drive/My Drive/kjv_audio/11_1_Kings_Chapters_01-22/The Holy Bible - 1 Kings Chapter 18 (KJV).m4a\n",
            "Skipping existing file: /content/drive/My Drive/bible_audio_processed/1_Kings/019/kjv/kjv-audio-bible.m4a from /content/drive/My Drive/kjv_audio/11_1_Kings_Chapters_01-22/The Holy Bible - 1 Kings Chapter 19 (KJV).m4a\n",
            "Skipping existing file: /content/drive/My Drive/bible_audio_processed/1_Kings/020/kjv/kjv-audio-bible.m4a from /content/drive/My Drive/kjv_audio/11_1_Kings_Chapters_01-22/The Holy Bible - 1 Kings Chapter 20 (KJV).m4a\n",
            "Skipping existing file: /content/drive/My Drive/bible_audio_processed/1_Kings/021/kjv/kjv-audio-bible.m4a from /content/drive/My Drive/kjv_audio/11_1_Kings_Chapters_01-22/The Holy Bible - 1 Kings Chapter 21 (KJV).m4a\n",
            "Skipping existing file: /content/drive/My Drive/bible_audio_processed/1_Kings/022/kjv/kjv-audio-bible.m4a from /content/drive/My Drive/kjv_audio/11_1_Kings_Chapters_01-22/The Holy Bible - 1 Kings Chapter 22 (KJV).m4a\n",
            "Skipping existing file: /content/drive/My Drive/bible_audio_processed/2_Kings/001/kjv/kjv-audio-bible.m4a from /content/drive/My Drive/kjv_audio/12_2_Kings_Chapters_01-25/The Holy Bible - 2 Kings Chapter 1 (KJV).m4a\n",
            "Skipping existing file: /content/drive/My Drive/bible_audio_processed/2_Kings/002/kjv/kjv-audio-bible.m4a from /content/drive/My Drive/kjv_audio/12_2_Kings_Chapters_01-25/The Holy Bible - 2 Kings Chapter 2 (KJV).m4a\n",
            "Skipping existing file: /content/drive/My Drive/bible_audio_processed/2_Kings/003/kjv/kjv-audio-bible.m4a from /content/drive/My Drive/kjv_audio/12_2_Kings_Chapters_01-25/The Holy Bible - 2 Kings Chapter 3 (KJV).m4a\n",
            "Skipping existing file: /content/drive/My Drive/bible_audio_processed/2_Kings/004/kjv/kjv-audio-bible.m4a from /content/drive/My Drive/kjv_audio/12_2_Kings_Chapters_01-25/The Holy Bible - 2 Kings Chapter 4 (KJV).m4a\n",
            "Skipping existing file: /content/drive/My Drive/bible_audio_processed/2_Kings/005/kjv/kjv-audio-bible.m4a from /content/drive/My Drive/kjv_audio/12_2_Kings_Chapters_01-25/The Holy Bible - 2 Kings Chapter 5 (KJV).m4a\n",
            "Skipping existing file: /content/drive/My Drive/bible_audio_processed/2_Kings/006/kjv/kjv-audio-bible.m4a from /content/drive/My Drive/kjv_audio/12_2_Kings_Chapters_01-25/The Holy Bible - 2 Kings Chapter 6 (KJV).m4a\n",
            "Skipping existing file: /content/drive/My Drive/bible_audio_processed/2_Kings/007/kjv/kjv-audio-bible.m4a from /content/drive/My Drive/kjv_audio/12_2_Kings_Chapters_01-25/The Holy Bible - 2 Kings Chapter 7 (KJV).m4a\n",
            "Skipping existing file: /content/drive/My Drive/bible_audio_processed/2_Kings/008/kjv/kjv-audio-bible.m4a from /content/drive/My Drive/kjv_audio/12_2_Kings_Chapters_01-25/The Holy Bible - 2 Kings Chapter 8 (KJV).m4a\n",
            "Skipping existing file: /content/drive/My Drive/bible_audio_processed/2_Kings/009/kjv/kjv-audio-bible.m4a from /content/drive/My Drive/kjv_audio/12_2_Kings_Chapters_01-25/The Holy Bible - 2 Kings Chapter 9 (KJV).m4a\n",
            "Skipping existing file: /content/drive/My Drive/bible_audio_processed/2_Kings/010/kjv/kjv-audio-bible.m4a from /content/drive/My Drive/kjv_audio/12_2_Kings_Chapters_01-25/The Holy Bible - 2 Kings Chapter 10 (KJV).m4a\n",
            "Skipping existing file: /content/drive/My Drive/bible_audio_processed/2_Kings/011/kjv/kjv-audio-bible.m4a from /content/drive/My Drive/kjv_audio/12_2_Kings_Chapters_01-25/The Holy Bible - 2 Kings Chapter 11 (KJV).m4a\n",
            "Skipping existing file: /content/drive/My Drive/bible_audio_processed/2_Kings/012/kjv/kjv-audio-bible.m4a from /content/drive/My Drive/kjv_audio/12_2_Kings_Chapters_01-25/The Holy Bible - 2 Kings Chapter 12 (KJV).m4a\n",
            "Skipping existing file: /content/drive/My Drive/bible_audio_processed/2_Kings/013/kjv/kjv-audio-bible.m4a from /content/drive/My Drive/kjv_audio/12_2_Kings_Chapters_01-25/The Holy Bible - 2 Kings Chapter 13 (KJV).m4a\n",
            "Skipping existing file: /content/drive/My Drive/bible_audio_processed/2_Kings/014/kjv/kjv-audio-bible.m4a from /content/drive/My Drive/kjv_audio/12_2_Kings_Chapters_01-25/The Holy Bible - 2 Kings Chapter 14 (KJV).m4a\n",
            "Skipping existing file: /content/drive/My Drive/bible_audio_processed/2_Kings/015/kjv/kjv-audio-bible.m4a from /content/drive/My Drive/kjv_audio/12_2_Kings_Chapters_01-25/The Holy Bible - 2 Kings Chapter 15 (KJV).m4a\n",
            "Skipping existing file: /content/drive/My Drive/bible_audio_processed/2_Kings/016/kjv/kjv-audio-bible.m4a from /content/drive/My Drive/kjv_audio/12_2_Kings_Chapters_01-25/The Holy Bible - 2 Kings Chapter 16 (KJV).m4a\n",
            "Skipping existing file: /content/drive/My Drive/bible_audio_processed/2_Kings/017/kjv/kjv-audio-bible.m4a from /content/drive/My Drive/kjv_audio/12_2_Kings_Chapters_01-25/The Holy Bible - 2 Kings Chapter 17 (KJV).m4a\n",
            "Skipping existing file: /content/drive/My Drive/bible_audio_processed/2_Kings/018/kjv/kjv-audio-bible.m4a from /content/drive/My Drive/kjv_audio/12_2_Kings_Chapters_01-25/The Holy Bible - 2 Kings Chapter 18 (KJV).m4a\n",
            "Skipping existing file: /content/drive/My Drive/bible_audio_processed/2_Kings/019/kjv/kjv-audio-bible.m4a from /content/drive/My Drive/kjv_audio/12_2_Kings_Chapters_01-25/The Holy Bible - 2 KIngs Chapter 19 (KJV).m4a\n",
            "Skipping existing file: /content/drive/My Drive/bible_audio_processed/2_Kings/020/kjv/kjv-audio-bible.m4a from /content/drive/My Drive/kjv_audio/12_2_Kings_Chapters_01-25/The Holy Bible - 2 KIngs Chapter 20 (KJV).m4a\n",
            "Skipping existing file: /content/drive/My Drive/bible_audio_processed/2_Kings/021/kjv/kjv-audio-bible.m4a from /content/drive/My Drive/kjv_audio/12_2_Kings_Chapters_01-25/The Holy Bible - 2 KIngs Chapter 21 (KJV).m4a\n",
            "Skipping existing file: /content/drive/My Drive/bible_audio_processed/2_Kings/022/kjv/kjv-audio-bible.m4a from /content/drive/My Drive/kjv_audio/12_2_Kings_Chapters_01-25/The Holy Bible - 2 KIngs Chapter 22 (KJV).m4a\n",
            "Skipping existing file: /content/drive/My Drive/bible_audio_processed/2_Kings/023/kjv/kjv-audio-bible.m4a from /content/drive/My Drive/kjv_audio/12_2_Kings_Chapters_01-25/The Holy Bible - 2 KIngs Chapter 23 (KJV).m4a\n",
            "Skipping existing file: /content/drive/My Drive/bible_audio_processed/2_Kings/024/kjv/kjv-audio-bible.m4a from /content/drive/My Drive/kjv_audio/12_2_Kings_Chapters_01-25/The Holy Bible - 2 KIngs Chapter 24 (KJV).m4a\n",
            "Skipping existing file: /content/drive/My Drive/bible_audio_processed/2_Kings/025/kjv/kjv-audio-bible.m4a from /content/drive/My Drive/kjv_audio/12_2_Kings_Chapters_01-25/The Holy Bible - 2 KIngs Chapter 25 (KJV).m4a\n",
            "Skipping existing file: /content/drive/My Drive/bible_audio_processed/1_Chronicles/001/kjv/kjv-audio-bible.m4a from /content/drive/My Drive/kjv_audio/13_1_Chronicles_Chapters_01-29/The Holy Bible - 1 Chronicles Chapter 1 (KJV).m4a\n",
            "Skipping existing file: /content/drive/My Drive/bible_audio_processed/1_Chronicles/002/kjv/kjv-audio-bible.m4a from /content/drive/My Drive/kjv_audio/13_1_Chronicles_Chapters_01-29/The Holy Bible - 1 Chronicles Chapter 2 (KJV).m4a\n",
            "Skipping existing file: /content/drive/My Drive/bible_audio_processed/1_Chronicles/003/kjv/kjv-audio-bible.m4a from /content/drive/My Drive/kjv_audio/13_1_Chronicles_Chapters_01-29/The Holy Bible - 1 Chronicles Chapter 3 (KJV).m4a\n",
            "Skipping existing file: /content/drive/My Drive/bible_audio_processed/1_Chronicles/004/kjv/kjv-audio-bible.m4a from /content/drive/My Drive/kjv_audio/13_1_Chronicles_Chapters_01-29/The Holy Bible - 1 Chronicles Chapter 4 (KJV).m4a\n",
            "Skipping existing file: /content/drive/My Drive/bible_audio_processed/1_Chronicles/005/kjv/kjv-audio-bible.m4a from /content/drive/My Drive/kjv_audio/13_1_Chronicles_Chapters_01-29/The Holy Bible - 1 Chronicles Chapter 5 (KJV).m4a\n",
            "Skipping existing file: /content/drive/My Drive/bible_audio_processed/1_Chronicles/006/kjv/kjv-audio-bible.m4a from /content/drive/My Drive/kjv_audio/13_1_Chronicles_Chapters_01-29/The Holy Bible - 1 Chronicles Chapter 6 (KJV).m4a\n",
            "Skipping existing file: /content/drive/My Drive/bible_audio_processed/1_Chronicles/007/kjv/kjv-audio-bible.m4a from /content/drive/My Drive/kjv_audio/13_1_Chronicles_Chapters_01-29/The Holy Bible - 1 Chronicles Chapter 7 (KJV).m4a\n",
            "Skipping existing file: /content/drive/My Drive/bible_audio_processed/1_Chronicles/008/kjv/kjv-audio-bible.m4a from /content/drive/My Drive/kjv_audio/13_1_Chronicles_Chapters_01-29/The Holy Bible - 1 Chronicles Chapter 8 (KJV).m4a\n",
            "Skipping existing file: /content/drive/My Drive/bible_audio_processed/1_Chronicles/009/kjv/kjv-audio-bible.m4a from /content/drive/My Drive/kjv_audio/13_1_Chronicles_Chapters_01-29/The Holy Bible - 1 Chronicles Chapter 9 (KJV).m4a\n",
            "Skipping existing file: /content/drive/My Drive/bible_audio_processed/1_Chronicles/010/kjv/kjv-audio-bible.m4a from /content/drive/My Drive/kjv_audio/13_1_Chronicles_Chapters_01-29/The Holy Bible - 1 Chronicles Chapter 10 (KJV).m4a\n",
            "Skipping existing file: /content/drive/My Drive/bible_audio_processed/1_Chronicles/011/kjv/kjv-audio-bible.m4a from /content/drive/My Drive/kjv_audio/13_1_Chronicles_Chapters_01-29/The Holy Bible - 1 Chronicles Chapter 11 (KJV).m4a\n",
            "Skipping existing file: /content/drive/My Drive/bible_audio_processed/1_Chronicles/012/kjv/kjv-audio-bible.m4a from /content/drive/My Drive/kjv_audio/13_1_Chronicles_Chapters_01-29/The Holy Bible - 1 Chronicles Chapter 12 (KJV).m4a\n",
            "Skipping existing file: /content/drive/My Drive/bible_audio_processed/1_Chronicles/013/kjv/kjv-audio-bible.m4a from /content/drive/My Drive/kjv_audio/13_1_Chronicles_Chapters_01-29/The Holy Bible - 1 Chronicles Chapter 13 (KJV).m4a\n",
            "Skipping existing file: /content/drive/My Drive/bible_audio_processed/1_Chronicles/014/kjv/kjv-audio-bible.m4a from /content/drive/My Drive/kjv_audio/13_1_Chronicles_Chapters_01-29/The Holy Bible - 1 Chronicles Chapter 14 (KJV).m4a\n",
            "Skipping existing file: /content/drive/My Drive/bible_audio_processed/1_Chronicles/015/kjv/kjv-audio-bible.m4a from /content/drive/My Drive/kjv_audio/13_1_Chronicles_Chapters_01-29/The Holy Bible - 1 Chronicles Chapter 15 (KJV).m4a\n",
            "Skipping existing file: /content/drive/My Drive/bible_audio_processed/1_Chronicles/016/kjv/kjv-audio-bible.m4a from /content/drive/My Drive/kjv_audio/13_1_Chronicles_Chapters_01-29/The Holy Bible - 1 Chronicles Chapter 16 (KJV).m4a\n",
            "Skipping existing file: /content/drive/My Drive/bible_audio_processed/1_Chronicles/017/kjv/kjv-audio-bible.m4a from /content/drive/My Drive/kjv_audio/13_1_Chronicles_Chapters_01-29/The Holy Bible - 1 Chronicles Chapter 17 (KJV).m4a\n",
            "Skipping existing file: /content/drive/My Drive/bible_audio_processed/1_Chronicles/018/kjv/kjv-audio-bible.m4a from /content/drive/My Drive/kjv_audio/13_1_Chronicles_Chapters_01-29/The Holy Bible - 1 Chronicles Chapter 18 (KJV).m4a\n",
            "Skipping existing file: /content/drive/My Drive/bible_audio_processed/1_Chronicles/019/kjv/kjv-audio-bible.m4a from /content/drive/My Drive/kjv_audio/13_1_Chronicles_Chapters_01-29/The Holy Bible - 1 Chronicles Chapter 19 (KJV).m4a\n",
            "Skipping existing file: /content/drive/My Drive/bible_audio_processed/1_Chronicles/020/kjv/kjv-audio-bible.m4a from /content/drive/My Drive/kjv_audio/13_1_Chronicles_Chapters_01-29/The Holy Bible - 1 Chronicles Chapter 20 (KJV).m4a\n",
            "Skipping existing file: /content/drive/My Drive/bible_audio_processed/1_Chronicles/021/kjv/kjv-audio-bible.m4a from /content/drive/My Drive/kjv_audio/13_1_Chronicles_Chapters_01-29/The Holy Bible - 1 Chronicles Chapter 21 (KJV).m4a\n",
            "Skipping existing file: /content/drive/My Drive/bible_audio_processed/1_Chronicles/022/kjv/kjv-audio-bible.m4a from /content/drive/My Drive/kjv_audio/13_1_Chronicles_Chapters_01-29/The Holy Bible - 1 Chronicles Chapter 22 (KJV).m4a\n",
            "Skipping existing file: /content/drive/My Drive/bible_audio_processed/1_Chronicles/023/kjv/kjv-audio-bible.m4a from /content/drive/My Drive/kjv_audio/13_1_Chronicles_Chapters_01-29/The Holy Bible - 1 Chronicles Chapter 23 (KJV).m4a\n",
            "Skipping existing file: /content/drive/My Drive/bible_audio_processed/1_Chronicles/024/kjv/kjv-audio-bible.m4a from /content/drive/My Drive/kjv_audio/13_1_Chronicles_Chapters_01-29/The Holy Bible - 1 Chronicles Chapter 24 (KJV).m4a\n",
            "Skipping existing file: /content/drive/My Drive/bible_audio_processed/1_Chronicles/025/kjv/kjv-audio-bible.m4a from /content/drive/My Drive/kjv_audio/13_1_Chronicles_Chapters_01-29/The Holy Bible - 1 Chronicles Chapter 25 (KJV).m4a\n",
            "Skipping existing file: /content/drive/My Drive/bible_audio_processed/1_Chronicles/026/kjv/kjv-audio-bible.m4a from /content/drive/My Drive/kjv_audio/13_1_Chronicles_Chapters_01-29/The Holy Bible - 1 Chronicles Chapter 26 (KJV).m4a\n",
            "Skipping existing file: /content/drive/My Drive/bible_audio_processed/1_Chronicles/027/kjv/kjv-audio-bible.m4a from /content/drive/My Drive/kjv_audio/13_1_Chronicles_Chapters_01-29/The Holy Bible - 1 Chronicles Chapter 27 (KJV).m4a\n",
            "Skipping existing file: /content/drive/My Drive/bible_audio_processed/1_Chronicles/028/kjv/kjv-audio-bible.m4a from /content/drive/My Drive/kjv_audio/13_1_Chronicles_Chapters_01-29/The Holy Bible - 1 Chronicles Chapter 28 (KJV).m4a\n",
            "Skipping existing file: /content/drive/My Drive/bible_audio_processed/1_Chronicles/029/kjv/kjv-audio-bible.m4a from /content/drive/My Drive/kjv_audio/13_1_Chronicles_Chapters_01-29/The Holy Bible - 1 Chronicles Chapter 29 (KJV).m4a\n",
            "Skipping existing file: /content/drive/My Drive/bible_audio_processed/2_Chronicles/032/kjv/kjv-audio-bible.webm from /content/drive/My Drive/kjv_audio/14_2_Chronicles_Chapters_01-36/The Holy Bible - 2 Chronicles Chapter 32 (KJV).webm\n",
            "Skipping existing file: /content/drive/My Drive/bible_audio_processed/2_Chronicles/001/kjv/kjv-audio-bible.m4a from /content/drive/My Drive/kjv_audio/14_2_Chronicles_Chapters_01-36/The Holy Bible - 2 Chronicles Chapter 1 (KJV).m4a\n",
            "Skipping existing file: /content/drive/My Drive/bible_audio_processed/2_Chronicles/002/kjv/kjv-audio-bible.m4a from /content/drive/My Drive/kjv_audio/14_2_Chronicles_Chapters_01-36/The Holy Bible - 2 Chronicles Chapter 2 (KJV).m4a\n",
            "Skipping existing file: /content/drive/My Drive/bible_audio_processed/2_Chronicles/003/kjv/kjv-audio-bible.m4a from /content/drive/My Drive/kjv_audio/14_2_Chronicles_Chapters_01-36/The Holy Bible - 2 Chronicles Chapter 3 (KJV).m4a\n",
            "Skipping existing file: /content/drive/My Drive/bible_audio_processed/2_Chronicles/004/kjv/kjv-audio-bible.m4a from /content/drive/My Drive/kjv_audio/14_2_Chronicles_Chapters_01-36/The Holy Bible - 2 Chronicles Chapter 4 (KJV).m4a\n",
            "Skipping existing file: /content/drive/My Drive/bible_audio_processed/2_Chronicles/005/kjv/kjv-audio-bible.m4a from /content/drive/My Drive/kjv_audio/14_2_Chronicles_Chapters_01-36/The Holy Bible - 2 Chronicles Chapter 5 (KJV).m4a\n",
            "Skipping existing file: /content/drive/My Drive/bible_audio_processed/2_Chronicles/006/kjv/kjv-audio-bible.m4a from /content/drive/My Drive/kjv_audio/14_2_Chronicles_Chapters_01-36/The Holy Bible - 2 Chronicles Chapter 6 (KJV).m4a\n",
            "Skipping existing file: /content/drive/My Drive/bible_audio_processed/2_Chronicles/007/kjv/kjv-audio-bible.m4a from /content/drive/My Drive/kjv_audio/14_2_Chronicles_Chapters_01-36/The Holy Bible - 2 Chronicles Chapter 7 (KJV).m4a\n",
            "Skipping existing file: /content/drive/My Drive/bible_audio_processed/2_Chronicles/008/kjv/kjv-audio-bible.m4a from /content/drive/My Drive/kjv_audio/14_2_Chronicles_Chapters_01-36/The Holy Bible - 2 Chronicles Chapter 8 (KJV).m4a\n",
            "Skipping existing file: /content/drive/My Drive/bible_audio_processed/2_Chronicles/009/kjv/kjv-audio-bible.m4a from /content/drive/My Drive/kjv_audio/14_2_Chronicles_Chapters_01-36/The Holy Bible - 2 Chronicles Chapter 9 (KJV).m4a\n",
            "Skipping existing file: /content/drive/My Drive/bible_audio_processed/2_Chronicles/010/kjv/kjv-audio-bible.m4a from /content/drive/My Drive/kjv_audio/14_2_Chronicles_Chapters_01-36/The Holy Bible - 2 Chronicles Chapter 10 (KJV).m4a\n",
            "Skipping existing file: /content/drive/My Drive/bible_audio_processed/2_Chronicles/011/kjv/kjv-audio-bible.m4a from /content/drive/My Drive/kjv_audio/14_2_Chronicles_Chapters_01-36/The Holy Bible - 2 Chronicles Chapter 11 (KJV).m4a\n",
            "Skipping existing file: /content/drive/My Drive/bible_audio_processed/2_Chronicles/012/kjv/kjv-audio-bible.m4a from /content/drive/My Drive/kjv_audio/14_2_Chronicles_Chapters_01-36/The Holy Bible - 2 Chronicles Chapter 12 (KJV).m4a\n",
            "Skipping existing file: /content/drive/My Drive/bible_audio_processed/2_Chronicles/013/kjv/kjv-audio-bible.m4a from /content/drive/My Drive/kjv_audio/14_2_Chronicles_Chapters_01-36/The Holy Bible - 2 Chronicles Chapter 13 (KJV).m4a\n",
            "Skipping existing file: /content/drive/My Drive/bible_audio_processed/2_Chronicles/014/kjv/kjv-audio-bible.m4a from /content/drive/My Drive/kjv_audio/14_2_Chronicles_Chapters_01-36/The Holy Bible - 2 Chronicles Chapter 14 (KJV).m4a\n",
            "Skipping existing file: /content/drive/My Drive/bible_audio_processed/2_Chronicles/015/kjv/kjv-audio-bible.m4a from /content/drive/My Drive/kjv_audio/14_2_Chronicles_Chapters_01-36/The Holy Bible - 2 Chronicles Chapter 15 (KJV).m4a\n",
            "Skipping existing file: /content/drive/My Drive/bible_audio_processed/2_Chronicles/016/kjv/kjv-audio-bible.m4a from /content/drive/My Drive/kjv_audio/14_2_Chronicles_Chapters_01-36/The Holy Bible - 2 Chronicles Chapter 16 (KJV).m4a\n",
            "Skipping existing file: /content/drive/My Drive/bible_audio_processed/2_Chronicles/017/kjv/kjv-audio-bible.m4a from /content/drive/My Drive/kjv_audio/14_2_Chronicles_Chapters_01-36/The Holy Bible - 2 Chronicles Chapter 17 (KJV).m4a\n",
            "Skipping existing file: /content/drive/My Drive/bible_audio_processed/2_Chronicles/018/kjv/kjv-audio-bible.m4a from /content/drive/My Drive/kjv_audio/14_2_Chronicles_Chapters_01-36/The Holy Bible - 2 Chronicles Chapter 18 (KJV).m4a\n",
            "Skipping existing file: /content/drive/My Drive/bible_audio_processed/2_Chronicles/019/kjv/kjv-audio-bible.m4a from /content/drive/My Drive/kjv_audio/14_2_Chronicles_Chapters_01-36/The Holy Bible - 2 Chronicles Chapter 19 (KJV).m4a\n",
            "Skipping existing file: /content/drive/My Drive/bible_audio_processed/2_Chronicles/020/kjv/kjv-audio-bible.m4a from /content/drive/My Drive/kjv_audio/14_2_Chronicles_Chapters_01-36/The Holy Bible - 2 Chronicles Chapter 20 (KJV).m4a\n",
            "Skipping existing file: /content/drive/My Drive/bible_audio_processed/2_Chronicles/021/kjv/kjv-audio-bible.m4a from /content/drive/My Drive/kjv_audio/14_2_Chronicles_Chapters_01-36/The Holy Bible - 2 Chronicles Chapter 21 (KJV).m4a\n",
            "Skipping existing file: /content/drive/My Drive/bible_audio_processed/2_Chronicles/022/kjv/kjv-audio-bible.m4a from /content/drive/My Drive/kjv_audio/14_2_Chronicles_Chapters_01-36/The Holy Bible - 2 Chronicles Chapter 22 (KJV).m4a\n",
            "Skipping existing file: /content/drive/My Drive/bible_audio_processed/2_Chronicles/023/kjv/kjv-audio-bible.m4a from /content/drive/My Drive/kjv_audio/14_2_Chronicles_Chapters_01-36/The Holy Bible - 2 Chronicles Chapter 23 (KJV).m4a\n",
            "Skipping existing file: /content/drive/My Drive/bible_audio_processed/2_Chronicles/024/kjv/kjv-audio-bible.m4a from /content/drive/My Drive/kjv_audio/14_2_Chronicles_Chapters_01-36/The Holy Bible - 2 Chronicles Chapter 24 (KJV).m4a\n",
            "Skipping existing file: /content/drive/My Drive/bible_audio_processed/2_Chronicles/025/kjv/kjv-audio-bible.m4a from /content/drive/My Drive/kjv_audio/14_2_Chronicles_Chapters_01-36/The Holy Bible - 2 Chronicles Chapter 25 (KJV).m4a\n",
            "Skipping existing file: /content/drive/My Drive/bible_audio_processed/2_Chronicles/026/kjv/kjv-audio-bible.m4a from /content/drive/My Drive/kjv_audio/14_2_Chronicles_Chapters_01-36/The Holy Bible - 2 Chronicles Chapter 26 (KJV).m4a\n",
            "Skipping existing file: /content/drive/My Drive/bible_audio_processed/2_Chronicles/027/kjv/kjv-audio-bible.m4a from /content/drive/My Drive/kjv_audio/14_2_Chronicles_Chapters_01-36/The Holy Bible - 2 Chronicles Chapter 27 (KJV).m4a\n",
            "Skipping existing file: /content/drive/My Drive/bible_audio_processed/2_Chronicles/028/kjv/kjv-audio-bible.m4a from /content/drive/My Drive/kjv_audio/14_2_Chronicles_Chapters_01-36/The Holy Bible - 2 Chronicles Chapter 28 (KJV).m4a\n",
            "Skipping existing file: /content/drive/My Drive/bible_audio_processed/2_Chronicles/029/kjv/kjv-audio-bible.m4a from /content/drive/My Drive/kjv_audio/14_2_Chronicles_Chapters_01-36/The Holy Bible - 2 Chronicles Chapter 29 (KJV).m4a\n",
            "Skipping existing file: /content/drive/My Drive/bible_audio_processed/2_Chronicles/030/kjv/kjv-audio-bible.m4a from /content/drive/My Drive/kjv_audio/14_2_Chronicles_Chapters_01-36/The Holy Bible - 2 Chronicles Chapter 30 (KJV).m4a\n",
            "Skipping existing file: /content/drive/My Drive/bible_audio_processed/2_Chronicles/031/kjv/kjv-audio-bible.m4a from /content/drive/My Drive/kjv_audio/14_2_Chronicles_Chapters_01-36/The Holy Bible - 2 Chronicles Chapter 31 (KJV).m4a\n",
            "Skipping existing file: /content/drive/My Drive/bible_audio_processed/2_Chronicles/033/kjv/kjv-audio-bible.m4a from /content/drive/My Drive/kjv_audio/14_2_Chronicles_Chapters_01-36/The Holy Bible - 2 Chronicles Chapter 33 (KJV).m4a\n",
            "Skipping existing file: /content/drive/My Drive/bible_audio_processed/2_Chronicles/034/kjv/kjv-audio-bible.m4a from /content/drive/My Drive/kjv_audio/14_2_Chronicles_Chapters_01-36/The Holy Bible - 2 Chronicles Chapter 34 (KJV).m4a\n",
            "Skipping existing file: /content/drive/My Drive/bible_audio_processed/2_Chronicles/035/kjv/kjv-audio-bible.m4a from /content/drive/My Drive/kjv_audio/14_2_Chronicles_Chapters_01-36/The Holy Bible - 2 Chronicles Chapter 35 (KJV).m4a\n",
            "Skipping existing file: /content/drive/My Drive/bible_audio_processed/2_Chronicles/036/kjv/kjv-audio-bible.m4a from /content/drive/My Drive/kjv_audio/14_2_Chronicles_Chapters_01-36/The Holy Bible - 2 Chronicles Chapter 36 (KJV).m4a\n",
            "Skipping existing file: /content/drive/My Drive/bible_audio_processed/Ezra/001/kjv/kjv-audio-bible.m4a from /content/drive/My Drive/kjv_audio/15_Ezra_Chapters_01-10/The Holy Bible - Ezra Chapter 1 (KJV).m4a\n",
            "Skipping existing file: /content/drive/My Drive/bible_audio_processed/Ezra/002/kjv/kjv-audio-bible.m4a from /content/drive/My Drive/kjv_audio/15_Ezra_Chapters_01-10/The Holy Bible - Ezra Chapter 2 (KJV).m4a\n",
            "Skipping existing file: /content/drive/My Drive/bible_audio_processed/Ezra/003/kjv/kjv-audio-bible.m4a from /content/drive/My Drive/kjv_audio/15_Ezra_Chapters_01-10/The Holy Bible - Ezra Chapter 3 (KJV).m4a\n",
            "Skipping existing file: /content/drive/My Drive/bible_audio_processed/Ezra/004/kjv/kjv-audio-bible.m4a from /content/drive/My Drive/kjv_audio/15_Ezra_Chapters_01-10/The Holy Bible - Ezra Chapter 4 (KJV).m4a\n",
            "Skipping existing file: /content/drive/My Drive/bible_audio_processed/Ezra/005/kjv/kjv-audio-bible.m4a from /content/drive/My Drive/kjv_audio/15_Ezra_Chapters_01-10/The Holy Bible - Ezra Chapter 5 (KJV).m4a\n",
            "Skipping existing file: /content/drive/My Drive/bible_audio_processed/Ezra/006/kjv/kjv-audio-bible.m4a from /content/drive/My Drive/kjv_audio/15_Ezra_Chapters_01-10/The Holy Bible - Ezra Chapter 6 (KJV).m4a\n",
            "Skipping existing file: /content/drive/My Drive/bible_audio_processed/Ezra/007/kjv/kjv-audio-bible.m4a from /content/drive/My Drive/kjv_audio/15_Ezra_Chapters_01-10/The Holy Bible - Ezra Chapter 7 (KJV).m4a\n",
            "Skipping existing file: /content/drive/My Drive/bible_audio_processed/Ezra/008/kjv/kjv-audio-bible.m4a from /content/drive/My Drive/kjv_audio/15_Ezra_Chapters_01-10/The Holy Bible - Ezra Chapter 8 (KJV).m4a\n",
            "Skipping existing file: /content/drive/My Drive/bible_audio_processed/Ezra/009/kjv/kjv-audio-bible.m4a from /content/drive/My Drive/kjv_audio/15_Ezra_Chapters_01-10/The Holy Bible - Ezra Chapter 9 (KJV).m4a\n",
            "Skipping existing file: /content/drive/My Drive/bible_audio_processed/Ezra/010/kjv/kjv-audio-bible.m4a from /content/drive/My Drive/kjv_audio/15_Ezra_Chapters_01-10/The Holy Bible - Ezra Chapter 10 (KJV).m4a\n",
            "Skipping existing file: /content/drive/My Drive/bible_audio_processed/Nehemiah/001/kjv/kjv-audio-bible.m4a from /content/drive/My Drive/kjv_audio/16_Nehemiah_Chapters_01-13/The Holy Bible - Nehemiah Chapter 1 (KJV).m4a\n",
            "Skipping existing file: /content/drive/My Drive/bible_audio_processed/Nehemiah/002/kjv/kjv-audio-bible.m4a from /content/drive/My Drive/kjv_audio/16_Nehemiah_Chapters_01-13/The Holy Bible - Nehemiah Chapter 2 (KJV).m4a\n",
            "Skipping existing file: /content/drive/My Drive/bible_audio_processed/Nehemiah/003/kjv/kjv-audio-bible.m4a from /content/drive/My Drive/kjv_audio/16_Nehemiah_Chapters_01-13/The Holy Bible - Nehemiah Chapter 3 (KJV).m4a\n",
            "Skipping existing file: /content/drive/My Drive/bible_audio_processed/Nehemiah/004/kjv/kjv-audio-bible.m4a from /content/drive/My Drive/kjv_audio/16_Nehemiah_Chapters_01-13/The Holy Bible - Nehemiah Chapter 4 (KJV).m4a\n",
            "Skipping existing file: /content/drive/My Drive/bible_audio_processed/Nehemiah/005/kjv/kjv-audio-bible.m4a from /content/drive/My Drive/kjv_audio/16_Nehemiah_Chapters_01-13/The Holy Bible - Nehemiah Chapter 5 (KJV).m4a\n",
            "Skipping existing file: /content/drive/My Drive/bible_audio_processed/Nehemiah/006/kjv/kjv-audio-bible.m4a from /content/drive/My Drive/kjv_audio/16_Nehemiah_Chapters_01-13/The Holy Bible - Nehemiah Chapter 6 (KJV).m4a\n",
            "Skipping existing file: /content/drive/My Drive/bible_audio_processed/Nehemiah/007/kjv/kjv-audio-bible.m4a from /content/drive/My Drive/kjv_audio/16_Nehemiah_Chapters_01-13/The Holy Bible - Nehemiah Chapter 7 (KJV).m4a\n",
            "Skipping existing file: /content/drive/My Drive/bible_audio_processed/Nehemiah/008/kjv/kjv-audio-bible.m4a from /content/drive/My Drive/kjv_audio/16_Nehemiah_Chapters_01-13/The Holy Bible - Nehemiah Chapter 8 (KJV).m4a\n",
            "Skipping existing file: /content/drive/My Drive/bible_audio_processed/Nehemiah/009/kjv/kjv-audio-bible.m4a from /content/drive/My Drive/kjv_audio/16_Nehemiah_Chapters_01-13/The Holy Bible - Nehemiah Chapter 9 (KJV).m4a\n",
            "Skipping existing file: /content/drive/My Drive/bible_audio_processed/Nehemiah/010/kjv/kjv-audio-bible.m4a from /content/drive/My Drive/kjv_audio/16_Nehemiah_Chapters_01-13/The Holy Bible - Nehemiah Chapter 10 (KJV).m4a\n",
            "Skipping existing file: /content/drive/My Drive/bible_audio_processed/Nehemiah/011/kjv/kjv-audio-bible.m4a from /content/drive/My Drive/kjv_audio/16_Nehemiah_Chapters_01-13/The Holy Bible - Nehemiah Chapter 11 (KJV).m4a\n",
            "Skipping existing file: /content/drive/My Drive/bible_audio_processed/Nehemiah/012/kjv/kjv-audio-bible.m4a from /content/drive/My Drive/kjv_audio/16_Nehemiah_Chapters_01-13/The Holy Bible - Nehemiah Chapter 12 (KJV).m4a\n",
            "Skipping existing file: /content/drive/My Drive/bible_audio_processed/Nehemiah/013/kjv/kjv-audio-bible.m4a from /content/drive/My Drive/kjv_audio/16_Nehemiah_Chapters_01-13/The Holy Bible - Nehemiah Chapter 13 (KJV).m4a\n",
            "Skipping existing file: /content/drive/My Drive/bible_audio_processed/Esther/001/kjv/kjv-audio-bible.m4a from /content/drive/My Drive/kjv_audio/17_Esther_Chapters_01-10/The Holy Bible - Esther Chapter 1 (KJV).m4a\n",
            "Skipping existing file: /content/drive/My Drive/bible_audio_processed/Esther/002/kjv/kjv-audio-bible.m4a from /content/drive/My Drive/kjv_audio/17_Esther_Chapters_01-10/The Holy Bible - Esther Chapter 2 (KJV).m4a\n",
            "Skipping existing file: /content/drive/My Drive/bible_audio_processed/Esther/003/kjv/kjv-audio-bible.m4a from /content/drive/My Drive/kjv_audio/17_Esther_Chapters_01-10/The Holy Bible - Esther Chapter 3 (KJV).m4a\n",
            "Skipping existing file: /content/drive/My Drive/bible_audio_processed/Esther/004/kjv/kjv-audio-bible.m4a from /content/drive/My Drive/kjv_audio/17_Esther_Chapters_01-10/The Holy Bible - Esther Chapter 4 (KJV).m4a\n",
            "Skipping existing file: /content/drive/My Drive/bible_audio_processed/Esther/005/kjv/kjv-audio-bible.m4a from /content/drive/My Drive/kjv_audio/17_Esther_Chapters_01-10/The Holy Bible - Esther Chapter 5 (KJV).m4a\n",
            "Skipping existing file: /content/drive/My Drive/bible_audio_processed/Esther/006/kjv/kjv-audio-bible.m4a from /content/drive/My Drive/kjv_audio/17_Esther_Chapters_01-10/The Holy Bible - Esther Chapter 6 (KJV).m4a\n",
            "Skipping existing file: /content/drive/My Drive/bible_audio_processed/Esther/007/kjv/kjv-audio-bible.m4a from /content/drive/My Drive/kjv_audio/17_Esther_Chapters_01-10/The Holy Bible - Esther Chapter 7 (KJV).m4a\n",
            "Skipping existing file: /content/drive/My Drive/bible_audio_processed/Esther/008/kjv/kjv-audio-bible.m4a from /content/drive/My Drive/kjv_audio/17_Esther_Chapters_01-10/The Holy Bible - Esther Chapter 8 (KJV).m4a\n",
            "Skipping existing file: /content/drive/My Drive/bible_audio_processed/Esther/009/kjv/kjv-audio-bible.m4a from /content/drive/My Drive/kjv_audio/17_Esther_Chapters_01-10/The Holy Bible - Esther Chapter 9 (KJV).m4a\n",
            "Skipping existing file: /content/drive/My Drive/bible_audio_processed/Esther/010/kjv/kjv-audio-bible.m4a from /content/drive/My Drive/kjv_audio/17_Esther_Chapters_01-10/The Holy Bible - Esther Chapter 10 (KJV).m4a\n",
            "Skipping existing file: /content/drive/My Drive/bible_audio_processed/Job/001/kjv/kjv-audio-bible.m4a from /content/drive/My Drive/kjv_audio/18_Job_Chapters_01-42/The Holy Bible - Job Chapter 1 (KJV).m4a\n",
            "Skipping existing file: /content/drive/My Drive/bible_audio_processed/Job/002/kjv/kjv-audio-bible.m4a from /content/drive/My Drive/kjv_audio/18_Job_Chapters_01-42/The Holy Bible - Job Chapter 2 (KJV).m4a\n",
            "Skipping existing file: /content/drive/My Drive/bible_audio_processed/Job/003/kjv/kjv-audio-bible.m4a from /content/drive/My Drive/kjv_audio/18_Job_Chapters_01-42/The Holy Bible - Job Chapter 3 (KJV).m4a\n",
            "Skipping existing file: /content/drive/My Drive/bible_audio_processed/Job/004/kjv/kjv-audio-bible.m4a from /content/drive/My Drive/kjv_audio/18_Job_Chapters_01-42/The Holy Bible - Job Chapter 4 (KJV).m4a\n",
            "Skipping existing file: /content/drive/My Drive/bible_audio_processed/Job/005/kjv/kjv-audio-bible.m4a from /content/drive/My Drive/kjv_audio/18_Job_Chapters_01-42/The Holy Bible - Job Chapter 5 (KJV).m4a\n",
            "Skipping existing file: /content/drive/My Drive/bible_audio_processed/Job/006/kjv/kjv-audio-bible.m4a from /content/drive/My Drive/kjv_audio/18_Job_Chapters_01-42/The Holy Bible - Job Chapter 6 (KJV).m4a\n",
            "Skipping existing file: /content/drive/My Drive/bible_audio_processed/Job/007/kjv/kjv-audio-bible.m4a from /content/drive/My Drive/kjv_audio/18_Job_Chapters_01-42/The Holy Bible - Job Chapter 7 (KJV).m4a\n",
            "Skipping existing file: /content/drive/My Drive/bible_audio_processed/Job/008/kjv/kjv-audio-bible.m4a from /content/drive/My Drive/kjv_audio/18_Job_Chapters_01-42/The Holy Bible - Job Chapter 8 (KJV).m4a\n",
            "Skipping existing file: /content/drive/My Drive/bible_audio_processed/Job/009/kjv/kjv-audio-bible.m4a from /content/drive/My Drive/kjv_audio/18_Job_Chapters_01-42/The Holy Bible - Job Chapter 9 (KJV).m4a\n",
            "Skipping existing file: /content/drive/My Drive/bible_audio_processed/Job/010/kjv/kjv-audio-bible.m4a from /content/drive/My Drive/kjv_audio/18_Job_Chapters_01-42/The Holy Bible - Job Chapter 10 (KJV).m4a\n",
            "Skipping existing file: /content/drive/My Drive/bible_audio_processed/Job/011/kjv/kjv-audio-bible.m4a from /content/drive/My Drive/kjv_audio/18_Job_Chapters_01-42/The Holy Bible - Job Chapter 11 (KJV).m4a\n",
            "Skipping existing file: /content/drive/My Drive/bible_audio_processed/Job/012/kjv/kjv-audio-bible.m4a from /content/drive/My Drive/kjv_audio/18_Job_Chapters_01-42/The Holy Bible - Job Chapter 12 (KJV).m4a\n",
            "Skipping existing file: /content/drive/My Drive/bible_audio_processed/Job/013/kjv/kjv-audio-bible.m4a from /content/drive/My Drive/kjv_audio/18_Job_Chapters_01-42/The Holy Bible - Job Chapter 13 (KJV).m4a\n",
            "Skipping existing file: /content/drive/My Drive/bible_audio_processed/Job/014/kjv/kjv-audio-bible.m4a from /content/drive/My Drive/kjv_audio/18_Job_Chapters_01-42/The Holy Bible - Job Chapter 14 (KJV).m4a\n",
            "Skipping existing file: /content/drive/My Drive/bible_audio_processed/Job/015/kjv/kjv-audio-bible.m4a from /content/drive/My Drive/kjv_audio/18_Job_Chapters_01-42/The Holy Bible - Job Chapter 15 (KJV).m4a\n",
            "Skipping existing file: /content/drive/My Drive/bible_audio_processed/Job/016/kjv/kjv-audio-bible.m4a from /content/drive/My Drive/kjv_audio/18_Job_Chapters_01-42/The Holy Bible - Job Chapter 16 (KJV).m4a\n",
            "Skipping existing file: /content/drive/My Drive/bible_audio_processed/Job/017/kjv/kjv-audio-bible.m4a from /content/drive/My Drive/kjv_audio/18_Job_Chapters_01-42/The Holy Bible - Job Chapter 17 (KJV).m4a\n",
            "Skipping existing file: /content/drive/My Drive/bible_audio_processed/Job/018/kjv/kjv-audio-bible.m4a from /content/drive/My Drive/kjv_audio/18_Job_Chapters_01-42/The Holy Bible - Job Chapter 18 (KJV).m4a\n",
            "Skipping existing file: /content/drive/My Drive/bible_audio_processed/Job/019/kjv/kjv-audio-bible.m4a from /content/drive/My Drive/kjv_audio/18_Job_Chapters_01-42/The Holy Bible - Job Chapter 19 (KJV).m4a\n",
            "Skipping existing file: /content/drive/My Drive/bible_audio_processed/Job/020/kjv/kjv-audio-bible.m4a from /content/drive/My Drive/kjv_audio/18_Job_Chapters_01-42/The Holy Bible - Job Chapter 20 (KJV).m4a\n",
            "Skipping existing file: /content/drive/My Drive/bible_audio_processed/Job/021/kjv/kjv-audio-bible.m4a from /content/drive/My Drive/kjv_audio/18_Job_Chapters_01-42/The Holy Bible - Job Chapter 21 (KJV).m4a\n",
            "Skipping existing file: /content/drive/My Drive/bible_audio_processed/Job/022/kjv/kjv-audio-bible.m4a from /content/drive/My Drive/kjv_audio/18_Job_Chapters_01-42/The Holy Bible - Job Chapter 22 (KJV).m4a\n",
            "Skipping existing file: /content/drive/My Drive/bible_audio_processed/Job/023/kjv/kjv-audio-bible.m4a from /content/drive/My Drive/kjv_audio/18_Job_Chapters_01-42/The Holy Bible - Job Chapter 23 (KJV).m4a\n",
            "Skipping existing file: /content/drive/My Drive/bible_audio_processed/Job/024/kjv/kjv-audio-bible.m4a from /content/drive/My Drive/kjv_audio/18_Job_Chapters_01-42/The Holy Bible - Job Chapter 24 (KJV).m4a\n",
            "Skipping existing file: /content/drive/My Drive/bible_audio_processed/Job/025/kjv/kjv-audio-bible.m4a from /content/drive/My Drive/kjv_audio/18_Job_Chapters_01-42/The Holy Bible - Job Chapter 25 (KJV).m4a\n",
            "Skipping existing file: /content/drive/My Drive/bible_audio_processed/Job/026/kjv/kjv-audio-bible.m4a from /content/drive/My Drive/kjv_audio/18_Job_Chapters_01-42/The Holy Bible - Job Chapter 26 (KJV).m4a\n",
            "Skipping existing file: /content/drive/My Drive/bible_audio_processed/Job/027/kjv/kjv-audio-bible.m4a from /content/drive/My Drive/kjv_audio/18_Job_Chapters_01-42/The Holy Bible - Job Chapter 27 (KJV).m4a\n",
            "Skipping existing file: /content/drive/My Drive/bible_audio_processed/Job/028/kjv/kjv-audio-bible.m4a from /content/drive/My Drive/kjv_audio/18_Job_Chapters_01-42/The Holy Bible - Job Chapter 28 (KJV).m4a\n",
            "Skipping existing file: /content/drive/My Drive/bible_audio_processed/Job/029/kjv/kjv-audio-bible.m4a from /content/drive/My Drive/kjv_audio/18_Job_Chapters_01-42/The Holy Bible - Job Chapter 29 (KJV).m4a\n",
            "Skipping existing file: /content/drive/My Drive/bible_audio_processed/Job/030/kjv/kjv-audio-bible.m4a from /content/drive/My Drive/kjv_audio/18_Job_Chapters_01-42/The Holy Bible - Job Chapter 30 (KJV).m4a\n",
            "Skipping existing file: /content/drive/My Drive/bible_audio_processed/Job/031/kjv/kjv-audio-bible.m4a from /content/drive/My Drive/kjv_audio/18_Job_Chapters_01-42/The Holy Bible - Job Chapter 31 (KJV).m4a\n",
            "Skipping existing file: /content/drive/My Drive/bible_audio_processed/Job/032/kjv/kjv-audio-bible.m4a from /content/drive/My Drive/kjv_audio/18_Job_Chapters_01-42/The Holy Bible - Job Chapter 32 (KJV).m4a\n",
            "Skipping existing file: /content/drive/My Drive/bible_audio_processed/Job/033/kjv/kjv-audio-bible.m4a from /content/drive/My Drive/kjv_audio/18_Job_Chapters_01-42/The Holy Bible - Job Chapter 33 (KJV).m4a\n",
            "Skipping existing file: /content/drive/My Drive/bible_audio_processed/Job/034/kjv/kjv-audio-bible.m4a from /content/drive/My Drive/kjv_audio/18_Job_Chapters_01-42/The Holy Bible - Job Chapter 34 (KJV).m4a\n",
            "Skipping existing file: /content/drive/My Drive/bible_audio_processed/Job/035/kjv/kjv-audio-bible.m4a from /content/drive/My Drive/kjv_audio/18_Job_Chapters_01-42/The Holy Bible - Job Chapter 35 (KJV).m4a\n",
            "Skipping existing file: /content/drive/My Drive/bible_audio_processed/Job/036/kjv/kjv-audio-bible.m4a from /content/drive/My Drive/kjv_audio/18_Job_Chapters_01-42/The Holy Bible - Job Chapter 36 (KJV).m4a\n",
            "Skipping existing file: /content/drive/My Drive/bible_audio_processed/Job/037/kjv/kjv-audio-bible.m4a from /content/drive/My Drive/kjv_audio/18_Job_Chapters_01-42/The Holy Bible - Job Chapter 37 (KJV).m4a\n",
            "Skipping existing file: /content/drive/My Drive/bible_audio_processed/Job/038/kjv/kjv-audio-bible.m4a from /content/drive/My Drive/kjv_audio/18_Job_Chapters_01-42/The Holy Bible - Job Chapter 38 (KJV).m4a\n",
            "Skipping existing file: /content/drive/My Drive/bible_audio_processed/Job/039/kjv/kjv-audio-bible.m4a from /content/drive/My Drive/kjv_audio/18_Job_Chapters_01-42/The Holy Bible - Job Chapter 39 (KJV).m4a\n",
            "Skipping existing file: /content/drive/My Drive/bible_audio_processed/Job/040/kjv/kjv-audio-bible.m4a from /content/drive/My Drive/kjv_audio/18_Job_Chapters_01-42/The Holy Bible - Job Chapter 40 (KJV).m4a\n",
            "Skipping existing file: /content/drive/My Drive/bible_audio_processed/Job/041/kjv/kjv-audio-bible.m4a from /content/drive/My Drive/kjv_audio/18_Job_Chapters_01-42/The Holy Bible - Job Chapter 41 (KJV).m4a\n",
            "Skipping existing file: /content/drive/My Drive/bible_audio_processed/Job/042/kjv/kjv-audio-bible.m4a from /content/drive/My Drive/kjv_audio/18_Job_Chapters_01-42/The Holy Bible - Job Chapter 42 (KJV).m4a\n",
            "Skipping existing file: /content/drive/My Drive/bible_audio_processed/Proverbs/004/kjv/kjv-audio-bible.webm from /content/drive/My Drive/kjv_audio/20_Proverbs_Chapters_01-31/The Holy Bible - Proverbs Chapter 4 (KJV).webm\n",
            "Skipping existing file: /content/drive/My Drive/bible_audio_processed/Proverbs/003/kjv/kjv-audio-bible.webm from /content/drive/My Drive/kjv_audio/20_Proverbs_Chapters_01-31/The Holy Bible - Proverbs Chapter 3 (KJV).webm\n",
            "Skipping existing file: /content/drive/My Drive/bible_audio_processed/Proverbs/005/kjv/kjv-audio-bible.webm from /content/drive/My Drive/kjv_audio/20_Proverbs_Chapters_01-31/The Holy Bible - Proverbs Chapter 5 (KJV).webm\n",
            "Skipping existing file: /content/drive/My Drive/bible_audio_processed/Proverbs/006/kjv/kjv-audio-bible.webm from /content/drive/My Drive/kjv_audio/20_Proverbs_Chapters_01-31/The Holy Bible - Proverbs Chapter 6 (KJV).webm\n",
            "Skipping existing file: /content/drive/My Drive/bible_audio_processed/Proverbs/007/kjv/kjv-audio-bible.webm from /content/drive/My Drive/kjv_audio/20_Proverbs_Chapters_01-31/The Holy Bible - Proverbs Chapter 7 (KJV).webm\n",
            "Skipping existing file: /content/drive/My Drive/bible_audio_processed/Proverbs/008/kjv/kjv-audio-bible.webm from /content/drive/My Drive/kjv_audio/20_Proverbs_Chapters_01-31/The Holy Bible - Proverbs Chapter 8 (KJV).webm\n",
            "Skipping existing file: /content/drive/My Drive/bible_audio_processed/Proverbs/009/kjv/kjv-audio-bible.webm from /content/drive/My Drive/kjv_audio/20_Proverbs_Chapters_01-31/The Holy Bible - Proverbs Chapter 9 (KJV).webm\n",
            "Skipping existing file: /content/drive/My Drive/bible_audio_processed/Proverbs/010/kjv/kjv-audio-bible.webm from /content/drive/My Drive/kjv_audio/20_Proverbs_Chapters_01-31/The Holy Bible - Proverbs Chapter 10 (KJV).webm\n",
            "Skipping existing file: /content/drive/My Drive/bible_audio_processed/Proverbs/011/kjv/kjv-audio-bible.webm from /content/drive/My Drive/kjv_audio/20_Proverbs_Chapters_01-31/The Holy Bible - Proverbs Chapter 11 (KJV).webm\n",
            "Skipping existing file: /content/drive/My Drive/bible_audio_processed/Proverbs/012/kjv/kjv-audio-bible.webm from /content/drive/My Drive/kjv_audio/20_Proverbs_Chapters_01-31/The Holy Bible - Proverbs Chapter 12 (KJV).webm\n",
            "Skipping existing file: /content/drive/My Drive/bible_audio_processed/Proverbs/013/kjv/kjv-audio-bible.webm from /content/drive/My Drive/kjv_audio/20_Proverbs_Chapters_01-31/The Holy Bible - Proverbs Chapter 13 (KJV).webm\n",
            "Skipping existing file: /content/drive/My Drive/bible_audio_processed/Proverbs/014/kjv/kjv-audio-bible.webm from /content/drive/My Drive/kjv_audio/20_Proverbs_Chapters_01-31/The Holy Bible - Proverbs Chapter 14 (KJV).webm\n",
            "Skipping existing file: /content/drive/My Drive/bible_audio_processed/Proverbs/015/kjv/kjv-audio-bible.webm from /content/drive/My Drive/kjv_audio/20_Proverbs_Chapters_01-31/The Holy Bible - Proverbs Chapter 15 (KJV).webm\n",
            "Skipping existing file: /content/drive/My Drive/bible_audio_processed/Proverbs/001/kjv/kjv-audio-bible.m4a from /content/drive/My Drive/kjv_audio/20_Proverbs_Chapters_01-31/The Holy Bible - Proverbs Chapter 1 (KJV).m4a\n",
            "Skipping existing file: /content/drive/My Drive/bible_audio_processed/Proverbs/002/kjv/kjv-audio-bible.m4a from /content/drive/My Drive/kjv_audio/20_Proverbs_Chapters_01-31/The Holy Bible - Proverbs Chapter 2 (KJV).m4a\n",
            "Skipping existing file: /content/drive/My Drive/bible_audio_processed/Proverbs/016/kjv/kjv-audio-bible.m4a from /content/drive/My Drive/kjv_audio/20_Proverbs_Chapters_01-31/The Holy Bible - Proverbs Chapter 16 (KJV).m4a\n",
            "Skipping existing file: /content/drive/My Drive/bible_audio_processed/Proverbs/017/kjv/kjv-audio-bible.m4a from /content/drive/My Drive/kjv_audio/20_Proverbs_Chapters_01-31/The Holy Bible - Proverbs Chapter 17 (KJV).m4a\n",
            "Skipping existing file: /content/drive/My Drive/bible_audio_processed/Proverbs/018/kjv/kjv-audio-bible.m4a from /content/drive/My Drive/kjv_audio/20_Proverbs_Chapters_01-31/The Holy Bible - Proverbs Chapter 18 (KJV).m4a\n",
            "Skipping existing file: /content/drive/My Drive/bible_audio_processed/Proverbs/019/kjv/kjv-audio-bible.m4a from /content/drive/My Drive/kjv_audio/20_Proverbs_Chapters_01-31/The Holy Bible - Proverbs Chapter 19 (KJV).m4a\n",
            "Skipping existing file: /content/drive/My Drive/bible_audio_processed/Proverbs/020/kjv/kjv-audio-bible.m4a from /content/drive/My Drive/kjv_audio/20_Proverbs_Chapters_01-31/The Holy Bible - Proverbs Chapter 20 (KJV).m4a\n",
            "Skipping existing file: /content/drive/My Drive/bible_audio_processed/Proverbs/021/kjv/kjv-audio-bible.m4a from /content/drive/My Drive/kjv_audio/20_Proverbs_Chapters_01-31/The Holy Bible - Proverbs Chapter 21 (KJV).m4a\n",
            "Skipping existing file: /content/drive/My Drive/bible_audio_processed/Proverbs/022/kjv/kjv-audio-bible.m4a from /content/drive/My Drive/kjv_audio/20_Proverbs_Chapters_01-31/The Holy Bible - Proverbs Chapter 22 (KJV).m4a\n",
            "Skipping existing file: /content/drive/My Drive/bible_audio_processed/Proverbs/023/kjv/kjv-audio-bible.m4a from /content/drive/My Drive/kjv_audio/20_Proverbs_Chapters_01-31/The Holy Bible - Proverbs Chapter 23 (KJV).m4a\n",
            "Skipping existing file: /content/drive/My Drive/bible_audio_processed/Proverbs/024/kjv/kjv-audio-bible.m4a from /content/drive/My Drive/kjv_audio/20_Proverbs_Chapters_01-31/The Holy Bible - Proverbs Chapter 24 (KJV).m4a\n",
            "Skipping existing file: /content/drive/My Drive/bible_audio_processed/Proverbs/025/kjv/kjv-audio-bible.m4a from /content/drive/My Drive/kjv_audio/20_Proverbs_Chapters_01-31/The Holy Bible - Proverbs Chapter 25 (KJV).m4a\n",
            "Skipping existing file: /content/drive/My Drive/bible_audio_processed/Proverbs/026/kjv/kjv-audio-bible.m4a from /content/drive/My Drive/kjv_audio/20_Proverbs_Chapters_01-31/The Holy Bible - Proverbs Chapter 26 (KJV).m4a\n",
            "Skipping existing file: /content/drive/My Drive/bible_audio_processed/Proverbs/027/kjv/kjv-audio-bible.m4a from /content/drive/My Drive/kjv_audio/20_Proverbs_Chapters_01-31/The Holy Bible - Proverbs Chapter 27 KJV).m4a\n",
            "Skipping existing file: /content/drive/My Drive/bible_audio_processed/Proverbs/028/kjv/kjv-audio-bible.m4a from /content/drive/My Drive/kjv_audio/20_Proverbs_Chapters_01-31/The Holy Bible - Proverbs Chapter 28 (KJV).m4a\n",
            "Skipping existing file: /content/drive/My Drive/bible_audio_processed/Proverbs/029/kjv/kjv-audio-bible.m4a from /content/drive/My Drive/kjv_audio/20_Proverbs_Chapters_01-31/The Holy Bible - Proverbs Chapter 29 (KJV).m4a\n",
            "Skipping existing file: /content/drive/My Drive/bible_audio_processed/Proverbs/030/kjv/kjv-audio-bible.m4a from /content/drive/My Drive/kjv_audio/20_Proverbs_Chapters_01-31/The Holy Bible - Proverbs Chapter 30 (KJV).m4a\n",
            "Skipping existing file: /content/drive/My Drive/bible_audio_processed/Proverbs/031/kjv/kjv-audio-bible.m4a from /content/drive/My Drive/kjv_audio/20_Proverbs_Chapters_01-31/The Holy Bible - Proverbs Chapter 31 (KJV).m4a\n",
            "Skipping existing file: /content/drive/My Drive/bible_audio_processed/Song_of_Solomon/001/kjv/kjv-audio-bible.m4a from /content/drive/My Drive/kjv_audio/22_Song_of_Solomon_Chapters_01-08/The Holy Bible - Song of Solomon Chapter 1 (KJV).m4a\n",
            "Skipping existing file: /content/drive/My Drive/bible_audio_processed/Song_of_Solomon/002/kjv/kjv-audio-bible.m4a from /content/drive/My Drive/kjv_audio/22_Song_of_Solomon_Chapters_01-08/The Holy Bible - Song of Solomon Chapter 2 (KJV).m4a\n",
            "Skipping existing file: /content/drive/My Drive/bible_audio_processed/Song_of_Solomon/003/kjv/kjv-audio-bible.m4a from /content/drive/My Drive/kjv_audio/22_Song_of_Solomon_Chapters_01-08/The Holy Bible - Song of Solomon Chapter 3 (KJV).m4a\n",
            "Skipping existing file: /content/drive/My Drive/bible_audio_processed/Song_of_Solomon/004/kjv/kjv-audio-bible.m4a from /content/drive/My Drive/kjv_audio/22_Song_of_Solomon_Chapters_01-08/The Holy Bible - Song of Solomon Chapter 4 (KJV).m4a\n",
            "Skipping existing file: /content/drive/My Drive/bible_audio_processed/Song_of_Solomon/005/kjv/kjv-audio-bible.m4a from /content/drive/My Drive/kjv_audio/22_Song_of_Solomon_Chapters_01-08/The Holy Bible - Song of Solomon Chapter 5 (KJV).m4a\n",
            "Skipping existing file: /content/drive/My Drive/bible_audio_processed/Song_of_Solomon/006/kjv/kjv-audio-bible.m4a from /content/drive/My Drive/kjv_audio/22_Song_of_Solomon_Chapters_01-08/The Holy Bible - Song of Solomon Chapter 6 (KJV).m4a\n",
            "Skipping existing file: /content/drive/My Drive/bible_audio_processed/Song_of_Solomon/007/kjv/kjv-audio-bible.m4a from /content/drive/My Drive/kjv_audio/22_Song_of_Solomon_Chapters_01-08/The Holy Bible - Song of Solomon Chapter 7 (KJV).m4a\n",
            "Skipping existing file: /content/drive/My Drive/bible_audio_processed/Song_of_Solomon/008/kjv/kjv-audio-bible.m4a from /content/drive/My Drive/kjv_audio/22_Song_of_Solomon_Chapters_01-08/The Holy Bible - Song of Solomon Chapter 8 (KJV).m4a\n",
            "Skipping existing file: /content/drive/My Drive/bible_audio_processed/Ecclesiastes/001/kjv/kjv-audio-bible.m4a from /content/drive/My Drive/kjv_audio/21_Ecclesiastes_Chapters_01-12/The Holy Bible - Ecclesiastes Chapter 1 (KJV).m4a\n",
            "Skipping existing file: /content/drive/My Drive/bible_audio_processed/Ecclesiastes/002/kjv/kjv-audio-bible.m4a from /content/drive/My Drive/kjv_audio/21_Ecclesiastes_Chapters_01-12/The Holy Bible - Ecclesiastes Chapter 2 (KJV).m4a\n",
            "Skipping existing file: /content/drive/My Drive/bible_audio_processed/Ecclesiastes/003/kjv/kjv-audio-bible.m4a from /content/drive/My Drive/kjv_audio/21_Ecclesiastes_Chapters_01-12/The Holy Bible - Ecclesiastes Chapter 3 (KJV).m4a\n",
            "Skipping existing file: /content/drive/My Drive/bible_audio_processed/Ecclesiastes/004/kjv/kjv-audio-bible.m4a from /content/drive/My Drive/kjv_audio/21_Ecclesiastes_Chapters_01-12/The Holy Bible - Ecclesiastes Chapter 4 (KJV).m4a\n",
            "Skipping existing file: /content/drive/My Drive/bible_audio_processed/Ecclesiastes/005/kjv/kjv-audio-bible.m4a from /content/drive/My Drive/kjv_audio/21_Ecclesiastes_Chapters_01-12/The Holy Bible - Ecclesiastes Chapter 5 (KJV).m4a\n",
            "Skipping existing file: /content/drive/My Drive/bible_audio_processed/Ecclesiastes/006/kjv/kjv-audio-bible.m4a from /content/drive/My Drive/kjv_audio/21_Ecclesiastes_Chapters_01-12/The Holy Bible - Ecclesiastes Chapter 6 (KJV).m4a\n",
            "Skipping existing file: /content/drive/My Drive/bible_audio_processed/Ecclesiastes/007/kjv/kjv-audio-bible.m4a from /content/drive/My Drive/kjv_audio/21_Ecclesiastes_Chapters_01-12/The Holy Bible - Ecclesiastes Chapter 7 (KJV).m4a\n",
            "Skipping existing file: /content/drive/My Drive/bible_audio_processed/Ecclesiastes/008/kjv/kjv-audio-bible.m4a from /content/drive/My Drive/kjv_audio/21_Ecclesiastes_Chapters_01-12/The Holy Bible - Ecclesiastes Chapter 8 (KJV).m4a\n",
            "Skipping existing file: /content/drive/My Drive/bible_audio_processed/Ecclesiastes/009/kjv/kjv-audio-bible.m4a from /content/drive/My Drive/kjv_audio/21_Ecclesiastes_Chapters_01-12/The Holy Bible - Ecclesiastes Chapter 9 (KJV).m4a\n",
            "Skipping existing file: /content/drive/My Drive/bible_audio_processed/Ecclesiastes/010/kjv/kjv-audio-bible.m4a from /content/drive/My Drive/kjv_audio/21_Ecclesiastes_Chapters_01-12/The Holy Bible - Ecclesiastes Chapter 10 (KJV).m4a\n",
            "Skipping existing file: /content/drive/My Drive/bible_audio_processed/Ecclesiastes/011/kjv/kjv-audio-bible.m4a from /content/drive/My Drive/kjv_audio/21_Ecclesiastes_Chapters_01-12/The Holy Bible - Ecclesiastes Chapter 11 (KJV).m4a\n",
            "Skipping existing file: /content/drive/My Drive/bible_audio_processed/Ecclesiastes/012/kjv/kjv-audio-bible.m4a from /content/drive/My Drive/kjv_audio/21_Ecclesiastes_Chapters_01-12/The Holy Bible - Ecclesiastes Chapter 12 (KJV).m4a\n",
            "Skipping existing file: /content/drive/My Drive/bible_audio_processed/Zechariah/009/kjv/kjv-audio-bible.webm from /content/drive/My Drive/kjv_audio/38_Zechariah_Chapters_01-14/The Holy Bible - Zechariah Chapter 9 (KJV).webm\n",
            "Skipping existing file: /content/drive/My Drive/bible_audio_processed/Zechariah/001/kjv/kjv-audio-bible.m4a from /content/drive/My Drive/kjv_audio/38_Zechariah_Chapters_01-14/The Holy Bible - Zechariah Chapter 1 (KJV).m4a\n",
            "Skipping existing file: /content/drive/My Drive/bible_audio_processed/Zechariah/002/kjv/kjv-audio-bible.m4a from /content/drive/My Drive/kjv_audio/38_Zechariah_Chapters_01-14/The Holy Bible - Zechariah Chapter 2 (KJV).m4a\n",
            "Skipping existing file: /content/drive/My Drive/bible_audio_processed/Zechariah/003/kjv/kjv-audio-bible.m4a from /content/drive/My Drive/kjv_audio/38_Zechariah_Chapters_01-14/The Holy Bible - Zechariah Chapter 3 (KJV).m4a\n",
            "Skipping existing file: /content/drive/My Drive/bible_audio_processed/Zechariah/004/kjv/kjv-audio-bible.m4a from /content/drive/My Drive/kjv_audio/38_Zechariah_Chapters_01-14/The Holy Bible - Zechariah Chapter 4 (KJV).m4a\n",
            "Skipping existing file: /content/drive/My Drive/bible_audio_processed/Zechariah/005/kjv/kjv-audio-bible.m4a from /content/drive/My Drive/kjv_audio/38_Zechariah_Chapters_01-14/The Holy Bible - Zechariah Chapter 5 (KJV).m4a\n",
            "Skipping existing file: /content/drive/My Drive/bible_audio_processed/Zechariah/006/kjv/kjv-audio-bible.m4a from /content/drive/My Drive/kjv_audio/38_Zechariah_Chapters_01-14/The Holy Bible - Zechariah Chapter 6 (KJV).m4a\n",
            "Skipping existing file: /content/drive/My Drive/bible_audio_processed/Zechariah/007/kjv/kjv-audio-bible.m4a from /content/drive/My Drive/kjv_audio/38_Zechariah_Chapters_01-14/The Holy Bible - Zechariah Chapter 7 (KJV).m4a\n",
            "Skipping existing file: /content/drive/My Drive/bible_audio_processed/Zechariah/008/kjv/kjv-audio-bible.m4a from /content/drive/My Drive/kjv_audio/38_Zechariah_Chapters_01-14/The Holy Bible - Zechariah Chapter 8 (KJV).m4a\n",
            "Skipping existing file: /content/drive/My Drive/bible_audio_processed/Zechariah/010/kjv/kjv-audio-bible.m4a from /content/drive/My Drive/kjv_audio/38_Zechariah_Chapters_01-14/The Holy Bible - Zechariah Chapter 10 (KJV).m4a\n",
            "Skipping existing file: /content/drive/My Drive/bible_audio_processed/Zechariah/011/kjv/kjv-audio-bible.m4a from /content/drive/My Drive/kjv_audio/38_Zechariah_Chapters_01-14/The Holy Bible - Zechariah Chapter 11 (KJV).m4a\n",
            "Skipping existing file: /content/drive/My Drive/bible_audio_processed/Zechariah/012/kjv/kjv-audio-bible.m4a from /content/drive/My Drive/kjv_audio/38_Zechariah_Chapters_01-14/The Holy Bible - Zechariah Chapter 12 (KJV).m4a\n",
            "Skipping existing file: /content/drive/My Drive/bible_audio_processed/Zechariah/013/kjv/kjv-audio-bible.m4a from /content/drive/My Drive/kjv_audio/38_Zechariah_Chapters_01-14/The Holy Bible - Zechariah Chapter 13 (KJV).m4a\n",
            "Skipping existing file: /content/drive/My Drive/bible_audio_processed/Zechariah/014/kjv/kjv-audio-bible.m4a from /content/drive/My Drive/kjv_audio/38_Zechariah_Chapters_01-14/The Holy Bible - Zechariah Chapter 14 (KJV).m4a\n",
            "Skipping existing file: /content/drive/My Drive/bible_audio_processed/Malachi/001/kjv/kjv-audio-bible.m4a from /content/drive/My Drive/kjv_audio/39_Malachi_Chapters_01-04/The Holy Bible - Malachi Chapter 1 (KJV).m4a\n",
            "Skipping existing file: /content/drive/My Drive/bible_audio_processed/Malachi/002/kjv/kjv-audio-bible.m4a from /content/drive/My Drive/kjv_audio/39_Malachi_Chapters_01-04/The Holy Bible - Malachi Chapter 2 (KJV).m4a\n",
            "Skipping existing file: /content/drive/My Drive/bible_audio_processed/Malachi/003/kjv/kjv-audio-bible.m4a from /content/drive/My Drive/kjv_audio/39_Malachi_Chapters_01-04/The Holy Bible - Malachi Chapter 3 (KJV).m4a\n",
            "Skipping existing file: /content/drive/My Drive/bible_audio_processed/Malachi/004/kjv/kjv-audio-bible.m4a from /content/drive/My Drive/kjv_audio/39_Malachi_Chapters_01-04/The Holy Bible - Malachi Chapter 4 (KJV).m4a\n",
            "Skipping existing file: /content/drive/My Drive/bible_audio_processed/Haggai/001/kjv/kjv-audio-bible.m4a from /content/drive/My Drive/kjv_audio/37_Haggai_Chapters_01-02/The Holy Bible - Haggai Chapter 1 (KJV).m4a\n",
            "Skipping existing file: /content/drive/My Drive/bible_audio_processed/Haggai/002/kjv/kjv-audio-bible.m4a from /content/drive/My Drive/kjv_audio/37_Haggai_Chapters_01-02/The Holy Bible - Haggai Chapter 2 (KJV).m4a\n",
            "Skipping existing file: /content/drive/My Drive/bible_audio_processed/Zephaniah/002/kjv/kjv-audio-bible.m4a from /content/drive/My Drive/kjv_audio/36_Zephaniah_Chapters_01-03/The Holy Bible - Zephaniah Chapter 2 (KJV).m4a\n",
            "Skipping existing file: /content/drive/My Drive/bible_audio_processed/Zephaniah/001/kjv/kjv-audio-bible.m4a from /content/drive/My Drive/kjv_audio/36_Zephaniah_Chapters_01-03/The Holy Bible - Zephaniah Chapter 1 (KJV).m4a\n",
            "Skipping existing file: /content/drive/My Drive/bible_audio_processed/Zephaniah/003/kjv/kjv-audio-bible.m4a from /content/drive/My Drive/kjv_audio/36_Zephaniah_Chapters_01-03/The Holy Bible - Zephaniah Chapter 3 (KJV).m4a\n",
            "Skipping existing file: /content/drive/My Drive/bible_audio_processed/Habakkuk/001/kjv/kjv-audio-bible.m4a from /content/drive/My Drive/kjv_audio/35_Habakkuk_Chapters_01-03/The Holy Bible - Habakkuk Chapter 1 (KJV).m4a\n",
            "Skipping existing file: /content/drive/My Drive/bible_audio_processed/Habakkuk/002/kjv/kjv-audio-bible.m4a from /content/drive/My Drive/kjv_audio/35_Habakkuk_Chapters_01-03/The Holy Bible - Habakkuk Chapter 2 (KJV).m4a\n",
            "Skipping existing file: /content/drive/My Drive/bible_audio_processed/Habakkuk/003/kjv/kjv-audio-bible.m4a from /content/drive/My Drive/kjv_audio/35_Habakkuk_Chapters_01-03/The Holy Bible - Habakkuk Chapter 3 (KJV).m4a\n",
            "Skipping existing file: /content/drive/My Drive/bible_audio_processed/Nahum/001/kjv/kjv-audio-bible.m4a from /content/drive/My Drive/kjv_audio/34_Nahum_Chapters_01-03/The Holy Bible - Nahum Chapter 1 (KJV).m4a\n",
            "Skipping existing file: /content/drive/My Drive/bible_audio_processed/Nahum/002/kjv/kjv-audio-bible.m4a from /content/drive/My Drive/kjv_audio/34_Nahum_Chapters_01-03/The Holy Bible - Nahum Chapter 2 (KJV).m4a\n",
            "Skipping existing file: /content/drive/My Drive/bible_audio_processed/Nahum/003/kjv/kjv-audio-bible.m4a from /content/drive/My Drive/kjv_audio/34_Nahum_Chapters_01-03/The Holy Bible - Nahum Chapter 3 (KJV).m4a\n",
            "Skipping existing file: /content/drive/My Drive/bible_audio_processed/Micah/001/kjv/kjv-audio-bible.m4a from /content/drive/My Drive/kjv_audio/33_Micah_Chapters_01-07/The Holy Bible - Micah Chapter 1 (KJV).m4a\n",
            "Skipping existing file: /content/drive/My Drive/bible_audio_processed/Micah/002/kjv/kjv-audio-bible.m4a from /content/drive/My Drive/kjv_audio/33_Micah_Chapters_01-07/The Holy Bible - Micah Chapter 2 (KJV).m4a\n",
            "Skipping existing file: /content/drive/My Drive/bible_audio_processed/Micah/003/kjv/kjv-audio-bible.m4a from /content/drive/My Drive/kjv_audio/33_Micah_Chapters_01-07/The Holy Bible - Micah Chapter 3 (KJV).m4a\n",
            "Skipping existing file: /content/drive/My Drive/bible_audio_processed/Micah/004/kjv/kjv-audio-bible.m4a from /content/drive/My Drive/kjv_audio/33_Micah_Chapters_01-07/The Holy Bible - Micah Chapter 4 (KJV).m4a\n",
            "Skipping existing file: /content/drive/My Drive/bible_audio_processed/Micah/005/kjv/kjv-audio-bible.m4a from /content/drive/My Drive/kjv_audio/33_Micah_Chapters_01-07/The Holy Bible - Micah Chapter 5 (KJV).m4a\n",
            "Skipping existing file: /content/drive/My Drive/bible_audio_processed/Micah/006/kjv/kjv-audio-bible.m4a from /content/drive/My Drive/kjv_audio/33_Micah_Chapters_01-07/The Holy Bible - Micah Chapter 6 (KJV).m4a\n",
            "Skipping existing file: /content/drive/My Drive/bible_audio_processed/Micah/007/kjv/kjv-audio-bible.m4a from /content/drive/My Drive/kjv_audio/33_Micah_Chapters_01-07/The Holy Bible - Micah Chapter 7 (KJV).m4a\n",
            "Skipping existing file: /content/drive/My Drive/bible_audio_processed/Obadiah/001/kjv/kjv-audio-bible.m4a from /content/drive/My Drive/kjv_audio/31_Obadiah_Chapter_01/The Holy Bible - Obadiah Chapter 1 (KJV).m4a\n",
            "Skipping existing file: /content/drive/My Drive/bible_audio_processed/Amos/009/kjv/kjv-audio-bible.m4a from /content/drive/My Drive/kjv_audio/30_Amos_Chapters_01-09/The Holy Bible - Amos Chapter 9 (KJV).m4a\n",
            "Skipping existing file: /content/drive/My Drive/bible_audio_processed/Amos/001/kjv/kjv-audio-bible.m4a from /content/drive/My Drive/kjv_audio/30_Amos_Chapters_01-09/The Holy Bible - Amos Chapter 1 (KJV).m4a\n",
            "Skipping existing file: /content/drive/My Drive/bible_audio_processed/Amos/002/kjv/kjv-audio-bible.m4a from /content/drive/My Drive/kjv_audio/30_Amos_Chapters_01-09/The Holy Bible - Amos Chapter 2 (KJV).m4a\n",
            "Skipping existing file: /content/drive/My Drive/bible_audio_processed/Amos/003/kjv/kjv-audio-bible.m4a from /content/drive/My Drive/kjv_audio/30_Amos_Chapters_01-09/The Holy Bible - Amos Chapter 3 (KJV).m4a\n",
            "Skipping existing file: /content/drive/My Drive/bible_audio_processed/Amos/004/kjv/kjv-audio-bible.m4a from /content/drive/My Drive/kjv_audio/30_Amos_Chapters_01-09/The Holy Bible - Amos Chapter 4 (KJV).m4a\n",
            "Skipping existing file: /content/drive/My Drive/bible_audio_processed/Amos/005/kjv/kjv-audio-bible.m4a from /content/drive/My Drive/kjv_audio/30_Amos_Chapters_01-09/The Holy Bible - Amos Chapter 5 (KJV).m4a\n",
            "Skipping existing file: /content/drive/My Drive/bible_audio_processed/Amos/006/kjv/kjv-audio-bible.m4a from /content/drive/My Drive/kjv_audio/30_Amos_Chapters_01-09/The Holy Bible - Amos Chapter 6 (KJV).m4a\n",
            "Skipping existing file: /content/drive/My Drive/bible_audio_processed/Amos/007/kjv/kjv-audio-bible.m4a from /content/drive/My Drive/kjv_audio/30_Amos_Chapters_01-09/The Holy Bible - Amos Chapter 7 (KJV).m4a\n",
            "Skipping existing file: /content/drive/My Drive/bible_audio_processed/Amos/008/kjv/kjv-audio-bible.m4a from /content/drive/My Drive/kjv_audio/30_Amos_Chapters_01-09/The Holy Bible - Amos Chapter 8 (KJV).m4a\n",
            "Skipping existing file: /content/drive/My Drive/bible_audio_processed/Hosea/002/kjv/kjv-audio-bible.m4a from /content/drive/My Drive/kjv_audio/28_Hosea_Chapters_01-14/The Holy Bible - Hosea Chapter 2 (KJV).m4a\n",
            "Skipping existing file: /content/drive/My Drive/bible_audio_processed/Hosea/005/kjv/kjv-audio-bible.m4a from /content/drive/My Drive/kjv_audio/28_Hosea_Chapters_01-14/The Holy Bible - Hosea Chapter 5 (KJV).m4a\n",
            "Skipping existing file: /content/drive/My Drive/bible_audio_processed/Hosea/007/kjv/kjv-audio-bible.m4a from /content/drive/My Drive/kjv_audio/28_Hosea_Chapters_01-14/The Holy Bible - Hosea Chapter 7 (KJV).m4a\n",
            "Skipping existing file: /content/drive/My Drive/bible_audio_processed/Hosea/009/kjv/kjv-audio-bible.m4a from /content/drive/My Drive/kjv_audio/28_Hosea_Chapters_01-14/The Holy Bible - Hosea Chapter 9 (KJV).m4a\n",
            "Skipping existing file: /content/drive/My Drive/bible_audio_processed/Hosea/013/kjv/kjv-audio-bible.m4a from /content/drive/My Drive/kjv_audio/28_Hosea_Chapters_01-14/The Holy Bible - Hosea Chapter 13 (KJV).m4a\n",
            "Skipping existing file: /content/drive/My Drive/bible_audio_processed/Hosea/014/kjv/kjv-audio-bible.m4a from /content/drive/My Drive/kjv_audio/28_Hosea_Chapters_01-14/The Holy Bible - Hosea Chapter 14 (KJV).m4a\n",
            "Skipping existing file: /content/drive/My Drive/bible_audio_processed/Hosea/001/kjv/kjv-audio-bible.m4a from /content/drive/My Drive/kjv_audio/28_Hosea_Chapters_01-14/The Holy Bible - Hosea Chapter 1 (KJV).m4a\n",
            "Skipping existing file: /content/drive/My Drive/bible_audio_processed/Hosea/006/kjv/kjv-audio-bible.m4a from /content/drive/My Drive/kjv_audio/28_Hosea_Chapters_01-14/The Holy Bible - Hosea Chapter 6 (KJV).m4a\n",
            "Skipping existing file: /content/drive/My Drive/bible_audio_processed/Hosea/003/kjv/kjv-audio-bible.m4a from /content/drive/My Drive/kjv_audio/28_Hosea_Chapters_01-14/The Holy Bible - Hosea Chapter 3 (KJV).m4a\n",
            "Skipping existing file: /content/drive/My Drive/bible_audio_processed/Hosea/004/kjv/kjv-audio-bible.m4a from /content/drive/My Drive/kjv_audio/28_Hosea_Chapters_01-14/The Holy Bible - Hosea Chapter 4 (KJV).m4a\n",
            "Skipping existing file: /content/drive/My Drive/bible_audio_processed/Hosea/008/kjv/kjv-audio-bible.m4a from /content/drive/My Drive/kjv_audio/28_Hosea_Chapters_01-14/The Holy Bible - Hosea Chapter 8 (KJV).m4a\n",
            "Skipping existing file: /content/drive/My Drive/bible_audio_processed/Hosea/010/kjv/kjv-audio-bible.m4a from /content/drive/My Drive/kjv_audio/28_Hosea_Chapters_01-14/The Holy Bible - Hosea Chapter 10 (KJV).m4a\n",
            "Skipping existing file: /content/drive/My Drive/bible_audio_processed/Hosea/011/kjv/kjv-audio-bible.m4a from /content/drive/My Drive/kjv_audio/28_Hosea_Chapters_01-14/The Holy Bible - Hosea Chapter 11 (KJV).m4a\n",
            "Skipping existing file: /content/drive/My Drive/bible_audio_processed/Hosea/012/kjv/kjv-audio-bible.m4a from /content/drive/My Drive/kjv_audio/28_Hosea_Chapters_01-14/The Holy Bible - Hosea Chapter 12 (KJV).m4a\n",
            "Skipping existing file: /content/drive/My Drive/bible_audio_processed/Lamentations/001/kjv/kjv-audio-bible.m4a from /content/drive/My Drive/kjv_audio/25_Lamentations_Chapters_01-05/The Holy Bible - Lamentations Chapter 1 (KJV).m4a\n",
            "Skipping existing file: /content/drive/My Drive/bible_audio_processed/Lamentations/002/kjv/kjv-audio-bible.m4a from /content/drive/My Drive/kjv_audio/25_Lamentations_Chapters_01-05/The Holy Bible - Lamentations Chapter 2 (KJV).m4a\n",
            "Skipping existing file: /content/drive/My Drive/bible_audio_processed/Lamentations/003/kjv/kjv-audio-bible.m4a from /content/drive/My Drive/kjv_audio/25_Lamentations_Chapters_01-05/The Holy Bible - Lamentations Chapter 3 (KJV).m4a\n",
            "Skipping existing file: /content/drive/My Drive/bible_audio_processed/Lamentations/004/kjv/kjv-audio-bible.m4a from /content/drive/My Drive/kjv_audio/25_Lamentations_Chapters_01-05/The Holy Bible - Lamentations Chapter 4 (KJV).m4a\n",
            "Skipping existing file: /content/drive/My Drive/bible_audio_processed/Lamentations/005/kjv/kjv-audio-bible.m4a from /content/drive/My Drive/kjv_audio/25_Lamentations_Chapters_01-05/The Holy Bible - Lamentations Chapter 5 (KJV).m4a\n",
            "Skipping existing file: /content/drive/My Drive/bible_audio_processed/Isaiah/053/kjv/kjv-audio-bible.webm from /content/drive/My Drive/kjv_audio/23_Isaiah_Chapters_01-66/The Holy Bible - Isaiah Chapter 53 (KJV).webm\n",
            "Skipping existing file: /content/drive/My Drive/bible_audio_processed/Isaiah/061/kjv/kjv-audio-bible.webm from /content/drive/My Drive/kjv_audio/23_Isaiah_Chapters_01-66/The Holy Bible - Isaiah Chapter 61 (KJV).webm\n",
            "Skipping existing file: /content/drive/My Drive/bible_audio_processed/Isaiah/004/kjv/kjv-audio-bible.m4a from /content/drive/My Drive/kjv_audio/23_Isaiah_Chapters_01-66/The Holy Bible - Isaiah Chapter 4 (KJV).m4a\n",
            "Skipping existing file: /content/drive/My Drive/bible_audio_processed/Isaiah/006/kjv/kjv-audio-bible.m4a from /content/drive/My Drive/kjv_audio/23_Isaiah_Chapters_01-66/The Holy Bible - Isaiah Chapter 6 (KJV).m4a\n",
            "Skipping existing file: /content/drive/My Drive/bible_audio_processed/Isaiah/013/kjv/kjv-audio-bible.m4a from /content/drive/My Drive/kjv_audio/23_Isaiah_Chapters_01-66/The Holy Bible - Isaiah Chapter 13 (KJV).m4a\n",
            "Skipping existing file: /content/drive/My Drive/bible_audio_processed/Isaiah/015/kjv/kjv-audio-bible.m4a from /content/drive/My Drive/kjv_audio/23_Isaiah_Chapters_01-66/The Holy Bible - Isaiah Chapter 15 (KJV).m4a\n",
            "Skipping existing file: /content/drive/My Drive/bible_audio_processed/Isaiah/017/kjv/kjv-audio-bible.m4a from /content/drive/My Drive/kjv_audio/23_Isaiah_Chapters_01-66/The Holy Bible - Isaiah Chapter 17 (KJV).m4a\n",
            "Skipping existing file: /content/drive/My Drive/bible_audio_processed/Isaiah/029/kjv/kjv-audio-bible.m4a from /content/drive/My Drive/kjv_audio/23_Isaiah_Chapters_01-66/The Holy Bible - Isaiah Chapter 29 (KJV).m4a\n",
            "Skipping existing file: /content/drive/My Drive/bible_audio_processed/Isaiah/039/kjv/kjv-audio-bible.m4a from /content/drive/My Drive/kjv_audio/23_Isaiah_Chapters_01-66/The Holy Bible - Isaiah Chapter 39 (KJV).m4a\n",
            "Skipping existing file: /content/drive/My Drive/bible_audio_processed/Isaiah/041/kjv/kjv-audio-bible.m4a from /content/drive/My Drive/kjv_audio/23_Isaiah_Chapters_01-66/The Holy Bible - Isaiah Chapter 41 (KJV).m4a\n",
            "Skipping existing file: /content/drive/My Drive/bible_audio_processed/Isaiah/043/kjv/kjv-audio-bible.m4a from /content/drive/My Drive/kjv_audio/23_Isaiah_Chapters_01-66/The Holy Bible - Isaiah Chapter 43 (KJV).m4a\n",
            "Skipping existing file: /content/drive/My Drive/bible_audio_processed/Isaiah/048/kjv/kjv-audio-bible.m4a from /content/drive/My Drive/kjv_audio/23_Isaiah_Chapters_01-66/The Holy Bible - Isaiah Chapter 48 (KJV).m4a\n",
            "Skipping existing file: /content/drive/My Drive/bible_audio_processed/Isaiah/049/kjv/kjv-audio-bible.m4a from /content/drive/My Drive/kjv_audio/23_Isaiah_Chapters_01-66/The Holy Bible - Isaiah Chapter 49 (KJV).m4a\n",
            "Skipping existing file: /content/drive/My Drive/bible_audio_processed/Isaiah/051/kjv/kjv-audio-bible.m4a from /content/drive/My Drive/kjv_audio/23_Isaiah_Chapters_01-66/The Holy Bible - Isaiah Chapter 51 (KJV).m4a\n",
            "Skipping existing file: /content/drive/My Drive/bible_audio_processed/Isaiah/058/kjv/kjv-audio-bible.m4a from /content/drive/My Drive/kjv_audio/23_Isaiah_Chapters_01-66/The Holy Bible - Isaiah Chapter 58 (KJV).m4a\n",
            "Skipping existing file: /content/drive/My Drive/bible_audio_processed/Isaiah/060/kjv/kjv-audio-bible.m4a from /content/drive/My Drive/kjv_audio/23_Isaiah_Chapters_01-66/The Holy Bible - Isaiah Chapter 60 (KJV).m4a\n",
            "Skipping existing file: /content/drive/My Drive/bible_audio_processed/Isaiah/065/kjv/kjv-audio-bible.m4a from /content/drive/My Drive/kjv_audio/23_Isaiah_Chapters_01-66/The Holy Bible - Isaiah Chapter 65 (KJV).m4a\n",
            "Skipping existing file: /content/drive/My Drive/bible_audio_processed/Isaiah/066/kjv/kjv-audio-bible.m4a from /content/drive/My Drive/kjv_audio/23_Isaiah_Chapters_01-66/The Holy Bible - Isaiah Chapter 66 (KJV).m4a\n",
            "Skipping existing file: /content/drive/My Drive/bible_audio_processed/Isaiah/001/kjv/kjv-audio-bible.m4a from /content/drive/My Drive/kjv_audio/23_Isaiah_Chapters_01-66/The Holy Bible - Isaiah Chapter 1 (KJV).m4a\n",
            "Skipping existing file: /content/drive/My Drive/bible_audio_processed/Isaiah/002/kjv/kjv-audio-bible.m4a from /content/drive/My Drive/kjv_audio/23_Isaiah_Chapters_01-66/The Holy Bible - Isaiah Chapter 2 (KJV).m4a\n",
            "Skipping existing file: /content/drive/My Drive/bible_audio_processed/Isaiah/003/kjv/kjv-audio-bible.m4a from /content/drive/My Drive/kjv_audio/23_Isaiah_Chapters_01-66/The Holy Bible - Isaiah Chapter 3 (KJV).m4a\n",
            "Skipping existing file: /content/drive/My Drive/bible_audio_processed/Isaiah/005/kjv/kjv-audio-bible.m4a from /content/drive/My Drive/kjv_audio/23_Isaiah_Chapters_01-66/The Holy Bible - Isaiah Chapter 5 (KJV).m4a\n",
            "Skipping existing file: /content/drive/My Drive/bible_audio_processed/Isaiah/007/kjv/kjv-audio-bible.m4a from /content/drive/My Drive/kjv_audio/23_Isaiah_Chapters_01-66/The Holy Bible - Isaiah Chapter 7 (KJV).m4a\n",
            "Skipping existing file: /content/drive/My Drive/bible_audio_processed/Isaiah/008/kjv/kjv-audio-bible.m4a from /content/drive/My Drive/kjv_audio/23_Isaiah_Chapters_01-66/The Holy Bible - Isaiah Chapter 8 (KJV).m4a\n",
            "Skipping existing file: /content/drive/My Drive/bible_audio_processed/Isaiah/009/kjv/kjv-audio-bible.m4a from /content/drive/My Drive/kjv_audio/23_Isaiah_Chapters_01-66/The Holy Bible - Isaiah Chapter 9 (KJV).m4a\n",
            "Skipping existing file: /content/drive/My Drive/bible_audio_processed/Isaiah/010/kjv/kjv-audio-bible.m4a from /content/drive/My Drive/kjv_audio/23_Isaiah_Chapters_01-66/The Holy Bible - Isaiah Chapter 10 (KJV).m4a\n",
            "Skipping existing file: /content/drive/My Drive/bible_audio_processed/Isaiah/011/kjv/kjv-audio-bible.m4a from /content/drive/My Drive/kjv_audio/23_Isaiah_Chapters_01-66/The Holy Bible - Isaiah Chapter 11 (KJV).m4a\n",
            "Skipping existing file: /content/drive/My Drive/bible_audio_processed/Isaiah/012/kjv/kjv-audio-bible.m4a from /content/drive/My Drive/kjv_audio/23_Isaiah_Chapters_01-66/The Holy Bible - Isaiah Chapter 12 (KJV).m4a\n",
            "Skipping existing file: /content/drive/My Drive/bible_audio_processed/Isaiah/014/kjv/kjv-audio-bible.m4a from /content/drive/My Drive/kjv_audio/23_Isaiah_Chapters_01-66/The Holy Bible - Isaiah Chapter 14 (KJV).m4a\n",
            "Skipping existing file: /content/drive/My Drive/bible_audio_processed/Isaiah/016/kjv/kjv-audio-bible.m4a from /content/drive/My Drive/kjv_audio/23_Isaiah_Chapters_01-66/The Holy Bible - Isaiah Chapter 16 (KJV).m4a\n",
            "Skipping existing file: /content/drive/My Drive/bible_audio_processed/Isaiah/018/kjv/kjv-audio-bible.m4a from /content/drive/My Drive/kjv_audio/23_Isaiah_Chapters_01-66/The Holy Bible - Isaiah Chapter 18 (KJV).m4a\n",
            "Skipping existing file: /content/drive/My Drive/bible_audio_processed/Isaiah/019/kjv/kjv-audio-bible.m4a from /content/drive/My Drive/kjv_audio/23_Isaiah_Chapters_01-66/The Holy Bible - Isaiah Chapter 19 (KJV).m4a\n",
            "Skipping existing file: /content/drive/My Drive/bible_audio_processed/Isaiah/020/kjv/kjv-audio-bible.m4a from /content/drive/My Drive/kjv_audio/23_Isaiah_Chapters_01-66/The Holy Bible - Isaiah Chapter 20 (KJV).m4a\n",
            "Skipping existing file: /content/drive/My Drive/bible_audio_processed/Isaiah/021/kjv/kjv-audio-bible.m4a from /content/drive/My Drive/kjv_audio/23_Isaiah_Chapters_01-66/The Holy Bible - Isaiah Chapter 21 (KJV).m4a\n",
            "Skipping existing file: /content/drive/My Drive/bible_audio_processed/Isaiah/022/kjv/kjv-audio-bible.m4a from /content/drive/My Drive/kjv_audio/23_Isaiah_Chapters_01-66/The Holy Bible - Isaiah Chapter 22 (KJV).m4a\n",
            "Skipping existing file: /content/drive/My Drive/bible_audio_processed/Isaiah/023/kjv/kjv-audio-bible.m4a from /content/drive/My Drive/kjv_audio/23_Isaiah_Chapters_01-66/The Holy Bible - Isaiah Chapter 23 (KJV).m4a\n",
            "Skipping existing file: /content/drive/My Drive/bible_audio_processed/Isaiah/024/kjv/kjv-audio-bible.m4a from /content/drive/My Drive/kjv_audio/23_Isaiah_Chapters_01-66/The Holy Bible - Isaiah Chapter 24 (KJV).m4a\n",
            "Skipping existing file: /content/drive/My Drive/bible_audio_processed/Isaiah/025/kjv/kjv-audio-bible.m4a from /content/drive/My Drive/kjv_audio/23_Isaiah_Chapters_01-66/The Holy Bible - Isaiah Chapter 25 (KJV).m4a\n",
            "Skipping existing file: /content/drive/My Drive/bible_audio_processed/Isaiah/026/kjv/kjv-audio-bible.m4a from /content/drive/My Drive/kjv_audio/23_Isaiah_Chapters_01-66/The Holy Bible - Isaiah Chapter 26 (KJV).m4a\n",
            "Skipping existing file: /content/drive/My Drive/bible_audio_processed/Isaiah/027/kjv/kjv-audio-bible.m4a from /content/drive/My Drive/kjv_audio/23_Isaiah_Chapters_01-66/The Holy Bible - Isaiah Chapter 27 (KJV).m4a\n",
            "Skipping existing file: /content/drive/My Drive/bible_audio_processed/Isaiah/028/kjv/kjv-audio-bible.m4a from /content/drive/My Drive/kjv_audio/23_Isaiah_Chapters_01-66/The Holy Bible - Isaiah Chapter 28 (KJV).m4a\n",
            "Skipping existing file: /content/drive/My Drive/bible_audio_processed/Isaiah/030/kjv/kjv-audio-bible.m4a from /content/drive/My Drive/kjv_audio/23_Isaiah_Chapters_01-66/The Holy Bible - Isaiah Chapter 30 (KJV).m4a\n",
            "Skipping existing file: /content/drive/My Drive/bible_audio_processed/Isaiah/031/kjv/kjv-audio-bible.m4a from /content/drive/My Drive/kjv_audio/23_Isaiah_Chapters_01-66/The Holy Bible - Isaiah Chapter 31 (KJV).m4a\n",
            "Skipping existing file: /content/drive/My Drive/bible_audio_processed/Isaiah/032/kjv/kjv-audio-bible.m4a from /content/drive/My Drive/kjv_audio/23_Isaiah_Chapters_01-66/The Holy Bible - Isaiah Chapter 32 (KJV).m4a\n",
            "Skipping existing file: /content/drive/My Drive/bible_audio_processed/Isaiah/033/kjv/kjv-audio-bible.m4a from /content/drive/My Drive/kjv_audio/23_Isaiah_Chapters_01-66/The Holy Bible - Isaiah Chapter 33 (KJV).m4a\n",
            "Skipping existing file: /content/drive/My Drive/bible_audio_processed/Isaiah/034/kjv/kjv-audio-bible.m4a from /content/drive/My Drive/kjv_audio/23_Isaiah_Chapters_01-66/The Holy Bible - Isaiah Chapter 34 (KJV).m4a\n",
            "Skipping existing file: /content/drive/My Drive/bible_audio_processed/Isaiah/035/kjv/kjv-audio-bible.m4a from /content/drive/My Drive/kjv_audio/23_Isaiah_Chapters_01-66/The Holy Bible - Isaiah Chapter 35 (KJV).m4a\n",
            "Skipping existing file: /content/drive/My Drive/bible_audio_processed/Isaiah/036/kjv/kjv-audio-bible.m4a from /content/drive/My Drive/kjv_audio/23_Isaiah_Chapters_01-66/The Holy Bible - Isaiah Chapter 36 (KJV).m4a\n",
            "Skipping existing file: /content/drive/My Drive/bible_audio_processed/Isaiah/037/kjv/kjv-audio-bible.m4a from /content/drive/My Drive/kjv_audio/23_Isaiah_Chapters_01-66/The Holy Bible - Isaiah Chapter 37 (KJV).m4a\n",
            "Skipping existing file: /content/drive/My Drive/bible_audio_processed/Isaiah/038/kjv/kjv-audio-bible.m4a from /content/drive/My Drive/kjv_audio/23_Isaiah_Chapters_01-66/The Holy Bible - Isaiah Chapter 38 (KJV).m4a\n",
            "Skipping existing file: /content/drive/My Drive/bible_audio_processed/Isaiah/040/kjv/kjv-audio-bible.m4a from /content/drive/My Drive/kjv_audio/23_Isaiah_Chapters_01-66/The Holy Bible - Isaiah Chapter 40 (KJV).m4a\n",
            "Skipping existing file: /content/drive/My Drive/bible_audio_processed/Isaiah/042/kjv/kjv-audio-bible.m4a from /content/drive/My Drive/kjv_audio/23_Isaiah_Chapters_01-66/The Holy Bible - Isaiah Chapter 42 (KJV).m4a\n",
            "Skipping existing file: /content/drive/My Drive/bible_audio_processed/Isaiah/044/kjv/kjv-audio-bible.m4a from /content/drive/My Drive/kjv_audio/23_Isaiah_Chapters_01-66/The Holy Bible - Isaiah Chapter 44 (KJV).m4a\n",
            "Skipping existing file: /content/drive/My Drive/bible_audio_processed/Isaiah/045/kjv/kjv-audio-bible.m4a from /content/drive/My Drive/kjv_audio/23_Isaiah_Chapters_01-66/The Holy Bible - Isaiah Chapter 45 (KJV).m4a\n",
            "Skipping existing file: /content/drive/My Drive/bible_audio_processed/Isaiah/046/kjv/kjv-audio-bible.m4a from /content/drive/My Drive/kjv_audio/23_Isaiah_Chapters_01-66/The Holy Bible - Isaiah Chapter 46 (KJV).m4a\n",
            "Skipping existing file: /content/drive/My Drive/bible_audio_processed/Isaiah/047/kjv/kjv-audio-bible.m4a from /content/drive/My Drive/kjv_audio/23_Isaiah_Chapters_01-66/The Holy Bible - Isaiah Chapter 47 (KJV).m4a\n",
            "Skipping existing file: /content/drive/My Drive/bible_audio_processed/Isaiah/050/kjv/kjv-audio-bible.m4a from /content/drive/My Drive/kjv_audio/23_Isaiah_Chapters_01-66/The Holy Bible - Isaiah Chapter 50 (KJV).m4a\n",
            "Skipping existing file: /content/drive/My Drive/bible_audio_processed/Isaiah/052/kjv/kjv-audio-bible.m4a from /content/drive/My Drive/kjv_audio/23_Isaiah_Chapters_01-66/The Holy Bible - Isaiah Chapter 52 (KJV).m4a\n",
            "Skipping existing file: /content/drive/My Drive/bible_audio_processed/Isaiah/054/kjv/kjv-audio-bible.m4a from /content/drive/My Drive/kjv_audio/23_Isaiah_Chapters_01-66/The Holy Bible - Isaiah Chapter 54 (KJV).m4a\n",
            "Skipping existing file: /content/drive/My Drive/bible_audio_processed/Isaiah/055/kjv/kjv-audio-bible.m4a from /content/drive/My Drive/kjv_audio/23_Isaiah_Chapters_01-66/The Holy Bible - Isaiah Chapter 55 (KJV).m4a\n",
            "Skipping existing file: /content/drive/My Drive/bible_audio_processed/Isaiah/056/kjv/kjv-audio-bible.m4a from /content/drive/My Drive/kjv_audio/23_Isaiah_Chapters_01-66/The Holy Bible - Isaiah Chapter 56 (KJV).m4a\n",
            "Skipping existing file: /content/drive/My Drive/bible_audio_processed/Isaiah/057/kjv/kjv-audio-bible.m4a from /content/drive/My Drive/kjv_audio/23_Isaiah_Chapters_01-66/The Holy Bible - Isaiah Chapter 57 (KJV).m4a\n",
            "Skipping existing file: /content/drive/My Drive/bible_audio_processed/Isaiah/059/kjv/kjv-audio-bible.m4a from /content/drive/My Drive/kjv_audio/23_Isaiah_Chapters_01-66/The Holy Bible - Isaiah Chapter 59 (KJV).m4a\n",
            "Skipping existing file: /content/drive/My Drive/bible_audio_processed/Isaiah/062/kjv/kjv-audio-bible.m4a from /content/drive/My Drive/kjv_audio/23_Isaiah_Chapters_01-66/The Holy Bible - Isaiah Chapter 62 (KJV).m4a\n",
            "Skipping existing file: /content/drive/My Drive/bible_audio_processed/Isaiah/063/kjv/kjv-audio-bible.m4a from /content/drive/My Drive/kjv_audio/23_Isaiah_Chapters_01-66/The Holy Bible - Isaiah Chapter 63 (KJV).m4a\n",
            "Skipping existing file: /content/drive/My Drive/bible_audio_processed/Isaiah/064/kjv/kjv-audio-bible.m4a from /content/drive/My Drive/kjv_audio/23_Isaiah_Chapters_01-66/The Holy Bible - Isaiah Chapter 64 (KJV).m4a\n",
            "Skipping existing file: /content/drive/My Drive/bible_audio_processed/Jeremiah/004/kjv/kjv-audio-bible.m4a from /content/drive/My Drive/kjv_audio/24_Jeremiah_Chapters_01-52/The Holy Bible - Jeremiah Chapter 4 (KJV).m4a\n",
            "Skipping existing file: /content/drive/My Drive/bible_audio_processed/Jeremiah/005/kjv/kjv-audio-bible.m4a from /content/drive/My Drive/kjv_audio/24_Jeremiah_Chapters_01-52/The Holy Bible - Jeremiah Chapter 5 (KJV).m4a\n",
            "Skipping existing file: /content/drive/My Drive/bible_audio_processed/Jeremiah/010/kjv/kjv-audio-bible.m4a from /content/drive/My Drive/kjv_audio/24_Jeremiah_Chapters_01-52/The Holy Bible - Jeremiah Chapter 10 (KJV).m4a\n",
            "Skipping existing file: /content/drive/My Drive/bible_audio_processed/Jeremiah/013/kjv/kjv-audio-bible.m4a from /content/drive/My Drive/kjv_audio/24_Jeremiah_Chapters_01-52/The Holy Bible - Jeremiah Chapter 13 (KJV).m4a\n",
            "Skipping existing file: /content/drive/My Drive/bible_audio_processed/Jeremiah/015/kjv/kjv-audio-bible.m4a from /content/drive/My Drive/kjv_audio/24_Jeremiah_Chapters_01-52/The Holy Bible - Jeremiah Chapter 15 (KJV).m4a\n",
            "Skipping existing file: /content/drive/My Drive/bible_audio_processed/Jeremiah/017/kjv/kjv-audio-bible.m4a from /content/drive/My Drive/kjv_audio/24_Jeremiah_Chapters_01-52/The Holy Bible - Jeremiah Chapter 17 (KJV).m4a\n",
            "Skipping existing file: /content/drive/My Drive/bible_audio_processed/Jeremiah/018/kjv/kjv-audio-bible.m4a from /content/drive/My Drive/kjv_audio/24_Jeremiah_Chapters_01-52/The Holy Bible - Jeremiah Chapter 18 (KJV).m4a\n",
            "Skipping existing file: /content/drive/My Drive/bible_audio_processed/Jeremiah/025/kjv/kjv-audio-bible.m4a from /content/drive/My Drive/kjv_audio/24_Jeremiah_Chapters_01-52/The Holy Bible - Jeremiah Chapter 25 (KJV).m4a\n",
            "Skipping existing file: /content/drive/My Drive/bible_audio_processed/Jeremiah/028/kjv/kjv-audio-bible.m4a from /content/drive/My Drive/kjv_audio/24_Jeremiah_Chapters_01-52/The Holy Bible - Jeremiah Chapter 28 (KJV).m4a\n",
            "Skipping existing file: /content/drive/My Drive/bible_audio_processed/Jeremiah/030/kjv/kjv-audio-bible.m4a from /content/drive/My Drive/kjv_audio/24_Jeremiah_Chapters_01-52/The Holy Bible - Jeremiah Chapter 30 (KJV).m4a\n",
            "Skipping existing file: /content/drive/My Drive/bible_audio_processed/Jeremiah/032/kjv/kjv-audio-bible.m4a from /content/drive/My Drive/kjv_audio/24_Jeremiah_Chapters_01-52/The Holy Bible - Jeremiah Chapter 32 (KJV).m4a\n",
            "Skipping existing file: /content/drive/My Drive/bible_audio_processed/Jeremiah/033/kjv/kjv-audio-bible.m4a from /content/drive/My Drive/kjv_audio/24_Jeremiah_Chapters_01-52/The Holy Bible - Jeremiah Chapter 33 (KJV).m4a\n",
            "Skipping existing file: /content/drive/My Drive/bible_audio_processed/Jeremiah/040/kjv/kjv-audio-bible.m4a from /content/drive/My Drive/kjv_audio/24_Jeremiah_Chapters_01-52/The Holy Bible - Jeremiah Chapter 40 (KJV).m4a\n",
            "Skipping existing file: /content/drive/My Drive/bible_audio_processed/Jeremiah/050/kjv/kjv-audio-bible.m4a from /content/drive/My Drive/kjv_audio/24_Jeremiah_Chapters_01-52/The Holy Bible - Jeremiah Chapter 50 (KJV).m4a\n",
            "Skipping existing file: /content/drive/My Drive/bible_audio_processed/Jeremiah/001/kjv/kjv-audio-bible.m4a from /content/drive/My Drive/kjv_audio/24_Jeremiah_Chapters_01-52/The Holy Bible - Jeremiah Chapter 1 (KJV).m4a\n",
            "Skipping existing file: /content/drive/My Drive/bible_audio_processed/Jeremiah/002/kjv/kjv-audio-bible.m4a from /content/drive/My Drive/kjv_audio/24_Jeremiah_Chapters_01-52/The Holy Bible - Jeremiah Chapter 2 (KJV).m4a\n",
            "Skipping existing file: /content/drive/My Drive/bible_audio_processed/Jeremiah/003/kjv/kjv-audio-bible.m4a from /content/drive/My Drive/kjv_audio/24_Jeremiah_Chapters_01-52/The Holy Bible - Jeremiah Chapter 3 (KJV).m4a\n",
            "Skipping existing file: /content/drive/My Drive/bible_audio_processed/Jeremiah/006/kjv/kjv-audio-bible.m4a from /content/drive/My Drive/kjv_audio/24_Jeremiah_Chapters_01-52/The Holy Bible - Jeremiah Chapter 6 (KJV).m4a\n",
            "Skipping existing file: /content/drive/My Drive/bible_audio_processed/Jeremiah/007/kjv/kjv-audio-bible.m4a from /content/drive/My Drive/kjv_audio/24_Jeremiah_Chapters_01-52/The Holy Bible - Jeremiah Chapter 7 (KJV).m4a\n",
            "Skipping existing file: /content/drive/My Drive/bible_audio_processed/Jeremiah/008/kjv/kjv-audio-bible.m4a from /content/drive/My Drive/kjv_audio/24_Jeremiah_Chapters_01-52/The Holy Bible - Jeremiah Chapter 8 (KJV).m4a\n",
            "Skipping existing file: /content/drive/My Drive/bible_audio_processed/Jeremiah/009/kjv/kjv-audio-bible.m4a from /content/drive/My Drive/kjv_audio/24_Jeremiah_Chapters_01-52/The Holy Bible - Jeremiah Chapter 9 (KJV).m4a\n",
            "Skipping existing file: /content/drive/My Drive/bible_audio_processed/Jeremiah/011/kjv/kjv-audio-bible.m4a from /content/drive/My Drive/kjv_audio/24_Jeremiah_Chapters_01-52/The Holy Bible - Jeremiah Chapter 11 (KJV).m4a\n",
            "Skipping existing file: /content/drive/My Drive/bible_audio_processed/Jeremiah/012/kjv/kjv-audio-bible.m4a from /content/drive/My Drive/kjv_audio/24_Jeremiah_Chapters_01-52/The Holy Bible - Jeremiah Chapter 12 (KJV).m4a\n",
            "Skipping existing file: /content/drive/My Drive/bible_audio_processed/Jeremiah/014/kjv/kjv-audio-bible.m4a from /content/drive/My Drive/kjv_audio/24_Jeremiah_Chapters_01-52/The Holy Bible - Jeremiah Chapter 14 (KJV).m4a\n",
            "Skipping existing file: /content/drive/My Drive/bible_audio_processed/Jeremiah/016/kjv/kjv-audio-bible.m4a from /content/drive/My Drive/kjv_audio/24_Jeremiah_Chapters_01-52/The Holy Bible - Jeremiah Chapter 16 (KJV).m4a\n",
            "Skipping existing file: /content/drive/My Drive/bible_audio_processed/Jeremiah/019/kjv/kjv-audio-bible.m4a from /content/drive/My Drive/kjv_audio/24_Jeremiah_Chapters_01-52/The Holy Bible - Jeremiah Chapter 19 (KJV).m4a\n",
            "Skipping existing file: /content/drive/My Drive/bible_audio_processed/Jeremiah/020/kjv/kjv-audio-bible.m4a from /content/drive/My Drive/kjv_audio/24_Jeremiah_Chapters_01-52/The Holy Bible - Jeremiah Chapter 20 (KJV).m4a\n",
            "Skipping existing file: /content/drive/My Drive/bible_audio_processed/Jeremiah/021/kjv/kjv-audio-bible.m4a from /content/drive/My Drive/kjv_audio/24_Jeremiah_Chapters_01-52/The Holy Bible - Jeremiah Chapter 21 (KJV).m4a\n",
            "Skipping existing file: /content/drive/My Drive/bible_audio_processed/Jeremiah/022/kjv/kjv-audio-bible.m4a from /content/drive/My Drive/kjv_audio/24_Jeremiah_Chapters_01-52/The Holy Bible - Jeremiah Chapter 22 (KJV).m4a\n",
            "Skipping existing file: /content/drive/My Drive/bible_audio_processed/Jeremiah/023/kjv/kjv-audio-bible.m4a from /content/drive/My Drive/kjv_audio/24_Jeremiah_Chapters_01-52/The Holy Bible - Jeremiah Chapter 23 (KJV).m4a\n",
            "Skipping existing file: /content/drive/My Drive/bible_audio_processed/Jeremiah/024/kjv/kjv-audio-bible.m4a from /content/drive/My Drive/kjv_audio/24_Jeremiah_Chapters_01-52/The Holy Bible - Jeremiah Chapter 24 (KJV).m4a\n",
            "Skipping existing file: /content/drive/My Drive/bible_audio_processed/Jeremiah/026/kjv/kjv-audio-bible.m4a from /content/drive/My Drive/kjv_audio/24_Jeremiah_Chapters_01-52/The Holy Bible - Jeremiah Chapter 26 (KJV).m4a\n",
            "Skipping existing file: /content/drive/My Drive/bible_audio_processed/Jeremiah/027/kjv/kjv-audio-bible.m4a from /content/drive/My Drive/kjv_audio/24_Jeremiah_Chapters_01-52/The Holy Bible - Jeremiah Chapter 27 (KJV).m4a\n",
            "Skipping existing file: /content/drive/My Drive/bible_audio_processed/Jeremiah/029/kjv/kjv-audio-bible.m4a from /content/drive/My Drive/kjv_audio/24_Jeremiah_Chapters_01-52/The Holy Bible - Jeremiah Chapter 29 (KJV).m4a\n",
            "Skipping existing file: /content/drive/My Drive/bible_audio_processed/Jeremiah/031/kjv/kjv-audio-bible.m4a from /content/drive/My Drive/kjv_audio/24_Jeremiah_Chapters_01-52/The Holy Bible - Jeremiah Chapter 31 (KJV).m4a\n",
            "Skipping existing file: /content/drive/My Drive/bible_audio_processed/Jeremiah/034/kjv/kjv-audio-bible.m4a from /content/drive/My Drive/kjv_audio/24_Jeremiah_Chapters_01-52/The Holy Bible - Jeremiah Chapter 34 (KJV).m4a\n",
            "Skipping existing file: /content/drive/My Drive/bible_audio_processed/Jeremiah/035/kjv/kjv-audio-bible.m4a from /content/drive/My Drive/kjv_audio/24_Jeremiah_Chapters_01-52/The Holy Bible - Jeremiah Chapter 35 (KJV).m4a\n",
            "Skipping existing file: /content/drive/My Drive/bible_audio_processed/Jeremiah/036/kjv/kjv-audio-bible.m4a from /content/drive/My Drive/kjv_audio/24_Jeremiah_Chapters_01-52/The Holy Bible - Jeremiah Chapter 36 (KJV).m4a\n",
            "Skipping existing file: /content/drive/My Drive/bible_audio_processed/Jeremiah/037/kjv/kjv-audio-bible.m4a from /content/drive/My Drive/kjv_audio/24_Jeremiah_Chapters_01-52/The Holy Bible - Jeremiah Chapter 37 (KJV).m4a\n",
            "Skipping existing file: /content/drive/My Drive/bible_audio_processed/Jeremiah/038/kjv/kjv-audio-bible.m4a from /content/drive/My Drive/kjv_audio/24_Jeremiah_Chapters_01-52/The Holy Bible - Jeremiah Chapter 38 (KJV).m4a\n",
            "Skipping existing file: /content/drive/My Drive/bible_audio_processed/Jeremiah/039/kjv/kjv-audio-bible.m4a from /content/drive/My Drive/kjv_audio/24_Jeremiah_Chapters_01-52/The Holy Bible - Jeremiah Chapter 39 (KJV).m4a\n",
            "Skipping existing file: /content/drive/My Drive/bible_audio_processed/Jeremiah/041/kjv/kjv-audio-bible.m4a from /content/drive/My Drive/kjv_audio/24_Jeremiah_Chapters_01-52/The Holy Bible - Jeremiah Chapter 41 (KJV).m4a\n",
            "Skipping existing file: /content/drive/My Drive/bible_audio_processed/Jeremiah/042/kjv/kjv-audio-bible.m4a from /content/drive/My Drive/kjv_audio/24_Jeremiah_Chapters_01-52/The Holy Bible - Jeremiah Chapter 42 (KJV).m4a\n",
            "Skipping existing file: /content/drive/My Drive/bible_audio_processed/Jeremiah/043/kjv/kjv-audio-bible.m4a from /content/drive/My Drive/kjv_audio/24_Jeremiah_Chapters_01-52/The Holy Bible - Jeremiah Chapter 43 (KJV).m4a\n",
            "Skipping existing file: /content/drive/My Drive/bible_audio_processed/Jeremiah/044/kjv/kjv-audio-bible.m4a from /content/drive/My Drive/kjv_audio/24_Jeremiah_Chapters_01-52/The Holy Bible - Jeremiah Chapter 44 (KJV).m4a\n",
            "Skipping existing file: /content/drive/My Drive/bible_audio_processed/Jeremiah/045/kjv/kjv-audio-bible.m4a from /content/drive/My Drive/kjv_audio/24_Jeremiah_Chapters_01-52/The Holy Bible - Jeremiah Chapter 45 (KJV).m4a\n",
            "Skipping existing file: /content/drive/My Drive/bible_audio_processed/Jeremiah/046/kjv/kjv-audio-bible.m4a from /content/drive/My Drive/kjv_audio/24_Jeremiah_Chapters_01-52/The Holy Bible - Jeremiah Chapter 46 (KJV).m4a\n",
            "Skipping existing file: /content/drive/My Drive/bible_audio_processed/Jeremiah/047/kjv/kjv-audio-bible.m4a from /content/drive/My Drive/kjv_audio/24_Jeremiah_Chapters_01-52/The Holy Bible - Jeremiah Chapter 47 (KJV).m4a\n",
            "Skipping existing file: /content/drive/My Drive/bible_audio_processed/Jeremiah/048/kjv/kjv-audio-bible.m4a from /content/drive/My Drive/kjv_audio/24_Jeremiah_Chapters_01-52/The Holy Bible - Jeremiah Chapter 48 (KJV).m4a\n",
            "Skipping existing file: /content/drive/My Drive/bible_audio_processed/Jeremiah/049/kjv/kjv-audio-bible.m4a from /content/drive/My Drive/kjv_audio/24_Jeremiah_Chapters_01-52/The Holy Bible - Jeremiah Chapter 49 (KJV).m4a\n",
            "Skipping existing file: /content/drive/My Drive/bible_audio_processed/Jeremiah/051/kjv/kjv-audio-bible.m4a from /content/drive/My Drive/kjv_audio/24_Jeremiah_Chapters_01-52/The Holy Bible - Jeremiah Chapter 51 (KJV).m4a\n",
            "Skipping existing file: /content/drive/My Drive/bible_audio_processed/Jeremiah/052/kjv/kjv-audio-bible.m4a from /content/drive/My Drive/kjv_audio/24_Jeremiah_Chapters_01-52/The Holy Bible - Jeremiah Chapter 52 (KJV).m4a\n",
            "Skipping existing file: /content/drive/My Drive/bible_audio_processed/Ezekiel/003/kjv/kjv-audio-bible.m4a from /content/drive/My Drive/kjv_audio/26_Ezekiel_Chapters_01-48/The Holy Bible - Ezekiel Chapter 3 (KJV).m4a\n",
            "Skipping existing file: /content/drive/My Drive/bible_audio_processed/Ezekiel/006/kjv/kjv-audio-bible.m4a from /content/drive/My Drive/kjv_audio/26_Ezekiel_Chapters_01-48/The Holy Bible - Ezekiel Chapter 6 (KJV).m4a\n",
            "Skipping existing file: /content/drive/My Drive/bible_audio_processed/Ezekiel/013/kjv/kjv-audio-bible.m4a from /content/drive/My Drive/kjv_audio/26_Ezekiel_Chapters_01-48/The Holy Bible - Ezekiel Chapter 13 (KJV).m4a\n",
            "Skipping existing file: /content/drive/My Drive/bible_audio_processed/Ezekiel/027/kjv/kjv-audio-bible.m4a from /content/drive/My Drive/kjv_audio/26_Ezekiel_Chapters_01-48/The Holy Bible - Ezekiel Chapter 27 (KJV).m4a\n",
            "Skipping existing file: /content/drive/My Drive/bible_audio_processed/Ezekiel/028/kjv/kjv-audio-bible.m4a from /content/drive/My Drive/kjv_audio/26_Ezekiel_Chapters_01-48/The Holy Bible - Ezekiel Chapter 28 (KJV).m4a\n",
            "Skipping existing file: /content/drive/My Drive/bible_audio_processed/Ezekiel/029/kjv/kjv-audio-bible.m4a from /content/drive/My Drive/kjv_audio/26_Ezekiel_Chapters_01-48/The Holy Bible - Ezekiel Chapter 29 (KJV).m4a\n",
            "Skipping existing file: /content/drive/My Drive/bible_audio_processed/Ezekiel/030/kjv/kjv-audio-bible.m4a from /content/drive/My Drive/kjv_audio/26_Ezekiel_Chapters_01-48/The Holy Bible - Ezekiel Chapter 30 (KJV).m4a\n",
            "Skipping existing file: /content/drive/My Drive/bible_audio_processed/Ezekiel/034/kjv/kjv-audio-bible.m4a from /content/drive/My Drive/kjv_audio/26_Ezekiel_Chapters_01-48/The Holy Bible - Ezekiel Chapter 34 (KJV).m4a\n",
            "Skipping existing file: /content/drive/My Drive/bible_audio_processed/Ezekiel/037/kjv/kjv-audio-bible.m4a from /content/drive/My Drive/kjv_audio/26_Ezekiel_Chapters_01-48/The Holy Bible - Ezekiel Chapter 37 (KJV).m4a\n",
            "Skipping existing file: /content/drive/My Drive/bible_audio_processed/Ezekiel/048/kjv/kjv-audio-bible.m4a from /content/drive/My Drive/kjv_audio/26_Ezekiel_Chapters_01-48/The Holy Bible - Ezekiel Chapter 48 (KJV).m4a\n",
            "Skipping existing file: /content/drive/My Drive/bible_audio_processed/Ezekiel/001/kjv/kjv-audio-bible.m4a from /content/drive/My Drive/kjv_audio/26_Ezekiel_Chapters_01-48/The Holy Bible - Ezekiel Chapter 1 (KJV).m4a\n",
            "Skipping existing file: /content/drive/My Drive/bible_audio_processed/Ezekiel/002/kjv/kjv-audio-bible.m4a from /content/drive/My Drive/kjv_audio/26_Ezekiel_Chapters_01-48/The Holy Bible - Ezekiel Chapter 2 (KJV).m4a\n",
            "Skipping existing file: /content/drive/My Drive/bible_audio_processed/Ezekiel/004/kjv/kjv-audio-bible.m4a from /content/drive/My Drive/kjv_audio/26_Ezekiel_Chapters_01-48/The Holy Bible - Ezekiel Chapter 4 (KJV).m4a\n",
            "Skipping existing file: /content/drive/My Drive/bible_audio_processed/Ezekiel/005/kjv/kjv-audio-bible.m4a from /content/drive/My Drive/kjv_audio/26_Ezekiel_Chapters_01-48/The Holy Bible - Ezekiel Chapter 5 (KJV).m4a\n",
            "Skipping existing file: /content/drive/My Drive/bible_audio_processed/Ezekiel/007/kjv/kjv-audio-bible.m4a from /content/drive/My Drive/kjv_audio/26_Ezekiel_Chapters_01-48/The Holy Bible - Ezekiel Chapter 7 (KJV).m4a\n",
            "Skipping existing file: /content/drive/My Drive/bible_audio_processed/Ezekiel/008/kjv/kjv-audio-bible.m4a from /content/drive/My Drive/kjv_audio/26_Ezekiel_Chapters_01-48/The Holy Bible - Ezekiel Chapter 8 (KJV).m4a\n",
            "Skipping existing file: /content/drive/My Drive/bible_audio_processed/Ezekiel/009/kjv/kjv-audio-bible.m4a from /content/drive/My Drive/kjv_audio/26_Ezekiel_Chapters_01-48/The Holy Bible - Ezekiel Chapter 9 (KJV).m4a\n",
            "Skipping existing file: /content/drive/My Drive/bible_audio_processed/Ezekiel/010/kjv/kjv-audio-bible.m4a from /content/drive/My Drive/kjv_audio/26_Ezekiel_Chapters_01-48/The Holy Bible - Ezekiel Chapter 10 (KJV).m4a\n",
            "Skipping existing file: /content/drive/My Drive/bible_audio_processed/Ezekiel/011/kjv/kjv-audio-bible.m4a from /content/drive/My Drive/kjv_audio/26_Ezekiel_Chapters_01-48/The Holy Bible - Ezekiel Chapter 11 (KJV).m4a\n",
            "Skipping existing file: /content/drive/My Drive/bible_audio_processed/Ezekiel/012/kjv/kjv-audio-bible.m4a from /content/drive/My Drive/kjv_audio/26_Ezekiel_Chapters_01-48/The Holy Bible - Ezekiel Chapter 12 (KJV).m4a\n",
            "Skipping existing file: /content/drive/My Drive/bible_audio_processed/Ezekiel/014/kjv/kjv-audio-bible.m4a from /content/drive/My Drive/kjv_audio/26_Ezekiel_Chapters_01-48/The Holy Bible - Ezekiel Chapter 14 (KJV).m4a\n",
            "Skipping existing file: /content/drive/My Drive/bible_audio_processed/Ezekiel/015/kjv/kjv-audio-bible.m4a from /content/drive/My Drive/kjv_audio/26_Ezekiel_Chapters_01-48/The Holy Bible - Ezekiel Chapter 15 (KJV).m4a\n",
            "Skipping existing file: /content/drive/My Drive/bible_audio_processed/Ezekiel/016/kjv/kjv-audio-bible.m4a from /content/drive/My Drive/kjv_audio/26_Ezekiel_Chapters_01-48/The Holy Bible - Ezekiel Chapter 16 (KJV).m4a\n",
            "Skipping existing file: /content/drive/My Drive/bible_audio_processed/Ezekiel/017/kjv/kjv-audio-bible.m4a from /content/drive/My Drive/kjv_audio/26_Ezekiel_Chapters_01-48/The Holy Bible - Ezekiel Chapter 17 (KJV).m4a\n",
            "Skipping existing file: /content/drive/My Drive/bible_audio_processed/Ezekiel/018/kjv/kjv-audio-bible.m4a from /content/drive/My Drive/kjv_audio/26_Ezekiel_Chapters_01-48/The Holy Bible - Ezekiel Chapter 18 (KJV).m4a\n",
            "Skipping existing file: /content/drive/My Drive/bible_audio_processed/Ezekiel/019/kjv/kjv-audio-bible.m4a from /content/drive/My Drive/kjv_audio/26_Ezekiel_Chapters_01-48/The Holy Bible - Ezekiel Chapter 19 (KJV).m4a\n",
            "Skipping existing file: /content/drive/My Drive/bible_audio_processed/Ezekiel/020/kjv/kjv-audio-bible.m4a from /content/drive/My Drive/kjv_audio/26_Ezekiel_Chapters_01-48/The Holy Bible - Ezekiel Chapter 20 (KJV).m4a\n",
            "Skipping existing file: /content/drive/My Drive/bible_audio_processed/Ezekiel/021/kjv/kjv-audio-bible.m4a from /content/drive/My Drive/kjv_audio/26_Ezekiel_Chapters_01-48/The Holy Bible - Ezekiel Chapter 21 (KJV).m4a\n",
            "Skipping existing file: /content/drive/My Drive/bible_audio_processed/Ezekiel/022/kjv/kjv-audio-bible.m4a from /content/drive/My Drive/kjv_audio/26_Ezekiel_Chapters_01-48/The Holy Bible - Ezekiel Chapter 22 (KJV).m4a\n",
            "Skipping existing file: /content/drive/My Drive/bible_audio_processed/Ezekiel/023/kjv/kjv-audio-bible.m4a from /content/drive/My Drive/kjv_audio/26_Ezekiel_Chapters_01-48/The Holy Bible - Ezekiel Chapter 23 (KJV).m4a\n",
            "Skipping existing file: /content/drive/My Drive/bible_audio_processed/Ezekiel/024/kjv/kjv-audio-bible.m4a from /content/drive/My Drive/kjv_audio/26_Ezekiel_Chapters_01-48/The Holy Bible - Ezekiel Chapter 24 (KJV).m4a\n",
            "Skipping existing file: /content/drive/My Drive/bible_audio_processed/Ezekiel/025/kjv/kjv-audio-bible.m4a from /content/drive/My Drive/kjv_audio/26_Ezekiel_Chapters_01-48/The Holy Bible - Ezekiel Chapter 25 (KJV).m4a\n",
            "Skipping existing file: /content/drive/My Drive/bible_audio_processed/Ezekiel/026/kjv/kjv-audio-bible.m4a from /content/drive/My Drive/kjv_audio/26_Ezekiel_Chapters_01-48/The Holy Bible - Ezekiel Chapter 26 (KJV).m4a\n",
            "Skipping existing file: /content/drive/My Drive/bible_audio_processed/Ezekiel/031/kjv/kjv-audio-bible.m4a from /content/drive/My Drive/kjv_audio/26_Ezekiel_Chapters_01-48/The Holy Bible - Ezekiel Chapter 31 (KJV).m4a\n",
            "Skipping existing file: /content/drive/My Drive/bible_audio_processed/Ezekiel/032/kjv/kjv-audio-bible.m4a from /content/drive/My Drive/kjv_audio/26_Ezekiel_Chapters_01-48/The Holy Bible - Ezekiel Chapter 32 (KJV).m4a\n",
            "Skipping existing file: /content/drive/My Drive/bible_audio_processed/Ezekiel/033/kjv/kjv-audio-bible.m4a from /content/drive/My Drive/kjv_audio/26_Ezekiel_Chapters_01-48/The Holy Bible - Ezekiel Chapter 33 (KJV).m4a\n",
            "Skipping existing file: /content/drive/My Drive/bible_audio_processed/Ezekiel/035/kjv/kjv-audio-bible.m4a from /content/drive/My Drive/kjv_audio/26_Ezekiel_Chapters_01-48/The Holy Bible - Ezekiel Chapter 35 (KJV).m4a\n",
            "Skipping existing file: /content/drive/My Drive/bible_audio_processed/Ezekiel/036/kjv/kjv-audio-bible.m4a from /content/drive/My Drive/kjv_audio/26_Ezekiel_Chapters_01-48/The Holy Bible - Ezekiel Chapter 36 (KJV).m4a\n",
            "Skipping existing file: /content/drive/My Drive/bible_audio_processed/Ezekiel/038/kjv/kjv-audio-bible.m4a from /content/drive/My Drive/kjv_audio/26_Ezekiel_Chapters_01-48/The Holy Bible - Ezekiel Chapter 38 (KJV).m4a\n",
            "Skipping existing file: /content/drive/My Drive/bible_audio_processed/Ezekiel/039/kjv/kjv-audio-bible.m4a from /content/drive/My Drive/kjv_audio/26_Ezekiel_Chapters_01-48/The Holy Bible - Ezekiel Chapter 39 (KJV).m4a\n",
            "Skipping existing file: /content/drive/My Drive/bible_audio_processed/Ezekiel/040/kjv/kjv-audio-bible.m4a from /content/drive/My Drive/kjv_audio/26_Ezekiel_Chapters_01-48/The Holy Bible - Ezekiel Chapter 40 (KJV).m4a\n",
            "Skipping existing file: /content/drive/My Drive/bible_audio_processed/Ezekiel/041/kjv/kjv-audio-bible.m4a from /content/drive/My Drive/kjv_audio/26_Ezekiel_Chapters_01-48/The Holy Bible - Ezekiel Chapter 41 (KJV).m4a\n",
            "Skipping existing file: /content/drive/My Drive/bible_audio_processed/Ezekiel/042/kjv/kjv-audio-bible.m4a from /content/drive/My Drive/kjv_audio/26_Ezekiel_Chapters_01-48/The Holy Bible - Ezekiel Chapter 42 (KJV).m4a\n",
            "Skipping existing file: /content/drive/My Drive/bible_audio_processed/Ezekiel/043/kjv/kjv-audio-bible.m4a from /content/drive/My Drive/kjv_audio/26_Ezekiel_Chapters_01-48/The Holy Bible - Ezekiel Chapter 43 (KJV).m4a\n",
            "Skipping existing file: /content/drive/My Drive/bible_audio_processed/Ezekiel/044/kjv/kjv-audio-bible.m4a from /content/drive/My Drive/kjv_audio/26_Ezekiel_Chapters_01-48/The Holy Bible - Ezekiel Chapter 44 (KJV).m4a\n",
            "Skipping existing file: /content/drive/My Drive/bible_audio_processed/Ezekiel/045/kjv/kjv-audio-bible.m4a from /content/drive/My Drive/kjv_audio/26_Ezekiel_Chapters_01-48/The Holy Bible - Ezekiel Chapter 45 (KJV).m4a\n",
            "Skipping existing file: /content/drive/My Drive/bible_audio_processed/Ezekiel/046/kjv/kjv-audio-bible.m4a from /content/drive/My Drive/kjv_audio/26_Ezekiel_Chapters_01-48/The Holy Bible - Ezekiel Chapter 46 (KJV).m4a\n",
            "Skipping existing file: /content/drive/My Drive/bible_audio_processed/Ezekiel/047/kjv/kjv-audio-bible.m4a from /content/drive/My Drive/kjv_audio/26_Ezekiel_Chapters_01-48/The Holy Bible - Ezekiel Chapter 47 (KJV).m4a\n",
            "Skipping existing file: /content/drive/My Drive/bible_audio_processed/Jonah/004/kjv/kjv-audio-bible.m4a from /content/drive/My Drive/kjv_audio/32_Jonah_Chapters_01-04/The Holy Bible - Jonah Chapter 4 (KJV).m4a\n",
            "Skipping existing file: /content/drive/My Drive/bible_audio_processed/Jonah/001/kjv/kjv-audio-bible.m4a from /content/drive/My Drive/kjv_audio/32_Jonah_Chapters_01-04/The Holy Bible - Jonah Chapter 1 (KJV).m4a\n",
            "Skipping existing file: /content/drive/My Drive/bible_audio_processed/Jonah/002/kjv/kjv-audio-bible.m4a from /content/drive/My Drive/kjv_audio/32_Jonah_Chapters_01-04/The Holy Bible - Jonah Chapter 2 (KJV).m4a\n",
            "Skipping existing file: /content/drive/My Drive/bible_audio_processed/Jonah/003/kjv/kjv-audio-bible.m4a from /content/drive/My Drive/kjv_audio/32_Jonah_Chapters_01-04/The Holy Bible - Jonah Chapter 3 (KJV).m4a\n",
            "Skipping existing file: /content/drive/My Drive/bible_audio_processed/Revelation/001/kjv/kjv-audio-bible.webm from /content/drive/My Drive/kjv_audio/66_Revelation_Chapters_01-22/The Holy Bible - Revelation Chapter 1 (KJV).webm\n",
            "Skipping existing file: /content/drive/My Drive/bible_audio_processed/Revelation/002/kjv/kjv-audio-bible.m4a from /content/drive/My Drive/kjv_audio/66_Revelation_Chapters_01-22/The Holy Bible - Revelation Chapter 2 (KJV).m4a\n",
            "Skipping existing file: /content/drive/My Drive/bible_audio_processed/Revelation/006/kjv/kjv-audio-bible.m4a from /content/drive/My Drive/kjv_audio/66_Revelation_Chapters_01-22/The Holy Bible - Revelation Chapter 6 (KJV).m4a\n",
            "Skipping existing file: /content/drive/My Drive/bible_audio_processed/Revelation/007/kjv/kjv-audio-bible.m4a from /content/drive/My Drive/kjv_audio/66_Revelation_Chapters_01-22/The Holy Bible - Revelation Chapter 7 (KJV).m4a\n",
            "Skipping existing file: /content/drive/My Drive/bible_audio_processed/Revelation/010/kjv/kjv-audio-bible.m4a from /content/drive/My Drive/kjv_audio/66_Revelation_Chapters_01-22/The Holy Bible - Revelation Chapter 10 (KJV).m4a\n",
            "Skipping existing file: /content/drive/My Drive/bible_audio_processed/Revelation/014/kjv/kjv-audio-bible.m4a from /content/drive/My Drive/kjv_audio/66_Revelation_Chapters_01-22/The Holy Bible - Revelation Chapter 14 (KJV).m4a\n",
            "Skipping existing file: /content/drive/My Drive/bible_audio_processed/Revelation/015/kjv/kjv-audio-bible.m4a from /content/drive/My Drive/kjv_audio/66_Revelation_Chapters_01-22/The Holy Bible - Revelation Chapter 15 (KJV).m4a\n",
            "Skipping existing file: /content/drive/My Drive/bible_audio_processed/Revelation/016/kjv/kjv-audio-bible.m4a from /content/drive/My Drive/kjv_audio/66_Revelation_Chapters_01-22/The Holy Bible - Revelation Chapter 16 (KJV).m4a\n",
            "Skipping existing file: /content/drive/My Drive/bible_audio_processed/Revelation/019/kjv/kjv-audio-bible.m4a from /content/drive/My Drive/kjv_audio/66_Revelation_Chapters_01-22/The Holy Bible - Revelation Chapter 19 (KJV).m4a\n",
            "Skipping existing file: /content/drive/My Drive/bible_audio_processed/Revelation/021/kjv/kjv-audio-bible.m4a from /content/drive/My Drive/kjv_audio/66_Revelation_Chapters_01-22/The Holy Bible - Revelation Chapter 21 (KJV).m4a\n",
            "Skipping existing file: /content/drive/My Drive/bible_audio_processed/Revelation/003/kjv/kjv-audio-bible.m4a from /content/drive/My Drive/kjv_audio/66_Revelation_Chapters_01-22/The Holy Bible - Revelation Chapter 3 (KJV).m4a\n",
            "Skipping existing file: /content/drive/My Drive/bible_audio_processed/Revelation/004/kjv/kjv-audio-bible.m4a from /content/drive/My Drive/kjv_audio/66_Revelation_Chapters_01-22/The Holy Bible - Revelation Chapter 4 (KJV).m4a\n",
            "Skipping existing file: /content/drive/My Drive/bible_audio_processed/Revelation/005/kjv/kjv-audio-bible.m4a from /content/drive/My Drive/kjv_audio/66_Revelation_Chapters_01-22/The Holy Bible - Revelation Chapter 5 (KJV).m4a\n",
            "Skipping existing file: /content/drive/My Drive/bible_audio_processed/Revelation/008/kjv/kjv-audio-bible.m4a from /content/drive/My Drive/kjv_audio/66_Revelation_Chapters_01-22/The Holy Bible - Revelation Chapter 8 (KJV).m4a\n",
            "Skipping existing file: /content/drive/My Drive/bible_audio_processed/Revelation/009/kjv/kjv-audio-bible.m4a from /content/drive/My Drive/kjv_audio/66_Revelation_Chapters_01-22/The Holy Bible - Revelation Chapter 9 (KJV).m4a\n",
            "Skipping existing file: /content/drive/My Drive/bible_audio_processed/Revelation/011/kjv/kjv-audio-bible.m4a from /content/drive/My Drive/kjv_audio/66_Revelation_Chapters_01-22/The Holy Bible - Revelation Chapter 11 (KJV).m4a\n",
            "Skipping existing file: /content/drive/My Drive/bible_audio_processed/Revelation/012/kjv/kjv-audio-bible.m4a from /content/drive/My Drive/kjv_audio/66_Revelation_Chapters_01-22/The Holy Bible - Revelation Chapter 12 (KJV).m4a\n",
            "Skipping existing file: /content/drive/My Drive/bible_audio_processed/Revelation/013/kjv/kjv-audio-bible.m4a from /content/drive/My Drive/kjv_audio/66_Revelation_Chapters_01-22/The Holy Bible - Revelation Chapter 13 (KJV).m4a\n",
            "Skipping existing file: /content/drive/My Drive/bible_audio_processed/Revelation/017/kjv/kjv-audio-bible.m4a from /content/drive/My Drive/kjv_audio/66_Revelation_Chapters_01-22/The Holy Bible - Revelation Chapter 17 (KJV).m4a\n",
            "Skipping existing file: /content/drive/My Drive/bible_audio_processed/Revelation/018/kjv/kjv-audio-bible.m4a from /content/drive/My Drive/kjv_audio/66_Revelation_Chapters_01-22/The Holy Bible - Revelation Chapter 18 (KJV).m4a\n",
            "Skipping existing file: /content/drive/My Drive/bible_audio_processed/Revelation/020/kjv/kjv-audio-bible.m4a from /content/drive/My Drive/kjv_audio/66_Revelation_Chapters_01-22/The Holy Bible - Revelation Chapter 20 (KJV).m4a\n",
            "Skipping existing file: /content/drive/My Drive/bible_audio_processed/Revelation/022/kjv/kjv-audio-bible.m4a from /content/drive/My Drive/kjv_audio/66_Revelation_Chapters_01-22/The Holy Bible - Revelation Chapter 22 (KJV).m4a\n",
            "Skipping existing file: /content/drive/My Drive/bible_audio_processed/Jude/001/kjv/kjv-audio-bible.m4a from /content/drive/My Drive/kjv_audio/65_Jude_Chapter_1/The Holy Bible - Jude Chapter 1 (KJV).m4a\n",
            "Skipping existing file: /content/drive/My Drive/bible_audio_processed/3_John/001/kjv/kjv-audio-bible.m4a from /content/drive/My Drive/kjv_audio/64_3_John_Chapter_1/The Holy Bible - 3 John Chapter 1 (KJV).m4a\n",
            "Skipping existing file: /content/drive/My Drive/bible_audio_processed/2_John/001/kjv/kjv-audio-bible.m4a from /content/drive/My Drive/kjv_audio/63_2_John_Chapter_1/The Holy Bible - 2 John Chapter 1 (KJV).m4a\n",
            "Skipping existing file: /content/drive/My Drive/bible_audio_processed/1_John/003/kjv/kjv-audio-bible.webm from /content/drive/My Drive/kjv_audio/62_1_John_Chapters_01-05/The Holy Bible - 1 John Chapter 3 (KJV).webm\n",
            "Skipping existing file: /content/drive/My Drive/bible_audio_processed/1_John/001/kjv/kjv-audio-bible.m4a from /content/drive/My Drive/kjv_audio/62_1_John_Chapters_01-05/The Holy Bible - 1 John Chapter 1 (KJV).m4a\n",
            "Skipping existing file: /content/drive/My Drive/bible_audio_processed/1_John/004/kjv/kjv-audio-bible.m4a from /content/drive/My Drive/kjv_audio/62_1_John_Chapters_01-05/The Holy Bible - 1 John Chapter 4 (KJV).m4a\n",
            "Skipping existing file: /content/drive/My Drive/bible_audio_processed/1_John/005/kjv/kjv-audio-bible.m4a from /content/drive/My Drive/kjv_audio/62_1_John_Chapters_01-05/The Holy Bible - 1 John Chapter 5 (KJV).m4a\n",
            "Skipping existing file: /content/drive/My Drive/bible_audio_processed/1_John/002/kjv/kjv-audio-bible.m4a from /content/drive/My Drive/kjv_audio/62_1_John_Chapters_01-05/The Holy Bible - 1 John Chapter 2 (KJV).m4a\n",
            "Skipping existing file: /content/drive/My Drive/bible_audio_processed/2_Peter/001/kjv/kjv-audio-bible.m4a from /content/drive/My Drive/kjv_audio/61_2_Peter_Chapters_01-03/The Holy Bible - 2 Peter Chapter 1 (KJV).m4a\n",
            "Skipping existing file: /content/drive/My Drive/bible_audio_processed/2_Peter/002/kjv/kjv-audio-bible.m4a from /content/drive/My Drive/kjv_audio/61_2_Peter_Chapters_01-03/The Holy Bible - 2 Peter Chapter 2 (KJV).m4a\n",
            "Skipping existing file: /content/drive/My Drive/bible_audio_processed/2_Peter/003/kjv/kjv-audio-bible.m4a from /content/drive/My Drive/kjv_audio/61_2_Peter_Chapters_01-03/The Holy Bible - 2 Peter Chapter 3 (KJV).m4a\n",
            "Skipping existing file: /content/drive/My Drive/bible_audio_processed/1_Peter/004/kjv/kjv-audio-bible.m4a from /content/drive/My Drive/kjv_audio/60_1_Peter_Chapters_01-05/The Holy Bible - 1 Peter Chapter 4 (KJV).m4a\n",
            "Skipping existing file: /content/drive/My Drive/bible_audio_processed/1_Peter/001/kjv/kjv-audio-bible.m4a from /content/drive/My Drive/kjv_audio/60_1_Peter_Chapters_01-05/The Holy Bible - 1 Peter Chapter 1 (KJV).m4a\n",
            "Skipping existing file: /content/drive/My Drive/bible_audio_processed/1_Peter/002/kjv/kjv-audio-bible.m4a from /content/drive/My Drive/kjv_audio/60_1_Peter_Chapters_01-05/The Holy Bible - 1 Peter Chapter 2 (KJV).m4a\n",
            "Skipping existing file: /content/drive/My Drive/bible_audio_processed/1_Peter/003/kjv/kjv-audio-bible.m4a from /content/drive/My Drive/kjv_audio/60_1_Peter_Chapters_01-05/The Holy Bible - 1 Peter Chapter 3 (KJV).m4a\n",
            "Skipping existing file: /content/drive/My Drive/bible_audio_processed/1_Peter/005/kjv/kjv-audio-bible.m4a from /content/drive/My Drive/kjv_audio/60_1_Peter_Chapters_01-05/The Holy Bible - 1 Peter Chapter 5 (KJV).m4a\n",
            "Skipping existing file: /content/drive/My Drive/bible_audio_processed/James/001/kjv/kjv-audio-bible.webm from /content/drive/My Drive/kjv_audio/59_James_Chapters_01-05/The Holy Bible - James Chapter 1 (KJV).webm\n",
            "Skipping existing file: /content/drive/My Drive/bible_audio_processed/James/002/kjv/kjv-audio-bible.m4a from /content/drive/My Drive/kjv_audio/59_James_Chapters_01-05/The Holy Bible - James Chapter 2 (KJV).m4a\n",
            "Skipping existing file: /content/drive/My Drive/bible_audio_processed/James/003/kjv/kjv-audio-bible.m4a from /content/drive/My Drive/kjv_audio/59_James_Chapters_01-05/The Holy Bible - James Chapter 3 (KJV).m4a\n",
            "Skipping existing file: /content/drive/My Drive/bible_audio_processed/James/005/kjv/kjv-audio-bible.m4a from /content/drive/My Drive/kjv_audio/59_James_Chapters_01-05/The Holy Bible - James Chapter 5 (KJV).m4a\n",
            "Skipping existing file: /content/drive/My Drive/bible_audio_processed/James/004/kjv/kjv-audio-bible.m4a from /content/drive/My Drive/kjv_audio/59_James_Chapters_01-05/The Holy Bible - James Chapter 4 (KJV).m4a\n",
            "Skipping existing file: /content/drive/My Drive/bible_audio_processed/Hebrews/011/kjv/kjv-audio-bible.webm from /content/drive/My Drive/kjv_audio/58_Hebrews_Chapters_01-13/The Holy Bible - Hebrews Chapter 11 (KJV).webm\n",
            "Skipping existing file: /content/drive/My Drive/bible_audio_processed/Hebrews/005/kjv/kjv-audio-bible.m4a from /content/drive/My Drive/kjv_audio/58_Hebrews_Chapters_01-13/The Holy Bible - Hebrews Chapter 5 (KJV).m4a\n",
            "Skipping existing file: /content/drive/My Drive/bible_audio_processed/Hebrews/008/kjv/kjv-audio-bible.m4a from /content/drive/My Drive/kjv_audio/58_Hebrews_Chapters_01-13/The Holy Bible - Hebrews Chapter 8 (KJV).m4a\n",
            "Skipping existing file: /content/drive/My Drive/bible_audio_processed/Hebrews/013/kjv/kjv-audio-bible.m4a from /content/drive/My Drive/kjv_audio/58_Hebrews_Chapters_01-13/The Holy Bible - Hebrews Chapter 13 (KJV).m4a\n",
            "Skipping existing file: /content/drive/My Drive/bible_audio_processed/Hebrews/001/kjv/kjv-audio-bible.m4a from /content/drive/My Drive/kjv_audio/58_Hebrews_Chapters_01-13/The Holy Bible - Hebrews Chapter 1 (KJV).m4a\n",
            "Skipping existing file: /content/drive/My Drive/bible_audio_processed/Hebrews/002/kjv/kjv-audio-bible.m4a from /content/drive/My Drive/kjv_audio/58_Hebrews_Chapters_01-13/The Holy Bible - Hebrews Chapter 2 (KJV).m4a\n",
            "Skipping existing file: /content/drive/My Drive/bible_audio_processed/Hebrews/003/kjv/kjv-audio-bible.m4a from /content/drive/My Drive/kjv_audio/58_Hebrews_Chapters_01-13/The Holy Bible - Hebrews Chapter 3 (KJV).m4a\n",
            "Skipping existing file: /content/drive/My Drive/bible_audio_processed/Hebrews/004/kjv/kjv-audio-bible.m4a from /content/drive/My Drive/kjv_audio/58_Hebrews_Chapters_01-13/The Holy Bible - Hebrews Chapter 4 (KJV).m4a\n",
            "Skipping existing file: /content/drive/My Drive/bible_audio_processed/Hebrews/006/kjv/kjv-audio-bible.m4a from /content/drive/My Drive/kjv_audio/58_Hebrews_Chapters_01-13/The Holy Bible - Hebrews Chapter 6 (KJV).m4a\n",
            "Skipping existing file: /content/drive/My Drive/bible_audio_processed/Hebrews/007/kjv/kjv-audio-bible.m4a from /content/drive/My Drive/kjv_audio/58_Hebrews_Chapters_01-13/The Holy Bible - Hebrews Chapter 7 (KJV).m4a\n",
            "Skipping existing file: /content/drive/My Drive/bible_audio_processed/Hebrews/009/kjv/kjv-audio-bible.m4a from /content/drive/My Drive/kjv_audio/58_Hebrews_Chapters_01-13/The Holy Bible - Hebrews Chapter 9 (KJV).m4a\n",
            "Skipping existing file: /content/drive/My Drive/bible_audio_processed/Hebrews/010/kjv/kjv-audio-bible.m4a from /content/drive/My Drive/kjv_audio/58_Hebrews_Chapters_01-13/The Holy Bible - Hebrews Chapter 10 (KJV).m4a\n",
            "Skipping existing file: /content/drive/My Drive/bible_audio_processed/Hebrews/012/kjv/kjv-audio-bible.m4a from /content/drive/My Drive/kjv_audio/58_Hebrews_Chapters_01-13/The Holy Bible - Hebrews Chapter 12 (KJV).m4a\n",
            "Skipping existing file: /content/drive/My Drive/bible_audio_processed/Philemon/001/kjv/kjv-audio-bible.m4a from /content/drive/My Drive/kjv_audio/57_Philemon_Chapter_01/The Holy Bible - Philemon Chapter 1 (KJV).m4a\n",
            "Skipping existing file: /content/drive/My Drive/bible_audio_processed/Titus/003/kjv/kjv-audio-bible.m4a from /content/drive/My Drive/kjv_audio/56_Titus_Chapters_01-03/The Holy Bible - Titus Chapter 3 (KJV).m4a\n",
            "Skipping existing file: /content/drive/My Drive/bible_audio_processed/Titus/001/kjv/kjv-audio-bible.m4a from /content/drive/My Drive/kjv_audio/56_Titus_Chapters_01-03/The Holy Bible - Titus Chapter 1 (KJV).m4a\n",
            "Skipping existing file: /content/drive/My Drive/bible_audio_processed/Titus/002/kjv/kjv-audio-bible.m4a from /content/drive/My Drive/kjv_audio/56_Titus_Chapters_01-03/The Holy Bible - Titus Chapter 2 (KJV).m4a\n",
            "Skipping existing file: /content/drive/My Drive/bible_audio_processed/2_Timothy/004/kjv/kjv-audio-bible.m4a from /content/drive/My Drive/kjv_audio/55_2_Timothy_Chapters_01-04/The Holy Bible - 2 Timothy Chapter 4 (KJV).m4a\n",
            "Skipping existing file: /content/drive/My Drive/bible_audio_processed/2_Timothy/001/kjv/kjv-audio-bible.m4a from /content/drive/My Drive/kjv_audio/55_2_Timothy_Chapters_01-04/The Holy Bible - 2 Timothy Chapter 1 (KJV).m4a\n",
            "Skipping existing file: /content/drive/My Drive/bible_audio_processed/2_Timothy/002/kjv/kjv-audio-bible.m4a from /content/drive/My Drive/kjv_audio/55_2_Timothy_Chapters_01-04/The Holy Bible - 2 Timothy Chapter 2 (KJV).m4a\n",
            "Skipping existing file: /content/drive/My Drive/bible_audio_processed/2_Timothy/003/kjv/kjv-audio-bible.m4a from /content/drive/My Drive/kjv_audio/55_2_Timothy_Chapters_01-04/The Holy Bible - 2 Timothy Chapter 3 (KJV).m4a\n",
            "Skipping existing file: /content/drive/My Drive/bible_audio_processed/1_Timothy/002/kjv/kjv-audio-bible.m4a from /content/drive/My Drive/kjv_audio/54_1_Timothy_Chapters_01-06/The Holy Bible - 1 Timothy Chapter 2 (KJV).m4a\n",
            "Skipping existing file: /content/drive/My Drive/bible_audio_processed/1_Timothy/003/kjv/kjv-audio-bible.m4a from /content/drive/My Drive/kjv_audio/54_1_Timothy_Chapters_01-06/The Holy Bible - 1 Timothy Chapter 3 (KJV).m4a\n",
            "Skipping existing file: /content/drive/My Drive/bible_audio_processed/1_Timothy/005/kjv/kjv-audio-bible.m4a from /content/drive/My Drive/kjv_audio/54_1_Timothy_Chapters_01-06/The Holy Bible - 1 Timothy Chapter 5 (KJV).m4a\n",
            "Skipping existing file: /content/drive/My Drive/bible_audio_processed/1_Timothy/001/kjv/kjv-audio-bible.m4a from /content/drive/My Drive/kjv_audio/54_1_Timothy_Chapters_01-06/The Holy Bible - 1 Timothy Chapter 1 (KJV).m4a\n",
            "Skipping existing file: /content/drive/My Drive/bible_audio_processed/1_Timothy/004/kjv/kjv-audio-bible.m4a from /content/drive/My Drive/kjv_audio/54_1_Timothy_Chapters_01-06/The Holy Bible - 1 Timothy Chapter 4 (KJV).m4a\n",
            "Skipping existing file: /content/drive/My Drive/bible_audio_processed/1_Timothy/006/kjv/kjv-audio-bible.m4a from /content/drive/My Drive/kjv_audio/54_1_Timothy_Chapters_01-06/The Holy Bible - 1 Timothy Chapter 6 (KJV).m4a\n",
            "Skipping existing file: /content/drive/My Drive/bible_audio_processed/2_Thessalonians/002/kjv/kjv-audio-bible.m4a from /content/drive/My Drive/kjv_audio/53_2_Thessalonians_Chapters_01-03/The Holy Bible - 2 Thessalonians Chapter 2 (KJV).m4a\n",
            "Skipping existing file: /content/drive/My Drive/bible_audio_processed/2_Thessalonians/001/kjv/kjv-audio-bible.m4a from /content/drive/My Drive/kjv_audio/53_2_Thessalonians_Chapters_01-03/The Holy Bible - 2 Thessalonians Chapter 1 (KJV).m4a\n",
            "Skipping existing file: /content/drive/My Drive/bible_audio_processed/2_Thessalonians/003/kjv/kjv-audio-bible.m4a from /content/drive/My Drive/kjv_audio/53_2_Thessalonians_Chapters_01-03/The Holy Bible - 2 Thessalonians Chapter 3 (KJV).m4a\n",
            "Skipping existing file: /content/drive/My Drive/bible_audio_processed/1_Thessalonians/001/kjv/kjv-audio-bible.m4a from /content/drive/My Drive/kjv_audio/52_1_Thessalonians_Chapters_01-05/The Holy Bible - 1 Thessalonians Chapter 1 (KJV).m4a\n",
            "Skipping existing file: /content/drive/My Drive/bible_audio_processed/1_Thessalonians/002/kjv/kjv-audio-bible.m4a from /content/drive/My Drive/kjv_audio/52_1_Thessalonians_Chapters_01-05/The Holy Bible - 1 Thessalonians Chapter 2 (KJV).m4a\n",
            "Skipping existing file: /content/drive/My Drive/bible_audio_processed/1_Thessalonians/003/kjv/kjv-audio-bible.m4a from /content/drive/My Drive/kjv_audio/52_1_Thessalonians_Chapters_01-05/The Holy Bible - 1 Thessalonians Chapter 3 (KJV).m4a\n",
            "Skipping existing file: /content/drive/My Drive/bible_audio_processed/1_Thessalonians/004/kjv/kjv-audio-bible.m4a from /content/drive/My Drive/kjv_audio/52_1_Thessalonians_Chapters_01-05/The Holy Bible - 1 Thessalonians Chapter 4 (KJV).m4a\n",
            "Skipping existing file: /content/drive/My Drive/bible_audio_processed/1_Thessalonians/005/kjv/kjv-audio-bible.m4a from /content/drive/My Drive/kjv_audio/52_1_Thessalonians_Chapters_01-05/The Holy Bible - 1 Thessalonians Chapter 5 (KJV).m4a\n",
            "Skipping existing file: /content/drive/My Drive/bible_audio_processed/Colossians/004/kjv/kjv-audio-bible.m4a from /content/drive/My Drive/kjv_audio/51_Colossians_Chapters_01-04/The Holy Bible - Colossians Chapter 4 (KJV).m4a\n",
            "Skipping existing file: /content/drive/My Drive/bible_audio_processed/Colossians/001/kjv/kjv-audio-bible.m4a from /content/drive/My Drive/kjv_audio/51_Colossians_Chapters_01-04/The Holy Bible - Colossians Chapter 1 (KJV).m4a\n",
            "Skipping existing file: /content/drive/My Drive/bible_audio_processed/Colossians/002/kjv/kjv-audio-bible.m4a from /content/drive/My Drive/kjv_audio/51_Colossians_Chapters_01-04/The Holy Bible - Colossians Chapter 2 (KJV).m4a\n",
            "Skipping existing file: /content/drive/My Drive/bible_audio_processed/Colossians/003/kjv/kjv-audio-bible.m4a from /content/drive/My Drive/kjv_audio/51_Colossians_Chapters_01-04/The Holy Bible - Colossians Chapter 3 (KJV).m4a\n",
            "Skipping existing file: /content/drive/My Drive/bible_audio_processed/Philippians/002/kjv/kjv-audio-bible.m4a from /content/drive/My Drive/kjv_audio/50_Philippians_Chapters_01-04/The Holy Bible - Philippians Chapter 2 (KJV).m4a\n",
            "Skipping existing file: /content/drive/My Drive/bible_audio_processed/Philippians/001/kjv/kjv-audio-bible.m4a from /content/drive/My Drive/kjv_audio/50_Philippians_Chapters_01-04/The Holy Bible - Philippians Chapter 1 (KJV).m4a\n",
            "Skipping existing file: /content/drive/My Drive/bible_audio_processed/Philippians/003/kjv/kjv-audio-bible.m4a from /content/drive/My Drive/kjv_audio/50_Philippians_Chapters_01-04/The Holy Bible - Philippians Chapter 3 (KJV).m4a\n",
            "Skipping existing file: /content/drive/My Drive/bible_audio_processed/Philippians/004/kjv/kjv-audio-bible.m4a from /content/drive/My Drive/kjv_audio/50_Philippians_Chapters_01-04/The Holy Bible - Philippians Chapter 4 (KJV).m4a\n",
            "Skipping existing file: /content/drive/My Drive/bible_audio_processed/Ephesians/006/kjv/kjv-audio-bible.webm from /content/drive/My Drive/kjv_audio/49_Ephesians_Chapters_01-06/The Holy Bible - Ephesians Chapter 6 (KJV).webm\n",
            "Skipping existing file: /content/drive/My Drive/bible_audio_processed/Ephesians/004/kjv/kjv-audio-bible.m4a from /content/drive/My Drive/kjv_audio/49_Ephesians_Chapters_01-06/The Holy Bible - Ephesians Chapter 4 (KJV).m4a\n",
            "Skipping existing file: /content/drive/My Drive/bible_audio_processed/Ephesians/001/kjv/kjv-audio-bible.m4a from /content/drive/My Drive/kjv_audio/49_Ephesians_Chapters_01-06/The Holy Bible - Ephesians Chapter 1 (KJV).m4a\n",
            "Skipping existing file: /content/drive/My Drive/bible_audio_processed/Ephesians/002/kjv/kjv-audio-bible.m4a from /content/drive/My Drive/kjv_audio/49_Ephesians_Chapters_01-06/The Holy Bible - Ephesians Chapter 2 (KJV).m4a\n",
            "Skipping existing file: /content/drive/My Drive/bible_audio_processed/Ephesians/003/kjv/kjv-audio-bible.m4a from /content/drive/My Drive/kjv_audio/49_Ephesians_Chapters_01-06/The Holy Bible - Ephesians Chapter 3 (KJV).m4a\n",
            "Skipping existing file: /content/drive/My Drive/bible_audio_processed/Ephesians/005/kjv/kjv-audio-bible.m4a from /content/drive/My Drive/kjv_audio/49_Ephesians_Chapters_01-06/The Holy Bible - Ephesians Chapter 5 (KJV).m4a\n",
            "Skipping existing file: /content/drive/My Drive/bible_audio_processed/Galatians/002/kjv/kjv-audio-bible.m4a from /content/drive/My Drive/kjv_audio/48_Galatians_Chapters_01-06/The Holy Bible - Galatians Chapter 2 (KJV).m4a\n",
            "Skipping existing file: /content/drive/My Drive/bible_audio_processed/Galatians/001/kjv/kjv-audio-bible.m4a from /content/drive/My Drive/kjv_audio/48_Galatians_Chapters_01-06/The Holy Bible - Galatians Chapter 1 (KJV).m4a\n",
            "Skipping existing file: /content/drive/My Drive/bible_audio_processed/Galatians/003/kjv/kjv-audio-bible.m4a from /content/drive/My Drive/kjv_audio/48_Galatians_Chapters_01-06/The Holy Bible - Galatians Chapter 3 (KJV).m4a\n",
            "Skipping existing file: /content/drive/My Drive/bible_audio_processed/Galatians/004/kjv/kjv-audio-bible.m4a from /content/drive/My Drive/kjv_audio/48_Galatians_Chapters_01-06/The Holy Bible - Galatians Chapter 4 (KJV).m4a\n",
            "Skipping existing file: /content/drive/My Drive/bible_audio_processed/Galatians/005/kjv/kjv-audio-bible.m4a from /content/drive/My Drive/kjv_audio/48_Galatians_Chapters_01-06/The Holy Bible - Galatians Chapter 5 (KJV).m4a\n",
            "Skipping existing file: /content/drive/My Drive/bible_audio_processed/Galatians/006/kjv/kjv-audio-bible.m4a from /content/drive/My Drive/kjv_audio/48_Galatians_Chapters_01-06/The Holy Bible - Galatians Chapter 6 (KJV).m4a\n",
            "Skipping existing file: /content/drive/My Drive/bible_audio_processed/2_Corinthians/006/kjv/kjv-audio-bible.m4a from /content/drive/My Drive/kjv_audio/47_2_Corinthians_Chapters_01-13/The Holy Bible - 2 Corinthians Chapter 6 (KJV).m4a\n",
            "Skipping existing file: /content/drive/My Drive/bible_audio_processed/2_Corinthians/001/kjv/kjv-audio-bible.m4a from /content/drive/My Drive/kjv_audio/47_2_Corinthians_Chapters_01-13/The Holy Bible - 2 Corinthians Chapter 1 (KJV).m4a\n",
            "Skipping existing file: /content/drive/My Drive/bible_audio_processed/2_Corinthians/002/kjv/kjv-audio-bible.m4a from /content/drive/My Drive/kjv_audio/47_2_Corinthians_Chapters_01-13/The Holy Bible - 2 Corinthians Chapter 2 (KJV).m4a\n",
            "Skipping existing file: /content/drive/My Drive/bible_audio_processed/2_Corinthians/003/kjv/kjv-audio-bible.m4a from /content/drive/My Drive/kjv_audio/47_2_Corinthians_Chapters_01-13/The Holy Bible - 2 Corinthians Chapter 3 (KJV).m4a\n",
            "Skipping existing file: /content/drive/My Drive/bible_audio_processed/2_Corinthians/004/kjv/kjv-audio-bible.m4a from /content/drive/My Drive/kjv_audio/47_2_Corinthians_Chapters_01-13/The Holy Bible - 2 Corinthians Chapter 4 (KJV).m4a\n",
            "Skipping existing file: /content/drive/My Drive/bible_audio_processed/2_Corinthians/005/kjv/kjv-audio-bible.m4a from /content/drive/My Drive/kjv_audio/47_2_Corinthians_Chapters_01-13/The Holy Bible - 2 Corinthians Chapter 5 (KJV).m4a\n",
            "Skipping existing file: /content/drive/My Drive/bible_audio_processed/2_Corinthians/007/kjv/kjv-audio-bible.m4a from /content/drive/My Drive/kjv_audio/47_2_Corinthians_Chapters_01-13/The Holy Bible - 2 Corinthians Chapter 7 (KJV).m4a\n",
            "Skipping existing file: /content/drive/My Drive/bible_audio_processed/2_Corinthians/008/kjv/kjv-audio-bible.m4a from /content/drive/My Drive/kjv_audio/47_2_Corinthians_Chapters_01-13/The Holy Bible - 2 Corinthians Chapter 8 (KJV).m4a\n",
            "Skipping existing file: /content/drive/My Drive/bible_audio_processed/2_Corinthians/009/kjv/kjv-audio-bible.m4a from /content/drive/My Drive/kjv_audio/47_2_Corinthians_Chapters_01-13/The Holy Bible - 2 Corinthians Chapter 9 (KJV).m4a\n",
            "Skipping existing file: /content/drive/My Drive/bible_audio_processed/2_Corinthians/010/kjv/kjv-audio-bible.m4a from /content/drive/My Drive/kjv_audio/47_2_Corinthians_Chapters_01-13/The Holy Bible - 2 Corinthians Chapter 10 (KJV).m4a\n",
            "Skipping existing file: /content/drive/My Drive/bible_audio_processed/2_Corinthians/011/kjv/kjv-audio-bible.m4a from /content/drive/My Drive/kjv_audio/47_2_Corinthians_Chapters_01-13/The Holy Bible - 2 Corinthians Chapter 11 (KJV).m4a\n",
            "Skipping existing file: /content/drive/My Drive/bible_audio_processed/2_Corinthians/012/kjv/kjv-audio-bible.m4a from /content/drive/My Drive/kjv_audio/47_2_Corinthians_Chapters_01-13/The Holy Bible - 2 Corinthians Chapter 12 (KJV).m4a\n",
            "Skipping existing file: /content/drive/My Drive/bible_audio_processed/2_Corinthians/013/kjv/kjv-audio-bible.m4a from /content/drive/My Drive/kjv_audio/47_2_Corinthians_Chapters_01-13/The Holy Bible - 2 Corinthians Chapter 13 (KJV).m4a\n",
            "Skipping existing file: /content/drive/My Drive/bible_audio_processed/1_Corinthians/013/kjv/kjv-audio-bible.webm from /content/drive/My Drive/kjv_audio/46_1_Corinthians_Chapters_01-16/The Holy Bible - 1 Corinthians Chapter 13 (KJV).webm\n",
            "Skipping existing file: /content/drive/My Drive/bible_audio_processed/1_Corinthians/005/kjv/kjv-audio-bible.m4a from /content/drive/My Drive/kjv_audio/46_1_Corinthians_Chapters_01-16/The Holy Bible - 1 Corinthians Chapter 5 (KJV).m4a\n",
            "Skipping existing file: /content/drive/My Drive/bible_audio_processed/1_Corinthians/011/kjv/kjv-audio-bible.m4a from /content/drive/My Drive/kjv_audio/46_1_Corinthians_Chapters_01-16/The Holy Bible - 1 Corinthians Chapter 11 (KJV).m4a\n",
            "Skipping existing file: /content/drive/My Drive/bible_audio_processed/1_Corinthians/001/kjv/kjv-audio-bible.m4a from /content/drive/My Drive/kjv_audio/46_1_Corinthians_Chapters_01-16/The Holy Bible - 1 Corinthians Chapter 1 (KJV).m4a\n",
            "Skipping existing file: /content/drive/My Drive/bible_audio_processed/1_Corinthians/002/kjv/kjv-audio-bible.m4a from /content/drive/My Drive/kjv_audio/46_1_Corinthians_Chapters_01-16/The Holy Bible - 1 Corinthians Chapter 2 (KJV).m4a\n",
            "Skipping existing file: /content/drive/My Drive/bible_audio_processed/1_Corinthians/003/kjv/kjv-audio-bible.m4a from /content/drive/My Drive/kjv_audio/46_1_Corinthians_Chapters_01-16/The Holy Bible - 1 Corinthians Chapter 3 (KJV).m4a\n",
            "Skipping existing file: /content/drive/My Drive/bible_audio_processed/1_Corinthians/004/kjv/kjv-audio-bible.m4a from /content/drive/My Drive/kjv_audio/46_1_Corinthians_Chapters_01-16/The Holy Bible - 1 Corinthians Chapter 4 (KJV).m4a\n",
            "Skipping existing file: /content/drive/My Drive/bible_audio_processed/1_Corinthians/006/kjv/kjv-audio-bible.m4a from /content/drive/My Drive/kjv_audio/46_1_Corinthians_Chapters_01-16/The Holy Bible - 1 Corinthians Chapter 6 (KJV).m4a\n",
            "Skipping existing file: /content/drive/My Drive/bible_audio_processed/1_Corinthians/007/kjv/kjv-audio-bible.m4a from /content/drive/My Drive/kjv_audio/46_1_Corinthians_Chapters_01-16/The Holy Bible - 1 Corinthians Chapter 7 (KJV).m4a\n",
            "Skipping existing file: /content/drive/My Drive/bible_audio_processed/1_Corinthians/008/kjv/kjv-audio-bible.m4a from /content/drive/My Drive/kjv_audio/46_1_Corinthians_Chapters_01-16/The Holy Bible - 1 Corinthians Chapter 8 (KJV).m4a\n",
            "Skipping existing file: /content/drive/My Drive/bible_audio_processed/1_Corinthians/009/kjv/kjv-audio-bible.m4a from /content/drive/My Drive/kjv_audio/46_1_Corinthians_Chapters_01-16/The Holy Bible - 1 Corinthians Chapter 9 (KJV).m4a\n",
            "Skipping existing file: /content/drive/My Drive/bible_audio_processed/1_Corinthians/010/kjv/kjv-audio-bible.m4a from /content/drive/My Drive/kjv_audio/46_1_Corinthians_Chapters_01-16/The Holy Bible - 1 Corinthians Chapter 10 (KJV).m4a\n",
            "Skipping existing file: /content/drive/My Drive/bible_audio_processed/1_Corinthians/012/kjv/kjv-audio-bible.m4a from /content/drive/My Drive/kjv_audio/46_1_Corinthians_Chapters_01-16/The Holy Bible - 1 Corinthians Chapter 12 (KJV).m4a\n",
            "Skipping existing file: /content/drive/My Drive/bible_audio_processed/1_Corinthians/014/kjv/kjv-audio-bible.m4a from /content/drive/My Drive/kjv_audio/46_1_Corinthians_Chapters_01-16/The Holy Bible - 1 Corinthians Chapter 14 (KJV).m4a\n",
            "Skipping existing file: /content/drive/My Drive/bible_audio_processed/1_Corinthians/015/kjv/kjv-audio-bible.m4a from /content/drive/My Drive/kjv_audio/46_1_Corinthians_Chapters_01-16/The Holy Bible - 1 Corinthians Chapter 15 (KJV).m4a\n",
            "Skipping existing file: /content/drive/My Drive/bible_audio_processed/1_Corinthians/016/kjv/kjv-audio-bible.m4a from /content/drive/My Drive/kjv_audio/46_1_Corinthians_Chapters_01-16/The Holy Bible - 1 Corinthians Chapter 16 (KJV).m4a\n",
            "Skipping existing file: /content/drive/My Drive/bible_audio_processed/Romans/012/kjv/kjv-audio-bible.webm from /content/drive/My Drive/kjv_audio/45_Romans_Chapters_01-16/The Holy Bible - Romans Chapter 12 (KJV).webm\n",
            "Skipping existing file: /content/drive/My Drive/bible_audio_processed/Romans/008/kjv/kjv-audio-bible.webm from /content/drive/My Drive/kjv_audio/45_Romans_Chapters_01-16/The Holy Bible - Romans Chapter 8 (KJV).webm\n",
            "Skipping existing file: /content/drive/My Drive/bible_audio_processed/Romans/006/kjv/kjv-audio-bible.webm from /content/drive/My Drive/kjv_audio/45_Romans_Chapters_01-16/The Holy Bible - Romans Chapter 6 (KJV).webm\n",
            "Skipping existing file: /content/drive/My Drive/bible_audio_processed/Romans/009/kjv/kjv-audio-bible.webm from /content/drive/My Drive/kjv_audio/45_Romans_Chapters_01-16/The Holy Bible - Romans Chapter 9 (KJV).webm\n",
            "Skipping existing file: /content/drive/My Drive/bible_audio_processed/Romans/010/kjv/kjv-audio-bible.webm from /content/drive/My Drive/kjv_audio/45_Romans_Chapters_01-16/The Holy Bible - Romans Chapter 10 (KJV).webm\n",
            "Skipping existing file: /content/drive/My Drive/bible_audio_processed/Romans/011/kjv/kjv-audio-bible.webm from /content/drive/My Drive/kjv_audio/45_Romans_Chapters_01-16/The Holy Bible - Romans Chapter 11 (KJV).webm\n",
            "Skipping existing file: /content/drive/My Drive/bible_audio_processed/Romans/013/kjv/kjv-audio-bible.webm from /content/drive/My Drive/kjv_audio/45_Romans_Chapters_01-16/The Holy Bible - Romans Chapter 13 (KJV).webm\n",
            "Skipping existing file: /content/drive/My Drive/bible_audio_processed/Romans/014/kjv/kjv-audio-bible.webm from /content/drive/My Drive/kjv_audio/45_Romans_Chapters_01-16/The Holy Bible - Romans Chapter 14 (KJV).webm\n",
            "Skipping existing file: /content/drive/My Drive/bible_audio_processed/Romans/015/kjv/kjv-audio-bible.webm from /content/drive/My Drive/kjv_audio/45_Romans_Chapters_01-16/The Holy Bible - Romans Chapter 15 (KJV).webm\n",
            "Skipping existing file: /content/drive/My Drive/bible_audio_processed/Romans/002/kjv/kjv-audio-bible.m4a from /content/drive/My Drive/kjv_audio/45_Romans_Chapters_01-16/The Holy Bible - Romans Chapter 2 (KJV).m4a\n",
            "Skipping existing file: /content/drive/My Drive/bible_audio_processed/Romans/009/kjv/kjv-audio-bible.m4a from /content/drive/My Drive/kjv_audio/45_Romans_Chapters_01-16/The Holy Bible - Romans Chapter 9 (KJV).m4a\n",
            "Skipping existing file: /content/drive/My Drive/bible_audio_processed/Romans/001/kjv/kjv-audio-bible.m4a from /content/drive/My Drive/kjv_audio/45_Romans_Chapters_01-16/The Holy Bible - Romans Chapter 1 (KJV).m4a\n",
            "Skipping existing file: /content/drive/My Drive/bible_audio_processed/Romans/003/kjv/kjv-audio-bible.m4a from /content/drive/My Drive/kjv_audio/45_Romans_Chapters_01-16/The Holy Bible - Romans Chapter 3 (KJV).m4a\n",
            "Skipping existing file: /content/drive/My Drive/bible_audio_processed/Romans/004/kjv/kjv-audio-bible.m4a from /content/drive/My Drive/kjv_audio/45_Romans_Chapters_01-16/The Holy Bible - Romans Chapter 4 (KJV).m4a\n",
            "Skipping existing file: /content/drive/My Drive/bible_audio_processed/Romans/005/kjv/kjv-audio-bible.m4a from /content/drive/My Drive/kjv_audio/45_Romans_Chapters_01-16/The Holy Bible - Romans Chapter 5 (KJV).m4a\n",
            "Skipping existing file: /content/drive/My Drive/bible_audio_processed/Romans/007/kjv/kjv-audio-bible.m4a from /content/drive/My Drive/kjv_audio/45_Romans_Chapters_01-16/The Holy Bible - Romans Chapter 7 (KJV).m4a\n",
            "Skipping existing file: /content/drive/My Drive/bible_audio_processed/Romans/016/kjv/kjv-audio-bible.m4a from /content/drive/My Drive/kjv_audio/45_Romans_Chapters_01-16/The Holy Bible - Romans Chapter 16 (KJV).m4a\n",
            "Skipping existing file: /content/drive/My Drive/bible_audio_processed/Acts/009/kjv/kjv-audio-bible.webm from /content/drive/My Drive/kjv_audio/44_Acts_Chapters_01-28/The Holy Bible - Acts Chapter 9 (KJV).webm\n",
            "Skipping existing file: /content/drive/My Drive/bible_audio_processed/Acts/002/kjv/kjv-audio-bible.m4a from /content/drive/My Drive/kjv_audio/44_Acts_Chapters_01-28/The Holy Bible - Acts Chapter 2 (KJV).m4a\n",
            "Skipping existing file: /content/drive/My Drive/bible_audio_processed/Acts/004/kjv/kjv-audio-bible.m4a from /content/drive/My Drive/kjv_audio/44_Acts_Chapters_01-28/The Holy Bible - Acts Chapter 4 (KJV).m4a\n",
            "Skipping existing file: /content/drive/My Drive/bible_audio_processed/Acts/001/kjv/kjv-audio-bible.m4a from /content/drive/My Drive/kjv_audio/44_Acts_Chapters_01-28/The Holy Bible - Acts Chapter 1 (KJV).m4a\n",
            "Skipping existing file: /content/drive/My Drive/bible_audio_processed/Acts/003/kjv/kjv-audio-bible.m4a from /content/drive/My Drive/kjv_audio/44_Acts_Chapters_01-28/The Holy Bible - Acts Chapter 3 (KJV).m4a\n",
            "Skipping existing file: /content/drive/My Drive/bible_audio_processed/Acts/005/kjv/kjv-audio-bible.m4a from /content/drive/My Drive/kjv_audio/44_Acts_Chapters_01-28/The Holy Bible - Acts Chapter 5 (KJV).m4a\n",
            "Skipping existing file: /content/drive/My Drive/bible_audio_processed/Acts/006/kjv/kjv-audio-bible.m4a from /content/drive/My Drive/kjv_audio/44_Acts_Chapters_01-28/The Holy Bible - Acts Chapter 6 (KJV).m4a\n",
            "Skipping existing file: /content/drive/My Drive/bible_audio_processed/Acts/007/kjv/kjv-audio-bible.m4a from /content/drive/My Drive/kjv_audio/44_Acts_Chapters_01-28/The Holy Bible - Acts Chapter 7 (KJV).m4a\n",
            "Skipping existing file: /content/drive/My Drive/bible_audio_processed/Acts/008/kjv/kjv-audio-bible.m4a from /content/drive/My Drive/kjv_audio/44_Acts_Chapters_01-28/The Holy Bible - Acts Chapter 8 (KJV).m4a\n",
            "Skipping existing file: /content/drive/My Drive/bible_audio_processed/Acts/010/kjv/kjv-audio-bible.m4a from /content/drive/My Drive/kjv_audio/44_Acts_Chapters_01-28/The Holy Bible - Acts Chapter 10 (KJV).m4a\n",
            "Skipping existing file: /content/drive/My Drive/bible_audio_processed/Acts/011/kjv/kjv-audio-bible.m4a from /content/drive/My Drive/kjv_audio/44_Acts_Chapters_01-28/The Holy Bible - Acts Chapter 11 (KJV).m4a\n",
            "Skipping existing file: /content/drive/My Drive/bible_audio_processed/Acts/012/kjv/kjv-audio-bible.m4a from /content/drive/My Drive/kjv_audio/44_Acts_Chapters_01-28/The Holy Bible - Acts Chapter 12 (KJV).m4a\n",
            "Skipping existing file: /content/drive/My Drive/bible_audio_processed/Acts/013/kjv/kjv-audio-bible.m4a from /content/drive/My Drive/kjv_audio/44_Acts_Chapters_01-28/The Holy Bible - Acts Chapter 13 (KJV).m4a\n",
            "Skipping existing file: /content/drive/My Drive/bible_audio_processed/Acts/014/kjv/kjv-audio-bible.m4a from /content/drive/My Drive/kjv_audio/44_Acts_Chapters_01-28/The Holy Bible - Acts Chapter 14 (KJV).m4a\n",
            "Skipping existing file: /content/drive/My Drive/bible_audio_processed/Acts/015/kjv/kjv-audio-bible.m4a from /content/drive/My Drive/kjv_audio/44_Acts_Chapters_01-28/The Holy Bible - Acts Chapter 15 (KJV).m4a\n",
            "Skipping existing file: /content/drive/My Drive/bible_audio_processed/Acts/016/kjv/kjv-audio-bible.m4a from /content/drive/My Drive/kjv_audio/44_Acts_Chapters_01-28/The Holy Bible - Acts Chapter 16 (KJV).m4a\n",
            "Skipping existing file: /content/drive/My Drive/bible_audio_processed/Acts/017/kjv/kjv-audio-bible.m4a from /content/drive/My Drive/kjv_audio/44_Acts_Chapters_01-28/The Holy Bible - Acts Chapter 17 (KJV).m4a\n",
            "Skipping existing file: /content/drive/My Drive/bible_audio_processed/Acts/018/kjv/kjv-audio-bible.m4a from /content/drive/My Drive/kjv_audio/44_Acts_Chapters_01-28/The Holy Bible - Acts Chapter 18 (KJV).m4a\n",
            "Skipping existing file: /content/drive/My Drive/bible_audio_processed/Acts/019/kjv/kjv-audio-bible.m4a from /content/drive/My Drive/kjv_audio/44_Acts_Chapters_01-28/The Holy Bible - Acts Chapter 19 (KJV).m4a\n",
            "Skipping existing file: /content/drive/My Drive/bible_audio_processed/Acts/020/kjv/kjv-audio-bible.m4a from /content/drive/My Drive/kjv_audio/44_Acts_Chapters_01-28/The Holy Bible - Acts Chapter 20 (KJV).m4a\n",
            "Skipping existing file: /content/drive/My Drive/bible_audio_processed/Acts/021/kjv/kjv-audio-bible.m4a from /content/drive/My Drive/kjv_audio/44_Acts_Chapters_01-28/The Holy Bible - Acts Chapter 21 (KJV).m4a\n",
            "Skipping existing file: /content/drive/My Drive/bible_audio_processed/Acts/022/kjv/kjv-audio-bible.m4a from /content/drive/My Drive/kjv_audio/44_Acts_Chapters_01-28/The Holy Bible - Acts Chapter 22 (KJV).m4a\n",
            "Skipping existing file: /content/drive/My Drive/bible_audio_processed/Acts/023/kjv/kjv-audio-bible.m4a from /content/drive/My Drive/kjv_audio/44_Acts_Chapters_01-28/The Holy Bible - Acts Chapter 23 (KJV).m4a\n",
            "Skipping existing file: /content/drive/My Drive/bible_audio_processed/Acts/024/kjv/kjv-audio-bible.m4a from /content/drive/My Drive/kjv_audio/44_Acts_Chapters_01-28/The Holy Bible - Acts Chapter 24 (KJV).m4a\n",
            "Skipping existing file: /content/drive/My Drive/bible_audio_processed/Acts/025/kjv/kjv-audio-bible.m4a from /content/drive/My Drive/kjv_audio/44_Acts_Chapters_01-28/The Holy Bible - Acts Chapter 25 (KJV).m4a\n",
            "Skipping existing file: /content/drive/My Drive/bible_audio_processed/Acts/026/kjv/kjv-audio-bible.m4a from /content/drive/My Drive/kjv_audio/44_Acts_Chapters_01-28/The Holy Bible - Acts Chapter 26 (KJV).m4a\n",
            "Skipping existing file: /content/drive/My Drive/bible_audio_processed/Acts/027/kjv/kjv-audio-bible.m4a from /content/drive/My Drive/kjv_audio/44_Acts_Chapters_01-28/The Holy Bible - Acts Chapter 27 (KJV).m4a\n",
            "Skipping existing file: /content/drive/My Drive/bible_audio_processed/Acts/028/kjv/kjv-audio-bible.m4a from /content/drive/My Drive/kjv_audio/44_Acts_Chapters_01-28/The Holy Bible - Acts Chapter 28 (KJV).m4a\n",
            "Skipping existing file: /content/drive/My Drive/bible_audio_processed/John/001/kjv/kjv-audio-bible.webm from /content/drive/My Drive/kjv_audio/43_John_Chapters_01-21/The Holy Bible - John Chapter 1 (KJV).webm\n",
            "Skipping existing file: /content/drive/My Drive/bible_audio_processed/John/017/kjv/kjv-audio-bible.webm from /content/drive/My Drive/kjv_audio/43_John_Chapters_01-21/The Holy Bible - John Chapter 17 (KJV).webm\n",
            "Skipping existing file: /content/drive/My Drive/bible_audio_processed/John/014/kjv/kjv-audio-bible.webm from /content/drive/My Drive/kjv_audio/43_John_Chapters_01-21/The Holy Bible - John Chapter 14 (KJV).webm\n",
            "Skipping existing file: /content/drive/My Drive/bible_audio_processed/John/003/kjv/kjv-audio-bible.webm from /content/drive/My Drive/kjv_audio/43_John_Chapters_01-21/The Holy Bible - John Chapter 3 (KJV).webm\n",
            "Skipping existing file: /content/drive/My Drive/bible_audio_processed/John/015/kjv/kjv-audio-bible.webm from /content/drive/My Drive/kjv_audio/43_John_Chapters_01-21/The Holy Bible - John Chapter 15 (KJV).webm\n",
            "Skipping existing file: /content/drive/My Drive/bible_audio_processed/John/006/kjv/kjv-audio-bible.webm from /content/drive/My Drive/kjv_audio/43_John_Chapters_01-21/The Holy Bible - John Chapter 6 (KJV).webm\n",
            "Skipping existing file: /content/drive/My Drive/bible_audio_processed/John/002/kjv/kjv-audio-bible.m4a from /content/drive/My Drive/kjv_audio/43_John_Chapters_01-21/The Holy Bible - John Chapter 2 (KJV).m4a\n",
            "Skipping existing file: /content/drive/My Drive/bible_audio_processed/John/004/kjv/kjv-audio-bible.m4a from /content/drive/My Drive/kjv_audio/43_John_Chapters_01-21/The Holy Bible - John Chapter 4 (KJV).m4a\n",
            "Skipping existing file: /content/drive/My Drive/bible_audio_processed/John/005/kjv/kjv-audio-bible.m4a from /content/drive/My Drive/kjv_audio/43_John_Chapters_01-21/The Holy Bible - John Chapter 5 (KJV).m4a\n",
            "Skipping existing file: /content/drive/My Drive/bible_audio_processed/John/007/kjv/kjv-audio-bible.m4a from /content/drive/My Drive/kjv_audio/43_John_Chapters_01-21/The Holy Bible - John Chapter 7 (KJV).m4a\n",
            "Skipping existing file: /content/drive/My Drive/bible_audio_processed/John/008/kjv/kjv-audio-bible.m4a from /content/drive/My Drive/kjv_audio/43_John_Chapters_01-21/The Holy Bible - John Chapter 8 (KJV).m4a\n",
            "Skipping existing file: /content/drive/My Drive/bible_audio_processed/John/009/kjv/kjv-audio-bible.m4a from /content/drive/My Drive/kjv_audio/43_John_Chapters_01-21/The Holy Bible - John Chapter 9 (KJV).m4a\n",
            "Skipping existing file: /content/drive/My Drive/bible_audio_processed/John/010/kjv/kjv-audio-bible.m4a from /content/drive/My Drive/kjv_audio/43_John_Chapters_01-21/The Holy Bible - John Chapter 10 (KJV).m4a\n",
            "Skipping existing file: /content/drive/My Drive/bible_audio_processed/John/011/kjv/kjv-audio-bible.m4a from /content/drive/My Drive/kjv_audio/43_John_Chapters_01-21/The Holy Bible - John Chapter 11 (KJV).m4a\n",
            "Skipping existing file: /content/drive/My Drive/bible_audio_processed/John/012/kjv/kjv-audio-bible.m4a from /content/drive/My Drive/kjv_audio/43_John_Chapters_01-21/The Holy Bible - John Chapter 12 (KJV).m4a\n",
            "Skipping existing file: /content/drive/My Drive/bible_audio_processed/John/013/kjv/kjv-audio-bible.m4a from /content/drive/My Drive/kjv_audio/43_John_Chapters_01-21/The Holy Bible - John Chapter 13 (KJV).m4a\n",
            "Skipping existing file: /content/drive/My Drive/bible_audio_processed/John/016/kjv/kjv-audio-bible.m4a from /content/drive/My Drive/kjv_audio/43_John_Chapters_01-21/The Holy Bible - John Chapter 16 (KJV).m4a\n",
            "Skipping existing file: /content/drive/My Drive/bible_audio_processed/John/018/kjv/kjv-audio-bible.m4a from /content/drive/My Drive/kjv_audio/43_John_Chapters_01-21/The Holy Bible - John Chapter 18 (KJV).m4a\n",
            "Skipping existing file: /content/drive/My Drive/bible_audio_processed/John/019/kjv/kjv-audio-bible.m4a from /content/drive/My Drive/kjv_audio/43_John_Chapters_01-21/The Holy Bible - John Chapter 19 (KJV).m4a\n",
            "Skipping existing file: /content/drive/My Drive/bible_audio_processed/John/020/kjv/kjv-audio-bible.m4a from /content/drive/My Drive/kjv_audio/43_John_Chapters_01-21/The Holy Bible - John Chapter 20 (KJV).m4a\n",
            "Skipping existing file: /content/drive/My Drive/bible_audio_processed/John/021/kjv/kjv-audio-bible.m4a from /content/drive/My Drive/kjv_audio/43_John_Chapters_01-21/The Holy Bible - John Chapter 21 (KJV).m4a\n",
            "Skipping existing file: /content/drive/My Drive/bible_audio_processed/Luke/001/kjv/kjv-audio-bible.webm from /content/drive/My Drive/kjv_audio/42_Luke_Chapters_01-24/The Holy Bible - Luke Chapter 1 (KJV).webm\n",
            "Skipping existing file: /content/drive/My Drive/bible_audio_processed/Luke/002/kjv/kjv-audio-bible.m4a from /content/drive/My Drive/kjv_audio/42_Luke_Chapters_01-24/The Holy Bible - Luke Chapter 2 (KJV).m4a\n",
            "Skipping existing file: /content/drive/My Drive/bible_audio_processed/Luke/003/kjv/kjv-audio-bible.m4a from /content/drive/My Drive/kjv_audio/42_Luke_Chapters_01-24/The Holy Bible - Luke Chapter 3 (KJV).m4a\n",
            "Skipping existing file: /content/drive/My Drive/bible_audio_processed/Luke/004/kjv/kjv-audio-bible.m4a from /content/drive/My Drive/kjv_audio/42_Luke_Chapters_01-24/The Holy Bible - Luke Chapter 4 (KJV).m4a\n",
            "Skipping existing file: /content/drive/My Drive/bible_audio_processed/Luke/005/kjv/kjv-audio-bible.m4a from /content/drive/My Drive/kjv_audio/42_Luke_Chapters_01-24/The Holy Bible - Luke Chapter 5 (KJV).m4a\n",
            "Skipping existing file: /content/drive/My Drive/bible_audio_processed/Luke/006/kjv/kjv-audio-bible.m4a from /content/drive/My Drive/kjv_audio/42_Luke_Chapters_01-24/The Holy Bible - Luke Chapter 6 (KJV).m4a\n",
            "Skipping existing file: /content/drive/My Drive/bible_audio_processed/Luke/007/kjv/kjv-audio-bible.m4a from /content/drive/My Drive/kjv_audio/42_Luke_Chapters_01-24/The Holy Bible - Luke Chapter 7 (KJV).m4a\n",
            "Skipping existing file: /content/drive/My Drive/bible_audio_processed/Luke/008/kjv/kjv-audio-bible.m4a from /content/drive/My Drive/kjv_audio/42_Luke_Chapters_01-24/The Holy Bible - Luke Chapter 8 (KJV).m4a\n",
            "Skipping existing file: /content/drive/My Drive/bible_audio_processed/Luke/009/kjv/kjv-audio-bible.m4a from /content/drive/My Drive/kjv_audio/42_Luke_Chapters_01-24/The Holy Bible - Luke Chapter 9 (KJV).m4a\n",
            "Skipping existing file: /content/drive/My Drive/bible_audio_processed/Luke/010/kjv/kjv-audio-bible.m4a from /content/drive/My Drive/kjv_audio/42_Luke_Chapters_01-24/The Holy Bible - Luke Chapter 10 (KJV).m4a\n",
            "Skipping existing file: /content/drive/My Drive/bible_audio_processed/Luke/011/kjv/kjv-audio-bible.m4a from /content/drive/My Drive/kjv_audio/42_Luke_Chapters_01-24/The Holy Bible - Luke Chapter 11 (KJV).m4a\n",
            "Skipping existing file: /content/drive/My Drive/bible_audio_processed/Luke/012/kjv/kjv-audio-bible.m4a from /content/drive/My Drive/kjv_audio/42_Luke_Chapters_01-24/The Holy Bible - Luke Chapter 12 (KJV).m4a\n",
            "Skipping existing file: /content/drive/My Drive/bible_audio_processed/Luke/013/kjv/kjv-audio-bible.m4a from /content/drive/My Drive/kjv_audio/42_Luke_Chapters_01-24/The Holy Bible - Luke Chapter 13 (KJV).m4a\n",
            "Skipping existing file: /content/drive/My Drive/bible_audio_processed/Luke/014/kjv/kjv-audio-bible.m4a from /content/drive/My Drive/kjv_audio/42_Luke_Chapters_01-24/The Holy Bible - Luke Chapter 14 (KJV).m4a\n",
            "Skipping existing file: /content/drive/My Drive/bible_audio_processed/Luke/015/kjv/kjv-audio-bible.m4a from /content/drive/My Drive/kjv_audio/42_Luke_Chapters_01-24/The Holy Bible - Luke Chapter 15 (KJV).m4a\n",
            "Skipping existing file: /content/drive/My Drive/bible_audio_processed/Luke/016/kjv/kjv-audio-bible.m4a from /content/drive/My Drive/kjv_audio/42_Luke_Chapters_01-24/The Holy Bible - Luke Chapter 16 (KJV).m4a\n",
            "Skipping existing file: /content/drive/My Drive/bible_audio_processed/Luke/017/kjv/kjv-audio-bible.m4a from /content/drive/My Drive/kjv_audio/42_Luke_Chapters_01-24/The Holy Bible - Luke Chapter 17 (KJV).m4a\n",
            "Skipping existing file: /content/drive/My Drive/bible_audio_processed/Luke/018/kjv/kjv-audio-bible.m4a from /content/drive/My Drive/kjv_audio/42_Luke_Chapters_01-24/The Holy Bible - Luke Chapter 18 (KJV).m4a\n",
            "Skipping existing file: /content/drive/My Drive/bible_audio_processed/Luke/019/kjv/kjv-audio-bible.m4a from /content/drive/My Drive/kjv_audio/42_Luke_Chapters_01-24/The Holy Bible - Luke Chapter 19 (KJV).m4a\n",
            "Skipping existing file: /content/drive/My Drive/bible_audio_processed/Luke/020/kjv/kjv-audio-bible.m4a from /content/drive/My Drive/kjv_audio/42_Luke_Chapters_01-24/The Holy Bible - Luke Chapter 20 (KJV).m4a\n",
            "Skipping existing file: /content/drive/My Drive/bible_audio_processed/Luke/021/kjv/kjv-audio-bible.m4a from /content/drive/My Drive/kjv_audio/42_Luke_Chapters_01-24/The Holy Bible - Luke Chapter 21 (KJV).m4a\n",
            "Skipping existing file: /content/drive/My Drive/bible_audio_processed/Luke/022/kjv/kjv-audio-bible.m4a from /content/drive/My Drive/kjv_audio/42_Luke_Chapters_01-24/The Holy Bible - Luke Chapter 22 (KJV).m4a\n",
            "Skipping existing file: /content/drive/My Drive/bible_audio_processed/Luke/023/kjv/kjv-audio-bible.m4a from /content/drive/My Drive/kjv_audio/42_Luke_Chapters_01-24/The Holy Bible - Luke Chapter 23 (KJV).m4a\n",
            "Skipping existing file: /content/drive/My Drive/bible_audio_processed/Luke/024/kjv/kjv-audio-bible.m4a from /content/drive/My Drive/kjv_audio/42_Luke_Chapters_01-24/The Holy Bible - Luke Chapter 24 (KJV).m4a\n",
            "Skipping existing file: /content/drive/My Drive/bible_audio_processed/Mark/001/kjv/kjv-audio-bible.m4a from /content/drive/My Drive/kjv_audio/41_Mark_Chapters_01-16/The Holy Bible - Mark Chapter 1 (KJV).m4a\n",
            "Skipping existing file: /content/drive/My Drive/bible_audio_processed/Mark/002/kjv/kjv-audio-bible.m4a from /content/drive/My Drive/kjv_audio/41_Mark_Chapters_01-16/The Holy Bible - Mark Chapter 2 (KJV).m4a\n",
            "Skipping existing file: /content/drive/My Drive/bible_audio_processed/Mark/003/kjv/kjv-audio-bible.m4a from /content/drive/My Drive/kjv_audio/41_Mark_Chapters_01-16/The Holy Bible - Mark Chapter 3 (KJV).m4a\n",
            "Skipping existing file: /content/drive/My Drive/bible_audio_processed/Mark/004/kjv/kjv-audio-bible.m4a from /content/drive/My Drive/kjv_audio/41_Mark_Chapters_01-16/The Holy Bible - Mark Chapter 4 (KJV).m4a\n",
            "Skipping existing file: /content/drive/My Drive/bible_audio_processed/Mark/005/kjv/kjv-audio-bible.m4a from /content/drive/My Drive/kjv_audio/41_Mark_Chapters_01-16/The Holy Bible - Mark Chapter 5 (KJV).m4a\n",
            "Skipping existing file: /content/drive/My Drive/bible_audio_processed/Mark/006/kjv/kjv-audio-bible.m4a from /content/drive/My Drive/kjv_audio/41_Mark_Chapters_01-16/The Holy Bible - Mark Chapter 6 (KJV).m4a\n",
            "Skipping existing file: /content/drive/My Drive/bible_audio_processed/Mark/007/kjv/kjv-audio-bible.m4a from /content/drive/My Drive/kjv_audio/41_Mark_Chapters_01-16/The Holy Bible - Mark Chapter 7 (KJV).m4a\n",
            "Skipping existing file: /content/drive/My Drive/bible_audio_processed/Mark/008/kjv/kjv-audio-bible.m4a from /content/drive/My Drive/kjv_audio/41_Mark_Chapters_01-16/The Holy Bible - Mark Chapter 8 (KJV).m4a\n",
            "Skipping existing file: /content/drive/My Drive/bible_audio_processed/Mark/009/kjv/kjv-audio-bible.m4a from /content/drive/My Drive/kjv_audio/41_Mark_Chapters_01-16/The Holy Bible - Mark Chapter 9 (KJV).m4a\n",
            "Skipping existing file: /content/drive/My Drive/bible_audio_processed/Mark/010/kjv/kjv-audio-bible.m4a from /content/drive/My Drive/kjv_audio/41_Mark_Chapters_01-16/The Holy Bible - Mark Chapter 10 (KJV).m4a\n",
            "Skipping existing file: /content/drive/My Drive/bible_audio_processed/Mark/011/kjv/kjv-audio-bible.m4a from /content/drive/My Drive/kjv_audio/41_Mark_Chapters_01-16/The Holy Bible - Mark Chapter 11 (KJV).m4a\n",
            "Skipping existing file: /content/drive/My Drive/bible_audio_processed/Mark/012/kjv/kjv-audio-bible.m4a from /content/drive/My Drive/kjv_audio/41_Mark_Chapters_01-16/The Holy Bible - Mark Chapter 12 (KJV).m4a\n",
            "Skipping existing file: /content/drive/My Drive/bible_audio_processed/Mark/013/kjv/kjv-audio-bible.m4a from /content/drive/My Drive/kjv_audio/41_Mark_Chapters_01-16/The Holy Bible - Mark Chapter 13 (KJV).m4a\n",
            "Skipping existing file: /content/drive/My Drive/bible_audio_processed/Mark/014/kjv/kjv-audio-bible.m4a from /content/drive/My Drive/kjv_audio/41_Mark_Chapters_01-16/The Holy Bible - Mark Chapter 14 (KJV).m4a\n",
            "Skipping existing file: /content/drive/My Drive/bible_audio_processed/Mark/015/kjv/kjv-audio-bible.m4a from /content/drive/My Drive/kjv_audio/41_Mark_Chapters_01-16/The Holy Bible - Mark Chapter 15 (KJV).m4a\n",
            "Skipping existing file: /content/drive/My Drive/bible_audio_processed/Mark/016/kjv/kjv-audio-bible.m4a from /content/drive/My Drive/kjv_audio/41_Mark_Chapters_01-16/The Holy Bible - Mark Chapter 16 (KJV).m4a\n",
            "Skipping existing file: /content/drive/My Drive/bible_audio_processed/Matthew/024/kjv/kjv-audio-bible.webm from /content/drive/My Drive/kjv_audio/40_Matthew_Chapters_01-28/The Holy Bible - Matthew Chapter 24 (KJV).webm\n",
            "Skipping existing file: /content/drive/My Drive/bible_audio_processed/Matthew/007/kjv/kjv-audio-bible.webm from /content/drive/My Drive/kjv_audio/40_Matthew_Chapters_01-28/The Holy Bible - Matthew Chapter 7 (KJV).webm\n",
            "Skipping existing file: /content/drive/My Drive/bible_audio_processed/Matthew/006/kjv/kjv-audio-bible.webm from /content/drive/My Drive/kjv_audio/40_Matthew_Chapters_01-28/The Holy Bible - Matthew Chapter 6 (KJV).webm\n",
            "Skipping existing file: /content/drive/My Drive/bible_audio_processed/Matthew/005/kjv/kjv-audio-bible.webm from /content/drive/My Drive/kjv_audio/40_Matthew_Chapters_01-28/The Holy Bible - Matthew Chapter 5 (KJV).webm\n",
            "Skipping existing file: /content/drive/My Drive/bible_audio_processed/Matthew/001/kjv/kjv-audio-bible.webm from /content/drive/My Drive/kjv_audio/40_Matthew_Chapters_01-28/The Holy Bible - Matthew Chapter 1 (KJV).webm\n",
            "Skipping existing file: /content/drive/My Drive/bible_audio_processed/Matthew/008/kjv/kjv-audio-bible.webm from /content/drive/My Drive/kjv_audio/40_Matthew_Chapters_01-28/The Holy Bible - Matthew Chapter 8 (KJV).webm\n",
            "Skipping existing file: /content/drive/My Drive/bible_audio_processed/Matthew/002/kjv/kjv-audio-bible.m4a from /content/drive/My Drive/kjv_audio/40_Matthew_Chapters_01-28/The Holy Bible - Matthew Chapter 2 (KJV).m4a\n",
            "Skipping existing file: /content/drive/My Drive/bible_audio_processed/Matthew/003/kjv/kjv-audio-bible.m4a from /content/drive/My Drive/kjv_audio/40_Matthew_Chapters_01-28/The Holy Bible - Matthew Chapter 3 (KJV).m4a\n",
            "Skipping existing file: /content/drive/My Drive/bible_audio_processed/Matthew/004/kjv/kjv-audio-bible.m4a from /content/drive/My Drive/kjv_audio/40_Matthew_Chapters_01-28/The Holy Bible - Matthew Chapter 4 (KJV).m4a\n",
            "Skipping existing file: /content/drive/My Drive/bible_audio_processed/Matthew/009/kjv/kjv-audio-bible.m4a from /content/drive/My Drive/kjv_audio/40_Matthew_Chapters_01-28/The Holy Bible - Matthew Chapter 9 (KJV).m4a\n",
            "Skipping existing file: /content/drive/My Drive/bible_audio_processed/Matthew/010/kjv/kjv-audio-bible.m4a from /content/drive/My Drive/kjv_audio/40_Matthew_Chapters_01-28/The Holy Bible - Matthew Chapter 10 (KJV).m4a\n",
            "Skipping existing file: /content/drive/My Drive/bible_audio_processed/Matthew/011/kjv/kjv-audio-bible.m4a from /content/drive/My Drive/kjv_audio/40_Matthew_Chapters_01-28/The Holy Bible - Matthew Chapter 11 (KJV).m4a\n",
            "Skipping existing file: /content/drive/My Drive/bible_audio_processed/Matthew/012/kjv/kjv-audio-bible.m4a from /content/drive/My Drive/kjv_audio/40_Matthew_Chapters_01-28/The Holy Bible - Matthew Chapter 12 (KJV).m4a\n",
            "Skipping existing file: /content/drive/My Drive/bible_audio_processed/Matthew/013/kjv/kjv-audio-bible.m4a from /content/drive/My Drive/kjv_audio/40_Matthew_Chapters_01-28/The Holy Bible - Matthew Chapter 13 (KJV).m4a\n",
            "Skipping existing file: /content/drive/My Drive/bible_audio_processed/Matthew/014/kjv/kjv-audio-bible.m4a from /content/drive/My Drive/kjv_audio/40_Matthew_Chapters_01-28/The Holy Bible - Matthew Chapter 14 (KJV).m4a\n",
            "Skipping existing file: /content/drive/My Drive/bible_audio_processed/Matthew/015/kjv/kjv-audio-bible.m4a from /content/drive/My Drive/kjv_audio/40_Matthew_Chapters_01-28/The Holy Bible - Matthew Chapter 15 (KJV).m4a\n",
            "Skipping existing file: /content/drive/My Drive/bible_audio_processed/Matthew/016/kjv/kjv-audio-bible.m4a from /content/drive/My Drive/kjv_audio/40_Matthew_Chapters_01-28/The Holy Bible - Matthew Chapter 16 (KJV).m4a\n",
            "Skipping existing file: /content/drive/My Drive/bible_audio_processed/Matthew/017/kjv/kjv-audio-bible.m4a from /content/drive/My Drive/kjv_audio/40_Matthew_Chapters_01-28/The Holy Bible - Matthew Chapter 17 (KJV).m4a\n",
            "Skipping existing file: /content/drive/My Drive/bible_audio_processed/Matthew/018/kjv/kjv-audio-bible.m4a from /content/drive/My Drive/kjv_audio/40_Matthew_Chapters_01-28/The Holy Bible - Matthew Chapter 18 (KJV).m4a\n",
            "Skipping existing file: /content/drive/My Drive/bible_audio_processed/Matthew/019/kjv/kjv-audio-bible.m4a from /content/drive/My Drive/kjv_audio/40_Matthew_Chapters_01-28/The Holy Bible - Matthew Chapter 19 (KJV).m4a\n",
            "Skipping existing file: /content/drive/My Drive/bible_audio_processed/Matthew/020/kjv/kjv-audio-bible.m4a from /content/drive/My Drive/kjv_audio/40_Matthew_Chapters_01-28/The Holy Bible - Matthew Chapter 20 (KJV).m4a\n",
            "Skipping existing file: /content/drive/My Drive/bible_audio_processed/Matthew/021/kjv/kjv-audio-bible.m4a from /content/drive/My Drive/kjv_audio/40_Matthew_Chapters_01-28/The Holy Bible - Matthew Chapter 21 (KJV).m4a\n",
            "Skipping existing file: /content/drive/My Drive/bible_audio_processed/Matthew/022/kjv/kjv-audio-bible.m4a from /content/drive/My Drive/kjv_audio/40_Matthew_Chapters_01-28/The Holy Bible - Matthew Chapter 22 (KJV).m4a\n",
            "Skipping existing file: /content/drive/My Drive/bible_audio_processed/Matthew/023/kjv/kjv-audio-bible.m4a from /content/drive/My Drive/kjv_audio/40_Matthew_Chapters_01-28/The Holy Bible - Matthew Chapter 23 (KJV).m4a\n",
            "Skipping existing file: /content/drive/My Drive/bible_audio_processed/Matthew/025/kjv/kjv-audio-bible.m4a from /content/drive/My Drive/kjv_audio/40_Matthew_Chapters_01-28/The Holy Bible - Matthew Chapter 25 (KJV).m4a\n",
            "Skipping existing file: /content/drive/My Drive/bible_audio_processed/Matthew/026/kjv/kjv-audio-bible.m4a from /content/drive/My Drive/kjv_audio/40_Matthew_Chapters_01-28/The Holy Bible - Matthew Chapter 26 (KJV).m4a\n",
            "Skipping existing file: /content/drive/My Drive/bible_audio_processed/Matthew/027/kjv/kjv-audio-bible.m4a from /content/drive/My Drive/kjv_audio/40_Matthew_Chapters_01-28/The Holy Bible - Matthew Chapter 27 (KJV).m4a\n",
            "Skipping existing file: /content/drive/My Drive/bible_audio_processed/Matthew/028/kjv/kjv-audio-bible.m4a from /content/drive/My Drive/kjv_audio/40_Matthew_Chapters_01-28/The Holy Bible - Matthew Chapter 28 (KJV).m4a\n",
            "Skipping existing file: /content/drive/My Drive/bible_audio_processed/Psalm/035/kjv/kjv-audio-bible.webm from /content/drive/My Drive/kjv_audio/19_Psalm_Chapters_01-150/The Holy Bible - Psalm Chapter 35 (KJV).webm\n",
            "Skipping existing file: /content/drive/My Drive/bible_audio_processed/Psalm/027/kjv/kjv-audio-bible.webm from /content/drive/My Drive/kjv_audio/19_Psalm_Chapters_01-150/The Holy Bible - Psalm Chapter 27 (KJV).webm\n",
            "Skipping existing file: /content/drive/My Drive/bible_audio_processed/Psalm/001/kjv/kjv-audio-bible.webm from /content/drive/My Drive/kjv_audio/19_Psalm_Chapters_01-150/The Holy Bible - Psalm Chapter 1 (KJV).webm\n",
            "Skipping existing file: /content/drive/My Drive/bible_audio_processed/Psalm/023/kjv/kjv-audio-bible.webm from /content/drive/My Drive/kjv_audio/19_Psalm_Chapters_01-150/The Holy Bible - Psalm Chapter 23 (KJV).webm\n",
            "Skipping existing file: /content/drive/My Drive/bible_audio_processed/Psalm/037/kjv/kjv-audio-bible.webm from /content/drive/My Drive/kjv_audio/19_Psalm_Chapters_01-150/The Holy Bible - Psalm Chapter 37 (KJV).webm\n",
            "Skipping existing file: /content/drive/My Drive/bible_audio_processed/Psalm/091/kjv/kjv-audio-bible.webm from /content/drive/My Drive/kjv_audio/19_Psalm_Chapters_01-150/The Holy Bible - Psalm Chapter 91 (KJV).webm\n",
            "Skipping existing file: /content/drive/My Drive/bible_audio_processed/Psalm/002/kjv/kjv-audio-bible.m4a from /content/drive/My Drive/kjv_audio/19_Psalm_Chapters_01-150/The Holy Bible - Psalm Chapter 2 (KJV).m4a\n",
            "Skipping existing file: /content/drive/My Drive/bible_audio_processed/Psalm/003/kjv/kjv-audio-bible.m4a from /content/drive/My Drive/kjv_audio/19_Psalm_Chapters_01-150/The Holy Bible - Psalm Chapter 3 (KJV).m4a\n",
            "Skipping existing file: /content/drive/My Drive/bible_audio_processed/Psalm/004/kjv/kjv-audio-bible.m4a from /content/drive/My Drive/kjv_audio/19_Psalm_Chapters_01-150/The Holy Bible - Psalm Chapter 4 (KJV).m4a\n",
            "Skipping existing file: /content/drive/My Drive/bible_audio_processed/Psalm/005/kjv/kjv-audio-bible.m4a from /content/drive/My Drive/kjv_audio/19_Psalm_Chapters_01-150/The Holy Bible - Psalm Chapter 5 (KJV).m4a\n",
            "Skipping existing file: /content/drive/My Drive/bible_audio_processed/Psalm/006/kjv/kjv-audio-bible.m4a from /content/drive/My Drive/kjv_audio/19_Psalm_Chapters_01-150/The Holy Bible - Psalm Chapter 6 (KJV).m4a\n",
            "Skipping existing file: /content/drive/My Drive/bible_audio_processed/Psalm/007/kjv/kjv-audio-bible.m4a from /content/drive/My Drive/kjv_audio/19_Psalm_Chapters_01-150/The Holy Bible - Psalm Chapter 7 (KJV).m4a\n",
            "Skipping existing file: /content/drive/My Drive/bible_audio_processed/Psalm/008/kjv/kjv-audio-bible.m4a from /content/drive/My Drive/kjv_audio/19_Psalm_Chapters_01-150/The Holy Bible - Psalm Chapter 8 (KJV).m4a\n",
            "Skipping existing file: /content/drive/My Drive/bible_audio_processed/Psalm/009/kjv/kjv-audio-bible.m4a from /content/drive/My Drive/kjv_audio/19_Psalm_Chapters_01-150/The Holy Bible - Psalm Chapter 9 (KJV).m4a\n",
            "Skipping existing file: /content/drive/My Drive/bible_audio_processed/Psalm/010/kjv/kjv-audio-bible.m4a from /content/drive/My Drive/kjv_audio/19_Psalm_Chapters_01-150/The Holy Bible - Psalm Chapter 10 (KJV).m4a\n",
            "Skipping existing file: /content/drive/My Drive/bible_audio_processed/Psalm/011/kjv/kjv-audio-bible.m4a from /content/drive/My Drive/kjv_audio/19_Psalm_Chapters_01-150/The Holy Bible - Psalm Chapter 11 (KJV).m4a\n",
            "Skipping existing file: /content/drive/My Drive/bible_audio_processed/Psalm/012/kjv/kjv-audio-bible.m4a from /content/drive/My Drive/kjv_audio/19_Psalm_Chapters_01-150/The Holy Bible - Psalm Chapter 12 (KJV).m4a\n",
            "Skipping existing file: /content/drive/My Drive/bible_audio_processed/Psalm/013/kjv/kjv-audio-bible.m4a from /content/drive/My Drive/kjv_audio/19_Psalm_Chapters_01-150/The Holy Bible - Psalm Chapter 13 (KJV).m4a\n",
            "Skipping existing file: /content/drive/My Drive/bible_audio_processed/Psalm/014/kjv/kjv-audio-bible.m4a from /content/drive/My Drive/kjv_audio/19_Psalm_Chapters_01-150/The Holy Bible - Psalm Chapter 14 (KJV).m4a\n",
            "Skipping existing file: /content/drive/My Drive/bible_audio_processed/Psalm/015/kjv/kjv-audio-bible.m4a from /content/drive/My Drive/kjv_audio/19_Psalm_Chapters_01-150/The Holy Bible - Psalm Chapter 15 (KJV).m4a\n",
            "Skipping existing file: /content/drive/My Drive/bible_audio_processed/Psalm/016/kjv/kjv-audio-bible.m4a from /content/drive/My Drive/kjv_audio/19_Psalm_Chapters_01-150/The Holy Bible - Psalm Chapter 16 (KJV).m4a\n",
            "Skipping existing file: /content/drive/My Drive/bible_audio_processed/Psalm/017/kjv/kjv-audio-bible.m4a from /content/drive/My Drive/kjv_audio/19_Psalm_Chapters_01-150/The Holy Bible - Psalm Chapter 17 (KJV).m4a\n",
            "Skipping existing file: /content/drive/My Drive/bible_audio_processed/Psalm/018/kjv/kjv-audio-bible.m4a from /content/drive/My Drive/kjv_audio/19_Psalm_Chapters_01-150/The Holy Bible - Psalm Chapter 18 (KJV).m4a\n",
            "Skipping existing file: /content/drive/My Drive/bible_audio_processed/Psalm/019/kjv/kjv-audio-bible.m4a from /content/drive/My Drive/kjv_audio/19_Psalm_Chapters_01-150/The Holy Bible - Psalm Chapter 19 (KJV).m4a\n",
            "Skipping existing file: /content/drive/My Drive/bible_audio_processed/Psalm/020/kjv/kjv-audio-bible.m4a from /content/drive/My Drive/kjv_audio/19_Psalm_Chapters_01-150/The Holy Bible - Psalm Chapter 20 (KJV).m4a\n",
            "Skipping existing file: /content/drive/My Drive/bible_audio_processed/Psalm/021/kjv/kjv-audio-bible.m4a from /content/drive/My Drive/kjv_audio/19_Psalm_Chapters_01-150/The Holy Bible - Psalm Chapter 21 (KJV).m4a\n",
            "Skipping existing file: /content/drive/My Drive/bible_audio_processed/Psalm/022/kjv/kjv-audio-bible.m4a from /content/drive/My Drive/kjv_audio/19_Psalm_Chapters_01-150/The Holy Bible - Psalm Chapter 22 (KJV).m4a\n",
            "Skipping existing file: /content/drive/My Drive/bible_audio_processed/Psalm/024/kjv/kjv-audio-bible.m4a from /content/drive/My Drive/kjv_audio/19_Psalm_Chapters_01-150/The Holy Bible - Psalm Chapter 24 (KJV).m4a\n",
            "Skipping existing file: /content/drive/My Drive/bible_audio_processed/Psalm/025/kjv/kjv-audio-bible.m4a from /content/drive/My Drive/kjv_audio/19_Psalm_Chapters_01-150/The Holy Bible - Psalm Chapter 25 (KJV).m4a\n",
            "Skipping existing file: /content/drive/My Drive/bible_audio_processed/Psalm/026/kjv/kjv-audio-bible.m4a from /content/drive/My Drive/kjv_audio/19_Psalm_Chapters_01-150/The Holy Bible - Psalm Chapter 26 (KJV).m4a\n",
            "Skipping existing file: /content/drive/My Drive/bible_audio_processed/Psalm/028/kjv/kjv-audio-bible.m4a from /content/drive/My Drive/kjv_audio/19_Psalm_Chapters_01-150/The Holy Bible - Psalm Chapter 28 (KJv).m4a\n",
            "Skipping existing file: /content/drive/My Drive/bible_audio_processed/Psalm/029/kjv/kjv-audio-bible.m4a from /content/drive/My Drive/kjv_audio/19_Psalm_Chapters_01-150/The Holy Bible - Psalm Chapter 29 (KJV).m4a\n",
            "Skipping existing file: /content/drive/My Drive/bible_audio_processed/Psalm/030/kjv/kjv-audio-bible.m4a from /content/drive/My Drive/kjv_audio/19_Psalm_Chapters_01-150/The Holy Bible - Psalm Chapter 30 (KJV).m4a\n",
            "Skipping existing file: /content/drive/My Drive/bible_audio_processed/Psalm/031/kjv/kjv-audio-bible.m4a from /content/drive/My Drive/kjv_audio/19_Psalm_Chapters_01-150/The Holy Bible - Psalm Chapter 31 (KJV).m4a\n",
            "Skipping existing file: /content/drive/My Drive/bible_audio_processed/Psalm/032/kjv/kjv-audio-bible.m4a from /content/drive/My Drive/kjv_audio/19_Psalm_Chapters_01-150/The Holy Bible - Psalm Chapter 32 (KJV).m4a\n",
            "Skipping existing file: /content/drive/My Drive/bible_audio_processed/Psalm/033/kjv/kjv-audio-bible.m4a from /content/drive/My Drive/kjv_audio/19_Psalm_Chapters_01-150/The Holy Bible - Psalm Chapter 33 (KJV).m4a\n",
            "Skipping existing file: /content/drive/My Drive/bible_audio_processed/Psalm/034/kjv/kjv-audio-bible.m4a from /content/drive/My Drive/kjv_audio/19_Psalm_Chapters_01-150/The Holy Bible - Psalm Chapter 34 (KJV).m4a\n",
            "Skipping existing file: /content/drive/My Drive/bible_audio_processed/Psalm/036/kjv/kjv-audio-bible.m4a from /content/drive/My Drive/kjv_audio/19_Psalm_Chapters_01-150/The Holy Bible - Psalm Chapter 36 (KJV).m4a\n",
            "Skipping existing file: /content/drive/My Drive/bible_audio_processed/Psalm/038/kjv/kjv-audio-bible.m4a from /content/drive/My Drive/kjv_audio/19_Psalm_Chapters_01-150/The Holy Bible - Psalm Chapter 38 (KJV).m4a\n",
            "Skipping existing file: /content/drive/My Drive/bible_audio_processed/Psalm/039/kjv/kjv-audio-bible.m4a from /content/drive/My Drive/kjv_audio/19_Psalm_Chapters_01-150/The Holy Bible - Psalm Chapter 39 (KJV).m4a\n",
            "Skipping existing file: /content/drive/My Drive/bible_audio_processed/Psalm/040/kjv/kjv-audio-bible.m4a from /content/drive/My Drive/kjv_audio/19_Psalm_Chapters_01-150/The Holy Bible - Psalm Chapter 40 (KJV).m4a\n",
            "Skipping existing file: /content/drive/My Drive/bible_audio_processed/Psalm/041/kjv/kjv-audio-bible.m4a from /content/drive/My Drive/kjv_audio/19_Psalm_Chapters_01-150/The Holy Bible - Psalm Chapter 41 (KJV).m4a\n",
            "Skipping existing file: /content/drive/My Drive/bible_audio_processed/Psalm/042/kjv/kjv-audio-bible.m4a from /content/drive/My Drive/kjv_audio/19_Psalm_Chapters_01-150/The Holy Bible - Psalm Chapter 42 (KJV).m4a\n",
            "Skipping existing file: /content/drive/My Drive/bible_audio_processed/Psalm/043/kjv/kjv-audio-bible.m4a from /content/drive/My Drive/kjv_audio/19_Psalm_Chapters_01-150/The Holy Bible - Psalm Chapter 43 (KJV).m4a\n",
            "Skipping existing file: /content/drive/My Drive/bible_audio_processed/Psalm/044/kjv/kjv-audio-bible.m4a from /content/drive/My Drive/kjv_audio/19_Psalm_Chapters_01-150/The Holy Bible - Psalm Chapter 44 (KJV).m4a\n",
            "Skipping existing file: /content/drive/My Drive/bible_audio_processed/Psalm/045/kjv/kjv-audio-bible.m4a from /content/drive/My Drive/kjv_audio/19_Psalm_Chapters_01-150/The Holy Bible - Psalm Chapter 45 (KJV).m4a\n",
            "Skipping existing file: /content/drive/My Drive/bible_audio_processed/Psalm/046/kjv/kjv-audio-bible.m4a from /content/drive/My Drive/kjv_audio/19_Psalm_Chapters_01-150/The Holy Bible - Psalm Chapter 46 (KJV).m4a\n",
            "Skipping existing file: /content/drive/My Drive/bible_audio_processed/Psalm/047/kjv/kjv-audio-bible.m4a from /content/drive/My Drive/kjv_audio/19_Psalm_Chapters_01-150/The Holy Bible - Psalm Chapter 47 (KJV).m4a\n",
            "Skipping existing file: /content/drive/My Drive/bible_audio_processed/Psalm/048/kjv/kjv-audio-bible.m4a from /content/drive/My Drive/kjv_audio/19_Psalm_Chapters_01-150/The Holy Bible - Psalm Chapter 48 (KJV).m4a\n",
            "Skipping existing file: /content/drive/My Drive/bible_audio_processed/Psalm/049/kjv/kjv-audio-bible.m4a from /content/drive/My Drive/kjv_audio/19_Psalm_Chapters_01-150/The Holy Bible - Psalm Chapter 49 (KJV).m4a\n",
            "Skipping existing file: /content/drive/My Drive/bible_audio_processed/Psalm/050/kjv/kjv-audio-bible.m4a from /content/drive/My Drive/kjv_audio/19_Psalm_Chapters_01-150/The Holy Bible - Psalm Chapter 50 (KJV).m4a\n",
            "Skipping existing file: /content/drive/My Drive/bible_audio_processed/Psalm/051/kjv/kjv-audio-bible.m4a from /content/drive/My Drive/kjv_audio/19_Psalm_Chapters_01-150/The Holy Bible - Psalm Chapter 51 (KJV).m4a\n",
            "Skipping existing file: /content/drive/My Drive/bible_audio_processed/Psalm/052/kjv/kjv-audio-bible.m4a from /content/drive/My Drive/kjv_audio/19_Psalm_Chapters_01-150/The Holy Bible - Psalm Chapter 52 (KJV).m4a\n",
            "Skipping existing file: /content/drive/My Drive/bible_audio_processed/Psalm/053/kjv/kjv-audio-bible.m4a from /content/drive/My Drive/kjv_audio/19_Psalm_Chapters_01-150/The Holy Bible - Psalm Chapter 53 (KJV).m4a\n",
            "Skipping existing file: /content/drive/My Drive/bible_audio_processed/Psalm/054/kjv/kjv-audio-bible.m4a from /content/drive/My Drive/kjv_audio/19_Psalm_Chapters_01-150/The Holy Bible - Psalm Chapter 54 (KJV).m4a\n",
            "Skipping existing file: /content/drive/My Drive/bible_audio_processed/Psalm/055/kjv/kjv-audio-bible.m4a from /content/drive/My Drive/kjv_audio/19_Psalm_Chapters_01-150/The Holy Bible - Psalm Chapter 55 (KJV).m4a\n",
            "Skipping existing file: /content/drive/My Drive/bible_audio_processed/Psalm/056/kjv/kjv-audio-bible.m4a from /content/drive/My Drive/kjv_audio/19_Psalm_Chapters_01-150/The Holy Bible - Psalm Chapter 56 (KJV).m4a\n",
            "Skipping existing file: /content/drive/My Drive/bible_audio_processed/Psalm/057/kjv/kjv-audio-bible.m4a from /content/drive/My Drive/kjv_audio/19_Psalm_Chapters_01-150/The Holy Bible - Psalm Chapter 57 (KJV).m4a\n",
            "Skipping existing file: /content/drive/My Drive/bible_audio_processed/Psalm/058/kjv/kjv-audio-bible.m4a from /content/drive/My Drive/kjv_audio/19_Psalm_Chapters_01-150/The Holy Bible - Psalm Chapter 58 (KJV).m4a\n",
            "Skipping existing file: /content/drive/My Drive/bible_audio_processed/Psalm/059/kjv/kjv-audio-bible.m4a from /content/drive/My Drive/kjv_audio/19_Psalm_Chapters_01-150/The Holy Bible - Psalm Chapter 59 (KJV).m4a\n",
            "Skipping existing file: /content/drive/My Drive/bible_audio_processed/Psalm/060/kjv/kjv-audio-bible.m4a from /content/drive/My Drive/kjv_audio/19_Psalm_Chapters_01-150/The Holy Bible - Psalm Chapter 60 (KJV).m4a\n",
            "Skipping existing file: /content/drive/My Drive/bible_audio_processed/Psalm/061/kjv/kjv-audio-bible.m4a from /content/drive/My Drive/kjv_audio/19_Psalm_Chapters_01-150/The Holy Bible - Psalm Chapter 61 (KJV).m4a\n",
            "Skipping existing file: /content/drive/My Drive/bible_audio_processed/Psalm/062/kjv/kjv-audio-bible.m4a from /content/drive/My Drive/kjv_audio/19_Psalm_Chapters_01-150/The Holy Bible - Psalm Chapter 62 (KJV).m4a\n",
            "Skipping existing file: /content/drive/My Drive/bible_audio_processed/Psalm/063/kjv/kjv-audio-bible.m4a from /content/drive/My Drive/kjv_audio/19_Psalm_Chapters_01-150/The Holy Bible - Psalm Chapter 63 (KJV).m4a\n",
            "Skipping existing file: /content/drive/My Drive/bible_audio_processed/Psalm/064/kjv/kjv-audio-bible.m4a from /content/drive/My Drive/kjv_audio/19_Psalm_Chapters_01-150/The Holy Bible - Psalm Chapter 64 (KJV).m4a\n",
            "Skipping existing file: /content/drive/My Drive/bible_audio_processed/Psalm/065/kjv/kjv-audio-bible.m4a from /content/drive/My Drive/kjv_audio/19_Psalm_Chapters_01-150/The Holy Bible - Psalm Chapter 65 (KJV).m4a\n",
            "Skipping existing file: /content/drive/My Drive/bible_audio_processed/Psalm/066/kjv/kjv-audio-bible.m4a from /content/drive/My Drive/kjv_audio/19_Psalm_Chapters_01-150/The Holy Bible - Psalm Chapter 66 (KJV).m4a\n",
            "Skipping existing file: /content/drive/My Drive/bible_audio_processed/Psalm/067/kjv/kjv-audio-bible.m4a from /content/drive/My Drive/kjv_audio/19_Psalm_Chapters_01-150/The Holy Bible - Psalm Chapter 67 (KJV).m4a\n",
            "Skipping existing file: /content/drive/My Drive/bible_audio_processed/Psalm/068/kjv/kjv-audio-bible.m4a from /content/drive/My Drive/kjv_audio/19_Psalm_Chapters_01-150/The Holy Bible - Psalm Chapter 68 (KJV).m4a\n",
            "Skipping existing file: /content/drive/My Drive/bible_audio_processed/Psalm/069/kjv/kjv-audio-bible.m4a from /content/drive/My Drive/kjv_audio/19_Psalm_Chapters_01-150/The Holy Bible - Psalm Chapter 69 (KJV).m4a\n",
            "Skipping existing file: /content/drive/My Drive/bible_audio_processed/Psalm/070/kjv/kjv-audio-bible.m4a from /content/drive/My Drive/kjv_audio/19_Psalm_Chapters_01-150/The Holy Bible - Psalm Chapter 70 (KJV).m4a\n",
            "Skipping existing file: /content/drive/My Drive/bible_audio_processed/Psalm/071/kjv/kjv-audio-bible.m4a from /content/drive/My Drive/kjv_audio/19_Psalm_Chapters_01-150/The Holy Bible - Psalm Chapter 71 (KJV).m4a\n",
            "Skipping existing file: /content/drive/My Drive/bible_audio_processed/Psalm/072/kjv/kjv-audio-bible.m4a from /content/drive/My Drive/kjv_audio/19_Psalm_Chapters_01-150/The Holy Bible - Psalm Chapter 72 (KJV).m4a\n",
            "Skipping existing file: /content/drive/My Drive/bible_audio_processed/Psalm/073/kjv/kjv-audio-bible.m4a from /content/drive/My Drive/kjv_audio/19_Psalm_Chapters_01-150/The Holy Bible - Psalm Chapter 73 (KJV).m4a\n",
            "Skipping existing file: /content/drive/My Drive/bible_audio_processed/Psalm/074/kjv/kjv-audio-bible.m4a from /content/drive/My Drive/kjv_audio/19_Psalm_Chapters_01-150/The Holy Bible - Psalm Chapter 74 (KJV).m4a\n",
            "Skipping existing file: /content/drive/My Drive/bible_audio_processed/Psalm/075/kjv/kjv-audio-bible.m4a from /content/drive/My Drive/kjv_audio/19_Psalm_Chapters_01-150/The Holy Bible - Psalm Chapter 75 (KJV).m4a\n",
            "Skipping existing file: /content/drive/My Drive/bible_audio_processed/Psalm/076/kjv/kjv-audio-bible.m4a from /content/drive/My Drive/kjv_audio/19_Psalm_Chapters_01-150/The Holy Bible - Psalm Chapter 76 (KJV).m4a\n",
            "Skipping existing file: /content/drive/My Drive/bible_audio_processed/Psalm/077/kjv/kjv-audio-bible.m4a from /content/drive/My Drive/kjv_audio/19_Psalm_Chapters_01-150/The Holy Bible - Psalm Chapter 77 (KJV).m4a\n",
            "Skipping existing file: /content/drive/My Drive/bible_audio_processed/Psalm/078/kjv/kjv-audio-bible.m4a from /content/drive/My Drive/kjv_audio/19_Psalm_Chapters_01-150/The Holy Bible - Psalm Chapter 78 (KJV).m4a\n",
            "Skipping existing file: /content/drive/My Drive/bible_audio_processed/Psalm/079/kjv/kjv-audio-bible.m4a from /content/drive/My Drive/kjv_audio/19_Psalm_Chapters_01-150/The Holy Bible - Psalm Chapter 79 (KJV).m4a\n",
            "Skipping existing file: /content/drive/My Drive/bible_audio_processed/Psalm/080/kjv/kjv-audio-bible.m4a from /content/drive/My Drive/kjv_audio/19_Psalm_Chapters_01-150/The Holy Bible - Psalm Chapter 80 (KJV).m4a\n",
            "Skipping existing file: /content/drive/My Drive/bible_audio_processed/Psalm/081/kjv/kjv-audio-bible.m4a from /content/drive/My Drive/kjv_audio/19_Psalm_Chapters_01-150/The Holy Bible - Psalm Chapter 81 (KJV).m4a\n",
            "Skipping existing file: /content/drive/My Drive/bible_audio_processed/Psalm/082/kjv/kjv-audio-bible.m4a from /content/drive/My Drive/kjv_audio/19_Psalm_Chapters_01-150/The Holy Bible - Psalm Chapter 82 (KJV).m4a\n",
            "Skipping existing file: /content/drive/My Drive/bible_audio_processed/Psalm/083/kjv/kjv-audio-bible.m4a from /content/drive/My Drive/kjv_audio/19_Psalm_Chapters_01-150/The Holy Bible - Psalm Chapter 83 (KJV).m4a\n",
            "Skipping existing file: /content/drive/My Drive/bible_audio_processed/Psalm/084/kjv/kjv-audio-bible.m4a from /content/drive/My Drive/kjv_audio/19_Psalm_Chapters_01-150/The Holy Bible - Psalm Chapter 84 (KJV).m4a\n",
            "Skipping existing file: /content/drive/My Drive/bible_audio_processed/Psalm/085/kjv/kjv-audio-bible.m4a from /content/drive/My Drive/kjv_audio/19_Psalm_Chapters_01-150/The Holy Bible - Psalm Chapter 85 (KJV).m4a\n",
            "Skipping existing file: /content/drive/My Drive/bible_audio_processed/Psalm/086/kjv/kjv-audio-bible.m4a from /content/drive/My Drive/kjv_audio/19_Psalm_Chapters_01-150/The Holy Bible - Psalm Chapter 86 (KJV).m4a\n",
            "Skipping existing file: /content/drive/My Drive/bible_audio_processed/Psalm/087/kjv/kjv-audio-bible.m4a from /content/drive/My Drive/kjv_audio/19_Psalm_Chapters_01-150/The Holy Bible - Psalm Chapter 87 (KJV).m4a\n",
            "Skipping existing file: /content/drive/My Drive/bible_audio_processed/Psalm/088/kjv/kjv-audio-bible.m4a from /content/drive/My Drive/kjv_audio/19_Psalm_Chapters_01-150/The Holy Bible - Psalm Chapter 88 (KJV).m4a\n",
            "Skipping existing file: /content/drive/My Drive/bible_audio_processed/Psalm/089/kjv/kjv-audio-bible.m4a from /content/drive/My Drive/kjv_audio/19_Psalm_Chapters_01-150/The Holy Bible - Psalm Chapter 89 (KJV).m4a\n",
            "Skipping existing file: /content/drive/My Drive/bible_audio_processed/Psalm/090/kjv/kjv-audio-bible.m4a from /content/drive/My Drive/kjv_audio/19_Psalm_Chapters_01-150/The Holy Bible - Psalm Chapter 90 (KJV).m4a\n",
            "Skipping existing file: /content/drive/My Drive/bible_audio_processed/Psalm/092/kjv/kjv-audio-bible.m4a from /content/drive/My Drive/kjv_audio/19_Psalm_Chapters_01-150/The Holy Bible - Psalm Chapter 92 (KJV).m4a\n",
            "Skipping existing file: /content/drive/My Drive/bible_audio_processed/Psalm/093/kjv/kjv-audio-bible.m4a from /content/drive/My Drive/kjv_audio/19_Psalm_Chapters_01-150/The Holy Bible - Psalm Chapter 93 (KJV).m4a\n",
            "Skipping existing file: /content/drive/My Drive/bible_audio_processed/Psalm/094/kjv/kjv-audio-bible.m4a from /content/drive/My Drive/kjv_audio/19_Psalm_Chapters_01-150/The Holy Bible - Psalm Chapter 94 (KJV).m4a\n",
            "Skipping existing file: /content/drive/My Drive/bible_audio_processed/Psalm/095/kjv/kjv-audio-bible.m4a from /content/drive/My Drive/kjv_audio/19_Psalm_Chapters_01-150/The Holy Bible - Psalm Chapter 95 (KJV).m4a\n",
            "Skipping existing file: /content/drive/My Drive/bible_audio_processed/Psalm/096/kjv/kjv-audio-bible.m4a from /content/drive/My Drive/kjv_audio/19_Psalm_Chapters_01-150/The Holy Bible - Psalm Chapter 96 (KJV).m4a\n",
            "Skipping existing file: /content/drive/My Drive/bible_audio_processed/Psalm/097/kjv/kjv-audio-bible.m4a from /content/drive/My Drive/kjv_audio/19_Psalm_Chapters_01-150/The Holy Bible - Psalm Chapter 97 (KJV).m4a\n",
            "Skipping existing file: /content/drive/My Drive/bible_audio_processed/Psalm/098/kjv/kjv-audio-bible.m4a from /content/drive/My Drive/kjv_audio/19_Psalm_Chapters_01-150/The Holy Bible - Psalm Chapter 98 (KJV).m4a\n",
            "Skipping existing file: /content/drive/My Drive/bible_audio_processed/Psalm/099/kjv/kjv-audio-bible.m4a from /content/drive/My Drive/kjv_audio/19_Psalm_Chapters_01-150/The Holy Bible - Psalm Chapter 99 (KJV).m4a\n",
            "Skipping existing file: /content/drive/My Drive/bible_audio_processed/Psalm/100/kjv/kjv-audio-bible.m4a from /content/drive/My Drive/kjv_audio/19_Psalm_Chapters_01-150/The Holy Bible - Psalm Chapter 100 (KJV).m4a\n",
            "Skipping existing file: /content/drive/My Drive/bible_audio_processed/Psalm/101/kjv/kjv-audio-bible.m4a from /content/drive/My Drive/kjv_audio/19_Psalm_Chapters_01-150/The Holy Bible - Psalm Chapter 101 (KJV).m4a\n",
            "Skipping existing file: /content/drive/My Drive/bible_audio_processed/Psalm/102/kjv/kjv-audio-bible.m4a from /content/drive/My Drive/kjv_audio/19_Psalm_Chapters_01-150/The Holy Bible - Psalm Chapter 102 (KJV).m4a\n",
            "Skipping existing file: /content/drive/My Drive/bible_audio_processed/Psalm/103/kjv/kjv-audio-bible.m4a from /content/drive/My Drive/kjv_audio/19_Psalm_Chapters_01-150/The Holy Bible - Psalm Chapter 103 (KJV).m4a\n",
            "Skipping existing file: /content/drive/My Drive/bible_audio_processed/Psalm/104/kjv/kjv-audio-bible.m4a from /content/drive/My Drive/kjv_audio/19_Psalm_Chapters_01-150/The Holy Bible - Psalm Chapter 104 (KJV).m4a\n",
            "Skipping existing file: /content/drive/My Drive/bible_audio_processed/Psalm/105/kjv/kjv-audio-bible.m4a from /content/drive/My Drive/kjv_audio/19_Psalm_Chapters_01-150/The Holy Bible - Psalm Chapter 105 (KJV).m4a\n",
            "Skipping existing file: /content/drive/My Drive/bible_audio_processed/Psalm/106/kjv/kjv-audio-bible.m4a from /content/drive/My Drive/kjv_audio/19_Psalm_Chapters_01-150/The Holy Bible - Psalm Chapter 106 (KJV).m4a\n",
            "Skipping existing file: /content/drive/My Drive/bible_audio_processed/Psalm/107/kjv/kjv-audio-bible.m4a from /content/drive/My Drive/kjv_audio/19_Psalm_Chapters_01-150/The Holy Bible - Psalm Chapter 107 (KJV).m4a\n",
            "Skipping existing file: /content/drive/My Drive/bible_audio_processed/Psalm/108/kjv/kjv-audio-bible.m4a from /content/drive/My Drive/kjv_audio/19_Psalm_Chapters_01-150/The Holy Bible - Psalm Chapter 108 (KJV).m4a\n",
            "Skipping existing file: /content/drive/My Drive/bible_audio_processed/Psalm/109/kjv/kjv-audio-bible.m4a from /content/drive/My Drive/kjv_audio/19_Psalm_Chapters_01-150/The Holy Bible - Psalm Chapter 109 (KJV).m4a\n",
            "Skipping existing file: /content/drive/My Drive/bible_audio_processed/Psalm/110/kjv/kjv-audio-bible.m4a from /content/drive/My Drive/kjv_audio/19_Psalm_Chapters_01-150/The Holy Bible - Psalm Chapter 110 (KJV).m4a\n",
            "Skipping existing file: /content/drive/My Drive/bible_audio_processed/Psalm/111/kjv/kjv-audio-bible.m4a from /content/drive/My Drive/kjv_audio/19_Psalm_Chapters_01-150/The Holy Bible - Psalm Chapter 111 (KJV).m4a\n",
            "Skipping existing file: /content/drive/My Drive/bible_audio_processed/Psalm/112/kjv/kjv-audio-bible.m4a from /content/drive/My Drive/kjv_audio/19_Psalm_Chapters_01-150/The Holy Bible - Psalm Chapter 112 (KJV).m4a\n",
            "Skipping existing file: /content/drive/My Drive/bible_audio_processed/Psalm/113/kjv/kjv-audio-bible.m4a from /content/drive/My Drive/kjv_audio/19_Psalm_Chapters_01-150/The Holy Bible - Psalm Chapter 113 (KJV).m4a\n",
            "Skipping existing file: /content/drive/My Drive/bible_audio_processed/Psalm/114/kjv/kjv-audio-bible.m4a from /content/drive/My Drive/kjv_audio/19_Psalm_Chapters_01-150/The Holy Bible - Psalm Chapter 114 (KJV).m4a\n",
            "Skipping existing file: /content/drive/My Drive/bible_audio_processed/Psalm/115/kjv/kjv-audio-bible.m4a from /content/drive/My Drive/kjv_audio/19_Psalm_Chapters_01-150/The Holy Bible - Psalm Chapter 115 (KJV).m4a\n",
            "Skipping existing file: /content/drive/My Drive/bible_audio_processed/Psalm/116/kjv/kjv-audio-bible.m4a from /content/drive/My Drive/kjv_audio/19_Psalm_Chapters_01-150/The Holy Bible - Psalm Chapter 116 (KJV).m4a\n",
            "Skipping existing file: /content/drive/My Drive/bible_audio_processed/Psalm/117/kjv/kjv-audio-bible.m4a from /content/drive/My Drive/kjv_audio/19_Psalm_Chapters_01-150/The Holy Bible - Psalm Chapter 117 (KJV).m4a\n",
            "Skipping existing file: /content/drive/My Drive/bible_audio_processed/Psalm/118/kjv/kjv-audio-bible.m4a from /content/drive/My Drive/kjv_audio/19_Psalm_Chapters_01-150/The Holy Bible - Psalm Chapter 118 (KJV).m4a\n",
            "Skipping existing file: /content/drive/My Drive/bible_audio_processed/Psalm/119/kjv/kjv-audio-bible.m4a from /content/drive/My Drive/kjv_audio/19_Psalm_Chapters_01-150/The Holy Bible - Psalm Chapter 119 (KJV).m4a\n",
            "Skipping existing file: /content/drive/My Drive/bible_audio_processed/Psalm/120/kjv/kjv-audio-bible.m4a from /content/drive/My Drive/kjv_audio/19_Psalm_Chapters_01-150/The Holy Bible - Psalm Chapter 120 (KJV).m4a\n",
            "Skipping existing file: /content/drive/My Drive/bible_audio_processed/Psalm/121/kjv/kjv-audio-bible.m4a from /content/drive/My Drive/kjv_audio/19_Psalm_Chapters_01-150/The Holy Bible - Psalm Chapter 121 (KJV).m4a\n",
            "Skipping existing file: /content/drive/My Drive/bible_audio_processed/Psalm/122/kjv/kjv-audio-bible.m4a from /content/drive/My Drive/kjv_audio/19_Psalm_Chapters_01-150/The Holy Bible - Psalm Chapter 122 (KJV).m4a\n",
            "Skipping existing file: /content/drive/My Drive/bible_audio_processed/Psalm/123/kjv/kjv-audio-bible.m4a from /content/drive/My Drive/kjv_audio/19_Psalm_Chapters_01-150/The Holy Bible - Psalm Chapter 123 (KJV).m4a\n",
            "Skipping existing file: /content/drive/My Drive/bible_audio_processed/Psalm/124/kjv/kjv-audio-bible.m4a from /content/drive/My Drive/kjv_audio/19_Psalm_Chapters_01-150/The Holy Bible - Psalm Chapter 124 (KJV).m4a\n",
            "Skipping existing file: /content/drive/My Drive/bible_audio_processed/Psalm/125/kjv/kjv-audio-bible.m4a from /content/drive/My Drive/kjv_audio/19_Psalm_Chapters_01-150/The Holy Bible - Psalm Chapter 125 (KJV).m4a\n",
            "Skipping existing file: /content/drive/My Drive/bible_audio_processed/Psalm/126/kjv/kjv-audio-bible.m4a from /content/drive/My Drive/kjv_audio/19_Psalm_Chapters_01-150/The Holy Bible - Psalm Chapter 126 (KJV).m4a\n",
            "Skipping existing file: /content/drive/My Drive/bible_audio_processed/Psalm/127/kjv/kjv-audio-bible.m4a from /content/drive/My Drive/kjv_audio/19_Psalm_Chapters_01-150/The Holy Bible - Psalm Chapter 127 (KJV).m4a\n",
            "Skipping existing file: /content/drive/My Drive/bible_audio_processed/Psalm/128/kjv/kjv-audio-bible.m4a from /content/drive/My Drive/kjv_audio/19_Psalm_Chapters_01-150/The Holy Bible - Psalm Chapter 128 (KJV).m4a\n",
            "Skipping existing file: /content/drive/My Drive/bible_audio_processed/Psalm/129/kjv/kjv-audio-bible.m4a from /content/drive/My Drive/kjv_audio/19_Psalm_Chapters_01-150/The Holy Bible - Psalm Chapter 129 (KJV).m4a\n",
            "Skipping existing file: /content/drive/My Drive/bible_audio_processed/Psalm/130/kjv/kjv-audio-bible.m4a from /content/drive/My Drive/kjv_audio/19_Psalm_Chapters_01-150/The Holy Bible - Psalms Chapter 130 (KJV).m4a\n",
            "Skipping existing file: /content/drive/My Drive/bible_audio_processed/Psalm/131/kjv/kjv-audio-bible.m4a from /content/drive/My Drive/kjv_audio/19_Psalm_Chapters_01-150/The Holy Bible - Psalm Chapter 131 (KJV).m4a\n",
            "Skipping existing file: /content/drive/My Drive/bible_audio_processed/Psalm/132/kjv/kjv-audio-bible.m4a from /content/drive/My Drive/kjv_audio/19_Psalm_Chapters_01-150/The Holy Bible - Psalm Chapter 132 (KJV).m4a\n",
            "Skipping existing file: /content/drive/My Drive/bible_audio_processed/Psalm/133/kjv/kjv-audio-bible.m4a from /content/drive/My Drive/kjv_audio/19_Psalm_Chapters_01-150/The Holy Bible - Psalm Chapter 133 (KJV).m4a\n",
            "Skipping existing file: /content/drive/My Drive/bible_audio_processed/Psalm/134/kjv/kjv-audio-bible.m4a from /content/drive/My Drive/kjv_audio/19_Psalm_Chapters_01-150/The Holy Bible - Psalm Chapter 134 (KJV).m4a\n",
            "Skipping existing file: /content/drive/My Drive/bible_audio_processed/Psalm/135/kjv/kjv-audio-bible.m4a from /content/drive/My Drive/kjv_audio/19_Psalm_Chapters_01-150/The Holy Bible - Psalm Chapter 135 (KJV).m4a\n",
            "Skipping existing file: /content/drive/My Drive/bible_audio_processed/Psalm/136/kjv/kjv-audio-bible.m4a from /content/drive/My Drive/kjv_audio/19_Psalm_Chapters_01-150/The Holy Bible - Psalm Chapter 136 (KJV).m4a\n",
            "Skipping existing file: /content/drive/My Drive/bible_audio_processed/Psalm/137/kjv/kjv-audio-bible.m4a from /content/drive/My Drive/kjv_audio/19_Psalm_Chapters_01-150/The Holy Bible - Psalm Chapter 137 (KJV).m4a\n",
            "Skipping existing file: /content/drive/My Drive/bible_audio_processed/Psalm/138/kjv/kjv-audio-bible.m4a from /content/drive/My Drive/kjv_audio/19_Psalm_Chapters_01-150/The Holy Bible - Psalm Chapter 138 (KJV).m4a\n",
            "Skipping existing file: /content/drive/My Drive/bible_audio_processed/Psalm/139/kjv/kjv-audio-bible.m4a from /content/drive/My Drive/kjv_audio/19_Psalm_Chapters_01-150/The Holy Bible - Psalm Chapter 139 (KJV).m4a\n",
            "Skipping existing file: /content/drive/My Drive/bible_audio_processed/Psalm/140/kjv/kjv-audio-bible.m4a from /content/drive/My Drive/kjv_audio/19_Psalm_Chapters_01-150/The Holy Bible - Psalm Chapter 140 (KJV).m4a\n",
            "Skipping existing file: /content/drive/My Drive/bible_audio_processed/Psalm/141/kjv/kjv-audio-bible.m4a from /content/drive/My Drive/kjv_audio/19_Psalm_Chapters_01-150/The Holy Bible - Psalm Chapter 141 (KJV).m4a\n",
            "Skipping existing file: /content/drive/My Drive/bible_audio_processed/Psalm/142/kjv/kjv-audio-bible.m4a from /content/drive/My Drive/kjv_audio/19_Psalm_Chapters_01-150/The Holy Bible - Psalm Chapter 142 (KJV).m4a\n",
            "Skipping existing file: /content/drive/My Drive/bible_audio_processed/Psalm/143/kjv/kjv-audio-bible.m4a from /content/drive/My Drive/kjv_audio/19_Psalm_Chapters_01-150/The Holy Bible - Psalm Chapter 143 (KJV).m4a\n",
            "Skipping existing file: /content/drive/My Drive/bible_audio_processed/Psalm/144/kjv/kjv-audio-bible.m4a from /content/drive/My Drive/kjv_audio/19_Psalm_Chapters_01-150/The Holy Bible - Psalm Chapter 144 (KJV).m4a\n",
            "Skipping existing file: /content/drive/My Drive/bible_audio_processed/Psalm/145/kjv/kjv-audio-bible.m4a from /content/drive/My Drive/kjv_audio/19_Psalm_Chapters_01-150/The Holy Bible - Psalm Chapter 145 (KJV).m4a\n",
            "Skipping existing file: /content/drive/My Drive/bible_audio_processed/Psalm/146/kjv/kjv-audio-bible.m4a from /content/drive/My Drive/kjv_audio/19_Psalm_Chapters_01-150/The Holy Bible - Psalm Chapter 146 (KJV).m4a\n",
            "Skipping existing file: /content/drive/My Drive/bible_audio_processed/Psalm/147/kjv/kjv-audio-bible.m4a from /content/drive/My Drive/kjv_audio/19_Psalm_Chapters_01-150/The Holy Bible - Psalm Chapter 147 (KJV).m4a\n",
            "Skipping existing file: /content/drive/My Drive/bible_audio_processed/Psalm/148/kjv/kjv-audio-bible.m4a from /content/drive/My Drive/kjv_audio/19_Psalm_Chapters_01-150/The Holy Bible - Psalm Chapter 148 (KJV).m4a\n",
            "Skipping existing file: /content/drive/My Drive/bible_audio_processed/Psalm/149/kjv/kjv-audio-bible.m4a from /content/drive/My Drive/kjv_audio/19_Psalm_Chapters_01-150/The Holy Bible - Psalm Chapter 149 (KJV).m4a\n",
            "Skipping existing file: /content/drive/My Drive/bible_audio_processed/Psalm/150/kjv/kjv-audio-bible.m4a from /content/drive/My Drive/kjv_audio/19_Psalm_Chapters_01-150/The Holy Bible - Psalm Chapter 150 (KJV).m4a\n"
          ]
        }
      ]
    }
  ]
}